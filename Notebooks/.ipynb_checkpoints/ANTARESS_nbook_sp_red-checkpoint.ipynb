{
 "cells": [
  {
   "cell_type": "markdown",
   "id": "7b1bee42-7832-49ac-b992-242ae6e19327",
   "metadata": {},
   "source": [
    "# Introduction"
   ]
  },
  {
   "cell_type": "markdown",
   "id": "c3424e66-f54c-4a7c-9ad6-5cf12eedc677",
   "metadata": {},
   "source": [
    "This notebook allows you to run a simplified version of the ANTARESS workflow, for the following purpose:\n",
    "- format, clean, and correct time-series of echelle spectra (S2D) obtained during an exoplanet transit\n",
    "\n",
    "This notebook takes as input the S2D fits file output by ESPRESSO-like DRS. At the end of the notebook, spectra are still in echelle format on their original spectral grid (defined in the solar barycentric rest frame), have comparable low-frequency spectral profiles, and are corrected for various instrumental, environmental, and stellar effects. The default version of this notebook is set up to process a real dataset, obtained with ESPRESSO during the transit of TOI-421c, but the settings can be adjusted to process your own dataset. In any case, set `working_path`, `star_name`, and `pl_name` to the same values that you used in the [set-up notebook](https://gitlab.unige.ch/spice_dune/antaress/-/blob/main/Notebooks/ANTARESS_nbook_setup.ipynb) to initialize the system and dataset.\n",
    "\n",
    "To exploit the workflow to its full capabilities (e.g., to process multiple planets and datasets), run its executable with the [configuration files](https://obswww.unige.ch/~bourriev/antaress/doc/html/installation.html)."
   ]
  },
  {
   "cell_type": "code",
   "execution_count": 1,
   "id": "683cef8e-e3e4-4854-b4fd-12964caf6a79",
   "metadata": {},
   "outputs": [
    {
     "ename": "FileNotFoundError",
     "evalue": "[Errno 2] No such file or directory: '/Users/bourrier/Travaux/ANTARESS/Working_dir//TOI421/TOI421c_Saved_data/init_sys.npz'",
     "output_type": "error",
     "traceback": [
      "\u001b[0;31m---------------------------------------------------------------------------\u001b[0m",
      "\u001b[0;31mFileNotFoundError\u001b[0m                         Traceback (most recent call last)",
      "Cell \u001b[0;32mIn[1], line 7\u001b[0m\n\u001b[1;32m      1\u001b[0m \u001b[38;5;28;01mimport\u001b[39;00m \u001b[38;5;21;01mANTARESS_nbook_bground\u001b[39;00m\n\u001b[1;32m      2\u001b[0m input_nbook \u001b[38;5;241m=\u001b[39m {\n\u001b[1;32m      3\u001b[0m     \u001b[38;5;124m'\u001b[39m\u001b[38;5;124mworking_path\u001b[39m\u001b[38;5;124m'\u001b[39m : \u001b[38;5;124m'\u001b[39m\u001b[38;5;124m/Users/bourrier/Travaux/ANTARESS/Working_dir/\u001b[39m\u001b[38;5;124m'\u001b[39m,\n\u001b[1;32m      4\u001b[0m     \u001b[38;5;124m'\u001b[39m\u001b[38;5;124mstar_name\u001b[39m\u001b[38;5;124m'\u001b[39m : \u001b[38;5;124m'\u001b[39m\u001b[38;5;124mTOI421\u001b[39m\u001b[38;5;124m'\u001b[39m,\n\u001b[1;32m      5\u001b[0m     \u001b[38;5;124m'\u001b[39m\u001b[38;5;124mpl_name\u001b[39m\u001b[38;5;124m'\u001b[39m   : \u001b[38;5;124m'\u001b[39m\u001b[38;5;124mTOI421c\u001b[39m\u001b[38;5;124m'\u001b[39m\n\u001b[1;32m      6\u001b[0m }\n\u001b[0;32m----> 7\u001b[0m input_nbook \u001b[38;5;241m=\u001b[39m \u001b[43mANTARESS_nbook_bground\u001b[49m\u001b[38;5;241;43m.\u001b[39;49m\u001b[43mload_nbook\u001b[49m\u001b[43m(\u001b[49m\u001b[43minput_nbook\u001b[49m\u001b[43m,\u001b[49m\u001b[43m \u001b[49m\u001b[38;5;124;43m'\u001b[39;49m\u001b[38;5;124;43msp_reduc\u001b[39;49m\u001b[38;5;124;43m'\u001b[39;49m\u001b[43m)\u001b[49m\n",
      "File \u001b[0;32m~/Travaux/ANTARESS/Main/Notebooks/ANTARESS_nbook_bground.py:24\u001b[0m, in \u001b[0;36mload_nbook\u001b[0;34m(input_nbook, nbook_type)\u001b[0m\n\u001b[1;32m     23\u001b[0m \u001b[38;5;28;01mdef\u001b[39;00m \u001b[38;5;21mload_nbook\u001b[39m(input_nbook, nbook_type):\n\u001b[0;32m---> 24\u001b[0m     input_nbook \u001b[38;5;241m=\u001b[39m \u001b[43mdataload_npz\u001b[49m\u001b[43m(\u001b[49m\u001b[43minput_nbook\u001b[49m\u001b[43m[\u001b[49m\u001b[38;5;124;43m'\u001b[39;49m\u001b[38;5;124;43mworking_path\u001b[39;49m\u001b[38;5;124;43m'\u001b[39;49m\u001b[43m]\u001b[49m\u001b[38;5;241;43m+\u001b[39;49m\u001b[38;5;124;43m'\u001b[39;49m\u001b[38;5;124;43m/\u001b[39;49m\u001b[38;5;124;43m'\u001b[39;49m\u001b[38;5;241;43m+\u001b[39;49m\u001b[43minput_nbook\u001b[49m\u001b[43m[\u001b[49m\u001b[38;5;124;43m'\u001b[39;49m\u001b[38;5;124;43mstar_name\u001b[39;49m\u001b[38;5;124;43m'\u001b[39;49m\u001b[43m]\u001b[49m\u001b[38;5;241;43m+\u001b[39;49m\u001b[38;5;124;43m'\u001b[39;49m\u001b[38;5;124;43m/\u001b[39;49m\u001b[38;5;124;43m'\u001b[39;49m\u001b[38;5;241;43m+\u001b[39;49m\u001b[43minput_nbook\u001b[49m\u001b[43m[\u001b[49m\u001b[38;5;124;43m'\u001b[39;49m\u001b[38;5;124;43mpl_name\u001b[39;49m\u001b[38;5;124;43m'\u001b[39;49m\u001b[43m]\u001b[49m\u001b[38;5;241;43m+\u001b[39;49m\u001b[38;5;124;43m'\u001b[39;49m\u001b[38;5;124;43m_Saved_data/init_sys\u001b[39;49m\u001b[38;5;124;43m'\u001b[39;49m\u001b[43m)\u001b[49m\n\u001b[1;32m     25\u001b[0m     input_nbook[\u001b[38;5;124m'\u001b[39m\u001b[38;5;124mtype\u001b[39m\u001b[38;5;124m'\u001b[39m] \u001b[38;5;241m=\u001b[39m nbook_type \n\u001b[1;32m     27\u001b[0m     \u001b[38;5;66;03m#Retrieving dataset in ANTARESS format\u001b[39;00m\n",
      "File \u001b[0;32m~/opt/anaconda3/envs/spyder-env/lib/python3.11/site-packages/antaress/ANTARESS_general/utils.py:435\u001b[0m, in \u001b[0;36mdataload_npz\u001b[0;34m(path)\u001b[0m\n\u001b[1;32m    423\u001b[0m \u001b[38;5;28;01mdef\u001b[39;00m \u001b[38;5;21mdataload_npz\u001b[39m(path):\n\u001b[1;32m    424\u001b[0m \u001b[38;5;250m    \u001b[39m\u001b[38;5;124mr\u001b[39m\u001b[38;5;124;03m\"\"\"**Npz retrieval.**\u001b[39;00m\n\u001b[1;32m    425\u001b[0m \u001b[38;5;124;03m    \u001b[39;00m\n\u001b[1;32m    426\u001b[0m \u001b[38;5;124;03m    Simplified call to function uploading `npz` file with `data` field.  \u001b[39;00m\n\u001b[0;32m   (...)\u001b[0m\n\u001b[1;32m    433\u001b[0m \u001b[38;5;124;03m    \u001b[39;00m\n\u001b[1;32m    434\u001b[0m \u001b[38;5;124;03m    \"\"\"\u001b[39;00m \n\u001b[0;32m--> 435\u001b[0m     \u001b[38;5;28;01mreturn\u001b[39;00m \u001b[43mnp\u001b[49m\u001b[38;5;241;43m.\u001b[39;49m\u001b[43mload\u001b[49m\u001b[43m(\u001b[49m\u001b[43mpath\u001b[49m\u001b[38;5;241;43m+\u001b[39;49m\u001b[38;5;124;43m'\u001b[39;49m\u001b[38;5;124;43m.npz\u001b[39;49m\u001b[38;5;124;43m'\u001b[39;49m\u001b[43m,\u001b[49m\u001b[43mallow_pickle\u001b[49m\u001b[38;5;241;43m=\u001b[39;49m\u001b[38;5;28;43;01mTrue\u001b[39;49;00m\u001b[43m)\u001b[49m[\u001b[38;5;124m'\u001b[39m\u001b[38;5;124mdata\u001b[39m\u001b[38;5;124m'\u001b[39m]\u001b[38;5;241m.\u001b[39mitem()\n",
      "File \u001b[0;32m~/opt/anaconda3/envs/spyder-env/lib/python3.11/site-packages/numpy/lib/npyio.py:405\u001b[0m, in \u001b[0;36mload\u001b[0;34m(file, mmap_mode, allow_pickle, fix_imports, encoding, max_header_size)\u001b[0m\n\u001b[1;32m    403\u001b[0m     own_fid \u001b[38;5;241m=\u001b[39m \u001b[38;5;28;01mFalse\u001b[39;00m\n\u001b[1;32m    404\u001b[0m \u001b[38;5;28;01melse\u001b[39;00m:\n\u001b[0;32m--> 405\u001b[0m     fid \u001b[38;5;241m=\u001b[39m stack\u001b[38;5;241m.\u001b[39menter_context(\u001b[38;5;28;43mopen\u001b[39;49m\u001b[43m(\u001b[49m\u001b[43mos_fspath\u001b[49m\u001b[43m(\u001b[49m\u001b[43mfile\u001b[49m\u001b[43m)\u001b[49m\u001b[43m,\u001b[49m\u001b[43m \u001b[49m\u001b[38;5;124;43m\"\u001b[39;49m\u001b[38;5;124;43mrb\u001b[39;49m\u001b[38;5;124;43m\"\u001b[39;49m\u001b[43m)\u001b[49m)\n\u001b[1;32m    406\u001b[0m     own_fid \u001b[38;5;241m=\u001b[39m \u001b[38;5;28;01mTrue\u001b[39;00m\n\u001b[1;32m    408\u001b[0m \u001b[38;5;66;03m# Code to distinguish from NumPy binary files and pickles.\u001b[39;00m\n",
      "\u001b[0;31mFileNotFoundError\u001b[0m: [Errno 2] No such file or directory: '/Users/bourrier/Travaux/ANTARESS/Working_dir//TOI421/TOI421c_Saved_data/init_sys.npz'"
     ]
    }
   ],
   "source": [
    "import ANTARESS_nbook_bground\n",
    "input_nbook = {\n",
    "    'working_path' : '/Users/bourrier/Travaux/ANTARESS/Working_dir/',\n",
    "    'star_name' : 'TOI421',\n",
    "    'pl_name'   : 'TOI421c'\n",
    "}\n",
    "input_nbook = ANTARESS_nbook_bground.load_nbook(input_nbook, 'sp_reduc')"
   ]
  },
  {
   "cell_type": "markdown",
   "id": "b05bdb30-32fd-4f39-a6df-eb45aeec1d9e",
   "metadata": {},
   "source": [
    "# General"
   ]
  },
  {
   "cell_type": "markdown",
   "id": "59cb089e-1333-4e25-815e-a79e5d186663",
   "metadata": {},
   "source": [
    "**Modules**\n",
    "\n",
    "The workflow runs each module successively. Outputs of a given module are stored on disk and used as inputs by subsequent modules. \n",
    "Running the cell of a given module will activate it. The `calc_X` field then allows you to set the module to *calculation* or *retrieval* mode, so that it either processes data (which can take some time with large datasets) or retrieves already processed data. This allows you to run a module (i.e., activating its cell and [running directly](#Launch_ANTARESS) the workflow), to check ANTARESS log and [plots](#Plot_display) to adjust the module settings, and once satisfied to set the module to *retrieval* mode before moving on to the next module.\n",
    "\n",
    "If you change a module settings, do not forget to run the workflow again after setting this module and all modules depending on its outputs to *calculation* mode."
   ]
  },
  {
   "cell_type": "markdown",
   "id": "7a076a1c-533c-4728-82c7-1bc2834af59d",
   "metadata": {},
   "source": [
    "**Plots**\n",
    "\n",
    "ANTARESS plots require intermediate data products that are only saved if the plots have been requested when running the workflow. \n",
    "If you want plots to be performed for a given module, you thus need to run this module's cell (in *calculation* mode) and the plot's cell before running the workflow.\n",
    "\n",
    "Most plots are specific to a given module. You can however use the `sp_raw` and `trans_sp` \n",
    "\n",
    "either the transmission spectrum `sp_trans` or the raw spectrum `sp_raw` before and after the telluric correction.\n",
    "\n",
    "\n"
   ]
  },
  {
   "cell_type": "code",
   "execution_count": null,
   "id": "65221281-725d-4e11-af9a-f4ee0b26a618",
   "metadata": {},
   "outputs": [],
   "source": [
    "input_nbook['sp_reduc'].update({\n",
    "    'sp_raw'     : False,\n",
    "    'trans_sp'   : False,\n",
    "    'wav_range'  : [3000,7000],\n",
    "    'y_range'    : None,\n",
    "    'norm_prof'  : True,\n",
    "    'plot_master': False,\n",
    "    'multi_exp'  :True\n",
    "})"
   ]
  },
  {
   "cell_type": "markdown",
   "id": "b65c06e4-5639-4ad3-b01d-0367acf6e7c0",
   "metadata": {},
   "source": [
    "# Data upload and formatting"
   ]
  },
  {
   "cell_type": "markdown",
   "id": "461fcd2f-8646-4302-a956-09c18b6f3de1",
   "metadata": {},
   "source": [
    "Run this cell to initialize the module tasked to upload the dataset and to put in ANTARESS format. \n",
    "Then, [run directly](#Launch_ANTARESS) the workflow. \n",
    "Once the module task is done, set `calc_proc_data` to `False` so that the module remains activated but retrieves the processed data instead of processing them again.\n",
    "\n",
    "All modules in the workflow work in this way, with a `calc_X` fields that sets them in *calculation* or *retrieval* mode (this is to avoid unecessary computation time). The outputs of a given module are used as inputs to other ones. It is recommended to run every module sequentially, checking the run log and the [plots](#Plot_display) before setting them to *retrieval* mode and moving on to the next module.\n",
    "\n",
    "**Important**\n",
    "- If you change a module settings, do not forget to run the workflow again after setting this module and all modules depending on its outputs to *calculation* mode.\n",
    "- Plots must be requested for a module to save the required data products. If you want plots to be performed for a given module, it must be set to *calculation* mode before running the workflow."
   ]
  },
  {
   "cell_type": "code",
   "execution_count": 7,
   "id": "cd1f0d35-5d2c-4970-a1ae-95856cf986fb",
   "metadata": {},
   "outputs": [],
   "source": [
    "input_nbook['sp_reduc']['calc_proc_data'] = True #& False\n",
    "\n",
    "ANTARESS_nbook_bground.processing_mode(input_nbook)"
   ]
  },
  {
   "cell_type": "markdown",
   "id": "b9061295-95ea-4c89-bf60-bed9a15eca3d",
   "metadata": {},
   "source": [
    "# Spectral corrections"
   ]
  },
  {
   "cell_type": "markdown",
   "id": "e3dc233c-2866-4864-820a-b185ba3c4978",
   "metadata": {},
   "source": [
    "<a id='inst_cal'></a>\n",
    "**Instrumental calibration**\n",
    "\n",
    "Input spectra from the DRS are assumed to be corrected for standard instrumental effects, in particular the blaze from the spectrograph grating.\n",
    "Run this cell to retrieve the blaze and detector noise profiles, which will be used throughout the workflow to scale back temporarily spectra from flux density to blazed count units, and to perform accurate weighted means.\n",
    "\n",
    "For these operations to be accurate, you need to provide the `S2D_BLAZE_A.fits` files of your dataset in the same directory as the input data."
   ]
  },
  {
   "cell_type": "code",
   "execution_count": 8,
   "id": "a1a55af6-c93b-4f33-aa7b-955c75651b95",
   "metadata": {},
   "outputs": [],
   "source": [
    "input_nbook['sp_reduc']['calc_gcal'] = True # & False\n",
    "\n",
    "ANTARESS_nbook_bground.inst_cal(input_nbook)"
   ]
  },
  {
   "cell_type": "markdown",
   "id": "165f359a-d87c-424c-9601-cca188f06c25",
   "metadata": {},
   "source": [
    "Run the cell below to plot the retrieved calibration and detector noise profiles.\n",
    "\n",
    "Define the indexes of the exposure and spectrograph order to be plotted."
   ]
  },
  {
   "cell_type": "code",
   "execution_count": 9,
   "id": "8fa24fac-26fe-454a-88cf-be55110dc4e9",
   "metadata": {},
   "outputs": [],
   "source": [
    "input_nbook['sp_reduc']['iexp2plot'] = 25\n",
    "input_nbook['sp_reduc']['iord2plot'] = 113\n",
    "\n",
    "ANTARESS_nbook_bground.inst_cal_plot(input_nbook)"
   ]
  },
  {
   "cell_type": "markdown",
   "id": "ed5b660b-0bbf-4141-bd55-7b61857fbf05",
   "metadata": {},
   "source": [
    "**Telluric correction**\n",
    "\n",
    "Run this cell to correct spectra for telluric absorption lines. You can adjust: \n",
    "\n",
    "- `tell_species` (list, string): telluric molecules to considered (H$_2$O, O$_2$, CH$_4$, CO, CO$_2$)       \n",
    "- `tell_thresh` (float): telluric lines with contrast deeper than this threshold (0 = no absorption, 1 = full absorption) are masked"
   ]
  },
  {
   "cell_type": "code",
   "execution_count": null,
   "id": "ea1729d2-a8ad-46a6-a1fa-85c807bf5b55",
   "metadata": {},
   "outputs": [],
   "source": [
    "input_nbook['sp_reduc'].update({\n",
    "    'tell_species'     : ['H2O', 'O2'],\n",
    "    'tell_thresh'      : 0.9\n",
    "})\n",
    "\n",
    "# Calculate/retrieve\n",
    "input_nbook['sp_reduc']['calc_tell'] = True & False\n",
    "\n",
    "ANTARESS_nbook_bground.tell_corr(input_nbook)"
   ]
  },
  {
   "cell_type": "markdown",
   "id": "2d38b99c-5ea6-48d1-b801-61c1e2925673",
   "metadata": {},
   "source": [
    "Run the cell below to plot:\n",
    "- the telluric CCFs from the model, and from the raw and corrected data.\n",
    "- the properties of the best-fit telluric model\n",
    "\n",
    "Plots are stored in the `/Working_dir/Star/Planet_Saved_data/XX` directory."
   ]
  },
  {
   "cell_type": "code",
   "execution_count": 9,
   "id": "f592e380-5326-4f92-935d-d3508399be0e",
   "metadata": {},
   "outputs": [],
   "source": [
    "ANTARESS_nbook_bground.tell_corr_plot(input_nbook)"
   ]
  },
  {
   "cell_type": "markdown",
   "id": "47ad0bdd-db5f-40c5-a406-4f1207f1e659",
   "metadata": {},
   "source": [
    "**Masking of pixels**\n",
    "\n",
    "Run this cell to mask pixels/ranges to exclude from the correction. \n",
    "\n",
    "Indicate which spectral orders to be masked and the corresponding wavelength range to mask\n",
    "\n",
    "- `order` (list): spectral orders to be masked, e.g., [10,24]\n",
    "- `range` (list): wavelength range to be masked for the spectral orders in the list `order`. The list must have the same length as the list in `order`, the format as $[[\\lambda_{\\mathrm{low}, \\mathrm{ord}_{10}}, \\lambda_{\\mathrm{high}, \\mathrm{ord}_{10}}], [\\lambda_{\\mathrm{low}, \\mathrm{ord}_{24}}, \\lambda_{\\mathrm{high}, \\mathrm{ord}_{24}}]]$, for the ranges to be masked in the spectral orders defined in `order`.\n",
    "\n",
    "If you chosed to exclude spectral ranges from the correction, run this cell to indicate spectral orders or ranges to mask and then go to [ANTARESS retrieval mode](#process_data), activate `proc_data` and launch ANTARESS from the [Instrumental calibration](#inst_cal).\n",
    "\n",
    "\n",
    "\n",
    "\n",
    "However, if pixels are later being masked and excluded from the correction after this step you will have to rerun the previous step in calculation mode again. At this point, the cell for masking of pixels would already have been executed, and you only have to activate and run this cell again. After you can rerun the instrumental calibration by running that cell above and launching the ANTARESS workflow. The instrumental calibration will then be performed on the observational data exluding the masked pixels. Again, deactivate the processing of observaitonal data in this cell and continue to run the cells below and perform the corrections once more but now with the pixels masked. Inspect the new corrections and continue with the workflow.\n"
   ]
  },
  {
   "cell_type": "code",
   "execution_count": null,
   "id": "1543eedc-f248-4657-a6f9-423dd96a1023",
   "metadata": {},
   "outputs": [],
   "source": [
    "input_nbook['sp_reduc'].update({\n",
    "    'order' : [],\n",
    "    'range'  : [[]]\n",
    "})\n",
    "\n",
    "ANTARESS_nbook_bground.mask_pix(input_nbook)"
   ]
  },
  {
   "cell_type": "markdown",
   "id": "103db92c-27fe-4712-a42d-9330d230c49a",
   "metadata": {},
   "source": [
    "**Global flux balance correction**\n",
    "\n",
    "A first correction based on the flux ratio between each exposure and its visit master computed as the median of all exposures.\n",
    "\n",
    "- `sigma_clip` (bool): activate to remove outliers (recommended to manually exclude orders in `ord_excl_fit`)\n",
    "- `nord` (float): indicate number of spectral orders, if not known set it to `None` run this cell and the cell below to plot the flux colour balance. The top axis indicates the number of spectral orders.\n",
    "- `ord_excl_fit` (list): indicate which orders to be excluded from fit (not used if sigma clipping is activated)\n",
    "- `phantom_bins` (float): the range of phantom bins in $\\nu$ to avoid divergence in the blue part of the spectrum.\n",
    "- `unc_scaling` (float): variance of fitted bins is scaled to the chosen power (0 = equal weights: 1 = no scaling (original weights), increase to give more weight to data with low errors.\n",
    "- `fit_mode` (string): `'pol'` for polynomial function or `'spline'` for 1D-smoothing spline\n",
    "- `pol_deg` (integer): polynomial function degree (not used in when 'spline' is chosen)\n",
    "- `smooth_fac` (float): spline smoothing factor, increase to smooth\n",
    "\n",
    "Phantom bins can be used to mirror a linear fitting onto the blue part of the spectrum. This can be used to avoid divergence at the end of the spectrum. To find the best parameters for the model an iterative approach is best used varying the different parameters.\n"
   ]
  },
  {
   "cell_type": "code",
   "execution_count": null,
   "id": "027dfefb-2751-4318-b6a8-418324a12761",
   "metadata": {},
   "outputs": [],
   "source": [
    "input_nbook['sp_reduc'].update({\n",
    "    'sigma_clip'    : False,\n",
    "    'nord'          : 170,\n",
    "    'ord_excl_fit'  : [0,1,88,89,90,91,145,146,147,164,165],\n",
    "    'phantom_range' : 10.,##\n",
    "    'unc_scaling'   : 0.25,\n",
    "    'fit_mode'      : 'spline',\n",
    "#When using the polynomial function\n",
    "    'pol_deg'       : 4.,\n",
    "#When using the 1-D smoothing spline\n",
    "    'smooth_fac'    : 1.5e-5\n",
    "})\n",
    "\n",
    "#True to calculate the correction, False to retrieve last result\n",
    "input_nbook['sp_reduc'].update({\n",
    "    'calc_Fbal' : False\n",
    "})\n",
    "\n",
    "ANTARESS_nbook_bground.fbal_corr(input_nbook)"
   ]
  },
  {
   "cell_type": "markdown",
   "id": "985ff5b9-4faf-4b58-8822-90086907fa5e",
   "metadata": {},
   "source": [
    "**Plotting the global flux colour balance**\n",
    "\n",
    "Plot the flux balance correction while separating the exposures (True), or plot all exposures on top of each other (Flase)"
   ]
  },
  {
   "cell_type": "code",
   "execution_count": null,
   "id": "10343f92-0b6e-45bd-b67b-3e902fa5c9b8",
   "metadata": {},
   "outputs": [],
   "source": [
    "input_nbook['plots'].update({\n",
    "    'gap_exp': False\n",
    "})\n",
    "\n",
    "#ANTARESS_nbook_bground.plot_fbal_corr(input_nbook)"
   ]
  },
  {
   "cell_type": "code",
   "execution_count": null,
   "id": "034f9204-5121-4400-b5a6-57501751ab3c",
   "metadata": {},
   "outputs": [],
   "source": [
    "#ANTARESS_launcher(working_path=input_nbook['working_path'], nbook_dic = input_nbook, exec_comm=False)"
   ]
  },
  {
   "cell_type": "markdown",
   "id": "d7086123-783d-49b4-ac61-c7009fcf0273",
   "metadata": {},
   "source": [
    "**Cosmics correction**\n",
    "\n",
    "Run this cell to perform the cosmic hits correction.\n",
    "\n",
    "The cosmic rays are detected by comparing the relative flux between exposures taken before and after. The threshold sets a limit for which a cosmic ray is considered detected. If the relative flux difference is higher than the cosmic threshold multiplied by the standard deviation of the measured or comparison spectra, a cosmic ray is considered detected.\n",
    "\n",
    "- `align_method` (string): choose alignment method, `kep` to correct for the Keplerian curve with information entered in the system properties, `pip` to use pipeline RVs if available. Keplerian curve is preferred to avoid biased RVs due to RM effect.     \n",
    "- `ncomp` (integer): number of comparison spectra to be used for the cocmic detection     \n",
    "- `thresh` (float): set the threshold for which a cosmic hit is considered detected\n"
   ]
  },
  {
   "cell_type": "code",
   "execution_count": null,
   "id": "f5336810-f1c3-433c-ba79-6786c5651520",
   "metadata": {},
   "outputs": [],
   "source": [
    "input_nbook['sp_reduc'].update({\n",
    "    'calc_cosm'    : False,\n",
    "    'align_method' : 'kep',\n",
    "    'ncomp'        : 10,\n",
    "    'thresh'       : 10.\n",
    "})\n",
    "\n",
    "ANTARESS_nbook_bground.cosm_corr(input_nbook, plot=False)"
   ]
  },
  {
   "cell_type": "code",
   "execution_count": null,
   "id": "d1cfaee8-245c-46e7-b0a6-228d131ec1b7",
   "metadata": {},
   "outputs": [],
   "source": [
    "#ANTARESS_launcher(working_path=input_nbook['working_path'], nbook_dic = input_nbook, exec_comm=False)"
   ]
  },
  {
   "cell_type": "markdown",
   "id": "dcdd0f36-535c-485b-a17a-f21d79f3e76f",
   "metadata": {},
   "source": [
    "**ESPRESSO \"wiggles\" correction**\n",
    "\n",
    "Run this cell to characterise and correct wiggles; only the screening and filter options are available in this notebook. To use the analytical version use the [configuration files](https://obswww.unige.ch/~bourriev/antaress/doc/html/installation.html).\n",
    "\n",
    "In this cell, you use screening to visualise the wiggles and, from there, choose what spectral ranges in $\\nu$ to include in the fitting. Generally, you will see large spurious features at the centre of the transmission spectrum located at the end and start frequencies of the red and blue detectors. Additionally, at the blue end of the spectrum, the noise levels will be much larger than the amplitude of the wiggle pattern. Hence, parts of these regions generally need to be removed from the fitting. The filter method is then used to characterise the wiggles using a Savitzky-Golay filter of the binned transmission spectrum in each exposure.\n",
    "\n",
    "Screening:\n",
    "- `screening` (bool): activate/deactivate the screening and plotting\n",
    "- `fit_range` (list): indicate lower and upper boundaries of ranges to include in fit, the format is [[low 1, high 1], [low 2, high 2], [etc.]] in $\\nu$, leave empty to use the full range\n",
    "- `y_range` (list): list including the lower and upper y limit, if None automatic scaling is applied\n",
    "\n",
    "Filter:\n",
    "- `filter` (bool): activate/deactivate the filter correction and characterisation\n",
    "- `window` (float): size of smoothing window in $\\nu$\n",
    "- `deg` (integer): polynomial degree used to fit the smoothed spectrum\n",
    "\n",
    "When using the filter correction, be careful to choose an appropriate combination of window size and polynomial degree to avoid fitting noise and spurious features in the data."
   ]
  },
  {
   "cell_type": "code",
   "execution_count": null,
   "id": "2eed7de0-1f8f-4d5a-9762-f05de99a63a8",
   "metadata": {},
   "outputs": [],
   "source": [
    "#Screening\n",
    "input_nbook['sp_reduc'].update({\n",
    "    'screening'    : False,\n",
    "    'fit_range'    : [[]],\n",
    "    'y_range'      : None\n",
    "})\n",
    "\n",
    "#Filter\n",
    "input_nbook['sp_reduc'].update({\n",
    "    'filter'       : False,\n",
    "    'window'       : 0.2,\n",
    "    'deg'          : 3,\n",
    "})\n",
    "\n",
    "#To calculate wiggles set to True, to retrieve previous result set to False. First time it has to be True. \n",
    "#Set corr_wig to False to deactivate the module\n",
    "input_nbook['sp_reduc'].update({\n",
    "    'corr_wig':False,\n",
    "    'calc_wig':True\n",
    "})\n",
    "\n",
    "ANTARESS_nbook_bground.wiggle_corr(input_nbook)"
   ]
  },
  {
   "cell_type": "code",
   "execution_count": null,
   "id": "fb04b582-424e-45dc-bdba-42961563ba39",
   "metadata": {},
   "outputs": [],
   "source": [
    "#ANTARESS_launcher(working_path=input_nbook['working_path'], nbook_dic = input_nbook, exec_comm=False)"
   ]
  },
  {
   "cell_type": "markdown",
   "id": "13e44dc2-61a0-4773-85c8-e276f3057cba",
   "metadata": {},
   "source": [
    "# Spectral processing"
   ]
  },
  {
   "cell_type": "markdown",
   "id": "63e39188-d4b7-4854-a88c-46383efa5afb",
   "metadata": {},
   "source": [
    "At this step, the original S2D spectra has been cleaned from instrumental effects, telluric contamination, cosmic ray hits, and consits of a time-series of cleaned 2D-spectra. The following steps will allow us co compute a 1D master stellar spectrum from out-of-transit data, that could be used either directly for analysis or to build/or compute a custom CCF mask.\n",
    "\n",
    "The following steps includes procedures for aligning, scaling, and weighting the spectra to finally produce a master 1D stellar spectrum."
   ]
  },
  {
   "cell_type": "markdown",
   "id": "47e93a90-016d-4a79-b635-d6f7acaca451",
   "metadata": {},
   "source": [
    "**Detrending of spectral lines**\n",
    "\n",
    "If this is the first time processing the spectral time series, skip this step since the trend characteristion will be performed in a separate notebook and is performed on the CCFs computed here. After identifying any trends in the [characterisation notebook](link) you can activate the module below and define the corrections to be applied on the S2D spectra, and then recompute the CCFs from the detrended S2D specta.\n",
    "\n",
    "To perform the detrending in this step, the [characterisation notebook](link) must have been used to determine any trends in the data and appropriate corrections first. Here you will use the values for the coefficients determined using the [characterisation notebook](link). Define which proeprty to correct and the corresponding dependence. If multiple properties are being corrected add them to the list.\n",
    "\n",
    "- `use` (bool): set to True to perform a trend correction\n",
    "- `prop` (list, str): list each property to correct with the correcsponding dependece. Properties to correct here is either RV or contrast (ctrst), and as a function of either phase or snr (with ESPRESSO snrQ)\n",
    "- `coeff` (list,list): indicate coefficients used for each model, add coefficients with decreasing order, add a new list if more than one property is corrected. The RV coefficient should be in km/s.\n"
   ]
  },
  {
   "cell_type": "code",
   "execution_count": null,
   "id": "a08a3cb6-13c4-4c3b-85c3-eef93193caa0",
   "metadata": {},
   "outputs": [],
   "source": [
    "input_nbook['par'].update({\n",
    "    'use'  : False,\n",
    "    'prop' : ['ctrst_snrQ', 'RV_phase'],\n",
    "    'mode' : ['pol', 'pol'],\n",
    "    'coeff': [[-1.109190e-05], [-6.840494e-02]]\n",
    "})\n",
    "\n",
    "ANTARESS_nbook_bground.detrend(input_nbook)"
   ]
  },
  {
   "cell_type": "markdown",
   "id": "011fdddb-9de4-4864-91ca-380c12123a35",
   "metadata": {},
   "source": [
    "**Converting spectra into CCFs**\n",
    "\n",
    "Run this cell to cross-correlate the spectra with a chosen mask. You need to define:\n",
    "\n",
    "+ `start_RV` (float): lower boundary of the CCF RV grid (in km/s), relative to the systemic velocity\n",
    "+ `end_RV` (float): upper boundary of the CCF RV grid (in km/s), relative to the systemic velocity\n",
    "+ `dRV` (float): step size of the CCF RV grid (in km/s). Set to `None` to use instrumental resolution\n",
    "+ `mask_path` (string): path (relative to `'working_path'`) + name of the mask file\n",
    "+ `calc_CCF` (bool): set to `False` to retrieve the CCFs and not calculate them again\n",
    "  \n",
    "As an example, we provide the [CCF mask](https://gitlab.unige.ch/spice_dune/antaress/-/blob/main/Notebooks/ESPRESSO_new_G9.fits) used by the ESPRESSO DRS for G9-type stars. "
   ]
  },
  {
   "cell_type": "code",
   "execution_count": null,
   "id": "52d2b0e7-04e9-4b65-a285-af4564caf28d",
   "metadata": {},
   "outputs": [],
   "source": [
    "input_nbook['par'].update({\n",
    "    'start_RV' : -150.,\n",
    "    'end_RV'   :  150.,\n",
    "    'dRV'      : None,\n",
    "    'mask_path': '/ESPRESSO_new_G9.fits',\n",
    "    'calc_CCF' : True,\n",
    "})\n",
    "ANTARESS_nbook_bground.conv_CCF(input_nbook,'DI')"
   ]
  },
  {
   "cell_type": "markdown",
   "id": "cafb4f3c-70aa-483e-86f0-cb918bd2d1a7",
   "metadata": {},
   "source": [
    "<a id='Launch_ANTARESS'></a>\n",
    "# Running ANTARESS"
   ]
  },
  {
   "cell_type": "markdown",
   "id": "46e826fa-1322-4220-b476-2eda07bbc4ce",
   "metadata": {},
   "source": [
    "Run this cell to run the ANTARESS workflow."
   ]
  },
  {
   "cell_type": "code",
   "execution_count": 10,
   "id": "1ba3d61b-7523-49fc-9d67-eb8846e55cbf",
   "metadata": {},
   "outputs": [
    {
     "name": "stdout",
     "output_type": "stream",
     "text": [
      "****************************************\n",
      "Launching ANTARESS\n",
      "****************************************\n",
      "\n",
      "Multi-threading: 16 threads available\n",
      "Running with observational data\n",
      "Study of: TOI421c\n",
      "Accounting for Keplerian motion from all planets\n",
      "Automatic definition of T14[TOI421c]=2.76 h\n",
      "Default nsub_Dpl[TOI421c]=26\n",
      "\n",
      "-----------------------\n",
      "Processing instrument : ESPRESSO\n",
      "-----------------------\n",
      "  Reading and initializing 2D echelle spectra\n",
      "   > Errors propagated from raw data\n",
      "   > Data processed on individual spectral tables for each exposure\n",
      "         Calculating data\n",
      "         Initializing visit 20231106\n",
      "vis_path_exp[iexp] 0 /Volumes/T7/Exoplanet_systems/TESS/TOI-421/ESPRESSO_S2D/2023-11-06/r.ESPRE.2023-11-07T03:22:53.685_S2D_A.fits\n",
      "vis_path_blaze_exp[iexp] 0 /Volumes/T7/Exoplanet_systems/TESS/TOI-421/ESPRESSO_S2D/2023-11-06/r.ESPRE.2023-11-07T03:22:53.685_S2D_BLAZE_A.fits\n",
      "vis_path_exp[iexp] 1 /Volumes/T7/Exoplanet_systems/TESS/TOI-421/ESPRESSO_S2D/2023-11-06/r.ESPRE.2023-11-07T03:28:48.234_S2D_A.fits\n",
      "vis_path_blaze_exp[iexp] 1 /Volumes/T7/Exoplanet_systems/TESS/TOI-421/ESPRESSO_S2D/2023-11-06/r.ESPRE.2023-11-07T03:28:48.234_S2D_BLAZE_A.fits\n",
      "vis_path_exp[iexp] 2 /Volumes/T7/Exoplanet_systems/TESS/TOI-421/ESPRESSO_S2D/2023-11-06/r.ESPRE.2023-11-07T03:34:42.296_S2D_A.fits\n",
      "vis_path_blaze_exp[iexp] 2 /Volumes/T7/Exoplanet_systems/TESS/TOI-421/ESPRESSO_S2D/2023-11-06/r.ESPRE.2023-11-07T03:34:42.296_S2D_BLAZE_A.fits\n",
      "vis_path_exp[iexp] 3 /Volumes/T7/Exoplanet_systems/TESS/TOI-421/ESPRESSO_S2D/2023-11-06/r.ESPRE.2023-11-07T03:40:36.372_S2D_A.fits\n",
      "vis_path_blaze_exp[iexp] 3 /Volumes/T7/Exoplanet_systems/TESS/TOI-421/ESPRESSO_S2D/2023-11-06/r.ESPRE.2023-11-07T03:40:36.372_S2D_BLAZE_A.fits\n",
      "vis_path_exp[iexp] 4 /Volumes/T7/Exoplanet_systems/TESS/TOI-421/ESPRESSO_S2D/2023-11-06/r.ESPRE.2023-11-07T03:46:30.470_S2D_A.fits\n",
      "vis_path_blaze_exp[iexp] 4 /Volumes/T7/Exoplanet_systems/TESS/TOI-421/ESPRESSO_S2D/2023-11-06/r.ESPRE.2023-11-07T03:46:30.470_S2D_BLAZE_A.fits\n",
      "vis_path_exp[iexp] 5 /Volumes/T7/Exoplanet_systems/TESS/TOI-421/ESPRESSO_S2D/2023-11-06/r.ESPRE.2023-11-07T03:52:24.529_S2D_A.fits\n",
      "vis_path_blaze_exp[iexp] 5 /Volumes/T7/Exoplanet_systems/TESS/TOI-421/ESPRESSO_S2D/2023-11-06/r.ESPRE.2023-11-07T03:52:24.529_S2D_BLAZE_A.fits\n",
      "vis_path_exp[iexp] 6 /Volumes/T7/Exoplanet_systems/TESS/TOI-421/ESPRESSO_S2D/2023-11-06/r.ESPRE.2023-11-07T03:58:18.627_S2D_A.fits\n",
      "vis_path_blaze_exp[iexp] 6 /Volumes/T7/Exoplanet_systems/TESS/TOI-421/ESPRESSO_S2D/2023-11-06/r.ESPRE.2023-11-07T03:58:18.627_S2D_BLAZE_A.fits\n",
      "vis_path_exp[iexp] 7 /Volumes/T7/Exoplanet_systems/TESS/TOI-421/ESPRESSO_S2D/2023-11-06/r.ESPRE.2023-11-07T04:04:12.752_S2D_A.fits\n",
      "vis_path_blaze_exp[iexp] 7 /Volumes/T7/Exoplanet_systems/TESS/TOI-421/ESPRESSO_S2D/2023-11-06/r.ESPRE.2023-11-07T04:04:12.752_S2D_BLAZE_A.fits\n",
      "vis_path_exp[iexp] 8 /Volumes/T7/Exoplanet_systems/TESS/TOI-421/ESPRESSO_S2D/2023-11-06/r.ESPRE.2023-11-07T04:10:06.822_S2D_A.fits\n",
      "vis_path_blaze_exp[iexp] 8 /Volumes/T7/Exoplanet_systems/TESS/TOI-421/ESPRESSO_S2D/2023-11-06/r.ESPRE.2023-11-07T04:10:06.822_S2D_BLAZE_A.fits\n",
      "vis_path_exp[iexp] 9 /Volumes/T7/Exoplanet_systems/TESS/TOI-421/ESPRESSO_S2D/2023-11-06/r.ESPRE.2023-11-07T04:16:00.848_S2D_A.fits\n",
      "vis_path_blaze_exp[iexp] 9 /Volumes/T7/Exoplanet_systems/TESS/TOI-421/ESPRESSO_S2D/2023-11-06/r.ESPRE.2023-11-07T04:16:00.848_S2D_BLAZE_A.fits\n",
      "vis_path_exp[iexp] 10 /Volumes/T7/Exoplanet_systems/TESS/TOI-421/ESPRESSO_S2D/2023-11-06/r.ESPRE.2023-11-07T04:21:55.387_S2D_A.fits\n",
      "vis_path_blaze_exp[iexp] 10 /Volumes/T7/Exoplanet_systems/TESS/TOI-421/ESPRESSO_S2D/2023-11-06/r.ESPRE.2023-11-07T04:21:55.387_S2D_BLAZE_A.fits\n",
      "vis_path_exp[iexp] 11 /Volumes/T7/Exoplanet_systems/TESS/TOI-421/ESPRESSO_S2D/2023-11-06/r.ESPRE.2023-11-07T04:27:49.472_S2D_A.fits\n",
      "vis_path_blaze_exp[iexp] 11 /Volumes/T7/Exoplanet_systems/TESS/TOI-421/ESPRESSO_S2D/2023-11-06/r.ESPRE.2023-11-07T04:27:49.472_S2D_BLAZE_A.fits\n",
      "vis_path_exp[iexp] 12 /Volumes/T7/Exoplanet_systems/TESS/TOI-421/ESPRESSO_S2D/2023-11-06/r.ESPRE.2023-11-07T04:33:43.470_S2D_A.fits\n",
      "vis_path_blaze_exp[iexp] 12 /Volumes/T7/Exoplanet_systems/TESS/TOI-421/ESPRESSO_S2D/2023-11-06/r.ESPRE.2023-11-07T04:33:43.470_S2D_BLAZE_A.fits\n",
      "vis_path_exp[iexp] 13 /Volumes/T7/Exoplanet_systems/TESS/TOI-421/ESPRESSO_S2D/2023-11-06/r.ESPRE.2023-11-07T04:39:37.470_S2D_A.fits\n",
      "vis_path_blaze_exp[iexp] 13 /Volumes/T7/Exoplanet_systems/TESS/TOI-421/ESPRESSO_S2D/2023-11-06/r.ESPRE.2023-11-07T04:39:37.470_S2D_BLAZE_A.fits\n",
      "vis_path_exp[iexp] 14 /Volumes/T7/Exoplanet_systems/TESS/TOI-421/ESPRESSO_S2D/2023-11-06/r.ESPRE.2023-11-07T04:45:31.471_S2D_A.fits\n",
      "vis_path_blaze_exp[iexp] 14 /Volumes/T7/Exoplanet_systems/TESS/TOI-421/ESPRESSO_S2D/2023-11-06/r.ESPRE.2023-11-07T04:45:31.471_S2D_BLAZE_A.fits\n",
      "vis_path_exp[iexp] 15 /Volumes/T7/Exoplanet_systems/TESS/TOI-421/ESPRESSO_S2D/2023-11-06/r.ESPRE.2023-11-07T04:51:25.527_S2D_A.fits\n",
      "vis_path_blaze_exp[iexp] 15 /Volumes/T7/Exoplanet_systems/TESS/TOI-421/ESPRESSO_S2D/2023-11-06/r.ESPRE.2023-11-07T04:51:25.527_S2D_BLAZE_A.fits\n",
      "vis_path_exp[iexp] 16 /Volumes/T7/Exoplanet_systems/TESS/TOI-421/ESPRESSO_S2D/2023-11-06/r.ESPRE.2023-11-07T04:57:19.564_S2D_A.fits\n",
      "vis_path_blaze_exp[iexp] 16 /Volumes/T7/Exoplanet_systems/TESS/TOI-421/ESPRESSO_S2D/2023-11-06/r.ESPRE.2023-11-07T04:57:19.564_S2D_BLAZE_A.fits\n",
      "vis_path_exp[iexp] 17 /Volumes/T7/Exoplanet_systems/TESS/TOI-421/ESPRESSO_S2D/2023-11-06/r.ESPRE.2023-11-07T05:03:13.556_S2D_A.fits\n",
      "vis_path_blaze_exp[iexp] 17 /Volumes/T7/Exoplanet_systems/TESS/TOI-421/ESPRESSO_S2D/2023-11-06/r.ESPRE.2023-11-07T05:03:13.556_S2D_BLAZE_A.fits\n",
      "vis_path_exp[iexp] 18 /Volumes/T7/Exoplanet_systems/TESS/TOI-421/ESPRESSO_S2D/2023-11-06/r.ESPRE.2023-11-07T05:09:07.733_S2D_A.fits\n",
      "vis_path_blaze_exp[iexp] 18 /Volumes/T7/Exoplanet_systems/TESS/TOI-421/ESPRESSO_S2D/2023-11-06/r.ESPRE.2023-11-07T05:09:07.733_S2D_BLAZE_A.fits\n",
      "vis_path_exp[iexp] 19 /Volumes/T7/Exoplanet_systems/TESS/TOI-421/ESPRESSO_S2D/2023-11-06/r.ESPRE.2023-11-07T05:15:01.734_S2D_A.fits\n",
      "vis_path_blaze_exp[iexp] 19 /Volumes/T7/Exoplanet_systems/TESS/TOI-421/ESPRESSO_S2D/2023-11-06/r.ESPRE.2023-11-07T05:15:01.734_S2D_BLAZE_A.fits\n",
      "vis_path_exp[iexp] 20 /Volumes/T7/Exoplanet_systems/TESS/TOI-421/ESPRESSO_S2D/2023-11-06/r.ESPRE.2023-11-07T05:20:55.839_S2D_A.fits\n",
      "vis_path_blaze_exp[iexp] 20 /Volumes/T7/Exoplanet_systems/TESS/TOI-421/ESPRESSO_S2D/2023-11-06/r.ESPRE.2023-11-07T05:20:55.839_S2D_BLAZE_A.fits\n",
      "vis_path_exp[iexp] 21 /Volumes/T7/Exoplanet_systems/TESS/TOI-421/ESPRESSO_S2D/2023-11-06/r.ESPRE.2023-11-07T05:26:49.889_S2D_A.fits\n",
      "vis_path_blaze_exp[iexp] 21 /Volumes/T7/Exoplanet_systems/TESS/TOI-421/ESPRESSO_S2D/2023-11-06/r.ESPRE.2023-11-07T05:26:49.889_S2D_BLAZE_A.fits\n",
      "vis_path_exp[iexp] 22 /Volumes/T7/Exoplanet_systems/TESS/TOI-421/ESPRESSO_S2D/2023-11-06/r.ESPRE.2023-11-07T05:32:43.937_S2D_A.fits\n",
      "vis_path_blaze_exp[iexp] 22 /Volumes/T7/Exoplanet_systems/TESS/TOI-421/ESPRESSO_S2D/2023-11-06/r.ESPRE.2023-11-07T05:32:43.937_S2D_BLAZE_A.fits\n",
      "vis_path_exp[iexp] 23 /Volumes/T7/Exoplanet_systems/TESS/TOI-421/ESPRESSO_S2D/2023-11-06/r.ESPRE.2023-11-07T05:38:37.956_S2D_A.fits\n",
      "vis_path_blaze_exp[iexp] 23 /Volumes/T7/Exoplanet_systems/TESS/TOI-421/ESPRESSO_S2D/2023-11-06/r.ESPRE.2023-11-07T05:38:37.956_S2D_BLAZE_A.fits\n",
      "vis_path_exp[iexp] 24 /Volumes/T7/Exoplanet_systems/TESS/TOI-421/ESPRESSO_S2D/2023-11-06/r.ESPRE.2023-11-07T05:44:31.966_S2D_A.fits\n",
      "vis_path_blaze_exp[iexp] 24 /Volumes/T7/Exoplanet_systems/TESS/TOI-421/ESPRESSO_S2D/2023-11-06/r.ESPRE.2023-11-07T05:44:31.966_S2D_BLAZE_A.fits\n",
      "vis_path_exp[iexp] 25 /Volumes/T7/Exoplanet_systems/TESS/TOI-421/ESPRESSO_S2D/2023-11-06/r.ESPRE.2023-11-07T05:50:26.010_S2D_A.fits\n",
      "vis_path_blaze_exp[iexp] 25 /Volumes/T7/Exoplanet_systems/TESS/TOI-421/ESPRESSO_S2D/2023-11-06/r.ESPRE.2023-11-07T05:50:26.010_S2D_BLAZE_A.fits\n",
      "vis_path_exp[iexp] 26 /Volumes/T7/Exoplanet_systems/TESS/TOI-421/ESPRESSO_S2D/2023-11-06/r.ESPRE.2023-11-07T05:56:20.075_S2D_A.fits\n",
      "vis_path_blaze_exp[iexp] 26 /Volumes/T7/Exoplanet_systems/TESS/TOI-421/ESPRESSO_S2D/2023-11-06/r.ESPRE.2023-11-07T05:56:20.075_S2D_BLAZE_A.fits\n",
      "vis_path_exp[iexp] 27 /Volumes/T7/Exoplanet_systems/TESS/TOI-421/ESPRESSO_S2D/2023-11-06/r.ESPRE.2023-11-07T06:02:14.163_S2D_A.fits\n",
      "vis_path_blaze_exp[iexp] 27 /Volumes/T7/Exoplanet_systems/TESS/TOI-421/ESPRESSO_S2D/2023-11-06/r.ESPRE.2023-11-07T06:02:14.163_S2D_BLAZE_A.fits\n",
      "vis_path_exp[iexp] 28 /Volumes/T7/Exoplanet_systems/TESS/TOI-421/ESPRESSO_S2D/2023-11-06/r.ESPRE.2023-11-07T06:08:08.211_S2D_A.fits\n",
      "vis_path_blaze_exp[iexp] 28 /Volumes/T7/Exoplanet_systems/TESS/TOI-421/ESPRESSO_S2D/2023-11-06/r.ESPRE.2023-11-07T06:08:08.211_S2D_BLAZE_A.fits\n",
      "vis_path_exp[iexp] 29 /Volumes/T7/Exoplanet_systems/TESS/TOI-421/ESPRESSO_S2D/2023-11-06/r.ESPRE.2023-11-07T06:14:02.263_S2D_A.fits\n",
      "vis_path_blaze_exp[iexp] 29 /Volumes/T7/Exoplanet_systems/TESS/TOI-421/ESPRESSO_S2D/2023-11-06/r.ESPRE.2023-11-07T06:14:02.263_S2D_BLAZE_A.fits\n",
      "vis_path_exp[iexp] 30 /Volumes/T7/Exoplanet_systems/TESS/TOI-421/ESPRESSO_S2D/2023-11-06/r.ESPRE.2023-11-07T06:19:56.483_S2D_A.fits\n",
      "vis_path_blaze_exp[iexp] 30 /Volumes/T7/Exoplanet_systems/TESS/TOI-421/ESPRESSO_S2D/2023-11-06/r.ESPRE.2023-11-07T06:19:56.483_S2D_BLAZE_A.fits\n",
      "vis_path_exp[iexp] 31 /Volumes/T7/Exoplanet_systems/TESS/TOI-421/ESPRESSO_S2D/2023-11-06/r.ESPRE.2023-11-07T06:25:50.480_S2D_A.fits\n",
      "vis_path_blaze_exp[iexp] 31 /Volumes/T7/Exoplanet_systems/TESS/TOI-421/ESPRESSO_S2D/2023-11-06/r.ESPRE.2023-11-07T06:25:50.480_S2D_BLAZE_A.fits\n",
      "vis_path_exp[iexp] 32 /Volumes/T7/Exoplanet_systems/TESS/TOI-421/ESPRESSO_S2D/2023-11-06/r.ESPRE.2023-11-07T06:31:44.470_S2D_A.fits\n",
      "vis_path_blaze_exp[iexp] 32 /Volumes/T7/Exoplanet_systems/TESS/TOI-421/ESPRESSO_S2D/2023-11-06/r.ESPRE.2023-11-07T06:31:44.470_S2D_BLAZE_A.fits\n",
      "vis_path_exp[iexp] 33 /Volumes/T7/Exoplanet_systems/TESS/TOI-421/ESPRESSO_S2D/2023-11-06/r.ESPRE.2023-11-07T06:37:38.472_S2D_A.fits\n",
      "vis_path_blaze_exp[iexp] 33 /Volumes/T7/Exoplanet_systems/TESS/TOI-421/ESPRESSO_S2D/2023-11-06/r.ESPRE.2023-11-07T06:37:38.472_S2D_BLAZE_A.fits\n",
      "vis_path_exp[iexp] 34 /Volumes/T7/Exoplanet_systems/TESS/TOI-421/ESPRESSO_S2D/2023-11-06/r.ESPRE.2023-11-07T06:43:38.493_S2D_A.fits\n",
      "vis_path_blaze_exp[iexp] 34 /Volumes/T7/Exoplanet_systems/TESS/TOI-421/ESPRESSO_S2D/2023-11-06/r.ESPRE.2023-11-07T06:43:38.493_S2D_BLAZE_A.fits\n",
      "vis_path_exp[iexp] 35 /Volumes/T7/Exoplanet_systems/TESS/TOI-421/ESPRESSO_S2D/2023-11-06/r.ESPRE.2023-11-07T06:49:32.508_S2D_A.fits\n",
      "vis_path_blaze_exp[iexp] 35 /Volumes/T7/Exoplanet_systems/TESS/TOI-421/ESPRESSO_S2D/2023-11-06/r.ESPRE.2023-11-07T06:49:32.508_S2D_BLAZE_A.fits\n",
      "vis_path_exp[iexp] 36 /Volumes/T7/Exoplanet_systems/TESS/TOI-421/ESPRESSO_S2D/2023-11-06/r.ESPRE.2023-11-07T06:55:26.613_S2D_A.fits\n",
      "vis_path_blaze_exp[iexp] 36 /Volumes/T7/Exoplanet_systems/TESS/TOI-421/ESPRESSO_S2D/2023-11-06/r.ESPRE.2023-11-07T06:55:26.613_S2D_BLAZE_A.fits\n",
      "vis_path_exp[iexp] 37 /Volumes/T7/Exoplanet_systems/TESS/TOI-421/ESPRESSO_S2D/2023-11-06/r.ESPRE.2023-11-07T07:01:20.642_S2D_A.fits\n",
      "vis_path_blaze_exp[iexp] 37 /Volumes/T7/Exoplanet_systems/TESS/TOI-421/ESPRESSO_S2D/2023-11-06/r.ESPRE.2023-11-07T07:01:20.642_S2D_BLAZE_A.fits\n",
      "vis_path_exp[iexp] 38 /Volumes/T7/Exoplanet_systems/TESS/TOI-421/ESPRESSO_S2D/2023-11-06/r.ESPRE.2023-11-07T07:07:14.833_S2D_A.fits\n",
      "vis_path_blaze_exp[iexp] 38 /Volumes/T7/Exoplanet_systems/TESS/TOI-421/ESPRESSO_S2D/2023-11-06/r.ESPRE.2023-11-07T07:07:14.833_S2D_BLAZE_A.fits\n",
      "vis_path_exp[iexp] 39 /Volumes/T7/Exoplanet_systems/TESS/TOI-421/ESPRESSO_S2D/2023-11-06/r.ESPRE.2023-11-07T07:13:09.041_S2D_A.fits\n",
      "vis_path_blaze_exp[iexp] 39 /Volumes/T7/Exoplanet_systems/TESS/TOI-421/ESPRESSO_S2D/2023-11-06/r.ESPRE.2023-11-07T07:13:09.041_S2D_BLAZE_A.fits\n",
      "vis_path_exp[iexp] 40 /Volumes/T7/Exoplanet_systems/TESS/TOI-421/ESPRESSO_S2D/2023-11-06/r.ESPRE.2023-11-07T07:19:03.154_S2D_A.fits\n",
      "vis_path_blaze_exp[iexp] 40 /Volumes/T7/Exoplanet_systems/TESS/TOI-421/ESPRESSO_S2D/2023-11-06/r.ESPRE.2023-11-07T07:19:03.154_S2D_BLAZE_A.fits\n",
      "vis_path_exp[iexp] 41 /Volumes/T7/Exoplanet_systems/TESS/TOI-421/ESPRESSO_S2D/2023-11-06/r.ESPRE.2023-11-07T07:24:57.142_S2D_A.fits\n",
      "vis_path_blaze_exp[iexp] 41 /Volumes/T7/Exoplanet_systems/TESS/TOI-421/ESPRESSO_S2D/2023-11-06/r.ESPRE.2023-11-07T07:24:57.142_S2D_BLAZE_A.fits\n",
      "vis_path_exp[iexp] 42 /Volumes/T7/Exoplanet_systems/TESS/TOI-421/ESPRESSO_S2D/2023-11-06/r.ESPRE.2023-11-07T07:30:51.402_S2D_A.fits\n",
      "vis_path_blaze_exp[iexp] 42 /Volumes/T7/Exoplanet_systems/TESS/TOI-421/ESPRESSO_S2D/2023-11-06/r.ESPRE.2023-11-07T07:30:51.402_S2D_BLAZE_A.fits\n",
      "vis_path_exp[iexp] 43 /Volumes/T7/Exoplanet_systems/TESS/TOI-421/ESPRESSO_S2D/2023-11-06/r.ESPRE.2023-11-07T07:36:45.639_S2D_A.fits\n",
      "vis_path_blaze_exp[iexp] 43 /Volumes/T7/Exoplanet_systems/TESS/TOI-421/ESPRESSO_S2D/2023-11-06/r.ESPRE.2023-11-07T07:36:45.639_S2D_BLAZE_A.fits\n",
      "vis_path_exp[iexp] 44 /Volumes/T7/Exoplanet_systems/TESS/TOI-421/ESPRESSO_S2D/2023-11-06/r.ESPRE.2023-11-07T07:42:39.708_S2D_A.fits\n",
      "vis_path_blaze_exp[iexp] 44 /Volumes/T7/Exoplanet_systems/TESS/TOI-421/ESPRESSO_S2D/2023-11-06/r.ESPRE.2023-11-07T07:42:39.708_S2D_BLAZE_A.fits\n",
      "vis_path_exp[iexp] 45 /Volumes/T7/Exoplanet_systems/TESS/TOI-421/ESPRESSO_S2D/2023-11-06/r.ESPRE.2023-11-07T07:48:33.778_S2D_A.fits\n",
      "vis_path_blaze_exp[iexp] 45 /Volumes/T7/Exoplanet_systems/TESS/TOI-421/ESPRESSO_S2D/2023-11-06/r.ESPRE.2023-11-07T07:48:33.778_S2D_BLAZE_A.fits\n",
      "vis_path_exp[iexp] 46 /Volumes/T7/Exoplanet_systems/TESS/TOI-421/ESPRESSO_S2D/2023-11-06/r.ESPRE.2023-11-07T07:54:28.050_S2D_A.fits\n",
      "vis_path_blaze_exp[iexp] 46 /Volumes/T7/Exoplanet_systems/TESS/TOI-421/ESPRESSO_S2D/2023-11-06/r.ESPRE.2023-11-07T07:54:28.050_S2D_BLAZE_A.fits\n",
      "vis_path_exp[iexp] 47 /Volumes/T7/Exoplanet_systems/TESS/TOI-421/ESPRESSO_S2D/2023-11-06/r.ESPRE.2023-11-07T08:00:22.262_S2D_A.fits\n",
      "vis_path_blaze_exp[iexp] 47 /Volumes/T7/Exoplanet_systems/TESS/TOI-421/ESPRESSO_S2D/2023-11-06/r.ESPRE.2023-11-07T08:00:22.262_S2D_BLAZE_A.fits\n",
      "vis_path_exp[iexp] 48 /Volumes/T7/Exoplanet_systems/TESS/TOI-421/ESPRESSO_S2D/2023-11-06/r.ESPRE.2023-11-07T08:06:16.350_S2D_A.fits\n",
      "vis_path_blaze_exp[iexp] 48 /Volumes/T7/Exoplanet_systems/TESS/TOI-421/ESPRESSO_S2D/2023-11-06/r.ESPRE.2023-11-07T08:06:16.350_S2D_BLAZE_A.fits\n",
      "vis_path_exp[iexp] 49 /Volumes/T7/Exoplanet_systems/TESS/TOI-421/ESPRESSO_S2D/2023-11-06/r.ESPRE.2023-11-07T08:12:10.703_S2D_A.fits\n",
      "vis_path_blaze_exp[iexp] 49 /Volumes/T7/Exoplanet_systems/TESS/TOI-421/ESPRESSO_S2D/2023-11-06/r.ESPRE.2023-11-07T08:12:10.703_S2D_BLAZE_A.fits\n",
      "vis_path_exp[iexp] 50 /Volumes/T7/Exoplanet_systems/TESS/TOI-421/ESPRESSO_S2D/2023-11-06/r.ESPRE.2023-11-07T08:18:04.958_S2D_A.fits\n",
      "vis_path_blaze_exp[iexp] 50 /Volumes/T7/Exoplanet_systems/TESS/TOI-421/ESPRESSO_S2D/2023-11-06/r.ESPRE.2023-11-07T08:18:04.958_S2D_BLAZE_A.fits\n",
      "vis_path_exp[iexp] 51 /Volumes/T7/Exoplanet_systems/TESS/TOI-421/ESPRESSO_S2D/2023-11-06/r.ESPRE.2023-11-07T08:23:59.008_S2D_A.fits\n",
      "vis_path_blaze_exp[iexp] 51 /Volumes/T7/Exoplanet_systems/TESS/TOI-421/ESPRESSO_S2D/2023-11-06/r.ESPRE.2023-11-07T08:23:59.008_S2D_BLAZE_A.fits\n",
      "vis_path_exp[iexp] 52 /Volumes/T7/Exoplanet_systems/TESS/TOI-421/ESPRESSO_S2D/2023-11-06/r.ESPRE.2023-11-07T08:31:07.791_S2D_A.fits\n",
      "vis_path_blaze_exp[iexp] 52 /Volumes/T7/Exoplanet_systems/TESS/TOI-421/ESPRESSO_S2D/2023-11-06/r.ESPRE.2023-11-07T08:31:07.791_S2D_BLAZE_A.fits\n",
      "vis_path_exp[iexp] 53 /Volumes/T7/Exoplanet_systems/TESS/TOI-421/ESPRESSO_S2D/2023-11-06/r.ESPRE.2023-11-07T08:37:01.999_S2D_A.fits\n",
      "vis_path_blaze_exp[iexp] 53 /Volumes/T7/Exoplanet_systems/TESS/TOI-421/ESPRESSO_S2D/2023-11-06/r.ESPRE.2023-11-07T08:37:01.999_S2D_BLAZE_A.fits\n",
      "         Processing visit 20231106\n",
      "           Date (night start) : 2023/11/06\n",
      "           Visit midpoint: 2460255.75606 BJD\n",
      "           Exposures do not share a common spectral table\n",
      "           WARNING : sysvel set to default 80.0 km/s\n",
      "           54 exposures\n",
      "   > Estimating instrumental calibration\n",
      "         Calculating data\n",
      "           Processing 20231106\n",
      "[[None 0 0 ... 0 0 0]\n",
      " [0 0 0 ... 0 0 0]\n",
      " [0 0 0 ... 0 0 0]\n",
      " ...\n",
      " [0 0 0 ... 0 0 0]\n",
      " [0 0 0 ... 0 0 0]\n",
      " [0 0 0 ... 0 0 0]]\n",
      "Stop\n"
     ]
    },
    {
     "ename": "SystemExit",
     "evalue": "",
     "output_type": "error",
     "traceback": [
      "An exception has occurred, use %tb to see the full traceback.\n",
      "\u001b[0;31mSystemExit\u001b[0m\n"
     ]
    }
   ],
   "source": [
    "from antaress.ANTARESS_launch.ANTARESS_launcher import ANTARESS_launcher\n",
    "ANTARESS_launcher(working_path=input_nbook['working_path'], nbook_dic = input_nbook, exec_comm=False)"
   ]
  },
  {
   "cell_type": "markdown",
   "id": "c88f7611-d038-40a8-a643-9933b0ad5c41",
   "metadata": {},
   "source": [
    "<a id='Plot_display'></a>\n",
    "# Plot display"
   ]
  },
  {
   "cell_type": "code",
   "execution_count": null,
   "id": "3a8d8bf0-f01e-4b62-855c-300a577b25d1",
   "metadata": {},
   "outputs": [],
   "source": [
    "from antaress.ANTARESS_launch.ANTARESS_launcher import ANTARESS_launcher\n",
    "ANTARESS_launcher(working_path=input_nbook['working_path'], nbook_dic = input_nbook, exec_comm=False)"
   ]
  },
  {
   "cell_type": "code",
   "execution_count": null,
   "id": "e465a2f2-8ea0-4f16-bdd8-48db9f1bddd0",
   "metadata": {},
   "outputs": [],
   "source": [
    "from IPython.display import Image\n",
    "from IPython.core.display import HTML "
   ]
  },
  {
   "cell_type": "markdown",
   "id": "44741024-bde2-49f0-8dee-c57934338c9a",
   "metadata": {},
   "source": [
    "Run the cells below to show saved plots."
   ]
  }
 ],
 "metadata": {
  "kernelspec": {
   "display_name": "Python 3 (ipykernel)",
   "language": "python",
   "name": "python3"
  },
  "language_info": {
   "codemirror_mode": {
    "name": "ipython",
    "version": 3
   },
   "file_extension": ".py",
   "mimetype": "text/x-python",
   "name": "python",
   "nbconvert_exporter": "python",
   "pygments_lexer": "ipython3",
   "version": "3.11.3"
  }
 },
 "nbformat": 4,
 "nbformat_minor": 5
}
