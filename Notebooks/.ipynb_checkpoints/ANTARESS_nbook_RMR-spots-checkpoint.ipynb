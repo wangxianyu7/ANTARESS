{
 "cells": [
  {
   "cell_type": "markdown",
   "id": "3e0aad91-71e8-4304-a1ed-4f95c988eafd",
   "metadata": {
    "tags": []
   },
   "source": [
    "# Introduction"
   ]
  },
  {
   "cell_type": "markdown",
   "id": "abdb3678",
   "metadata": {},
   "source": [
    "This notebook allows you to run a simplified version of the ANTARESS workflow, for the following purpose:\n",
    "- extracting from a CCF dataset the stellar lines occulted by a transiting planet, with spots present on the stellar surface (TBD)\n",
    "- performing a Rossiter-McLaughlin Revolutions analysis of the dataset\n",
    "\n",
    "The default version of this notebook is set up to process a mock dataset generated with ANTARESS (see `ANTARESS_nbook_mock-spots.ipynb`). To try it out, copy the directory `Valinor_Saved_data` from `Notebooks/Mock_system/` into the directory of your choice (named, for example, `Working_dir/`). Otherwise simply modify the settings to analyze a series of measured CCF fits files. Set `working_path` to the directory where you stored your copy of the `Valinor_Saved_data` directory, or where you would like your RMR analysis of an observed dataset to be stored.\n",
    "\n",
    "To exploit the workflow to its full capabilities, run its executable with the [configuration files](https://obswww.unige.ch/~bourriev/antaress/doc/html/installation.html)."
   ]
  },
  {
   "cell_type": "code",
   "execution_count": null,
   "id": "5cfb9186-8e9e-42f1-8e01-4aa45c26bbdb",
   "metadata": {
    "tags": []
   },
   "outputs": [],
   "source": [
    "import ANTARESS_nbook_bground\n",
    "input_nbook = ANTARESS_nbook_bground.init('RMR')\n",
    "input_nbook['working_path'] = '/Users/samsonmercier/Desktop/Work/Master/2023-2024/antaress/Ongoing/'"
   ]
  },
  {
   "cell_type": "markdown",
   "id": "1dc89737-0699-4101-aed5-dff0d6035318",
   "metadata": {
    "tags": []
   },
   "source": [
    "# System parameters"
   ]
  },
  {
   "cell_type": "markdown",
   "id": "e334f1d4-b3d6-47ae-977a-62d1d66ee15b",
   "metadata": {},
   "source": [
    "**Parameters of the host star**\n",
    "\n",
    "Run this cell to define the host star. \n",
    "- `star_name` (string): Name of the star. Should not contain spaces/dashes.\n",
    "- `Rs` (float): Radius of the star, in $R_\\odot$.\n",
    "- `vsini` (float): Projected stellar surface velocity, in km/s. The value given here is only used as guess for the fits, as it will eventually be derived from your analysis.\n",
    "- `ld_u1` (float): First coefficient of the quadratic limb-darkening.\n",
    "- `ld_u2` (float): Second coefficient of the quadratic limb-darkening."
   ]
  },
  {
   "cell_type": "code",
   "execution_count": null,
   "id": "e5f4ea57",
   "metadata": {},
   "outputs": [],
   "source": [
    "input_nbook['par'].update({\n",
    "    'star_name' : 'Arda',\n",
    "    'Rs'        : 0.9,\n",
    "    'vsini'     : 3.,\n",
    "    'ld_u1'     : 0.2,\n",
    "    'ld_u2'     : 0.5\n",
    "})\n",
    "ANTARESS_nbook_bground.init_star(input_nbook)"
   ]
  },
  {
   "cell_type": "markdown",
   "id": "1ccee5d3",
   "metadata": {},
   "source": [
    "**Parameters of transiting planet**\n",
    "\n",
    "Run this cell to set the transiting planet on which the RM analysis is applied. \n",
    "- `planet_name` (string): Name of the transiting planet. Should not contain spaces/dashes.\n",
    "- `period` (float): Orbital period, in days.\n",
    "- `T0` (float): Mid-transit time, in ${\\rm BJD}_{\\rm TBD}$.\n",
    "- `ecc` (float): Orbital eccentricity.\n",
    "- `long_per` (float): Longitude of periastron, in degrees. If the orbit is circular, fill in `90.`.\n",
    "- `Kstar` (float): RV semi-amplitude, in m/s.\n",
    "- `aRs` (float): Scaled separation $a/R_\\star$.\n",
    "- `incl` (float): Orbital inclination, in degrees.\n",
    "- `RpRs` (float): Planet-to-star radius ratio $R_{\\rm p}/R_\\star$."
   ]
  },
  {
   "cell_type": "code",
   "execution_count": null,
   "id": "27d0509f",
   "metadata": {},
   "outputs": [],
   "source": [
    "input_nbook['par'].update({\n",
    "    'planet_name' : 'Valinor',\n",
    "    'period'      : 3.8,\n",
    "    'T0'          : 2457176.1,\n",
    "    'ecc'         : 0.,\n",
    "    'long_per'    : 90.,\n",
    "    'Kstar'       : 38.1,\n",
    "    'aRs'         : 12.0,\n",
    "    'incl'        : 89.,\n",
    "    'RpRs'        : 0.1\n",
    "})\n",
    "ANTARESS_nbook_bground.init_pl(input_nbook,'main')"
   ]
  },
  {
   "cell_type": "markdown",
   "id": "5a5b1bd3",
   "metadata": {},
   "source": [
    "**Parameters of additional planets in the system**\n",
    "\n",
    "Run this cell to set additional planets, which will only contribute to the computation of the star Keplerian motion. \n",
    "\n",
    "The names and definitions of the parameters are the same as for the main planet (`aRs`, `incl`, `RpRs` are not required).\n",
    "\n",
    "Copy the cell to add further planets"
   ]
  },
  {
   "cell_type": "code",
   "execution_count": null,
   "id": "9f1a8f88",
   "metadata": {},
   "outputs": [],
   "source": [
    "input_nbook['par'].update({\n",
    "    'planet_name' : 'Numenor',\n",
    "    'period'      : 8.,\n",
    "    'T0'          : 2457176.2,\n",
    "    'ecc'         : 0.,\n",
    "    'long_per'    : 90.,\n",
    "    'Kstar'       : 20.\n",
    "})\n",
    "ANTARESS_nbook_bground.init_pl(input_nbook,'sec')"
   ]
  },
  {
   "cell_type": "markdown",
   "id": "660e4a49",
   "metadata": {
    "tags": []
   },
   "source": [
    "# Dataset properties"
   ]
  },
  {
   "cell_type": "markdown",
   "id": "fa82d6c5-fef8-4654-b8b8-75bd1c3c0a67",
   "metadata": {
    "tags": []
   },
   "source": [
    "**Visit**\n",
    "\n",
    "Run this cell to define the visit to be processed. It must overlap with the transit of the `transiting planet`.\n",
    "- `instrument` (string): Instrument of the visit (e.g. `ESPRESSO`, `NIRPS_HE`...).\n",
    "- `night` (string): Night of the visit. It is preferred to use the standard format, i.e. `YYYYMMDD`.\n",
    "- `data_dir` (string): Path to the directory holding the observed .fits file (here, set to `mock` to retrieve the example dataset pre-generated with ANTARESS and stored in `Valinor_Saved_data/`)"
   ]
  },
  {
   "cell_type": "code",
   "execution_count": null,
   "id": "4a3c99d7",
   "metadata": {},
   "outputs": [],
   "source": [
    "input_nbook['par'].update({\n",
    "    'instrument'  : 'ESPRESSO',\n",
    "    'night'       : '20230624',\n",
    "    'data_dir'    : 'mock' \n",
    "})\n",
    "ANTARESS_nbook_bground.add_vis(input_nbook)"
   ]
  },
  {
   "cell_type": "markdown",
   "id": "c87a46ee",
   "metadata": {},
   "source": [
    "**Radial velocity table**\n",
    "\n",
    "Run this cell to set the radial velocity table over which CCFs are defined (in km/s, in the star rest frame).\n",
    "- `x_start` (float): start of the table.\n",
    "- `x_end` (float): end of the table.\n",
    "- `dx` (float): step of the table."
   ]
  },
  {
   "cell_type": "code",
   "execution_count": null,
   "id": "16cc34cc",
   "metadata": {},
   "outputs": [],
   "source": [
    "input_nbook['par'].update({\n",
    "    'x_start' : -80.,\n",
    "    'x_end'   :  80.,\n",
    "    'dx'      :  0.8\n",
    "})\n",
    "ANTARESS_nbook_bground.set_mock_rv(input_nbook)"
   ]
  },
  {
   "cell_type": "markdown",
   "id": "cb81caec",
   "metadata": {
    "tags": []
   },
   "source": [
    "**Systemic velocity**\n",
    "\n",
    "Run this cell to set the systemic radial velocity `gamma` (float, in km/s).\n",
    "\n",
    "Run the notebook a first time with `gamma` = 0 km/s to determine the value specific to your chosen visit (`gamma` can vary slightly with the epoch and the instrument, and should thus be derived from the dataset itself rather than set to an external value). Go directly to the `Running ANTARESS` section and read the value of `gamma` printed in the log.\n",
    "\n",
    "Then, set `gamma` to the derived value and proceed with the analysis."
   ]
  },
  {
   "cell_type": "code",
   "execution_count": null,
   "id": "69ab63d8",
   "metadata": {},
   "outputs": [],
   "source": [
    "input_nbook['par']['gamma'] = 10.   \n",
    "ANTARESS_nbook_bground.set_sysvel(input_nbook)"
   ]
  },
  {
   "cell_type": "markdown",
   "id": "6e62a9a1",
   "metadata": {},
   "source": [
    "**Parameters of the main spot**\n",
    "\n",
    "Run this cell to define the main spot. This spot will set the contrast for all other spots during the visit. The values given here for `lat`, `ang`, `Tc`, and `fctrst` are only used as guess for the fits, as they will eventually be derived from your analysis.\n",
    "- `spot_name` (string): Name of the spot. Should not contain spaces/dashes.\n",
    "- `lat` (float): Constant latitude of the spot, in degrees.\n",
    "- `ang` (float): Half-angular size, in degrees.\n",
    "- `Tc` (float): Time at which the spot is at longitude 0, in ${\\rm BJD}_{\\rm TBD}$.\n",
    "- `fctrst` (float): Flux level of the spot surface, relative to the quiet surface of the star.\n",
    "- `ld_spot_u1` (float): First coefficient of the spot's quadratic limb-darkening.\n",
    "- `ld_spot_u2` (float): Second coefficient of the spot's quadratic limb-darkening."
   ]
  },
  {
   "cell_type": "code",
   "execution_count": null,
   "id": "9b02f6dc",
   "metadata": {},
   "outputs": [],
   "source": [
    "input_nbook['par'].update({\n",
    "    'spot_name'    : 'Laurelin',\n",
    "    'lat'          : 20.,\n",
    "    'ang'          : 15.,\n",
    "    'Tc'           : 2457176.0,\n",
    "    'fctrst'       : 0.5,\n",
    "    'ld_spot_u1'   : 0.2,\n",
    "    'ld_spot_u2'   : 0.5\n",
    "})\n",
    "ANTARESS_nbook_bground.init_spot(input_nbook,'main')"
   ]
  },
  {
   "cell_type": "markdown",
   "id": "199d3017",
   "metadata": {},
   "source": [
    "**Parameters of additional spots**\n",
    "\n",
    "Run this cell to set additional spots. \n",
    "\n",
    "The names and definitions of the parameters are the same as for the main spot (`fctrst`,`ld_spot_u1`, and `ld_spot_u1` are not required).\n",
    "\n",
    "Copy the cell to add further spots."
   ]
  },
  {
   "cell_type": "code",
   "execution_count": null,
   "id": "a0e291b5",
   "metadata": {},
   "outputs": [],
   "source": [
    "input_nbook['par'].update({\n",
    "    'spot_name'    : 'Telperion',\n",
    "    'lat'          : -10.,\n",
    "    'ang'          : 20.,\n",
    "    'Tc'           : 2457176.2,\n",
    "})\n",
    "ANTARESS_nbook_bground.init_spot(input_nbook,'sec')"
   ]
  },
  {
   "cell_type": "markdown",
   "id": "11d1baf3-05f8-414c-98f6-7797c7678749",
   "metadata": {
    "tags": []
   },
   "source": [
    "# Processing"
   ]
  },
  {
   "cell_type": "markdown",
   "id": "df6f3d3f-b8ce-4684-8b3e-c3b4cbb9b8d8",
   "metadata": {
    "tags": []
   },
   "source": [
    "**Alignment in star rest frame**\n",
    "\n",
    "Run this cell to align the disk-integrated CCFs in the star rest frame. \n",
    "\n",
    "CCFs are originally defined in the Sun barycentric rest frame. This module shifts them by the systemic rv you defined above, and by the Keplerian rv motion induced by the planets you set up for this system."
   ]
  },
  {
   "cell_type": "code",
   "execution_count": null,
   "id": "3ae5cf53-e5db-42e1-9d3e-712b64d1c01e",
   "metadata": {},
   "outputs": [],
   "source": [
    "ANTARESS_nbook_bground.align_prof(input_nbook)"
   ]
  },
  {
   "cell_type": "markdown",
   "id": "9b17dd3a-71aa-4ab6-9675-60ba19f63a7d",
   "metadata": {
    "tags": []
   },
   "source": [
    "**Flux scaling**\n",
    "\n",
    "Run this cell to scale the disk-integrated CCFs to their correct relative flux level over the transit. \n",
    "\n",
    "The scaling depends on the limb-darkening coefficients and planet-to-star radius ratio you entered in the `System parameters`.\n",
    "\n",
    "The flux value used to scale CCFs also accounts for the contribution of spots to the overall disk-integrated flux."
   ]
  },
  {
   "cell_type": "code",
   "execution_count": null,
   "id": "7c3829b5-11d9-4ee1-9a3d-d9ab13c83c72",
   "metadata": {},
   "outputs": [],
   "source": [
    "ANTARESS_nbook_bground.flux_sc(input_nbook)\n",
    "ANTARESS_nbook_bground.DImast_weight(input_nbook)"
   ]
  },
  {
   "cell_type": "markdown",
   "id": "67688dff-da83-4023-9da7-a70f3b217bea",
   "metadata": {
    "tags": []
   },
   "source": [
    "**Differential CCFs**\n",
    "\n",
    "Run this cell to extract differential CCFs, which are the difference between the master out-of-transit CCF and the CCF in each exposure. As spots impact both the master out-of-transit and indivudal exposure CCFs, the differential CCFs during transit no longer correspond to the light coming from the planet-occulted region of the stellar photosphere. Instead, the differential CCFs are a complex mix of planet and spot contributions."
   ]
  },
  {
   "cell_type": "code",
   "execution_count": null,
   "id": "0038e02c-92a8-4e36-a000-a58395044684",
   "metadata": {},
   "outputs": [],
   "source": [
    "ANTARESS_nbook_bground.extract_res(input_nbook)"
   ]
  },
  {
   "cell_type": "markdown",
   "id": "3c3c58d9-770c-4c51-96aa-0c02fb5db0b0",
   "metadata": {
    "tags": []
   },
   "source": [
    "# Analysis and plot display"
   ]
  },
  {
   "cell_type": "markdown",
   "id": "8dca5055",
   "metadata": {
    "tags": []
   },
   "source": [
    "Results from the fits you are going to perform are printed in the log of Section 6 below. For each fitted parameter, the workflow indicates its median and the 1-$\\sigma$ errors and associated intervals from the Highest Density Intervals (when a MCMC has been used)."
   ]
  },
  {
   "cell_type": "markdown",
   "id": "22223a5d-0a4e-4f44-94dd-7308cd2e3f7b",
   "metadata": {
    "tags": []
   },
   "source": [
    "**Analysis of disk-integrated CCFs**\n",
    "\n",
    "Run this cell to perform a Gaussian fit to each disk-integrated CCF. This will return the rv, FWHM, and contrast time-series of the average line from the entire stellar disk, which you can visualize below. This step is used to measure the systemic rv, to check that your Keplerian model matches the data, and to search for systematic trends in the line properties. \n",
    "\n",
    "Additional model and fit options are available through the configuration file. The full workflow will also allow you to correct for putative line trends."
   ]
  },
  {
   "cell_type": "code",
   "execution_count": null,
   "id": "d29d4d29-acab-4506-99cc-1ef94f136e3f",
   "metadata": {},
   "outputs": [],
   "source": [
    "ANTARESS_nbook_bground.ana_prof(input_nbook,'DI')"
   ]
  },
  {
   "cell_type": "markdown",
   "id": "b9156ab8-3ba4-4f0b-83d1-197181ce14a5",
   "metadata": {
    "tags": []
   },
   "source": [
    "**Plotting disk-integrated CCFs**\n",
    "\n",
    "Run this cell to plot the disk-integrated CCF series with their best fits. Uncomment `y_range` to adjust the flux range of the CCFs (vertical axis)."
   ]
  },
  {
   "cell_type": "code",
   "execution_count": null,
   "id": "304214d0-eff2-407d-96ca-28c57f85926a",
   "metadata": {},
   "outputs": [],
   "source": [
    "# input_nbook['par']['y_range'] = [2.1e5,3.6e5] \n",
    "ANTARESS_nbook_bground.plot_prof(input_nbook,'DI_prof')"
   ]
  },
  {
   "cell_type": "markdown",
   "id": "1943581a-dcd3-492f-8e45-3f8f534694cf",
   "metadata": {
    "tags": []
   },
   "source": [
    "**Plotting disk-integrated line properties**\n",
    "\n",
    "Run this cell to plot the time-series of properties derived from the fits to disk-integrated CCFs. "
   ]
  },
  {
   "cell_type": "code",
   "execution_count": null,
   "id": "3c1a33d5-7ae9-4b75-b1d2-e14885865f0e",
   "metadata": {},
   "outputs": [],
   "source": [
    "ANTARESS_nbook_bground.plot_prop(input_nbook,'DI')"
   ]
  },
  {
   "cell_type": "markdown",
   "id": "c50fac4b-c6dd-4b09-96dd-3280769a4454",
   "metadata": {
    "tags": []
   },
   "source": [
    "**Rossiter-McLaughlin Revolutions**\n",
    "\n",
    "Run this cell to perform a RM Revolution fit to your dataset, accounting for spots. A joint model for the differential line profiles along the transit chord will be fitted to the exposures that you can select with `idx_in_fit`, based on your analysis from the previous step.\n",
    "\n",
    "The model is controlled by the same parameters as for individual intrinsic properties (see `ANTARESS_nbook_RMR.ipynb`), so that you can define the model here in the same way using the parameters that you identified as relevant in the previous step. In addition, four properties must be specified for each spot (`lat`, `ang`, `Tc`, and `fctrst`) if we want to include them in the fit.\n",
    "\n",
    "It is advised to run the fit through a MCMC, which you can set up after a preliminary run by checking the MCMC chains in `/Working_dir/planet_Saved_data/Joined_fits/ResProf/mcmc/`.\n",
    "\n",
    "Best-fit values and associated uncertainties can be read in the log below, or retrieved with additional information in the file `/Working_dir/planet_Saved_data/Joined_fits/ResProf/mcmc/Outputs`.\n",
    "\n",
    "The notebook assumes default properties for ANTARESS stellar grid, in particular, a simple Gaussian profile is assigned to each grid cell. Additional options are available through the configuration file. "
   ]
  },
  {
   "cell_type": "code",
   "execution_count": null,
   "id": "01d58231-7341-46a4-a77f-c4f415f8b03b",
   "metadata": {},
   "outputs": [],
   "source": [
    "#Exposures to be fitted\n",
    "input_nbook['par']['idx_in_fit'] = range(1,20)\n",
    "\n",
    "#Uncomment to use the MCMC\n",
    "input_nbook['par']['fit_mode'] = 'mcmc'\n",
    "\n",
    "#Uncomment to adjust the MCMC chains (default nwalkers = 3 x number of free parameters, nsteps = 5000, nburn = 1000)    \n",
    "input_nbook['par']['mcmc_set']={'nwalkers':33,'nsteps':20,'nburn':8} \n",
    "\n",
    "#Model parameters\n",
    "input_nbook['par']['mod_prop']={ \n",
    "    #Stellar parameters\n",
    "    'veq':[1.,5.],\n",
    "    'contrast_0':[0.5,0.8],    \n",
    "    'FWHM_0':[1.,5.],\n",
    "    \n",
    "    #Planetary parameters\n",
    "    'lambda':[0.,90.],\n",
    "    \n",
    "    #Spot parameters\n",
    "    'lat_Laurelin':[-60.,40.],\n",
    "    'Tc_Laurelin':[2457176.0 - 0.1, 2457176.0 + 0.3],\n",
    "    'ang_Laurelin':[5.,55.],\n",
    "    \n",
    "    'lat_Telperion':[-40.,60.],\n",
    "    'Tc_Telperion':[2457176.2 - 0.3, 2457176.2 + 0.1],\n",
    "    'ang_Telperion':[5.,55.],\n",
    "    \n",
    "    'fctrst':[0.2,0.95],\n",
    "}   \n",
    "\n",
    "#Uncomment to set your own priors\n",
    "input_nbook['par']['priors']={\n",
    "    #Stellar parameters\n",
    "    'veq':{'low':0.,'high':100.},  \n",
    "    'contrast_0':{'low':0.,'high':1.},    \n",
    "    'FWHM_0':{'low':0.,'high':20.},\n",
    "    \n",
    "    #Planetary parameters\n",
    "    'lambda':{'low':-180.,'high':180.},\n",
    "    \n",
    "    #Spot parameters\n",
    "    'lat_Laurelin':{'low':-90.,'high':90.},\n",
    "    'Tc_Laurelin':{'low':2457176.0-1.,'high':2457176.0+1.},\n",
    "    'ang_Laurelin':{'low':0.,'high':89.},\n",
    "        \n",
    "    'lat_Telperion':{'low':-90.,'high':90.},\n",
    "    'Tc_Telperion':{'low':2457176.2-1.,'high':2457176.2+1.},\n",
    "    'ang_Telperion':{'low':0.,'high':89.},\n",
    "        \n",
    "    'fctrst':{'low':0.,'high':1.}}    \n",
    "\n",
    "#Set to True to run the fit, and to False to retrieve its results\n",
    "input_nbook['par']['calc_fit'] = False\n",
    "\n",
    "ANTARESS_nbook_bground.ana_jointprof(input_nbook,'Res')"
   ]
  },
  {
   "cell_type": "markdown",
   "id": "7463e76f-87f8-491b-98e3-f478ca321c24",
   "metadata": {
    "tags": []
   },
   "source": [
    "**Plotting differential CCF maps**\n",
    "\n",
    "Run this cell to plot the phase vs RV maps of your differential CCFs.\n",
    "\n",
    "Adjust `v_range` to the flux range of your CCF dataset (corresponding to the color scale in the maps)."
   ]
  },
  {
   "cell_type": "code",
   "execution_count": null,
   "id": "8c7b72c2-a8f5-4185-acdd-ab29d485160d",
   "metadata": {},
   "outputs": [],
   "source": [
    "# input_nbook['par']['v_range'] = [0.5,1.2]\n",
    "ANTARESS_nbook_bground.plot_map(input_nbook,'Res_prof')"
   ]
  },
  {
   "cell_type": "markdown",
   "id": "8fee986a-099f-4986-9747-29d9b2073280",
   "metadata": {
    "tags": []
   },
   "source": [
    "**Plotting model and residual differential CCF maps**\n",
    "\n",
    "Run these cells to generate the model differential CCFs that correspond to the best RMR fit. Note that you first need to perform a RMR fit, and then run the notebook again to build the model and residuals (thus, leave the cell commented the first time you use the notebook)."
   ]
  },
  {
   "cell_type": "code",
   "execution_count": null,
   "id": "f044f09c-41e2-4d00-8843-25a26406c95b",
   "metadata": {},
   "outputs": [],
   "source": [
    "ANTARESS_nbook_bground.diff_prof_corr(input_nbook)"
   ]
  },
  {
   "cell_type": "markdown",
   "id": "25b22b73-38a4-4513-b872-ae6a0645a05c",
   "metadata": {
    "tags": []
   },
   "source": [
    "Run this cell to plot the phase vs RV maps of your model differential CCFs.\n",
    "\n",
    "Adjust v_range to the flux range of your CCF dataset (corresponding to the color scale in the maps)."
   ]
  },
  {
   "cell_type": "code",
   "execution_count": null,
   "id": "58c49be1-f236-4893-9a74-f53596a064ef",
   "metadata": {},
   "outputs": [],
   "source": [
    "# input_nbook['par']['v_range'] = [0.5,1.2]\n",
    "ANTARESS_nbook_bground.plot_map(input_nbook,'BF_Res_prof')"
   ]
  },
  {
   "cell_type": "markdown",
   "id": "af7cf0cb-87ab-4633-a2ba-4c6ace2c6445",
   "metadata": {
    "tags": []
   },
   "source": [
    "Run this cell to plot the phase vs RV maps of the residuals between processed and model differential CCFs.\n",
    "\n",
    "Adjust `v_range` to the residual flux range."
   ]
  },
  {
   "cell_type": "code",
   "execution_count": null,
   "id": "30f8a589-1c54-4763-8c31-0a47f6e313cc",
   "metadata": {},
   "outputs": [],
   "source": [
    "# input_nbook['par']['v_range'] = [-0.01,0.01]\n",
    "ANTARESS_nbook_bground.plot_map(input_nbook,'BF_Res_prof_re')"
   ]
  },
  {
   "cell_type": "markdown",
   "id": "358e1bd6",
   "metadata": {},
   "source": [
    "# Running ANTARESS"
   ]
  },
  {
   "cell_type": "markdown",
   "id": "5f9fdb71",
   "metadata": {},
   "source": [
    "Run this cell to run the ANTARESS workflow."
   ]
  },
  {
   "cell_type": "code",
   "execution_count": null,
   "id": "60c14bb1-9e0a-4f17-8f62-6fe7b986e397",
   "metadata": {
    "scrolled": true,
    "tags": []
   },
   "outputs": [],
   "source": [
    "import os\n",
    "os.chdir('../src')\n",
    "from antaress.ANTARESS_launch.ANTARESS_launcher import ANTARESS_launcher\n",
    "ANTARESS_launcher(working_path=input_nbook['working_path'], nbook_dic = input_nbook, exec_comm=False)"
   ]
  },
  {
   "cell_type": "markdown",
   "id": "8fe20ca0-b976-4507-8303-e0aa703f685c",
   "metadata": {},
   "source": [
    "# Plot display"
   ]
  },
  {
   "cell_type": "code",
   "execution_count": null,
   "id": "abf010ec-2e50-4282-a87c-37607673b6b1",
   "metadata": {
    "tags": []
   },
   "outputs": [],
   "source": [
    "from IPython.display import Image\n",
    "from IPython.core.display import HTML "
   ]
  },
  {
   "cell_type": "markdown",
   "id": "a5c6ed3a-a238-426c-9360-c632503e1924",
   "metadata": {},
   "source": [
    "Run the cells below to show saved plots."
   ]
  },
  {
   "cell_type": "markdown",
   "id": "f174a6fd-39d3-4edb-9285-5ef974078dca",
   "metadata": {},
   "source": [
    "**Disk-integrated CCF series**\n",
    "\n",
    "This plot shows the series of disk-integrated CCFs (blue profiles) with their best-fit Gaussian models (dashed black profiles), from which are derived the properties showed in the next plot."
   ]
  },
  {
   "cell_type": "code",
   "execution_count": null,
   "id": "8f780bd0-e994-4190-a848-3ad950815dcf",
   "metadata": {
    "tags": []
   },
   "outputs": [],
   "source": [
    "Image(filename = input_nbook['plot_path']+'DI_data/'+input_nbook['par']['instrument']+'_'+input_nbook['par']['night']+'_Indiv/Data/CCF/phase.gif')"
   ]
  },
  {
   "cell_type": "markdown",
   "id": "b91242fd-1705-4cf7-9bef-42f55246e3b6",
   "metadata": {},
   "source": [
    "**Disk-integrated line properties**\n",
    "\n",
    "The three plots below show the time-series of RVs, contrast, and FWHM derived from the fits to the disk-integrated CCFs. Transit contacts are shown as dashed black lines, and in-transit exposures are flagged with empty symbols.\n",
    "\n",
    "If spots were absent, RVs outside of transit would trace the Keplerian motion of your star with respect to the solar system barycenter (the Keplerian model defined by your inputs for the star and planets is plotted as a solid blue curve), while RVs inside of the transit would display the typical RM signature.\n",
    "\n",
    "In the presence of spots, disk-integrated CCFs present additional distortions which bias the retrieved line properties. In this case, it is recommended to apply the RM Revolution technique on the differential CCF series to retrieve the system's properties."
   ]
  },
  {
   "cell_type": "code",
   "execution_count": null,
   "id": "a5ed2d1c-b64f-4cfc-ade9-f3648bda0b1c",
   "metadata": {
    "tags": []
   },
   "outputs": [],
   "source": [
    "Image(filename = input_nbook['plot_path']+'DI_prop/rv_phase.png')"
   ]
  },
  {
   "cell_type": "code",
   "execution_count": null,
   "id": "110b3e8b-15eb-4afe-9018-d04af3cae355",
   "metadata": {
    "tags": []
   },
   "outputs": [],
   "source": [
    "Image(filename = input_nbook['plot_path']+'DI_prop/ctrst_phase.png')"
   ]
  },
  {
   "cell_type": "code",
   "execution_count": null,
   "id": "47cd8d6e-3314-4881-aba4-c295ac02687e",
   "metadata": {
    "tags": []
   },
   "outputs": [],
   "source": [
    "Image(filename = input_nbook['plot_path']+'DI_prop/FWHM_phase.png')"
   ]
  },
  {
   "cell_type": "markdown",
   "id": "7310670a-f530-4682-9db6-9ae6b12f50e6",
   "metadata": {},
   "source": [
    "**Differential CCF series**\n",
    "\n",
    "This plot shows the series of differential CCFs (blue profiles), from which are derived the properties showed in the next plots."
   ]
  },
  {
   "cell_type": "code",
   "execution_count": null,
   "id": "81376016-d05f-487e-b138-e68be9590028",
   "metadata": {
    "tags": []
   },
   "outputs": [],
   "source": [
    "Image(filename = input_nbook['plot_path']+'Res_data/'+input_nbook['par']['instrument']+'_'+input_nbook['par']['night']+'_Indiv/Data/CCF/phase.gif')"
   ]
  },
  {
   "cell_type": "markdown",
   "id": "76463b8b",
   "metadata": {},
   "source": [
    "**Differential CCF Maps**\n",
    "\n",
    "These plots shows the series of processed, modeled and residual differential CCFs. In all three plots, the series is shown in phase-RV space, colored with flux."
   ]
  },
  {
   "cell_type": "code",
   "execution_count": null,
   "id": "8b9d09a3",
   "metadata": {},
   "outputs": [],
   "source": [
    "Image(filename = input_nbook['plot_path']+'Res_data/'+input_nbook['par']['instrument']+'_'+input_nbook['par']['night']+'_Map/Data/CCF/iord0.png', width=800)"
   ]
  },
  {
   "cell_type": "code",
   "execution_count": null,
   "id": "6c9d2a35-3147-4cae-b92f-b7dca2a42d1a",
   "metadata": {
    "tags": []
   },
   "outputs": [],
   "source": [
    "if input_nbook['par']['diff_prof_corr']:\n",
    "    Image(filename = input_nbook['plot_path']+'Res_data/ESPRESSO_20230624_Map/Data/CCF/iord0BestFit.png',width=800)"
   ]
  },
  {
   "cell_type": "code",
   "execution_count": null,
   "id": "7f2df184-3176-4e98-a82e-52a29427314a",
   "metadata": {
    "tags": []
   },
   "outputs": [],
   "source": [
    "if input_nbook['par']['diff_prof_corr']:\n",
    "    Image(filename = input_nbook['plot_path']+'Res_data/ESPRESSO_20230624_Map/Data/CCF/iord0BestFitDifferential.png', width=800)"
   ]
  },
  {
   "cell_type": "markdown",
   "id": "24f98f78-4260-4ff7-a152-c7c496c972f7",
   "metadata": {},
   "source": [
    "# Results comparison for the example mock dataset"
   ]
  },
  {
   "cell_type": "markdown",
   "id": "b6afb950-369b-444a-b89a-33c7ede9e47f",
   "metadata": {},
   "source": [
    "If you ran the successive steps with relevant settings, you should have retrieved best-fit values from the RM Revolutions analysis that match the properties used to generate the mock dataset:\n",
    "\n",
    "**Star**\n",
    "- a projected stellar surface velocity `vsini` = 3 km/s\n",
    "- an intrinsic stellar line `contrast` = 0.7\n",
    "- an intrinsic stellar line `FWHM` = 2.5 km/s \n",
    "\n",
    "**Planet**\n",
    "- a sky-projected spin-orbit angle `lambda` = 35 degrees\n",
    "\n",
    "**Spots**\n",
    "\n",
    "- a flux level `fctrst` = 0.5\n",
    "\n",
    "*Laurelin*\n",
    "\n",
    "- a latitude of `lat` = 20 degrees\n",
    "- a half-angular size of `ang` = 15 degrees\n",
    "- a spot-crossing time `Tc` = 2457176.0 BJD\n",
    "\n",
    "*Telperion*\n",
    "- a latitude of `lat` = -10 degrees\n",
    "- a half-angular size of `ang` = 20 degrees\n",
    "- a spot-crossing time `Tc` = 2457176.2 BJD"
   ]
  }
 ],
 "metadata": {
  "kernelspec": {
   "display_name": "Python 3 (ipykernel)",
   "language": "python",
   "name": "python3"
  },
  "language_info": {
   "codemirror_mode": {
    "name": "ipython",
    "version": 3
   },
   "file_extension": ".py",
   "mimetype": "text/x-python",
   "name": "python",
   "nbconvert_exporter": "python",
   "pygments_lexer": "ipython3",
   "version": "3.11.5"
  },
  "toc": {
   "base_numbering": 1,
   "nav_menu": {},
   "number_sections": true,
   "sideBar": true,
   "skip_h1_title": false,
   "title_cell": "Table of Contents",
   "title_sidebar": "Contents",
   "toc_cell": false,
   "toc_position": {
    "height": "calc(100% - 180px)",
    "left": "10px",
    "top": "150px",
    "width": "221px"
   },
   "toc_section_display": true,
   "toc_window_display": true
  }
 },
 "nbformat": 4,
 "nbformat_minor": 5
}
