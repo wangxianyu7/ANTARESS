{
 "cells": [
  {
   "cell_type": "markdown",
   "id": "842cacba-4862-4b41-a5e2-10dbbc23beaf",
   "metadata": {},
   "source": [
    "# Introduction"
   ]
  },
  {
   "cell_type": "markdown",
   "id": "f7d81c13-afc0-4c67-836a-9768f35ed796",
   "metadata": {},
   "source": [
    "This notebook allows you to define and set up a mock planetary system to be processed with ANTARESS notebooks:\n",
    "\n",
    "- a system is defined by a host star, a transiting planet, and planets contributing to the Keplerian stellar motion\n",
    "\n",
    "Notebooks allow you to run simplified versions of ANTARESS. To exploit the workflow to its full capabilities, and process multiple transiting planets and datasets, run its executable with the [configuration files](https://obswww.unige.ch/~bourriev/antaress/doc/html/installation.html).\n",
    "\n",
    "This set-up notebook creates a subdirectory for your system in the `working_path` directory. The same path, star, and transiting planet must be provided to other notebooks if you want to process this system.\n",
    "Here we use the properties of a fictitious system that can then be used to generate a dataset with the [Mock notebook](https://gitlab.unige.ch/spice_dune/antaress/-/blob/main/Notebooks/ANTARESS_nbook_mock.ipynb). The equivalent [notebook](https://gitlab.unige.ch/spice_dune/antaress/-/blob/main/Notebooks/ANTARESS_nbook_setup.ipynb) is initalized with the properties of the real planetary system around TOI-421 to illustrate the processing of a real dataset."
   ]
  },
  {
   "cell_type": "code",
   "execution_count": 1,
   "id": "62e7f2da-bd22-44ec-9009-24ba8b2ea0f9",
   "metadata": {},
   "outputs": [],
   "source": [
    "import ANTARESS_nbook_bground\n",
    "input_nbook = ANTARESS_nbook_bground.init()\n",
    "input_nbook['working_path'] = '/Users/bourrier/Travaux/ANTARESS/Working_dir/'"
   ]
  },
  {
   "cell_type": "markdown",
   "id": "7d308211-fb22-4d08-8f1e-ca20dfc05b58",
   "metadata": {},
   "source": [
    "# System parameters"
   ]
  },
  {
   "cell_type": "markdown",
   "id": "a1ba2be5-904b-472c-bbbc-661c2be6e9ae",
   "metadata": {},
   "source": [
    "**Parameters of the host star**\n",
    "\n",
    "Run this cell to define the host star. \n",
    "- `star_name` (string): Name of the star. Should not contain spaces/dashes.\n",
    "- `Rs` (float): Radius of the star, in $R_\\odot$.\n",
    "- `vsini` (float): Sky-projected stellar rotational velocity, in km/s. \n",
    "- `sysvel` (float): Systemic velocity, in km/s. The value given here is used as guess and does not need to be accurate.\n",
    "- `ld_u1` (float): First coefficient of the quadratic limb-darkening.\n",
    "- `ld_u2` (float): Second coefficient of the quadratic limb-darkening."
   ]
  },
  {
   "cell_type": "code",
   "execution_count": 2,
   "id": "4dc3079d-0fb2-4495-844b-154da7ac7068",
   "metadata": {},
   "outputs": [
    {
     "ename": "KeyError",
     "evalue": "'sysvel'",
     "output_type": "error",
     "traceback": [
      "\u001b[0;31m---------------------------------------------------------------------------\u001b[0m",
      "\u001b[0;31mKeyError\u001b[0m                                  Traceback (most recent call last)",
      "Cell \u001b[0;32mIn[2], line 9\u001b[0m\n\u001b[1;32m      1\u001b[0m input_nbook[\u001b[38;5;124m'\u001b[39m\u001b[38;5;124mpar\u001b[39m\u001b[38;5;124m'\u001b[39m]\u001b[38;5;241m.\u001b[39mupdate({\n\u001b[1;32m      2\u001b[0m     \u001b[38;5;124m'\u001b[39m\u001b[38;5;124mstar_name\u001b[39m\u001b[38;5;124m'\u001b[39m : \u001b[38;5;124m'\u001b[39m\u001b[38;5;124mArda\u001b[39m\u001b[38;5;124m'\u001b[39m,\n\u001b[1;32m      3\u001b[0m     \u001b[38;5;124m'\u001b[39m\u001b[38;5;124mRs\u001b[39m\u001b[38;5;124m'\u001b[39m        : \u001b[38;5;241m0.9\u001b[39m,\n\u001b[0;32m   (...)\u001b[0m\n\u001b[1;32m      7\u001b[0m     \u001b[38;5;124m'\u001b[39m\u001b[38;5;124mld_u2\u001b[39m\u001b[38;5;124m'\u001b[39m     : \u001b[38;5;241m0.5\u001b[39m\n\u001b[1;32m      8\u001b[0m })\n\u001b[0;32m----> 9\u001b[0m \u001b[43mANTARESS_nbook_bground\u001b[49m\u001b[38;5;241;43m.\u001b[39;49m\u001b[43minit_star\u001b[49m\u001b[43m(\u001b[49m\u001b[43minput_nbook\u001b[49m\u001b[43m)\u001b[49m\n",
      "File \u001b[0;32m~/Travaux/ANTARESS/Main/Notebooks/ANTARESS_nbook_bground.py:78\u001b[0m, in \u001b[0;36minit_star\u001b[0;34m(input_nbook)\u001b[0m\n\u001b[1;32m     71\u001b[0m \u001b[38;5;28;01mif\u001b[39;00m \u001b[38;5;124m'\u001b[39m\u001b[38;5;124mistar\u001b[39m\u001b[38;5;124m'\u001b[39m \u001b[38;5;129;01mnot\u001b[39;00m \u001b[38;5;129;01min\u001b[39;00m input_nbook[\u001b[38;5;124m'\u001b[39m\u001b[38;5;124mpar\u001b[39m\u001b[38;5;124m'\u001b[39m]:istar\u001b[38;5;241m=\u001b[39m\u001b[38;5;241m90.\u001b[39m\n\u001b[1;32m     72\u001b[0m \u001b[38;5;28;01melse\u001b[39;00m:istar \u001b[38;5;241m=\u001b[39m input_nbook[\u001b[38;5;124m'\u001b[39m\u001b[38;5;124mpar\u001b[39m\u001b[38;5;124m'\u001b[39m][\u001b[38;5;124m'\u001b[39m\u001b[38;5;124mistar\u001b[39m\u001b[38;5;124m'\u001b[39m]\n\u001b[1;32m     73\u001b[0m input_nbook[\u001b[38;5;124m'\u001b[39m\u001b[38;5;124msystem\u001b[39m\u001b[38;5;124m'\u001b[39m][input_nbook[\u001b[38;5;124m'\u001b[39m\u001b[38;5;124mpar\u001b[39m\u001b[38;5;124m'\u001b[39m][\u001b[38;5;124m'\u001b[39m\u001b[38;5;124mstar_name\u001b[39m\u001b[38;5;124m'\u001b[39m]]\u001b[38;5;241m=\u001b[39m{  \n\u001b[1;32m     74\u001b[0m         \u001b[38;5;124m'\u001b[39m\u001b[38;5;124mstar\u001b[39m\u001b[38;5;124m'\u001b[39m:{\n\u001b[1;32m     75\u001b[0m             \u001b[38;5;124m'\u001b[39m\u001b[38;5;124mRstar\u001b[39m\u001b[38;5;124m'\u001b[39m:input_nbook[\u001b[38;5;124m'\u001b[39m\u001b[38;5;124mpar\u001b[39m\u001b[38;5;124m'\u001b[39m][\u001b[38;5;124m'\u001b[39m\u001b[38;5;124mRs\u001b[39m\u001b[38;5;124m'\u001b[39m],\n\u001b[1;32m     76\u001b[0m             \u001b[38;5;124m'\u001b[39m\u001b[38;5;124mveq\u001b[39m\u001b[38;5;124m'\u001b[39m:vsini,\n\u001b[1;32m     77\u001b[0m             \u001b[38;5;124m'\u001b[39m\u001b[38;5;124mistar\u001b[39m\u001b[38;5;124m'\u001b[39m:istar, \n\u001b[0;32m---> 78\u001b[0m             \u001b[38;5;124m'\u001b[39m\u001b[38;5;124msysvel\u001b[39m\u001b[38;5;124m'\u001b[39m:\u001b[43minput_nbook\u001b[49m\u001b[43m[\u001b[49m\u001b[38;5;124;43m'\u001b[39;49m\u001b[38;5;124;43mpar\u001b[39;49m\u001b[38;5;124;43m'\u001b[39;49m\u001b[43m]\u001b[49m\u001b[43m[\u001b[49m\u001b[38;5;124;43m'\u001b[39;49m\u001b[38;5;124;43msysvel\u001b[39;49m\u001b[38;5;124;43m'\u001b[39;49m\u001b[43m]\u001b[49m,\n\u001b[1;32m     79\u001b[0m             }}\n\u001b[1;32m     80\u001b[0m input_nbook[\u001b[38;5;124m'\u001b[39m\u001b[38;5;124msettings\u001b[39m\u001b[38;5;124m'\u001b[39m][\u001b[38;5;124m'\u001b[39m\u001b[38;5;124mdata_dic\u001b[39m\u001b[38;5;124m'\u001b[39m][\u001b[38;5;124m'\u001b[39m\u001b[38;5;124mDI\u001b[39m\u001b[38;5;124m'\u001b[39m][\u001b[38;5;124m'\u001b[39m\u001b[38;5;124msystem_prop\u001b[39m\u001b[38;5;124m'\u001b[39m]\u001b[38;5;241m=\u001b[39m{\u001b[38;5;124m'\u001b[39m\u001b[38;5;124machrom\u001b[39m\u001b[38;5;124m'\u001b[39m:{\u001b[38;5;124m'\u001b[39m\u001b[38;5;124mLD\u001b[39m\u001b[38;5;124m'\u001b[39m:[\u001b[38;5;124m'\u001b[39m\u001b[38;5;124mquadratic\u001b[39m\u001b[38;5;124m'\u001b[39m],\u001b[38;5;124m'\u001b[39m\u001b[38;5;124mLD_u1\u001b[39m\u001b[38;5;124m'\u001b[39m : [input_nbook[\u001b[38;5;124m'\u001b[39m\u001b[38;5;124mpar\u001b[39m\u001b[38;5;124m'\u001b[39m][\u001b[38;5;124m'\u001b[39m\u001b[38;5;124mld_u1\u001b[39m\u001b[38;5;124m'\u001b[39m]],\u001b[38;5;124m'\u001b[39m\u001b[38;5;124mLD_u2\u001b[39m\u001b[38;5;124m'\u001b[39m : [input_nbook[\u001b[38;5;124m'\u001b[39m\u001b[38;5;124mpar\u001b[39m\u001b[38;5;124m'\u001b[39m][\u001b[38;5;124m'\u001b[39m\u001b[38;5;124mld_u2\u001b[39m\u001b[38;5;124m'\u001b[39m]]}}\n\u001b[1;32m     81\u001b[0m \u001b[38;5;28;01mreturn\u001b[39;00m \u001b[38;5;28;01mNone\u001b[39;00m\n",
      "\u001b[0;31mKeyError\u001b[0m: 'sysvel'"
     ]
    }
   ],
   "source": [
    "input_nbook['par'].update({\n",
    "    'star_name' : 'Arda',\n",
    "    'Rs'        : 0.9,\n",
    "    'vsini'     : 15.,\n",
    "    'sysvel'    : 10.,\n",
    "    'ld_u1'     : 0.2,\n",
    "    'ld_u2'     : 0.5\n",
    "})\n",
    "ANTARESS_nbook_bground.init_star(input_nbook)"
   ]
  },
  {
   "cell_type": "markdown",
   "id": "0a8cfca7-b3d8-4370-863b-517f3269fc18",
   "metadata": {},
   "source": [
    "**Parameters of transiting planet**\n",
    "\n",
    "Run this cell to set the transiting planet. \n",
    "- `planet_name` (string): Name of the transiting planet. Should not contain spaces/dashes.\n",
    "- `period` (float): Orbital period, in days.\n",
    "- `T0` (float): Mid-transit time, in ${\\rm BJD}_{\\rm TBD}$.\n",
    "- `ecc` (float): Orbital eccentricity.\n",
    "- `long_per` (float): Longitude of periastron, in degrees. If the orbit is circular, fill in `90.`.\n",
    "- `Kstar` (float): RV semi-amplitude, in m/s.\n",
    "- `aRs` (float): Scaled separation $a/R_\\star$.\n",
    "- `incl` (float): Orbital inclination, in degrees.\n",
    "- `lambda` (float): Sky-projected spin-orbit angle, in degrees.\n",
    "- `RpRs` (float): Planet-to-star radius ratio $R_{\\rm p}/R_\\star$."
   ]
  },
  {
   "cell_type": "code",
   "execution_count": null,
   "id": "f23c405a-75c0-4172-aeb9-e8d0e4433710",
   "metadata": {},
   "outputs": [],
   "source": [
    "input_nbook['par'].update({\n",
    "    'planet_name' : 'Valinor',\n",
    "    'period'      : 3.8,\n",
    "    'T0'          : 2457176.1,\n",
    "    'ecc'         : 0.,\n",
    "    'long_per'    : 90.,\n",
    "    'Kstar'       : 38.1,\n",
    "    'aRs'         : 12.0,\n",
    "    'incl'        : 89.,\n",
    "    'lambda'      : 50.,\n",
    "    'RpRs'        : 0.25\n",
    "})\n",
    "ANTARESS_nbook_bground.init_pl(input_nbook,'main')"
   ]
  },
  {
   "cell_type": "markdown",
   "id": "a56ff9fe-3bca-4117-8c7d-d85285b81c17",
   "metadata": {},
   "source": [
    "**Parameters of additional planets in the system**\n",
    "\n",
    "Run this cell to set additional planets, which will only contribute to the computation of the star Keplerian motion. \n",
    "\n",
    "The names and definitions of the parameters are the same as for the main planet (`aRs`, `incl`, `lambda`, `RpRs` are not required).\n",
    "\n",
    "Copy the cell to add further planets"
   ]
  },
  {
   "cell_type": "code",
   "execution_count": null,
   "id": "e24e5dc3-7f39-4705-8061-e225ecf9a975",
   "metadata": {},
   "outputs": [],
   "source": [
    "input_nbook['par'].update({\n",
    "    'planet_name' : 'Numenor',\n",
    "    'period'      : 8.,\n",
    "    'T0'          : 2457176.2,\n",
    "    'ecc'         : 0.,\n",
    "    'long_per'    : 90.,\n",
    "    'Kstar'       : 20.\n",
    "})\n",
    "ANTARESS_nbook_bground.init_pl(input_nbook,'sec')"
   ]
  },
  {
   "cell_type": "markdown",
   "id": "72dc3976-1a27-4073-8047-85eb10d19b2b",
   "metadata": {},
   "source": [
    "# Initialization"
   ]
  },
  {
   "cell_type": "markdown",
   "id": "079b6e32-0fa6-4860-8d7b-5f7a57f2eaad",
   "metadata": {},
   "source": [
    "Run this cell to create the system directory."
   ]
  },
  {
   "cell_type": "code",
   "execution_count": null,
   "id": "f5acf5dd-aacf-4193-87d2-8a568583bc4e",
   "metadata": {},
   "outputs": [],
   "source": [
    "ANTARESS_nbook_bground.save_system(input_nbook)"
   ]
  }
 ],
 "metadata": {
  "kernelspec": {
   "display_name": "Python 3 (ipykernel)",
   "language": "python",
   "name": "python3"
  },
  "language_info": {
   "codemirror_mode": {
    "name": "ipython",
    "version": 3
   },
   "file_extension": ".py",
   "mimetype": "text/x-python",
   "name": "python",
   "nbconvert_exporter": "python",
   "pygments_lexer": "ipython3",
   "version": "3.11.3"
  }
 },
 "nbformat": 4,
 "nbformat_minor": 5
}
