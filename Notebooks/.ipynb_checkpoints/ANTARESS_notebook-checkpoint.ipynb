{
 "cells": [
  {
   "cell_type": "markdown",
   "id": "3e0aad91-71e8-4304-a1ed-4f95c988eafd",
   "metadata": {
    "tags": []
   },
   "source": [
    "# Introduction"
   ]
  },
  {
   "cell_type": "markdown",
   "id": "abdb3678",
   "metadata": {},
   "source": [
    "This notebook allows you to run a simplified version of the ANTARESS workflow, for the following purpose:\n",
    "- extracting from one or several CCF datasets the stellar lines occulted by a transiting planet\n",
    "- performing a Rossiter-McLaughlin Revolutions analysis of the joint datasets\n",
    "\n",
    "To use the workflow to its full capabilities, set up the configuration file `ANTARESS_settings.py` and run `ANTARESS_launcher()` "
   ]
  },
  {
   "cell_type": "code",
   "execution_count": 1,
   "id": "5cfb9186-8e9e-42f1-8e01-4aa45c26bbdb",
   "metadata": {
    "tags": []
   },
   "outputs": [],
   "source": [
    "import ANTARESS_nbook_bground\n",
    "input_nbook = ANTARESS_nbook_bground.init()"
   ]
  },
  {
   "cell_type": "markdown",
   "id": "1dc89737-0699-4101-aed5-dff0d6035318",
   "metadata": {
    "tags": []
   },
   "source": [
    "# System parameters"
   ]
  },
  {
   "cell_type": "markdown",
   "id": "e334f1d4-b3d6-47ae-977a-62d1d66ee15b",
   "metadata": {},
   "source": [
    "**Parameters of the host star**\n",
    "\n",
    "Run this cell to define the host star. \n",
    "- `star_name` (string): Name of the star. Should not contain spaces/dashes.\n",
    "- `Rs` (float): Radius of the star, in $R_\\odot$.\n",
    "- `vsini` (float): Projected stellar surface velocity, in km/s.\n",
    "- `ld_u1` (float): First coefficient of the quadratic limb-darkening.\n",
    "- `ld_u2` (float): Second coefficient of the quadratic limb-darkening."
   ]
  },
  {
   "cell_type": "code",
   "execution_count": 2,
   "id": "e5f4ea57",
   "metadata": {},
   "outputs": [],
   "source": [
    "input_nbook['par'].update({\n",
    "    'star_name' : 'WASP69',\n",
    "    'Rs'        : 0.813,\n",
    "    'vsini'     : 0.33,\n",
    "    'ld_u1'     : 0.22,\n",
    "    'ld_u2'     : 0.45\n",
    "})\n",
    "ANTARESS_nbook_bground.init_star(input_nbook)"
   ]
  },
  {
   "cell_type": "markdown",
   "id": "1ccee5d3",
   "metadata": {},
   "source": [
    "**Parameters of transiting planet**\n",
    "\n",
    "Run this cell to set the transiting planet on which the RM analysis is applied. \n",
    "- `planet_name` (string): Name of the transiting planet. Should not contain spaces/dashes.\n",
    "- `period` (float): Orbital period, in days.\n",
    "- `T0` (float): Mid-transit time, in ${\\rm BJD}_{\\rm TBD}$.\n",
    "- `ecc` (float): Orbital eccentricity.\n",
    "- `long_per` (float): Longitude of periastron, in degrees. If the orbit is circular, fill in `90.`.\n",
    "- `Kstar` (float): RV semi-amplitude, in m/s.\n",
    "- `aRs` (float): Scaled separation $a/R_\\star$.\n",
    "- `incl` (float): Orbital inclination, in degrees.\n",
    "- `RpRs` (float): Planet-to-star radius ratio $R_{\\rm p}/R_\\star$."
   ]
  },
  {
   "cell_type": "code",
   "execution_count": 3,
   "id": "27d0509f",
   "metadata": {},
   "outputs": [],
   "source": [
    "input_nbook['par'].update({\n",
    "    'planet_name' : 'WASP69b',\n",
    "    'period'      : 3.8681390,\n",
    "    'T0'          : 2457176.17789,\n",
    "    'ecc'         : 0.,\n",
    "    'long_per'    : 90.,\n",
    "    'Kstar'       : 38.1,\n",
    "    'aRs'         : 12.00,\n",
    "    'incl'        : 86.71,\n",
    "    'RpRs'        : 0.13362\n",
    "})\n",
    "ANTARESS_nbook_bground.init_pl(input_nbook,'main')"
   ]
  },
  {
   "cell_type": "markdown",
   "id": "5a5b1bd3",
   "metadata": {},
   "source": [
    "**Parameters of additional planets in the system**\n",
    "\n",
    "Run this cell to set additional planets, which will only contribute to the computation of the star Keplerian motion. \n",
    "\n",
    "The names and definitions of the parameters are the same as for the main planet (`aRs`, `incl`, `RpRs` are not required).\n",
    "\n",
    "Copy the cell to add further planets"
   ]
  },
  {
   "cell_type": "code",
   "execution_count": 4,
   "id": "9f1a8f88",
   "metadata": {},
   "outputs": [],
   "source": [
    "input_nbook['par'].update({\n",
    "    'planet_name' : 'WASP69c',\n",
    "    'period'      : 3.8681390*2,\n",
    "    'T0'          : 2457176.17789,\n",
    "    'ecc'         : 0.,\n",
    "    'long_per'    : 90.,\n",
    "    'Kstar'       : 38.1\n",
    "})\n",
    "ANTARESS_nbook_bground.init_pl(input_nbook,'sec')"
   ]
  },
  {
   "cell_type": "markdown",
   "id": "660e4a49",
   "metadata": {
    "tags": []
   },
   "source": [
    "# Functional settings"
   ]
  },
  {
   "cell_type": "markdown",
   "id": "8dca5055",
   "metadata": {},
   "source": [
    "**Observed visits**\n",
    "\n",
    "Run this cell to add a visit. It must overlap with the transit of the `transiting planet`.\n",
    "- `instrument` (string): Instrument of the visit (e.g. `ESPRESSO`, `NIRPS_HE`...).\n",
    "- `night` (string): Night of the visit. It is preferred to use the standard format, i.e. `'YYYYMMDD'`.\n",
    "- `data_dir` (string): Path to the directory where you stored the exposure of the visit.\n",
    "\n",
    "Copy the cell to add further visits (they can be observed with different instruments)."
   ]
  },
  {
   "cell_type": "code",
   "execution_count": 5,
   "id": "4a3c99d7",
   "metadata": {},
   "outputs": [],
   "source": [
    "input_nbook['par'].update({\n",
    "    'instrument'  : 'NIRPS_HE',\n",
    "    'night'       : '20230624',\n",
    "    'data_dir'    : '/Users/bourrier/Travaux/Exoplanet_systems/WASP/WASP69b/ESPRESSOdrs_LBLmask/WASP-69_ccf_alltransits/20230624/'\n",
    "})\n",
    "ANTARESS_nbook_bground.add_vis(input_nbook)"
   ]
  },
  {
   "cell_type": "markdown",
   "id": "cb81caec",
   "metadata": {
    "tags": []
   },
   "source": [
    "**Systemic velocity**\n",
    "\n",
    "Run this cell to set the systemic velocity for a visit.\n",
    "- `instrument_sysvel` (string): Instrument of the visit.\n",
    "- `night_sysvel` (string): Night of the visit.\n",
    "- `sysvel` (float): Systemic velocity, in km/s.\n",
    "\n",
    "Run ANTARESS a first time with `sysvel` = 0 km/s to determine the value specific to the visit (`sysvel` should not be set to an external value). Then run ANTARESS again after setting the derived value here.\n",
    "\n",
    "Copy the cell to set `sysvel` for other visits."
   ]
  },
  {
   "cell_type": "code",
   "execution_count": 6,
   "id": "69ab63d8",
   "metadata": {},
   "outputs": [],
   "source": [
    "input_nbook['par'].update({\n",
    "    'instrument'  : 'NIRPS_HE',\n",
    "    'night'       : '20230624',\n",
    "    'sysvel'      : 0.\n",
    "})\n",
    "ANTARESS_nbook_bground.set_sysvel(input_nbook)"
   ]
  },
  {
   "cell_type": "markdown",
   "id": "358e1bd6",
   "metadata": {},
   "source": [
    "# Running ANTARESS"
   ]
  },
  {
   "cell_type": "markdown",
   "id": "5f9fdb71",
   "metadata": {},
   "source": [
    "Run this cell to run the ANTARESS workflow."
   ]
  },
  {
   "cell_type": "code",
   "execution_count": 7,
   "id": "60c14bb1-9e0a-4f17-8f62-6fe7b986e397",
   "metadata": {
    "tags": []
   },
   "outputs": [
    {
     "name": "stdout",
     "output_type": "stream",
     "text": [
      "/Users/bourrier/Travaux/ANTARESS/Method\n"
     ]
    },
    {
     "name": "stderr",
     "output_type": "stream",
     "text": [
      "/Users/bourrier/opt/anaconda3/lib/python3.8/site-packages/pyfits/__init__.py:21: PyFITSDeprecationWarning: PyFITS is deprecated, please use astropy.io.fits\n",
      "  warnings.warn('PyFITS is deprecated, please use astropy.io.fits',\n"
     ]
    },
    {
     "name": "stdout",
     "output_type": "stream",
     "text": [
      "****************************************\n",
      "Launching ANTARESS\n",
      "****************************************\n",
      "\n",
      "Multi-threading: 8 threads available\n",
      "Running with observational data\n",
      "Accounting for Keplerian motion from all planets\n",
      "Automatic definition of T14[WASP69b]=2.22 h\n",
      "Default nsub_Dpl[WASP69b]=66\n",
      "\n",
      "--------------------------------\n",
      "Processing instrument : NIRPS_HE\n",
      "--------------------------------\n",
      "  Reading and initializing CCFs\n",
      "   > Errors propagated from raw data\n",
      "   > Data resampled on a common spectral table\n",
      "         Calculating data\n",
      "         Initializing visit 20230624\n",
      "           Date : 2023 / 06 / 23\n",
      "           No CCF screening required\n",
      "         All visits share a common spectral table\n",
      "           All exposures in 20230624 share a common spectral table\n",
      "   > 23 exposures\n",
      "  -----------------\n",
      "  Processing visit: 20230624\n",
      "   > 23 exposures\n",
      "         14 in-transit\n",
      "         9 out-of-transit (5 pre / 4 post)\n",
      "   > Calculating properties of planet-occulted regions\n",
      "         Calculating data\n",
      "   > Calculating master stellar spectrum\n",
      "         Calculating data\n",
      "\n",
      "-----------------------------------\n",
      "Plots\n",
      "-----------------------------------\n"
     ]
    },
    {
     "ename": "NameError",
     "evalue": "name 'def_contacts' is not defined",
     "output_type": "error",
     "traceback": [
      "\u001b[0;31m---------------------------------------------------------------------------\u001b[0m",
      "\u001b[0;31mNameError\u001b[0m                                 Traceback (most recent call last)",
      "Cell \u001b[0;32mIn[7], line 3\u001b[0m\n\u001b[1;32m      1\u001b[0m get_ipython()\u001b[38;5;241m.\u001b[39mrun_line_magic(\u001b[38;5;124m'\u001b[39m\u001b[38;5;124mcd\u001b[39m\u001b[38;5;124m'\u001b[39m, \u001b[38;5;124m'\u001b[39m\u001b[38;5;124m..\u001b[39m\u001b[38;5;124m'\u001b[39m)\n\u001b[1;32m      2\u001b[0m \u001b[38;5;28;01mfrom\u001b[39;00m \u001b[38;5;21;01mANTARESS_launcher\u001b[39;00m \u001b[38;5;28;01mimport\u001b[39;00m ANTARESS_launcher\n\u001b[0;32m----> 3\u001b[0m \u001b[43mANTARESS_launcher\u001b[49m\u001b[43m(\u001b[49m\u001b[43minput_settings\u001b[49m\u001b[38;5;241;43m=\u001b[39;49m\u001b[43minput_settings\u001b[49m\u001b[43m,\u001b[49m\u001b[43minput_system\u001b[49m\u001b[38;5;241;43m=\u001b[39;49m\u001b[43minput_system\u001b[49m\u001b[43m)\u001b[49m\n",
      "File \u001b[0;32m~/Travaux/ANTARESS/Method/ANTARESS_launcher.py:68\u001b[0m, in \u001b[0;36mANTARESS_launcher\u001b[0;34m(input_settings, input_system, user)\u001b[0m\n\u001b[1;32m     66\u001b[0m \u001b[38;5;66;03m#Run over nominal settings properties\u001b[39;00m\n\u001b[1;32m     67\u001b[0m \u001b[38;5;28;01mif\u001b[39;00m \u001b[38;5;28mlen\u001b[39m(gen_dic[\u001b[38;5;124m'\u001b[39m\u001b[38;5;124mgrid_run\u001b[39m\u001b[38;5;124m'\u001b[39m])\u001b[38;5;241m==\u001b[39m\u001b[38;5;241m0\u001b[39m:\n\u001b[0;32m---> 68\u001b[0m     \u001b[43mANTARESS_main\u001b[49m\u001b[43m(\u001b[49m\u001b[43mdata_dic\u001b[49m\u001b[43m,\u001b[49m\u001b[43mmock_dic\u001b[49m\u001b[43m,\u001b[49m\u001b[43mgen_dic\u001b[49m\u001b[43m,\u001b[49m\u001b[43mtheo_dic\u001b[49m\u001b[43m,\u001b[49m\u001b[43mplot_dic\u001b[49m\u001b[43m,\u001b[49m\u001b[43mglob_fit_dic\u001b[49m\u001b[43m,\u001b[49m\u001b[43mdetrend_prof_dic\u001b[49m\u001b[43m,\u001b[49m\u001b[43m \u001b[49m\u001b[43mcorr_spot_dic\u001b[49m\u001b[43m,\u001b[49m\u001b[43mall_system_params\u001b[49m\u001b[43m[\u001b[49m\u001b[43mgen_dic\u001b[49m\u001b[43m[\u001b[49m\u001b[38;5;124;43m'\u001b[39;49m\u001b[38;5;124;43mstar_name\u001b[39;49m\u001b[38;5;124;43m'\u001b[39;49m\u001b[43m]\u001b[49m\u001b[43m]\u001b[49m\u001b[43m)\u001b[49m\n\u001b[1;32m     70\u001b[0m \u001b[38;5;66;03m#Run over a grid of properties\u001b[39;00m\n\u001b[1;32m     71\u001b[0m \u001b[38;5;28;01melse\u001b[39;00m:\n\u001b[1;32m     72\u001b[0m     \n\u001b[1;32m     73\u001b[0m     \u001b[38;5;66;03m#Run the pipeline over individual spectral order\u001b[39;00m\n\u001b[1;32m     74\u001b[0m     inst \u001b[38;5;241m=\u001b[39m \u001b[38;5;28mlist\u001b[39m(gen_dic[\u001b[38;5;124m'\u001b[39m\u001b[38;5;124mgrid_run\u001b[39m\u001b[38;5;124m'\u001b[39m]\u001b[38;5;241m.\u001b[39mkeys())[\u001b[38;5;241m0\u001b[39m]\n",
      "File \u001b[0;32m~/Travaux/ANTARESS/Method/ANTARESS_main.py:233\u001b[0m, in \u001b[0;36mANTARESS_main\u001b[0;34m(data_dic, mock_dic, gen_dic, theo_dic, plot_dic, glob_fit_dic, detrend_prof_dic, corr_spot_dic, system_param)\u001b[0m\n\u001b[1;32m    229\u001b[0m \u001b[38;5;66;03m##############################################################################\u001b[39;00m\n\u001b[1;32m    230\u001b[0m \u001b[38;5;66;03m#Call to plot functions\u001b[39;00m\n\u001b[1;32m    231\u001b[0m \u001b[38;5;66;03m##############################################################################\u001b[39;00m\n\u001b[1;32m    232\u001b[0m \u001b[38;5;28;01mif\u001b[39;00m gen_dic[\u001b[38;5;124m'\u001b[39m\u001b[38;5;124mplots_on\u001b[39m\u001b[38;5;124m'\u001b[39m]:\n\u001b[0;32m--> 233\u001b[0m     \u001b[43mANTARESS_plot_functions\u001b[49m\u001b[43m(\u001b[49m\u001b[43msystem_param\u001b[49m\u001b[43m,\u001b[49m\u001b[43mplot_dic\u001b[49m\u001b[43m,\u001b[49m\u001b[43mdata_dic\u001b[49m\u001b[43m,\u001b[49m\u001b[43mgen_dic\u001b[49m\u001b[43m,\u001b[49m\u001b[43mcoord_dic\u001b[49m\u001b[43m,\u001b[49m\u001b[43mtheo_dic\u001b[49m\u001b[43m,\u001b[49m\u001b[43mdata_prop\u001b[49m\u001b[43m,\u001b[49m\u001b[43mglob_fit_dic\u001b[49m\u001b[43m)\u001b[49m\n\u001b[1;32m    235\u001b[0m \u001b[38;5;28;01mreturn\u001b[39;00m \u001b[38;5;28;01mNone\u001b[39;00m\n",
      "File \u001b[0;32m~/Travaux/ANTARESS/Method/ANTARESS_plots.py:71\u001b[0m, in \u001b[0;36mANTARESS_plot_functions\u001b[0;34m(system_param, plot_dic, data_dic, gen_dic, coord_dic, theo_dic, data_prop, glob_fit_dic)\u001b[0m\n\u001b[1;32m     69\u001b[0m contact_phases\u001b[38;5;241m=\u001b[39m{}\n\u001b[1;32m     70\u001b[0m \u001b[38;5;28;01mfor\u001b[39;00m pl_loc \u001b[38;5;129;01min\u001b[39;00m gen_dic[\u001b[38;5;124m'\u001b[39m\u001b[38;5;124mstudied_pl\u001b[39m\u001b[38;5;124m'\u001b[39m]:\n\u001b[0;32m---> 71\u001b[0m     contact_phases[pl_loc]\u001b[38;5;241m=\u001b[39m\u001b[43mdef_contacts\u001b[49m(data_dic[\u001b[38;5;124m'\u001b[39m\u001b[38;5;124mDI\u001b[39m\u001b[38;5;124m'\u001b[39m][\u001b[38;5;124m'\u001b[39m\u001b[38;5;124msystem_prop\u001b[39m\u001b[38;5;124m'\u001b[39m][\u001b[38;5;124m'\u001b[39m\u001b[38;5;124machrom\u001b[39m\u001b[38;5;124m'\u001b[39m][pl_loc][\u001b[38;5;241m0\u001b[39m],system_param[pl_loc],plot_dic[\u001b[38;5;124m'\u001b[39m\u001b[38;5;124mstend_ph\u001b[39m\u001b[38;5;124m'\u001b[39m],system_param[\u001b[38;5;124m'\u001b[39m\u001b[38;5;124mstar\u001b[39m\u001b[38;5;124m'\u001b[39m])\n\u001b[1;32m     72\u001b[0m     T14_pl \u001b[38;5;241m=\u001b[39m (contact_phases[pl_loc][\u001b[38;5;241m3\u001b[39m]\u001b[38;5;241m-\u001b[39mcontact_phases[pl_loc][\u001b[38;5;241m0\u001b[39m])\u001b[38;5;241m*\u001b[39msystem_param[pl_loc][\u001b[38;5;124m'\u001b[39m\u001b[38;5;124mperiod\u001b[39m\u001b[38;5;124m'\u001b[39m]\n\u001b[1;32m     73\u001b[0m     \u001b[38;5;28mprint\u001b[39m(\u001b[38;5;124m'\u001b[39m\u001b[38;5;124mNumerical T14[\u001b[39m\u001b[38;5;124m'\u001b[39m\u001b[38;5;241m+\u001b[39m\u001b[38;5;28mstr\u001b[39m(pl_loc)\u001b[38;5;241m+\u001b[39m\u001b[38;5;124m'\u001b[39m\u001b[38;5;124m]=\u001b[39m\u001b[38;5;124m'\u001b[39m\u001b[38;5;241m+\u001b[39m\u001b[38;5;124m\"\u001b[39m\u001b[38;5;132;01m{0:.6f}\u001b[39;00m\u001b[38;5;124m\"\u001b[39m\u001b[38;5;241m.\u001b[39mformat(T14_pl\u001b[38;5;241m*\u001b[39m\u001b[38;5;241m24.\u001b[39m)\u001b[38;5;241m+\u001b[39m\u001b[38;5;124m'\u001b[39m\u001b[38;5;124m h\u001b[39m\u001b[38;5;124m'\u001b[39m)                  \n",
      "\u001b[0;31mNameError\u001b[0m: name 'def_contacts' is not defined"
     ]
    }
   ],
   "source": [
    "%cd .. \n",
    "from ANTARESS_launcher import ANTARESS_launcher\n",
    "ANTARESS_launcher(input_nbook['settings']=input_nbook['settings'],input_system=input_system)"
   ]
  },
  {
   "cell_type": "markdown",
   "id": "8fe20ca0-b976-4507-8303-e0aa703f685c",
   "metadata": {},
   "source": [
    "# Functional settings"
   ]
  },
  {
   "cell_type": "markdown",
   "id": "6bd137d1",
   "metadata": {},
   "source": [
    "**Fiber B correction [OPTIONAL]**\n",
    "\n",
    "Run this cell to enable fiber B correction for a visit (disabled by default).\n",
    "- `instrument_fibB` (string): Instrument of the visit.\n",
    "- `night_fibB` (string): Night of the visit.\n",
    "\n",
    "Fiber B correction can be reset to default (disabled) for a visit using `ANTARESS.disable_fibB(instrument, night)`, or all of them using `ANTARESS.disable_fibB('all')`."
   ]
  },
  {
   "cell_type": "code",
   "execution_count": null,
   "id": "94833030",
   "metadata": {},
   "outputs": [],
   "source": [
    "instrument_fibB = 'ESPRESSO'\n",
    "night_fibB      = '20220328'\n",
    "\n",
    "ANTARESS.enable_fibB(instrument_fibB, night_fibB)"
   ]
  },
  {
   "cell_type": "markdown",
   "id": "bb7c1df5",
   "metadata": {},
   "source": [
    "**Used exposures [OPTIONAL]**\n",
    "\n",
    "Run this cell to define the used exposures in a visit (all exposures by default).\n",
    "- `instrument_exp` (string): Instrument of the visit.\n",
    "- `night_exp` (string): Night of the visit.\n",
    "- `used_exp` (list of integers): List of the used exposures (0-indexed). Fill in `'all'` to reset to default (use all exposures)."
   ]
  },
  {
   "cell_type": "code",
   "execution_count": null,
   "id": "6a12a17a",
   "metadata": {},
   "outputs": [],
   "source": [
    "instrument_exp = 'ESPRESSO'\n",
    "night_exp      = '20220328'\n",
    "used_exp       = 'all'\n",
    "\n",
    "ANTARESS.set_exposures(instrument_exp, night_exp, used_exp)"
   ]
  },
  {
   "cell_type": "markdown",
   "id": "d53a8c7a",
   "metadata": {},
   "source": [
    "**Fit parameters**\n",
    "\n",
    "Run this cell to set the fit parameters.\n",
    "- `which` (string): Name of the concerned fit. Possible options are: \n",
    "    - `ccf_intr`: fitting the individual intrinsic CCFs. \n",
    "    - `loc_prop`: fitting the stellar local properties based on the individual fits to the intrinsic CCFs (i.e. the Reloaded Rossiter-McLaughlin technique).\n",
    "    - `intr_prof`: fitting the stellar intrinsic profile and local properties based on a joint fit to the intrinsic CCFs (i.e. the Rossiter-McLaughlin Revolutions technique).\n",
    "- `mode` (string): Fit mode. Possible options are:\n",
    "    - `lsq`: least-squares minimization (faster).\n",
    "    - `mcmc`: MCMC simulation (slower, more accurate).\n",
    "- `mcmc_mode` (string): MCMC mode. Used only if `mode = mcmc`. Possible options are:\n",
    "    - `run`: Run the MCMC from scratch.\n",
    "    - `load`: Load the results of an existing MCMC."
   ]
  },
  {
   "cell_type": "code",
   "execution_count": null,
   "id": "2ae4257b",
   "metadata": {},
   "outputs": [],
   "source": [
    "which     = 'ccf_intr'\n",
    "mode      = 'lsq'\n",
    "\n",
    "ANTARESS.set_fit_param(which, mode)\n",
    "\n",
    "which     = 'loc_prop'\n",
    "mode      = 'mcmc'\n",
    "mcmc_mode = 'load'\n",
    "\n",
    "ANTARESS.set_fit_param(which, mode, mcmc_mode)\n",
    "\n",
    "which     = 'intr_prof'\n",
    "mode      = 'mcmc'\n",
    "mcmc_mode = 'run'\n",
    "\n",
    "ANTARESS.set_fit_param(which, mode, mcmc_mode)"
   ]
  },
  {
   "cell_type": "markdown",
   "id": "97248385",
   "metadata": {},
   "source": [
    "**Exposures used in fits [OPTIONAL]**\n",
    "\n",
    "Run this cell to define the used in-transit exposures in a visit for a fit (all in-transit exposures by default).\n",
    "- `which` (string): Name of the concerned fit. Possible options are: \n",
    "    - `loc_prop`: fitting the stellar local properties based on the individual fits to the intrinsic CCFs \n",
    "    - `intr_prof`: fitting the stellar intrinsic profile and local properties based on a joint fit to the intrinsic CCFs.\n",
    "- `instrument_exp_fit` (string): Instrument of the visit.\n",
    "- `night_exp_fit` (string): Night of the visit.\n",
    "- `used_exp_fit` (list of integers): List of the used in-transit exposures (0-indexed, 0 being the first in-transit exposure). Fill in `'all'` to reset to default (use all in-transit exposures)."
   ]
  },
  {
   "cell_type": "code",
   "execution_count": null,
   "id": "e926b757",
   "metadata": {},
   "outputs": [],
   "source": [
    "which              = 'loc_prop'\n",
    "instrument_exp_fit = 'ESPRESSO'\n",
    "night_exp_fit      = '20220328'\n",
    "used_exp_fit       = list(range(1, 10))\n",
    "\n",
    "ANTARESS.set_fit_exposures(which, instrument_exp_fit, night_exp_fit, used_exp_fit)"
   ]
  },
  {
   "cell_type": "markdown",
   "id": "4ce37ec3",
   "metadata": {},
   "source": [
    "**Functional switches**\n",
    "\n",
    "Run this cell to set the ANTARESS modules to be run. Refer to the flowchart for possible combinations.\n",
    "- `fit_ccf_di` (bool): Fits the disk-integrated CCFs.           \n",
    "- `align_ccf_di` (bool): Aligns the disk-integrated CCFs on the systemic velocity.         \n",
    "- `generate_master_ccf_di` (bool): Generates a master disk-integrated CCF.\n",
    "- `fit_master_ccf_di` (bool): Fits the master disk-integrated CCF.    \n",
    "- `generate_ccf_intr` (bool): Generates the intrinsic CCFs.    \n",
    "- `fit_ccf_intr` (bool): Fits the intrinsic CCFs.         \n",
    "- `fit_loc_prop` (bool): Fits the stellar local properties based on the individual fits to the intrinsic CCFs (i.e. the Reloaded Rossiter-McLaughlin technique).         \n",
    "- `fit_intr_prof` (bool): Fits the stellar intrinsic profile and local properties based on a joint fit to the intrinsic CCFs (i.e. the Rossiter-McLaughlin Revolutions technique).        "
   ]
  },
  {
   "cell_type": "code",
   "execution_count": null,
   "id": "e369c8d4",
   "metadata": {},
   "outputs": [],
   "source": [
    "fit_ccf_di             = False\n",
    "align_ccf_di           = False\n",
    "generate_master_ccf_di = False\n",
    "fit_master_ccf_di      = False\n",
    "generate_ccf_intr      = False\n",
    "fit_ccf_intr           = False\n",
    "fit_loc_prop           = False\n",
    "fit_intr_prof          = False\n",
    "\n",
    "ANTARESS.set_modules(fit_ccf_di, align_ccf_di, generate_master_ccf_di, fit_master_ccf_di, generate_ccf_intr,\n",
    "                     fit_ccf_intr, fit_loc_prop, fit_intr_prof)"
   ]
  },
  {
   "cell_type": "markdown",
   "id": "47531368",
   "metadata": {},
   "source": [
    "# Plot settings"
   ]
  }
 ],
 "metadata": {
  "kernelspec": {
   "display_name": "Python 3 (ipykernel)",
   "language": "python",
   "name": "python3"
  },
  "language_info": {
   "codemirror_mode": {
    "name": "ipython",
    "version": 3
   },
   "file_extension": ".py",
   "mimetype": "text/x-python",
   "name": "python",
   "nbconvert_exporter": "python",
   "pygments_lexer": "ipython3",
   "version": "3.8.16"
  },
  "toc": {
   "base_numbering": 1,
   "nav_menu": {},
   "number_sections": true,
   "sideBar": true,
   "skip_h1_title": false,
   "title_cell": "Table of Contents",
   "title_sidebar": "Contents",
   "toc_cell": false,
   "toc_position": {},
   "toc_section_display": true,
   "toc_window_display": true
  }
 },
 "nbformat": 4,
 "nbformat_minor": 5
}
