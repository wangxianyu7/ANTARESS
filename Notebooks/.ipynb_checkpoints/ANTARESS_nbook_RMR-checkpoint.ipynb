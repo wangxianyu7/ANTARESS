{
 "cells": [
  {
   "cell_type": "markdown",
   "id": "3e0aad91-71e8-4304-a1ed-4f95c988eafd",
   "metadata": {
    "tags": []
   },
   "source": [
    "# Introduction"
   ]
  },
  {
   "cell_type": "markdown",
   "id": "abdb3678",
   "metadata": {},
   "source": [
    "This notebook allows you to run a simplified version of the ANTARESS workflow, for the following purpose:\n",
    "- extracting from a CCF dataset the stellar lines occulted by a transiting planet\n",
    "- performing a Rossiter-McLaughlin Revolutions analysis of the dataset\n",
    "\n",
    "The default version of this notebook is set up to process a mock dataset generated with ANTARESS (see `ANTARESS_nbook_mock.ipynb`). To try it out, copy the directory `Valinor_Saved_data` from `Notebooks/Mock_system/` into the directory of your choice (named, for example, `Working_dir/`). Otherwise simply modify the settings to analyze a series of measured CCF fits files. Set `working_path` to the directory where you stored your copy of the `Valinor_Saved_data` directory, or where you would like your RMR analysis of an observed dataset to be stored.\n",
    "\n",
    "To exploit the workflow to its full capabilities, run its executable with the [configuration files](https://obswww.unige.ch/~bourriev/antaress/doc/html/installation.html)."
   ]
  },
  {
   "cell_type": "code",
   "execution_count": null,
   "id": "5cfb9186-8e9e-42f1-8e01-4aa45c26bbdb",
   "metadata": {
    "tags": []
   },
   "outputs": [],
   "source": [
    "import ANTARESS_nbook_bground\n",
    "input_nbook = ANTARESS_nbook_bground.init('RMR')\n",
    "input_nbook['working_path'] = '/Users/bourrier/Travaux/ANTARESS/Working_dir/'"
   ]
  },
  {
   "cell_type": "markdown",
   "id": "1dc89737-0699-4101-aed5-dff0d6035318",
   "metadata": {
    "tags": []
   },
   "source": [
    "# System parameters"
   ]
  },
  {
   "cell_type": "markdown",
   "id": "e334f1d4-b3d6-47ae-977a-62d1d66ee15b",
   "metadata": {},
   "source": [
    "**Parameters of the host star**\n",
    "\n",
    "Run this cell to define the host star. \n",
    "- `star_name` (string): Name of the star. Should not contain spaces/dashes.\n",
    "- `Rs` (float): Radius of the star, in $R_\\odot$.\n",
    "- `vsini` (float): Projected stellar surface velocity, in km/s. The value given here is only used as guess for the fits, as it will eventually be derived from your analysis.\n",
    "- `ld_u1` (float): First coefficient of the quadratic limb-darkening.\n",
    "- `ld_u2` (float): Second coefficient of the quadratic limb-darkening."
   ]
  },
  {
   "cell_type": "code",
   "execution_count": null,
   "id": "e5f4ea57",
   "metadata": {},
   "outputs": [],
   "source": [
    "input_nbook['par'].update({\n",
    "    'star_name' : 'Arda',\n",
    "    'Rs'        : 0.9,\n",
    "    'vsini'     : 3.,\n",
    "    'ld_u1'     : 0.2,\n",
    "    'ld_u2'     : 0.5\n",
    "})\n",
    "ANTARESS_nbook_bground.init_star(input_nbook)"
   ]
  },
  {
   "cell_type": "markdown",
   "id": "1ccee5d3",
   "metadata": {},
   "source": [
    "**Parameters of transiting planet**\n",
    "\n",
    "Run this cell to set the transiting planet on which the RM analysis is applied. \n",
    "- `planet_name` (string): Name of the transiting planet. Should not contain spaces/dashes.\n",
    "- `period` (float): Orbital period, in days.\n",
    "- `T0` (float): Mid-transit time, in ${\\rm BJD}_{\\rm TBD}$.\n",
    "- `ecc` (float): Orbital eccentricity.\n",
    "- `long_per` (float): Longitude of periastron, in degrees. If the orbit is circular, fill in `90.`.\n",
    "- `Kstar` (float): RV semi-amplitude, in m/s.\n",
    "- `aRs` (float): Scaled separation $a/R_\\star$.\n",
    "- `incl` (float): Orbital inclination, in degrees.\n",
    "- `RpRs` (float): Planet-to-star radius ratio $R_{\\rm p}/R_\\star$."
   ]
  },
  {
   "cell_type": "code",
   "execution_count": null,
   "id": "27d0509f",
   "metadata": {},
   "outputs": [],
   "source": [
    "input_nbook['par'].update({\n",
    "    'planet_name' : 'Valinor',\n",
    "    'period'      : 3.8,\n",
    "    'T0'          : 2457176.1,\n",
    "    'ecc'         : 0.,\n",
    "    'long_per'    : 90.,\n",
    "    'Kstar'       : 38.1,\n",
    "    'aRs'         : 12.0,\n",
    "    'incl'        : 89.,\n",
    "    'RpRs'        : 0.1\n",
    "})\n",
    "ANTARESS_nbook_bground.init_pl(input_nbook,'main')"
   ]
  },
  {
   "cell_type": "markdown",
   "id": "5a5b1bd3",
   "metadata": {},
   "source": [
    "**Parameters of additional planets in the system**\n",
    "\n",
    "Run this cell to set additional planets, which will only contribute to the computation of the star Keplerian motion. \n",
    "\n",
    "The names and definitions of the parameters are the same as for the main planet (`aRs`, `incl`, `RpRs` are not required).\n",
    "\n",
    "Copy the cell to add further planets"
   ]
  },
  {
   "cell_type": "code",
   "execution_count": null,
   "id": "9f1a8f88",
   "metadata": {},
   "outputs": [],
   "source": [
    "input_nbook['par'].update({\n",
    "    'planet_name' : 'Numenor',\n",
    "    'period'      : 8.,\n",
    "    'T0'          : 2457176.2,\n",
    "    'ecc'         : 0.,\n",
    "    'long_per'    : 90.,\n",
    "    'Kstar'       : 20.\n",
    "})\n",
    "ANTARESS_nbook_bground.init_pl(input_nbook,'sec')"
   ]
  },
  {
   "cell_type": "markdown",
   "id": "660e4a49",
   "metadata": {
    "tags": []
   },
   "source": [
    "# Dataset properties"
   ]
  },
  {
   "cell_type": "markdown",
   "id": "fa82d6c5-fef8-4654-b8b8-75bd1c3c0a67",
   "metadata": {
    "tags": []
   },
   "source": [
    "**Visit**\n",
    "\n",
    "Run this cell to define the visit to be processed. It must overlap with the transit of the `transiting planet`.\n",
    "- `instrument` (string): Instrument of the visit (e.g. `ESPRESSO`, `NIRPS_HE`...).\n",
    "- `night` (string): Night of the visit. It is preferred to use the standard format, i.e. `YYYYMMDD`.\n",
    "- `data_dir` (string): Path to the directory holding the observed .fits file (here, set to `mock` to retrieve the example dataset pre-generated with ANTARESS and stored in `Valinor_Saved_data/`)"
   ]
  },
  {
   "cell_type": "code",
   "execution_count": null,
   "id": "4a3c99d7",
   "metadata": {},
   "outputs": [],
   "source": [
    "input_nbook['par'].update({\n",
    "    'instrument'  : 'ESPRESSO',\n",
    "    'night'       : '20230624',\n",
    "    'data_dir'    : 'mock' \n",
    "})\n",
    "ANTARESS_nbook_bground.add_vis(input_nbook)"
   ]
  },
  {
   "cell_type": "markdown",
   "id": "cb81caec",
   "metadata": {
    "tags": []
   },
   "source": [
    "**Systemic velocity**\n",
    "\n",
    "Run this cell to set the systemic radial velocity `gamma` (float, in km/s).\n",
    "\n",
    "Run the notebook a first time with `gamma` = 0 km/s to determine the value specific to your chosen visit (`gamma` can vary slightly with the epoch and the instrument, and should thus be derived from the dataset itself rather than set to an external value). Go directly to the `Running ANTARESS` section and read the value of `gamma` printed in the log.\n",
    "\n",
    "Then, set `gamma` to the derived value and proceed with the analysis."
   ]
  },
  {
   "cell_type": "code",
   "execution_count": null,
   "id": "69ab63d8",
   "metadata": {},
   "outputs": [],
   "source": [
    "input_nbook['par']['gamma'] = 10.   \n",
    "ANTARESS_nbook_bground.set_sysvel(input_nbook)"
   ]
  },
  {
   "cell_type": "markdown",
   "id": "11d1baf3-05f8-414c-98f6-7797c7678749",
   "metadata": {
    "tags": []
   },
   "source": [
    "# Processing"
   ]
  },
  {
   "cell_type": "markdown",
   "id": "df6f3d3f-b8ce-4684-8b3e-c3b4cbb9b8d8",
   "metadata": {
    "tags": []
   },
   "source": [
    "**Alignment in star rest frame**\n",
    "\n",
    "Run this cell to align the disk-integrated CCFs in the star rest frame. \n",
    "\n",
    "CCFs are originally defined in the Sun barycentric rest frame. This module shifts them by the systemic rv you defined above, and by the Keplerian rv motion induced by the planets you set up for this system."
   ]
  },
  {
   "cell_type": "code",
   "execution_count": null,
   "id": "3ae5cf53-e5db-42e1-9d3e-712b64d1c01e",
   "metadata": {},
   "outputs": [],
   "source": [
    "ANTARESS_nbook_bground.align_prof(input_nbook)"
   ]
  },
  {
   "cell_type": "markdown",
   "id": "9b17dd3a-71aa-4ab6-9675-60ba19f63a7d",
   "metadata": {
    "tags": []
   },
   "source": [
    "**Flux scaling**\n",
    "\n",
    "Run this cell to scale the disk-integrated CCFs to their correct relative flux level over the transit. \n",
    "\n",
    "The scaling depends on the limb-darkening coefficients and planet-to-star radius ratio you entered in the `System parameters`."
   ]
  },
  {
   "cell_type": "code",
   "execution_count": null,
   "id": "7c3829b5-11d9-4ee1-9a3d-d9ab13c83c72",
   "metadata": {},
   "outputs": [],
   "source": [
    "ANTARESS_nbook_bground.flux_sc(input_nbook)\n",
    "ANTARESS_nbook_bground.DImast_weight(input_nbook)"
   ]
  },
  {
   "cell_type": "markdown",
   "id": "67688dff-da83-4023-9da7-a70f3b217bea",
   "metadata": {
    "tags": []
   },
   "source": [
    "**Residual CCFs**\n",
    "\n",
    "Run this cell to extract residual CCFs, which are the difference between the master out-of-transit CCF (representative of the unocculted star) and the CCF in each exposure. During transit, the residual CCFs correspond to the light coming from the planet-occulted region of the stellar photosphere. "
   ]
  },
  {
   "cell_type": "code",
   "execution_count": null,
   "id": "0038e02c-92a8-4e36-a000-a58395044684",
   "metadata": {},
   "outputs": [],
   "source": [
    "ANTARESS_nbook_bground.extract_res(input_nbook)"
   ]
  },
  {
   "cell_type": "markdown",
   "id": "8944b97a-f36e-4189-b7f1-130eaed437a8",
   "metadata": {
    "tags": []
   },
   "source": [
    "**Intrinsic CCFs**\n",
    "\n",
    "Run this cell to convert in-transit residual CCFs into intrinsic CCFs, which are corrected for the planetary occultation and only trace variations in the spectral profile of the stellar line along the transit chord.\n",
    "\n",
    "The intrinsic CCF series associated with your transiting `planet` can be retrieved under `/Working_dir/planet_Saved_data/Intr_data/instrument_night_i.npz`, where `i` refers to in-transit indexes.  "
   ]
  },
  {
   "cell_type": "code",
   "execution_count": null,
   "id": "c7237cf8-e262-4df2-9038-e47a7f79eb63",
   "metadata": {},
   "outputs": [],
   "source": [
    "ANTARESS_nbook_bground.extract_intr(input_nbook)"
   ]
  },
  {
   "cell_type": "markdown",
   "id": "3c3c58d9-770c-4c51-96aa-0c02fb5db0b0",
   "metadata": {
    "tags": []
   },
   "source": [
    "# Analysis and plot display"
   ]
  },
  {
   "cell_type": "markdown",
   "id": "8dca5055",
   "metadata": {
    "tags": []
   },
   "source": [
    "Results from the fits you are going to perform are printed in the log of Section 6 below. For each fitted parameter, the workflow indicates its median and the 1-$\\sigma$ errors and associated intervals from the Highest Density Intervals (when a MCMC has been used)."
   ]
  },
  {
   "cell_type": "markdown",
   "id": "22223a5d-0a4e-4f44-94dd-7308cd2e3f7b",
   "metadata": {
    "tags": []
   },
   "source": [
    "**Analysis of disk-integrated CCFs**\n",
    "\n",
    "Run this cell to perform a Gaussian fit to each disk-integrated CCF. This will return the rv, FWHM, and contrast time-series of the average line from the entire stellar disk, which you can visualize below. This step is used to measure the systemic rv, to check that your Keplerian model matches the data, and to search for systematic trends in the line properties. \n",
    "\n",
    "Additional model and fit options are available through the configuration file. The full workflow will also allow you to correct for putative line trends."
   ]
  },
  {
   "cell_type": "code",
   "execution_count": null,
   "id": "d29d4d29-acab-4506-99cc-1ef94f136e3f",
   "metadata": {},
   "outputs": [],
   "source": [
    "ANTARESS_nbook_bground.ana_prof(input_nbook,'DI')"
   ]
  },
  {
   "cell_type": "markdown",
   "id": "b9156ab8-3ba4-4f0b-83d1-197181ce14a5",
   "metadata": {
    "tags": []
   },
   "source": [
    "**Plotting disk-integrated CCFs**\n",
    "\n",
    "Run this cell to plot the disk-integrated CCF series with their best fits. Uncomment `y_range` to adjust the flux range of the CCFs (vertical axis)."
   ]
  },
  {
   "cell_type": "code",
   "execution_count": null,
   "id": "304214d0-eff2-407d-96ca-28c57f85926a",
   "metadata": {},
   "outputs": [],
   "source": [
    "input_nbook['par']['y_range'] = [2.1e5,3.6e5] \n",
    "ANTARESS_nbook_bground.plot_prof(input_nbook,'DI_prof')"
   ]
  },
  {
   "cell_type": "markdown",
   "id": "1943581a-dcd3-492f-8e45-3f8f534694cf",
   "metadata": {
    "tags": []
   },
   "source": [
    "**Plotting disk-integrated line properties**\n",
    "\n",
    "Run this cell to plot the time-series of properties derived from the fits to disk-integrated CCFs. "
   ]
  },
  {
   "cell_type": "code",
   "execution_count": null,
   "id": "3c1a33d5-7ae9-4b75-b1d2-e14885865f0e",
   "metadata": {},
   "outputs": [],
   "source": [
    "ANTARESS_nbook_bground.plot_prop(input_nbook,'DI')"
   ]
  },
  {
   "cell_type": "markdown",
   "id": "4c070f05-a75f-4985-991e-049931c6c644",
   "metadata": {
    "tags": []
   },
   "source": [
    "**Analysis of intrinsic CCFs**\n",
    "\n",
    "Run this cell to perform a Gaussian fit to each intrinsic CCF. This will return the rv, FWHM, and contrast time-series of the average stellar line from regions occulted along the transit chord, which you can visualize below. \n",
    "\n",
    "Intrinsic CCFs are usually measured with low S/N. In that case, you can run the fits using a MCMC (`fit_mode = \"MCMC\"`) rather than the default least-square minimization (`fit_mode = \"chi2\"`). To overwrite the default priors, you can further uncomment the `priors` field and define the lower and upper boundary of the uniform prior ranges. Look at the time-series of properties plotted below to adjust the priors, or at the MCMC chains and corner plots in the directories `/Working_dir/planet_Saved_data/Introrig_prop/instrument_night_mcmc/iexp*/`. Since running the MCMC may take some time, you can set `calc_fit` to `False` once the MCMC is done and you only want to manipulate the plots.\n",
    "\n",
    "This step is used to identify which exposures should be included in the RM Revolutions fit, by assessing the quality of intrinsic CCFs. The derived stellar line properties can further be analyzed in the next step. Additional stellar line models and fit options are available through the configuration file. "
   ]
  },
  {
   "cell_type": "code",
   "execution_count": null,
   "id": "5792ecd1-587d-475b-8fb8-391ad0a01fe4",
   "metadata": {},
   "outputs": [],
   "source": [
    "#Uncomment to use the MCMC\n",
    "input_nbook['par']['fit_mode'] = 'mcmc'\n",
    "\n",
    "#Uncomment to set your own priors\n",
    "input_nbook['par']['priors']={        \n",
    "    'rv':{'low':-5.,'high':5.},    \n",
    "    'FWHM':{'low':0.,'high':8.},\n",
    "    'ctrst':{'low':0.,'high':1.}}\n",
    "\n",
    "#Set to True to run the fit, and to False to retrieve its results\n",
    "input_nbook['par']['calc_fit'] = False\n",
    "\n",
    "ANTARESS_nbook_bground.ana_prof(input_nbook,'Intr')"
   ]
  },
  {
   "cell_type": "markdown",
   "id": "7704a2c3-28ac-4012-a120-2653747e7c33",
   "metadata": {
    "tags": []
   },
   "source": [
    "**Plotting intrinsic CCFs**\n",
    "\n",
    "Run this cell to plot the intrinsic CCF series with their best fits. Uncomment `y_range` to adjust the flux range of the CCFs (vertical axis). "
   ]
  },
  {
   "cell_type": "code",
   "execution_count": null,
   "id": "0d49b4cc-b27e-4e1e-b5c0-5155ff7d2080",
   "metadata": {},
   "outputs": [],
   "source": [
    "input_nbook['par']['y_range'] = [0.2,1.5] \n",
    "ANTARESS_nbook_bground.plot_prof(input_nbook,'Intr_prof')"
   ]
  },
  {
   "cell_type": "markdown",
   "id": "7ee7ea11-2b06-4ddf-b64a-6097bbf75b35",
   "metadata": {
    "tags": []
   },
   "source": [
    "**Analysis of intrinsic properties**\n",
    "\n",
    "Run this cell to fit the series of rv, contrast, and FWHM derived from the fits to individual intrinsic CCFs. This step is used to determine the best models describing variations of these properties along the transit chord, which will then be used in the global Rossiter-McLaughlin Revolutions fit. Guess values for the global fit can be informed by the results of this step, printed in the log below.\n",
    "\n",
    "The models are controlled by various parameters `x`, for which you must define a range [${\\rm x}_{\\rm low}$,${\\rm x}_{\\rm high}$] in the `mod_prop` dictionary. If you run a least-square fit, it will be initialized with the mean of this range. If you run a MCMC fit, its walkers will be initialized over this range. If the data allows it you can increase the complexity of the models by uncommenting additional parameters, as described below.\n",
    "\n",
    "- The intrinsic rv series traces the motion of the stellar surface along the transit chord, and thus depend on the sky-projected angle `lambda` (in degrees) between the stellar spin and orbital normal, and on the sky-projected stellar rotational velocity `veq` (in km/s). Here we are assuming solid-body rotation for the star, so that the stellar inclination is degenerate and fixed to 90$^{\\circ}$. The rv model can be modulated by stellar differential rotation, in which case you can break this degeneracy and fit for `istar` (in degrees) and the coefficient `alpha` (0 corresponds to solid rotation, 1 to the poles not rotating). The rv model can further be modulated by convective blueshift, defined as a polynomial of the center-to-limb angle for which you can control the linear or quadratic coefficients `c1_CB` and `c2_CB`.\n",
    "\n",
    "- The intrinsic contrast and FWHM series trace the shape of the planet-occulted stellar lines along the transit chord. They are modelled as polynomials of the center-to-limb angle for which you can control the coefficients `x_i`, with `i`$\\ge0$. \n",
    "\n",
    "Depending on the number of parameters and the dataset, you may need to adjust the number of walkers in the MCMC, their steps, and the burn-in phase by uncommenting the `mcmc_set` dictionary. Check the MCMC chains in `/Working_dir/planet_Saved_data/Joined_fits/IntrProp/mcmc/x/` to adjust these numbers. As with the fits to intrinsic CCFs you can overwrite the default MCMC priors for any of the fitted parameters. Once you have run the fit, you can set `calc_fit` to `False` to manipulate the plots. \n",
    "\n",
    "You can fit all in-transit exposures by setting `idx_in_fit` to `all`. However the occulted stellar lines and their derived properties may be so noisy in some exposures, especially at the stellar limbs, that they do not bring any constraint to the fits. It also happens that the planet only occults the star for a small fraction of the ingress/egress exposure, as in the example mock dataset, so that the model planet does not transit. In that case, you can change `idx_in_fit` to the list of indexes indicating which exposures to fit (indexes are counted from 0 from the first in-transit exposure). \n",
    "\n",
    "If the star is too faint or the planet too small, the properties may all be derived with a precision that is too low to analyze them here. In that case, you can apply directly the Revolutions fit with the simplest models to describe these properties. \n",
    "\n",
    "Finally, in this notebook we are using a simple Gaussian profile to fit the intrinsic lines. Although this model includes instrumental convolution, it is an approximation compared to using ANTARESS numerical stellar grid to simulate realistic line profiles, as is done when applying the RM Revolutions fit. Here we do not account in particular for the blurring induced by the planet motion, which is significant for long exposure times and fast-rotators. Use the configuration file if you want to fit more finely individual intrinsic profiles. "
   ]
  },
  {
   "cell_type": "code",
   "execution_count": null,
   "id": "a0387133-6776-48a3-8d00-3377f6caba2d",
   "metadata": {},
   "outputs": [],
   "source": [
    "#Exposures to be fitted\n",
    "input_nbook['par']['idx_in_fit'] = range(1,20)\n",
    "\n",
    "#Uncomment to use the MCMC\n",
    "input_nbook['par']['fit_mode'] = 'mcmc'\n",
    "\n",
    "#Uncomment to adjust the MCMC chains (default nwalkers = 50, nsteps = 1000, nburn = 200)\n",
    "#input_nbook['par']['mcmc_set']={'nwalkers':10,'nsteps':100,'nburn':0} \n",
    "\n",
    "#Surface RV: main parameters\n",
    "input_nbook['par']['mod_prop']={ \n",
    "    'veq':[0.,10.],\n",
    "    'lambda':[-180.,180.]    \n",
    "}\n",
    "\n",
    "#Surface RV: convective blueshift\n",
    "#input_nbook['par']['mod_prop']['c1_CB']=[-1.,1.] \n",
    "#input_nbook['par']['mod_prop']['c2_CB']=[-1.,1.]\n",
    "\n",
    "#Surface RV: differential rotation\n",
    "#input_nbook['par']['mod_prop']['alpha']=[0.,0.2] \n",
    "#input_nbook['par']['mod_prop']['istar']=[-90.,90.]\n",
    "\n",
    "#Intrinsic line contrast and FWHM: polynomial coefficients\n",
    "input_nbook['par']['mod_prop']['contrast_0']=[0.2,0.9]   \n",
    "#input_nbook['par']['mod_prop']['contrast_1']=[-1.,1.]   \n",
    "input_nbook['par']['mod_prop']['FWHM_0']=[2.,10.]   \n",
    "#input_nbook['par']['mod_prop']['FWHM_1']=[-5.,5.]\n",
    "\n",
    "#Uncomment to set your own priors\n",
    "input_nbook['par']['priors']={        \n",
    "    'veq':{'low':0.,'high':10.},  \n",
    "    'lambda':{'low':-180.,'high':180.},  \n",
    "    'contrast_0':{'low':0.,'high':1.},    \n",
    "    'FWHM_0':{'low':0.,'high':20.}}\n",
    "\n",
    "#Set to True to run the fit, and to False to retrieve its results\n",
    "input_nbook['par']['calc_fit'] = False\n",
    "\n",
    "ANTARESS_nbook_bground.ana_jointprop(input_nbook,'Intr')"
   ]
  },
  {
   "cell_type": "markdown",
   "id": "ca43b388-8e97-4888-a77b-343041448924",
   "metadata": {
    "tags": []
   },
   "source": [
    "**Plotting intrinsic properties**\n",
    "\n",
    "Run this cell to plot the intrinsic CCF properties and their best-fit models."
   ]
  },
  {
   "cell_type": "code",
   "execution_count": null,
   "id": "ad3d6268-1300-4a44-9c26-81f4a7c4561e",
   "metadata": {},
   "outputs": [],
   "source": [
    "ANTARESS_nbook_bground.plot_prop(input_nbook,'Intr')"
   ]
  },
  {
   "cell_type": "markdown",
   "id": "c50fac4b-c6dd-4b09-96dd-3280769a4454",
   "metadata": {
    "tags": []
   },
   "source": [
    "**Rossiter-McLaughlin Revolutions**\n",
    "\n",
    "Run this cell to perform a RM Revolution fit to your dataset. A joint model for the occulted line profiles along the transit chord will be fitted to the exposures that you can select with `idx_in_fit`, based on your analysis from the previous step.\n",
    "\n",
    "The model is controlled by the same parameters as for individual intrinsic properties, so that you can define the model here in the same way using the parameters that you identified as relevant in the previous step.\n",
    "\n",
    "It is advised to run the fit through a MCMC, which you can set up after a preliminary run by checking the MCMC chains in `/Working_dir/planet_Saved_data/Joined_fits/IntrProf/mcmc/`.\n",
    "\n",
    "Best-fit values and associated uncertainties can be read in the log below, or retrieved with additional information in the file `/Working_dir/planet_Saved_data/Joined_fits/IntrProf/mcmc/Outputs`.\n",
    "\n",
    "The notebook assumes a simple Gaussian profile to fit intrinsic lines, with default properties for ANTARESS stellar grid. Additional options are available through the configuration file. "
   ]
  },
  {
   "cell_type": "code",
   "execution_count": null,
   "id": "01d58231-7341-46a4-a77f-c4f415f8b03b",
   "metadata": {},
   "outputs": [],
   "source": [
    "#Exposures to be fitted\n",
    "input_nbook['par']['idx_in_fit'] = range(1,20)\n",
    "\n",
    "#Uncomment to use the MCMC\n",
    "input_nbook['par']['fit_mode'] = 'mcmc'\n",
    "\n",
    "#Uncomment to adjust the MCMC chains (default nwalkers = 3 x number of free parameters, nsteps = 5000, nburn = 1000)    \n",
    "#input_nbook['par']['mcmc_set']={'nwalkers':20,'nsteps':1000,'nburn':400} \n",
    "\n",
    "#Model parameters\n",
    "input_nbook['par']['mod_prop']={ \n",
    "    'veq':[1.,5.],\n",
    "    'lambda':[0.,90.],\n",
    "    'contrast_0':[0.5,0.8],    \n",
    "    'FWHM_0':[1.,5.]}   \n",
    "\n",
    "#Uncomment to set your own priors\n",
    "input_nbook['par']['priors']={        \n",
    "    'veq':{'low':0.,'high':100.},  \n",
    "    'lambda':{'low':-180.,'high':180.},  \n",
    "    'contrast_0':{'low':0.,'high':1.},    \n",
    "    'FWHM_0':{'low':0.,'high':20.}}\n",
    "\n",
    "#Set to True to run the fit, and to False to retrieve its results\n",
    "input_nbook['par']['calc_fit'] = False\n",
    "\n",
    "ANTARESS_nbook_bground.ana_jointprof(input_nbook,'Intr')"
   ]
  },
  {
   "cell_type": "markdown",
   "id": "7463e76f-87f8-491b-98e3-f478ca321c24",
   "metadata": {
    "tags": []
   },
   "source": [
    "**Plotting intrinsic CCF maps**\n",
    "\n",
    "Run this cell to plot the phase vs RV maps of your intrinsic CCFs.\n",
    "\n",
    "Adjust `v_range` to the flux range of your CCF dataset (corresponding to the color scale in the maps)."
   ]
  },
  {
   "cell_type": "code",
   "execution_count": null,
   "id": "8c7b72c2-a8f5-4185-acdd-ab29d485160d",
   "metadata": {},
   "outputs": [],
   "source": [
    "input_nbook['par']['v_range'] = [0.5,1.2]\n",
    "ANTARESS_nbook_bground.plot_map(input_nbook,'Intr_prof')"
   ]
  },
  {
   "cell_type": "markdown",
   "id": "8fee986a-099f-4986-9747-29d9b2073280",
   "metadata": {
    "tags": []
   },
   "source": [
    "**Plotting model and residual intrinsic CCF maps**\n",
    "\n",
    "Run this cell to generate the model intrinsic CCFs that correspond to the best RMR fit. Note that you first need to perform a RMR fit, and then run the notebook again to build the model (thus, leave the cell commented the first time you use the notebook)."
   ]
  },
  {
   "cell_type": "code",
   "execution_count": null,
   "id": "f044f09c-41e2-4d00-8843-25a26406c95b",
   "metadata": {},
   "outputs": [],
   "source": [
    "#ANTARESS_nbook_bground.loc_prof_corr(input_nbook)"
   ]
  },
  {
   "cell_type": "markdown",
   "id": "25b22b73-38a4-4513-b872-ae6a0645a05c",
   "metadata": {
    "tags": []
   },
   "source": [
    "Run this cell to plot the phase vs RV maps of your model intrinsic CCFs.\n",
    "\n",
    "Adjust v_range to the flux range of your CCF dataset (corresponding to the color scale in the maps)."
   ]
  },
  {
   "cell_type": "code",
   "execution_count": null,
   "id": "58c49be1-f236-4893-9a74-f53596a064ef",
   "metadata": {},
   "outputs": [],
   "source": [
    "input_nbook['par']['v_range'] = [0.5,1.2]\n",
    "ANTARESS_nbook_bground.plot_map(input_nbook,'Intr_prof_est')"
   ]
  },
  {
   "cell_type": "markdown",
   "id": "af7cf0cb-87ab-4633-a2ba-4c6ace2c6445",
   "metadata": {
    "tags": []
   },
   "source": [
    "Run this cell to plot the phase vs RV maps of the residuals between processed and model intrinsic CCFs.\n",
    "\n",
    "Adjust `v_range` to the residual flux range."
   ]
  },
  {
   "cell_type": "code",
   "execution_count": null,
   "id": "30f8a589-1c54-4763-8c31-0a47f6e313cc",
   "metadata": {},
   "outputs": [],
   "source": [
    "input_nbook['par']['v_range'] = [-0.01,0.01]\n",
    "ANTARESS_nbook_bground.plot_map(input_nbook,'Intr_prof_res')"
   ]
  },
  {
   "cell_type": "markdown",
   "id": "358e1bd6",
   "metadata": {},
   "source": [
    "# Running ANTARESS"
   ]
  },
  {
   "cell_type": "markdown",
   "id": "5f9fdb71",
   "metadata": {},
   "source": [
    "Run this cell to run the ANTARESS workflow."
   ]
  },
  {
   "cell_type": "code",
   "execution_count": null,
   "id": "60c14bb1-9e0a-4f17-8f62-6fe7b986e397",
   "metadata": {
    "scrolled": true,
    "tags": []
   },
   "outputs": [],
   "source": [
    "from antaress.ANTARESS_launch.ANTARESS_launcher import ANTARESS_launcher\n",
    "ANTARESS_launcher(working_path=input_nbook['working_path'], nbook_dic = input_nbook, exec_comm=False)"
   ]
  },
  {
   "cell_type": "markdown",
   "id": "8fe20ca0-b976-4507-8303-e0aa703f685c",
   "metadata": {},
   "source": [
    "# Plot display"
   ]
  },
  {
   "cell_type": "code",
   "execution_count": null,
   "id": "abf010ec-2e50-4282-a87c-37607673b6b1",
   "metadata": {
    "tags": []
   },
   "outputs": [],
   "source": [
    "from IPython.display import Image\n",
    "from IPython.core.display import HTML "
   ]
  },
  {
   "cell_type": "markdown",
   "id": "a5c6ed3a-a238-426c-9360-c632503e1924",
   "metadata": {},
   "source": [
    "Run the cells below to show saved plots."
   ]
  },
  {
   "cell_type": "markdown",
   "id": "f174a6fd-39d3-4edb-9285-5ef974078dca",
   "metadata": {},
   "source": [
    "**Disk-integrated CCF series**\n",
    "\n",
    "This plot shows the series of disk-integrated CCFs (blue profiles) with their best-fit Gaussian models (dashed black profiles), from which are derived the properties showed in the next plot."
   ]
  },
  {
   "cell_type": "code",
   "execution_count": null,
   "id": "8f780bd0-e994-4190-a848-3ad950815dcf",
   "metadata": {
    "tags": []
   },
   "outputs": [],
   "source": [
    "Image(filename = input_nbook['plot_path']+'DI_data/'+input_nbook['par']['instrument']+'_'+input_nbook['par']['night']+'_Indiv/Data/CCF/phase.gif')"
   ]
  },
  {
   "cell_type": "markdown",
   "id": "b91242fd-1705-4cf7-9bef-42f55246e3b6",
   "metadata": {},
   "source": [
    "**Disk-integrated line properties**\n",
    "\n",
    "The three plots below show the time-series of RVs, contrast, and FWHM derived from the fits to the disk-integrated CCFs. Transit contacts are shown as dashed black lines, and in-transit exposures are flagged with empty symbols.\n",
    "\n",
    "Outside of the transit, RVs should trace the Keplerian motion of your star with respect to the solar system barycenter (the Keplerian model defined by your inputs for the star and planets is plotted as a solid blue curve). If your star is quiet and measurements are dominated by white noise, RV measurements should be evenly spread around the Keplerian model, while contrast and FWHM measurements should be evenly spread around their mean out-of-transit value (dashed blue lines). You can assess this by looking at the ratio between the dispersion and mean error over out-of-transit measurements, reported on each plot, which should be close to unity. If that is not the case, you can use the workflow to detrend the data.  \n",
    "\n",
    "Inside of the transit the planet occults local regions of the stellar surface, distorting the disk-integrated stellar lines and inducing anomalous deviations in their derived properties. Traditionally, measurements of the sky-projected spin-orbit angle in planetary systems have been performed by analyzing this anomalous signal in RV - but the anomaly may not be detectable with faint, slow-rotating stars and small planets. With ANTARESS, you will be able to analyze directly the planet-occulted stellar profiles to get a higher precision on the transit chord and orbital architecture of the system."
   ]
  },
  {
   "cell_type": "code",
   "execution_count": null,
   "id": "a5ed2d1c-b64f-4cfc-ade9-f3648bda0b1c",
   "metadata": {
    "tags": []
   },
   "outputs": [],
   "source": [
    "Image(filename = input_nbook['plot_path']+'DI_prop/rv_phase.png')"
   ]
  },
  {
   "cell_type": "code",
   "execution_count": null,
   "id": "110b3e8b-15eb-4afe-9018-d04af3cae355",
   "metadata": {
    "tags": []
   },
   "outputs": [],
   "source": [
    "Image(filename = input_nbook['plot_path']+'DI_prop/ctrst_phase.png')"
   ]
  },
  {
   "cell_type": "code",
   "execution_count": null,
   "id": "47cd8d6e-3314-4881-aba4-c295ac02687e",
   "metadata": {
    "tags": []
   },
   "outputs": [],
   "source": [
    "Image(filename = input_nbook['plot_path']+'DI_prop/FWHM_phase.png')"
   ]
  },
  {
   "cell_type": "markdown",
   "id": "7310670a-f530-4682-9db6-9ae6b12f50e6",
   "metadata": {},
   "source": [
    "**Intrinsic CCF series**\n",
    "\n",
    "This plot shows the series of intrinsic CCFs (blue profiles) with their best-fit Gaussian models (dashed black profiles), from which are derived the properties showed in the next plots."
   ]
  },
  {
   "cell_type": "code",
   "execution_count": null,
   "id": "81376016-d05f-487e-b138-e68be9590028",
   "metadata": {
    "tags": []
   },
   "outputs": [],
   "source": [
    "Image(filename = input_nbook['plot_path']+'Intr_data/'+input_nbook['par']['instrument']+'_'+input_nbook['par']['night']+'_Indiv/Data/CCF/phase.gif')"
   ]
  },
  {
   "cell_type": "markdown",
   "id": "89653cb5-b480-48a1-81ef-ed904347b5c3",
   "metadata": {},
   "source": [
    "**Intrinsic line properties**\n",
    "\n",
    "The three plots below show the time-series of RVs, contrast, and FWHM derived from the fits to intrinsic CCFs, which directly trace the properties of the photosphere along the transit chord. Transit contacts are shown as dashed black lines.\n",
    "\n",
    "The dashed orange lines show the best-fit models you derived for each property series. You can see how the decreasing intensity at the stellar limb, combined with its partial occultation by the planet, leads to intrinsic line properties being derived at a lower precision. For smaller planets and fainter stars all exposures may yield a poor fit individually, making it hazardous to interpret the property time series. Fortunately, useful information can still be retrieved from these exposures by fitting the time series of intrinsic line profiles with a joint model through a RM Revolutions fit. The dashed black lines show the properties associated with this best fit."
   ]
  },
  {
   "cell_type": "code",
   "execution_count": null,
   "id": "ef97b7d4-d3e6-46f9-b10a-b6e3e09cd59e",
   "metadata": {
    "tags": []
   },
   "outputs": [],
   "source": [
    "Image(filename = input_nbook['plot_path']+'Intr_prop/rv_phase.png')"
   ]
  },
  {
   "cell_type": "code",
   "execution_count": null,
   "id": "e41fbdc1-b4f0-467f-80a6-261629258a63",
   "metadata": {
    "tags": []
   },
   "outputs": [],
   "source": [
    "Image(filename = input_nbook['plot_path']+'Intr_prop/ctrst_phase.png')"
   ]
  },
  {
   "cell_type": "code",
   "execution_count": null,
   "id": "9104b8a6-ae52-42f4-9681-b5096ff0def5",
   "metadata": {
    "tags": []
   },
   "outputs": [],
   "source": [
    "Image(filename = input_nbook['plot_path']+'Intr_prop/FWHM_phase.png')"
   ]
  },
  {
   "cell_type": "markdown",
   "id": "8aded982-46e9-4ce4-a56c-bbd0469a3057",
   "metadata": {},
   "source": [
    "**Intrinsic line maps**\n",
    "\n",
    "The first plot shows the series of intrinsic CCFs as a function of RV in the star rest frame and orbital phase, colored with flux. The solid green line traces the centroid of the model stellar lines occulted by the planet, as derived from your best RM Revolutions fit to the full dataset shown in the second plot. The third plot shows the residual values between the processed and model intrinsic CCFs."
   ]
  },
  {
   "cell_type": "code",
   "execution_count": null,
   "id": "40ff4f06-dd33-4a55-8517-b1898f5b0eff",
   "metadata": {
    "tags": []
   },
   "outputs": [],
   "source": [
    "Image(filename = input_nbook['plot_path']+'Intr_data/ESPRESSO_20230624_Map/Data/CCF/iord0.png')"
   ]
  },
  {
   "cell_type": "code",
   "execution_count": null,
   "id": "6c9d2a35-3147-4cae-b92f-b7dca2a42d1a",
   "metadata": {
    "tags": []
   },
   "outputs": [],
   "source": [
    "if input_nbook['par']['loc_prof_corr']:Image(filename = input_nbook['plot_path']+'Intr_data/ESPRESSO_20230624_Map/Model/CCF/iord0_glob_mod_rec.png')"
   ]
  },
  {
   "cell_type": "code",
   "execution_count": null,
   "id": "7f2df184-3176-4e98-a82e-52a29427314a",
   "metadata": {
    "tags": []
   },
   "outputs": [],
   "source": [
    "if input_nbook['par']['loc_prof_corr']:Image(filename = input_nbook['plot_path']+'Intr_data/ESPRESSO_20230624_Map/Res/CCF/iord0_glob_mod_rec_res.png')"
   ]
  },
  {
   "cell_type": "markdown",
   "id": "24f98f78-4260-4ff7-a152-c7c496c972f7",
   "metadata": {},
   "source": [
    "# Results comparison for the example mock dataset"
   ]
  },
  {
   "cell_type": "markdown",
   "id": "b6afb950-369b-444a-b89a-33c7ede9e47f",
   "metadata": {},
   "source": [
    "If you ran the successive steps with relevant settings, you should have retrieved best-fit values from the RM Revolutions analysis that match the properties used to generate the mock dataset:\n",
    "- a projected stellar surface velocity `vsini` = 3 km/s\n",
    "- a sky-projected spin-orbit angle `lambda` = 35 degrees\n",
    "- an intrinsic stellar line `contrast` = 0.7\n",
    "- an intrinsic stellar line `FWHM` = 2.5 km/s "
   ]
  }
 ],
 "metadata": {
  "kernelspec": {
   "display_name": "Python 3 (ipykernel)",
   "language": "python",
   "name": "python3"
  },
  "language_info": {
   "codemirror_mode": {
    "name": "ipython",
    "version": 3
   },
   "file_extension": ".py",
   "mimetype": "text/x-python",
   "name": "python",
   "nbconvert_exporter": "python",
   "pygments_lexer": "ipython3",
   "version": "3.11.5"
  },
  "toc": {
   "base_numbering": 1,
   "nav_menu": {},
   "number_sections": true,
   "sideBar": true,
   "skip_h1_title": false,
   "title_cell": "Table of Contents",
   "title_sidebar": "Contents",
   "toc_cell": false,
   "toc_position": {},
   "toc_section_display": true,
   "toc_window_display": true
  }
 },
 "nbformat": 4,
 "nbformat_minor": 5
}
