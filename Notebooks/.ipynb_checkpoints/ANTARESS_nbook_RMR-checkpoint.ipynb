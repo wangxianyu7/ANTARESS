{
 "cells": [
  {
   "cell_type": "markdown",
   "id": "3e0aad91-71e8-4304-a1ed-4f95c988eafd",
   "metadata": {
    "tags": []
   },
   "source": [
    "# Introduction"
   ]
  },
  {
   "cell_type": "markdown",
   "id": "abdb3678",
   "metadata": {},
   "source": [
    "This notebook allows you to run a simplified version of the ANTARESS workflow, for the following purpose:\n",
    "- extracting from one or several CCF datasets the stellar lines occulted by a transiting planet\n",
    "- performing a Rossiter-McLaughlin Revolutions analysis of the joint datasets\n",
    "\n",
    "To use the workflow to its full capabilities, set up a copy of the configuration file `ANTARESS_settings.py` and run `ANTARESS_launcher()` (see README for details). "
   ]
  },
  {
   "cell_type": "code",
   "execution_count": 1,
   "id": "5cfb9186-8e9e-42f1-8e01-4aa45c26bbdb",
   "metadata": {
    "tags": []
   },
   "outputs": [],
   "source": [
    "import ANTARESS_nbook_bground\n",
    "input_nbook = ANTARESS_nbook_bground.init('RMR')"
   ]
  },
  {
   "cell_type": "markdown",
   "id": "1dc89737-0699-4101-aed5-dff0d6035318",
   "metadata": {
    "tags": []
   },
   "source": [
    "# System parameters"
   ]
  },
  {
   "cell_type": "markdown",
   "id": "e334f1d4-b3d6-47ae-977a-62d1d66ee15b",
   "metadata": {},
   "source": [
    "**Parameters of the host star**\n",
    "\n",
    "Run this cell to define the host star. \n",
    "- `star_name` (string): Name of the star. Should not contain spaces/dashes.\n",
    "- `Rs` (float): Radius of the star, in $R_\\odot$.\n",
    "- `vsini` (float): Projected stellar surface velocity, in km/s.\n",
    "- `ld_u1` (float): First coefficient of the quadratic limb-darkening.\n",
    "- `ld_u2` (float): Second coefficient of the quadratic limb-darkening."
   ]
  },
  {
   "cell_type": "code",
   "execution_count": 2,
   "id": "e5f4ea57",
   "metadata": {},
   "outputs": [],
   "source": [
    "input_nbook['par'].update({\n",
    "    'star_name' : 'WASP69',\n",
    "    'Rs'        : 0.813,\n",
    "    'vsini'     : 0.33,\n",
    "    'ld_u1'     : 0.22,\n",
    "    'ld_u2'     : 0.45\n",
    "})\n",
    "ANTARESS_nbook_bground.init_star(input_nbook)"
   ]
  },
  {
   "cell_type": "markdown",
   "id": "1ccee5d3",
   "metadata": {},
   "source": [
    "**Parameters of transiting planet**\n",
    "\n",
    "Run this cell to set the transiting planet on which the RM analysis is applied. \n",
    "- `planet_name` (string): Name of the transiting planet. Should not contain spaces/dashes.\n",
    "- `period` (float): Orbital period, in days.\n",
    "- `T0` (float): Mid-transit time, in ${\\rm BJD}_{\\rm TBD}$.\n",
    "- `ecc` (float): Orbital eccentricity.\n",
    "- `long_per` (float): Longitude of periastron, in degrees. If the orbit is circular, fill in `90.`.\n",
    "- `Kstar` (float): RV semi-amplitude, in m/s.\n",
    "- `aRs` (float): Scaled separation $a/R_\\star$.\n",
    "- `incl` (float): Orbital inclination, in degrees.\n",
    "- `lambda` (float): Sky-projected spin-orbit angle, in degrees.\n",
    "- `RpRs` (float): Planet-to-star radius ratio $R_{\\rm p}/R_\\star$."
   ]
  },
  {
   "cell_type": "code",
   "execution_count": 3,
   "id": "27d0509f",
   "metadata": {},
   "outputs": [],
   "source": [
    "input_nbook['par'].update({\n",
    "    'planet_name' : 'WASP69b',\n",
    "    'period'      : 3.8681390,\n",
    "    'T0'          : 2457176.17789,\n",
    "    'ecc'         : 0.,\n",
    "    'long_per'    : 90.,\n",
    "    'Kstar'       : 38.1,\n",
    "    'aRs'         : 12.00,\n",
    "    'incl'        : 86.71,\n",
    "    'lambda'      : 40.,\n",
    "    'RpRs'        : 0.13362\n",
    "})\n",
    "ANTARESS_nbook_bground.init_pl(input_nbook,'main')"
   ]
  },
  {
   "cell_type": "markdown",
   "id": "5a5b1bd3",
   "metadata": {},
   "source": [
    "**Parameters of additional planets in the system**\n",
    "\n",
    "Run this cell to set additional planets, which will only contribute to the computation of the star Keplerian motion. \n",
    "\n",
    "The names and definitions of the parameters are the same as for the main planet (`aRs`, `incl`, `RpRs` are not required).\n",
    "\n",
    "Copy the cell to add further planets"
   ]
  },
  {
   "cell_type": "code",
   "execution_count": 4,
   "id": "9f1a8f88",
   "metadata": {},
   "outputs": [],
   "source": [
    "input_nbook['par'].update({\n",
    "    'planet_name' : 'WASP69c',\n",
    "    'period'      : 3.8681390*2,\n",
    "    'T0'          : 2457176.17789,\n",
    "    'ecc'         : 0.,\n",
    "    'long_per'    : 90.,\n",
    "    'Kstar'       : 38.1\n",
    "})\n",
    "ANTARESS_nbook_bground.init_pl(input_nbook,'sec')"
   ]
  },
  {
   "cell_type": "markdown",
   "id": "660e4a49",
   "metadata": {
    "tags": []
   },
   "source": [
    "# Functional settings"
   ]
  },
  {
   "cell_type": "markdown",
   "id": "8dca5055",
   "metadata": {},
   "source": [
    "**Observed visits**\n",
    "\n",
    "Run this cell to define the processed visit. It must overlap with the transit of the `transiting planet`.\n",
    "- `instrument` (string): Instrument of the visit (e.g. `ESPRESSO`, `NIRPS_HE`...).\n",
    "- `night` (string): Night of the visit. It is preferred to use the standard format, i.e. `'YYYYMMDD'`.\n",
    "- `data_dir` (string): Path to the directory where you stored the exposure of the visit.\n",
    "\n",
    "Copy the cell to add further visits (they can be observed with different instruments)."
   ]
  },
  {
   "cell_type": "code",
   "execution_count": 5,
   "id": "4a3c99d7",
   "metadata": {},
   "outputs": [],
   "source": [
    "input_nbook['par'].update({\n",
    "    'instrument'  : 'NIRPS_HE',\n",
    "    'night'       : '20230624',\n",
    "    'data_dir'    : '/Users/bourrier/Travaux/Exoplanet_systems/WASP/WASP69b/ESPRESSOdrs_LBLmask/WASP-69_ccf_alltransits/20230624/'\n",
    "})\n",
    "ANTARESS_nbook_bground.add_vis(input_nbook)"
   ]
  },
  {
   "cell_type": "markdown",
   "id": "cb81caec",
   "metadata": {
    "tags": []
   },
   "source": [
    "**Systemic velocity**\n",
    "\n",
    "Run this cell to set the systemic velocity `gamma` (float, in km/s) for each `instrument` and `night` defined previously.\n",
    "\n",
    "Run ANTARESS a first time with `gamma` = 0 km/s to determine the value specific to the visit (`gamma` should not be set to an external value). Then run ANTARESS again after setting the derived value here."
   ]
  },
  {
   "cell_type": "code",
   "execution_count": 6,
   "id": "69ab63d8",
   "metadata": {},
   "outputs": [],
   "source": [
    "input_nbook['par'].update({\n",
    "    'instrument' : 'NIRPS_HE',\n",
    "    'night'      : '20230624',\n",
    "    'gamma'      : 0.   \n",
    "})\n",
    "ANTARESS_nbook_bground.set_sysvel(input_nbook)"
   ]
  },
  {
   "cell_type": "markdown",
   "id": "358e1bd6",
   "metadata": {},
   "source": [
    "# Running ANTARESS"
   ]
  },
  {
   "cell_type": "markdown",
   "id": "5f9fdb71",
   "metadata": {},
   "source": [
    "Run this cell to run the ANTARESS workflow."
   ]
  },
  {
   "cell_type": "code",
   "execution_count": 7,
   "id": "60c14bb1-9e0a-4f17-8f62-6fe7b986e397",
   "metadata": {
    "tags": []
   },
   "outputs": [
    {
     "name": "stdout",
     "output_type": "stream",
     "text": [
      "/Users/bourrier/Travaux/ANTARESS/Method\n",
      "{'nthreads': 6, 'visit_def': {}, 'DI_table': {'x_start': -150.0, 'x_end': 150.0, 'dx': 0.01}, 'sysvel': {}, 'intr_prof': {}, 'flux_cont': {}, 'gcal': {}, 'set_err': {}, 'drift_intr': {}, 'drift_post': {}}\n",
      "{'nthreads': 6, 'visit_def': {}, 'DI_table': {'x_start': -150.0, 'x_end': 150.0, 'dx': 0.01}, 'sysvel': {}, 'intr_prof': {}, 'flux_cont': {}, 'gcal': {}, 'set_err': {}, 'drift_intr': {}, 'drift_post': {}}\n",
      "Stop : HELLO END\n"
     ]
    },
    {
     "name": "stderr",
     "output_type": "stream",
     "text": [
      "/Users/bourrier/opt/anaconda3/lib/python3.8/site-packages/pyfits/__init__.py:21: PyFITSDeprecationWarning: PyFITS is deprecated, please use astropy.io.fits\n",
      "  warnings.warn('PyFITS is deprecated, please use astropy.io.fits',\n"
     ]
    },
    {
     "ename": "SystemExit",
     "evalue": "",
     "output_type": "error",
     "traceback": [
      "An exception has occurred, use %tb to see the full traceback.\n",
      "\u001b[0;31mSystemExit\u001b[0m\n"
     ]
    },
    {
     "name": "stderr",
     "output_type": "stream",
     "text": [
      "/Users/bourrier/opt/anaconda3/lib/python3.8/site-packages/IPython/core/interactiveshell.py:3513: UserWarning: To exit: use 'exit', 'quit', or Ctrl-D.\n",
      "  warn(\"To exit: use 'exit', 'quit', or Ctrl-D.\", stacklevel=1)\n"
     ]
    }
   ],
   "source": [
    "%cd .. \n",
    "from ANTARESS_launcher import ANTARESS_launcher\n",
    "ANTARESS_launcher(nbook_dic=input_nbook)"
   ]
  },
  {
   "cell_type": "markdown",
   "id": "8fe20ca0-b976-4507-8303-e0aa703f685c",
   "metadata": {},
   "source": [
    "# Functional settings"
   ]
  },
  {
   "cell_type": "markdown",
   "id": "6bd137d1",
   "metadata": {},
   "source": [
    "**Fiber B correction [OPTIONAL]**\n",
    "\n",
    "Run this cell to enable fiber B correction for a visit (disabled by default).\n",
    "- `instrument_fibB` (string): Instrument of the visit.\n",
    "- `night_fibB` (string): Night of the visit.\n",
    "\n",
    "Fiber B correction can be reset to default (disabled) for a visit using `ANTARESS.disable_fibB(instrument, night)`, or all of them using `ANTARESS.disable_fibB('all')`."
   ]
  },
  {
   "cell_type": "code",
   "execution_count": null,
   "id": "94833030",
   "metadata": {},
   "outputs": [],
   "source": [
    "instrument_fibB = 'ESPRESSO'\n",
    "night_fibB      = '20220328'\n",
    "\n",
    "ANTARESS.enable_fibB(instrument_fibB, night_fibB)"
   ]
  },
  {
   "cell_type": "markdown",
   "id": "bb7c1df5",
   "metadata": {},
   "source": [
    "**Used exposures [OPTIONAL]**\n",
    "\n",
    "Run this cell to define the used exposures in a visit (all exposures by default).\n",
    "- `instrument_exp` (string): Instrument of the visit.\n",
    "- `night_exp` (string): Night of the visit.\n",
    "- `used_exp` (list of integers): List of the used exposures (0-indexed). Fill in `'all'` to reset to default (use all exposures)."
   ]
  },
  {
   "cell_type": "code",
   "execution_count": null,
   "id": "6a12a17a",
   "metadata": {},
   "outputs": [],
   "source": [
    "instrument_exp = 'ESPRESSO'\n",
    "night_exp      = '20220328'\n",
    "used_exp       = 'all'\n",
    "\n",
    "ANTARESS.set_exposures(instrument_exp, night_exp, used_exp)"
   ]
  },
  {
   "cell_type": "markdown",
   "id": "d53a8c7a",
   "metadata": {},
   "source": [
    "**Fit parameters**\n",
    "\n",
    "Run this cell to set the fit parameters.\n",
    "- `which` (string): Name of the concerned fit. Possible options are: \n",
    "    - `ccf_intr`: fitting the individual intrinsic CCFs. \n",
    "    - `loc_prop`: fitting the stellar local properties based on the individual fits to the intrinsic CCFs (i.e. the Reloaded Rossiter-McLaughlin technique).\n",
    "    - `intr_prof`: fitting the stellar intrinsic profile and local properties based on a joint fit to the intrinsic CCFs (i.e. the Rossiter-McLaughlin Revolutions technique).\n",
    "- `mode` (string): Fit mode. Possible options are:\n",
    "    - `lsq`: least-squares minimization (faster).\n",
    "    - `mcmc`: MCMC simulation (slower, more accurate).\n",
    "- `mcmc_mode` (string): MCMC mode. Used only if `mode = mcmc`. Possible options are:\n",
    "    - `run`: Run the MCMC from scratch.\n",
    "    - `load`: Load the results of an existing MCMC."
   ]
  },
  {
   "cell_type": "code",
   "execution_count": null,
   "id": "2ae4257b",
   "metadata": {},
   "outputs": [],
   "source": [
    "which     = 'ccf_intr'\n",
    "mode      = 'lsq'\n",
    "\n",
    "ANTARESS.set_fit_param(which, mode)\n",
    "\n",
    "which     = 'loc_prop'\n",
    "mode      = 'mcmc'\n",
    "mcmc_mode = 'load'\n",
    "\n",
    "ANTARESS.set_fit_param(which, mode, mcmc_mode)\n",
    "\n",
    "which     = 'intr_prof'\n",
    "mode      = 'mcmc'\n",
    "mcmc_mode = 'run'\n",
    "\n",
    "ANTARESS.set_fit_param(which, mode, mcmc_mode)"
   ]
  },
  {
   "cell_type": "markdown",
   "id": "97248385",
   "metadata": {},
   "source": [
    "**Exposures used in fits [OPTIONAL]**\n",
    "\n",
    "Run this cell to define the used in-transit exposures in a visit for a fit (all in-transit exposures by default).\n",
    "- `which` (string): Name of the concerned fit. Possible options are: \n",
    "    - `loc_prop`: fitting the stellar local properties based on the individual fits to the intrinsic CCFs \n",
    "    - `intr_prof`: fitting the stellar intrinsic profile and local properties based on a joint fit to the intrinsic CCFs.\n",
    "- `instrument_exp_fit` (string): Instrument of the visit.\n",
    "- `night_exp_fit` (string): Night of the visit.\n",
    "- `used_exp_fit` (list of integers): List of the used in-transit exposures (0-indexed, 0 being the first in-transit exposure). Fill in `'all'` to reset to default (use all in-transit exposures)."
   ]
  },
  {
   "cell_type": "code",
   "execution_count": null,
   "id": "e926b757",
   "metadata": {},
   "outputs": [],
   "source": [
    "which              = 'loc_prop'\n",
    "instrument_exp_fit = 'ESPRESSO'\n",
    "night_exp_fit      = '20220328'\n",
    "used_exp_fit       = list(range(1, 10))\n",
    "\n",
    "ANTARESS.set_fit_exposures(which, instrument_exp_fit, night_exp_fit, used_exp_fit)"
   ]
  },
  {
   "cell_type": "markdown",
   "id": "4ce37ec3",
   "metadata": {},
   "source": [
    "**Functional switches**\n",
    "\n",
    "Run this cell to set the ANTARESS modules to be run. Refer to the flowchart for possible combinations.\n",
    "- `fit_ccf_di` (bool): Fits the disk-integrated CCFs.           \n",
    "- `align_ccf_di` (bool): Aligns the disk-integrated CCFs on the systemic velocity.         \n",
    "- `generate_master_ccf_di` (bool): Generates a master disk-integrated CCF.\n",
    "- `fit_master_ccf_di` (bool): Fits the master disk-integrated CCF.    \n",
    "- `generate_ccf_intr` (bool): Generates the intrinsic CCFs.    \n",
    "- `fit_ccf_intr` (bool): Fits the intrinsic CCFs.         \n",
    "- `fit_loc_prop` (bool): Fits the stellar local properties based on the individual fits to the intrinsic CCFs (i.e. the Reloaded Rossiter-McLaughlin technique).         \n",
    "- `fit_intr_prof` (bool): Fits the stellar intrinsic profile and local properties based on a joint fit to the intrinsic CCFs (i.e. the Rossiter-McLaughlin Revolutions technique).        "
   ]
  },
  {
   "cell_type": "code",
   "execution_count": null,
   "id": "e369c8d4",
   "metadata": {},
   "outputs": [],
   "source": [
    "fit_ccf_di             = False\n",
    "align_ccf_di           = False\n",
    "generate_master_ccf_di = False\n",
    "fit_master_ccf_di      = False\n",
    "generate_ccf_intr      = False\n",
    "fit_ccf_intr           = False\n",
    "fit_loc_prop           = False\n",
    "fit_intr_prof          = False\n",
    "\n",
    "ANTARESS.set_modules(fit_ccf_di, align_ccf_di, generate_master_ccf_di, fit_master_ccf_di, generate_ccf_intr,\n",
    "                     fit_ccf_intr, fit_loc_prop, fit_intr_prof)"
   ]
  },
  {
   "cell_type": "markdown",
   "id": "47531368",
   "metadata": {},
   "source": [
    "# Plot settings"
   ]
  }
 ],
 "metadata": {
  "kernelspec": {
   "display_name": "Python 3 (ipykernel)",
   "language": "python",
   "name": "python3"
  },
  "language_info": {
   "codemirror_mode": {
    "name": "ipython",
    "version": 3
   },
   "file_extension": ".py",
   "mimetype": "text/x-python",
   "name": "python",
   "nbconvert_exporter": "python",
   "pygments_lexer": "ipython3",
   "version": "3.8.16"
  },
  "toc": {
   "base_numbering": 1,
   "nav_menu": {},
   "number_sections": true,
   "sideBar": true,
   "skip_h1_title": false,
   "title_cell": "Table of Contents",
   "title_sidebar": "Contents",
   "toc_cell": false,
   "toc_position": {},
   "toc_section_display": true,
   "toc_window_display": true
  }
 },
 "nbformat": 4,
 "nbformat_minor": 5
}
