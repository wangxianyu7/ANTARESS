{
 "cells": [
  {
   "cell_type": "markdown",
   "id": "842cacba-4862-4b41-a5e2-10dbbc23beaf",
   "metadata": {},
   "source": [
    "# Introduction"
   ]
  },
  {
   "cell_type": "markdown",
   "id": "f7d81c13-afc0-4c67-836a-9768f35ed796",
   "metadata": {},
   "source": [
    "This notebook allows you to define and set up a planetary system and dataset to be processed with ANTARESS notebooks:\n",
    "\n",
    "- a system is defined by a host star, a transiting planet, and planets contributing to the Keplerian stellar motion\n",
    "- a dataset consist in a visit of consecutive exposures within a given night, acquired with a given instrument (real, or self-generated)\n",
    "\n",
    "Notebooks allow you to run simplified versions of ANTARESS. To exploit the workflow to its full capabilities, and process multiple transiting planets and datasets, run its executable with the [configuration files](https://obswww.unige.ch/~bourriev/antaress/doc/html/installation.html).\n",
    "\n",
    "This set-up notebook creates a subdirectory for your system in the `working_path` directory. The same path, star, and transiting planet must be provided to other notebooks if you want to process this system.\n",
    "Here we use the real planetary system around TOI-421 as an example. The equivalent [notebook](https://gitlab.unige.ch/spice_dune/antaress/-/blob/main/Notebooks/ANTARESS_nbook_setup_Arda.ipynb) is initalized with the properties of a fictitious system to illustrate the generation of a mock dataset.\n",
    "\n",
    "\n",
    "This set-up notebook creates a subdirectory for your system in the `working_path` directory. The same path, star, and transiting planet must be provided to other notebooks if you want to process this system.\n",
    "Here we use the properties of a fictitious system that can then be used to generate a dataset with the [Mock notebook](https://gitlab.unige.ch/spice_dune/antaress/-/blob/main/Notebooks/ANTARESS_nbook_mock.ipynb). The equivalent [notebook](https://gitlab.unige.ch/spice_dune/antaress/-/blob/main/Notebooks/ANTARESS_nbook_setup.ipynb) is initalized with the properties of the real planetary system around TOI-421 to illustrate the processing of a real dataset."
   ]
  },
  {
   "cell_type": "code",
   "execution_count": 1,
   "id": "62e7f2da-bd22-44ec-9009-24ba8b2ea0f9",
   "metadata": {},
   "outputs": [],
   "source": [
    "import ANTARESS_nbook_bground\n",
    "input_nbook = ANTARESS_nbook_bground.init()\n",
    "input_nbook['working_path'] = '/Users/bourrier/Travaux/ANTARESS/Working_dir/'"
   ]
  },
  {
   "cell_type": "markdown",
   "id": "7d308211-fb22-4d08-8f1e-ca20dfc05b58",
   "metadata": {},
   "source": [
    "# System parameters"
   ]
  },
  {
   "cell_type": "markdown",
   "id": "a1ba2be5-904b-472c-bbbc-661c2be6e9ae",
   "metadata": {},
   "source": [
    "**Parameters of the host star**\n",
    "\n",
    "Run this cell to define the host star. \n",
    "- `star_name` (string): Name of the star. Should not contain spaces/dashes.\n",
    "- `Rs` (float): Radius of the star, in $R_\\odot$.\n",
    "- `vsini` (float): Sky-projected stellar rotational velocity, in km/s. \n",
    "- `sysvel` (float): Systemic velocity, in km/s. \n",
    "- `ld_u1` (float): First coefficient of the quadratic limb-darkening.\n",
    "- `ld_u2` (float): Second coefficient of the quadratic limb-darkening."
   ]
  },
  {
   "cell_type": "code",
   "execution_count": 2,
   "id": "4dc3079d-0fb2-4495-844b-154da7ac7068",
   "metadata": {},
   "outputs": [],
   "source": [
    "input_nbook['par'].update({\n",
    "    'star_name' : 'TOI421',\n",
    "    'Rs'        : 0.866,\n",
    "    'vsini'     : 1.8,\n",
    "    'sysvel'    : 80.,\n",
    "    'ld_u1'     : 0.48,\n",
    "    'ld_u2'     : 0.18\n",
    "})\n",
    "ANTARESS_nbook_bground.init_star(input_nbook)"
   ]
  },
  {
   "cell_type": "markdown",
   "id": "0a8cfca7-b3d8-4370-863b-517f3269fc18",
   "metadata": {},
   "source": [
    "**Parameters of transiting planet**\n",
    "\n",
    "Run this cell to set the transiting planet. \n",
    "- `planet_name` (string): Name of the transiting planet. Should not contain spaces/dashes.\n",
    "- `period` (float): Orbital period, in days.\n",
    "- `T0` (float): Mid-transit time, in ${\\rm BJD}_{\\rm TBD}$.\n",
    "- `ecc` (float): Orbital eccentricity.\n",
    "- `long_per` (float): Longitude of periastron, in degrees. If the orbit is circular, fill in `90.`.\n",
    "- `Kstar` (float): RV semi-amplitude, in m/s.\n",
    "- `aRs` (float): Scaled separation $a/R_\\star$.\n",
    "- `incl` (float): Orbital inclination, in degrees.\n",
    "- `lambda` (float): Sky-projected spin-orbit angle, in degrees.\n",
    "- `RpRs` (float): Planet-to-star radius ratio $R_{\\rm p}/R_\\star$."
   ]
  },
  {
   "cell_type": "code",
   "execution_count": 3,
   "id": "f23c405a-75c0-4172-aeb9-e8d0e4433710",
   "metadata": {},
   "outputs": [],
   "source": [
    "input_nbook['par'].update({\n",
    "    'planet_name' : 'TOI421c',\n",
    "    'period'      : 16.067541,\n",
    "    'T0'          : 2459195.30741,\n",
    "    'ecc'         : 0.19,\n",
    "    'long_per'    : 102.,\n",
    "    'Kstar'       : 4.1,\n",
    "    'aRs'         : 29.0546178,\n",
    "    'incl'        : 88.30373,\n",
    "    'lambda'      : 3.,\n",
    "    'RpRs'        : 0.0540\n",
    "})\n",
    "ANTARESS_nbook_bground.init_pl(input_nbook,'main')"
   ]
  },
  {
   "cell_type": "markdown",
   "id": "a56ff9fe-3bca-4117-8c7d-d85285b81c17",
   "metadata": {},
   "source": [
    "**Parameters of additional planets in the system**\n",
    "\n",
    "Run this cell to set additional planets, which will only contribute to the computation of the star Keplerian motion. \n",
    "\n",
    "The names and definitions of the parameters are the same as for the main planet (`aRs`, `incl`, `lambda`, `RpRs` are not required).\n",
    "\n",
    "Copy the cell to add further planets"
   ]
  },
  {
   "cell_type": "code",
   "execution_count": 4,
   "id": "e24e5dc3-7f39-4705-8061-e225ecf9a975",
   "metadata": {},
   "outputs": [],
   "source": [
    "input_nbook['par'].update({\n",
    "    'planet_name' : 'TOI421b',\n",
    "    'period'      : 5.197576,\n",
    "    'T0'          : 2459189.7341,\n",
    "    'ecc'         : 0.13,\n",
    "    'long_per'    : 140.,\n",
    "    'Kstar'       : 2.83\n",
    "})\n",
    "ANTARESS_nbook_bground.init_pl(input_nbook,'sec')"
   ]
  },
  {
   "cell_type": "markdown",
   "id": "f4fd0544-8a54-4101-b861-34858ee582d3",
   "metadata": {},
   "source": [
    "# Dataset properties"
   ]
  },
  {
   "cell_type": "markdown",
   "id": "1113c207-0d5c-422d-9681-e5046e3d08f8",
   "metadata": {},
   "source": [
    "**This block is only relevant for real dataset. Skip it if you intend to generate a mock dataset for your system (see `ANTARESS_nbook_mock.ipynb`).**\n",
    "\n",
    "Run this cell to define the visit to be processed. It must overlap with the transit of the `transiting planet`.\n",
    "- `instrument` (string): Instrument of the visit (e.g. `ESPRESSO`, `NIRPS_HE`...).\n",
    "- `night` (string): Night of the visit. It is preferred to use the standard format, i.e. `YYYYMMDD`.\n",
    "- `data_dir` (string): Absolute path to the directory in which you stored your observed .fits files.\n",
    "- `type` (string): Type of the data (`spec2D` for echelle spectra, `CCF` for CCFs)"
   ]
  },
  {
   "cell_type": "code",
   "execution_count": 5,
   "id": "c209259a-7e79-45de-80c6-7475c7ced7a1",
   "metadata": {},
   "outputs": [],
   "source": [
    "input_nbook['par'].update({\n",
    "    'instrument'  : 'ESPRESSO',\n",
    "    'night'       : '20231106',\n",
    "    #'data_dir'    : '/path_to_my_data/',\n",
    "    'data_dir'    : '/Volumes/T7/Exoplanet_systems/TESS/TOI-421/ESPRESSO_S2D/DRS3.2.5_2023-11-06/',\n",
    "    'type'        : 'spec2D',    \n",
    "})\n",
    "ANTARESS_nbook_bground.add_vis(input_nbook)"
   ]
  },
  {
   "cell_type": "markdown",
   "id": "72dc3976-1a27-4073-8047-85eb10d19b2b",
   "metadata": {},
   "source": [
    "# Initialization"
   ]
  },
  {
   "cell_type": "markdown",
   "id": "079b6e32-0fa6-4860-8d7b-5f7a57f2eaad",
   "metadata": {},
   "source": [
    "Run this cell to create the system directory."
   ]
  },
  {
   "cell_type": "code",
   "execution_count": 6,
   "id": "f5acf5dd-aacf-4193-87d2-8a568583bc4e",
   "metadata": {},
   "outputs": [
    {
     "name": "stdout",
     "output_type": "stream",
     "text": [
      "Initialized system stored in :  /Users/bourrier/Travaux/ANTARESS/Working_dir/TOI421/TOI421c_Saved_data\n"
     ]
    }
   ],
   "source": [
    "ANTARESS_nbook_bground.save_system(input_nbook)"
   ]
  }
 ],
 "metadata": {
  "kernelspec": {
   "display_name": "Python 3 (ipykernel)",
   "language": "python",
   "name": "python3"
  },
  "language_info": {
   "codemirror_mode": {
    "name": "ipython",
    "version": 3
   },
   "file_extension": ".py",
   "mimetype": "text/x-python",
   "name": "python",
   "nbconvert_exporter": "python",
   "pygments_lexer": "ipython3",
   "version": "3.11.3"
  }
 },
 "nbformat": 4,
 "nbformat_minor": 5
}
