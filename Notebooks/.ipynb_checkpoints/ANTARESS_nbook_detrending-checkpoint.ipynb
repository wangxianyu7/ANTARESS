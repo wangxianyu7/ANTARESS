{
 "cells": [
  {
   "cell_type": "markdown",
   "id": "34b4eaef-1ed1-4e33-9de6-9bb7e0677262",
   "metadata": {},
   "source": [
    "# Introduction"
   ]
  },
  {
   "cell_type": "markdown",
   "id": "0fa6642f-4352-47e0-8d0a-1d4694cec2d4",
   "metadata": {},
   "source": [
    "This notebook allows you to apply a simplified version of the ANTARESS workflow to a dataset obtained during an exoplanet transit, for the following purposes:\n",
    "- characterizing systematic trends in out-of-transit stellar line properties \n",
    "- measuring the systemic velocity at the epoch of the transit\n",
    "\n",
    "The notebook takes as input a time-series of disk-integrated CCFs, after they have been processed with the [reduction notebook](https://gitlab.unige.ch/spice_dune/antaress/-/blob/main/Notebooks/ANTARESS_nbook_sp_reduc.ipynb)). The default version is set up to analyze the echelle spectra obtained with ESPRESSO during the transit of TOI-421c, cleaned and converted into CCFs with the reduction notebook. Otherwise adjust settings to retrieve your own cleaned dataset, setting `working_path`, `star_name`, and `pl_name` to the same values that you used to [initialize](https://gitlab.unige.ch/spice_dune/antaress/-/blob/main/Notebooks/ANTARESS_nbook_setup.ipynb) your system.\n",
    "\n",
    "To exploit the workflow to its full capabilities, run its executable with the [configuration files](https://obswww.unige.ch/~bourriev/antaress/doc/html/installation.html)."
   ]
  },
  {
   "cell_type": "code",
   "execution_count": 1,
   "id": "f02879c9-c060-44a5-b6b7-efea4a8ce916",
   "metadata": {},
   "outputs": [],
   "source": [
    "import ANTARESS_nbook_bground\n",
    "input_nbook = {\n",
    "    'working_path' : '/Users/bourrier/Travaux/ANTARESS/Working_dir/',\n",
    "    'star_name' : 'TOI421',\n",
    "    'pl_name'   : 'TOI421c'\n",
    "}\n",
    "input_nbook = ANTARESS_nbook_bground.load_nbook(input_nbook, 'Trends')"
   ]
  },
  {
   "cell_type": "markdown",
   "id": "6302c62e-7108-416d-b467-2b5571a11139",
   "metadata": {},
   "source": [
    "# CCF analysis"
   ]
  },
  {
   "cell_type": "markdown",
   "id": "a7ec7dc5-07b5-4ec0-843a-8332d184a5b4",
   "metadata": {},
   "source": [
    "**Analysis**"
   ]
  },
  {
   "cell_type": "markdown",
   "id": "790759e5-d89a-42e4-96cf-33aaca845bf2",
   "metadata": {},
   "source": [
    "Trends are searched for in the [series](#fit_prop) of disk-integrated stellar line properties.\n",
    "The first step thus consists in fitting the CCF to derive these properties. \n",
    "ANTARESS sets up the fit automatically, but if need be you can:\n",
    "- Define the radial velocity ranges used to fit the stellar line (`fit_range`), and covering its continuum (`cont_range`). Both ranges are defined as $[[rv_{\\mathrm{low}, 1}, rv_{\\mathrm{high}, 1}], [rv_{\\mathrm{low}, 2}, rv_{\\mathrm{high}, 2}],...]$, which allows combining non-consecutive regions. Radial velocities are in km/s in the star rest frame (i.e., relative to the systemic rv you [set up](https://gitlab.unige.ch/spice_dune/antaress/-/blob/main/Notebooks/ANTARESS_nbook_setup.ipynb) for the system). Use the [plots](#Plot_display) of the CCFs to inform your choice.\n",
    "- Define guess values for the fitted line properties (full-width at half-maximum FWHM, in km/s; contrast; rv position in the solar barycentric rest frame, in km/s).\n",
    "\n",
    "The fit is performed using a Gaussian line model with $\\chi^2$-minimization. Additional line models and fit options are available through the configuration file. "
   ]
  },
  {
   "cell_type": "code",
   "execution_count": 2,
   "id": "8b44e13c-ff51-4cc9-bd36-67cb52ad2613",
   "metadata": {},
   "outputs": [],
   "source": [
    "# Uncomment to define ranges\n",
    "input_nbook['par'].update({\n",
    "    'cont_range' : [[-100., -25.], [25., 100.]],\n",
    "    'fit_range'  : [[-100, 100]]\n",
    "})\n",
    "\n",
    "# Uncomment to set guess values\n",
    "input_nbook['par']['guess'] = {\n",
    "    'rv'       : 0.,\n",
    "    'FWHM'     : 6.,\n",
    "    'ctrst'    : 0.7,\n",
    "}\n",
    "\n",
    "# Set to True to run the fit, and to False to retrieve its results\n",
    "input_nbook['par']['calc_fit'] = True  #& False\n",
    "\n",
    "ANTARESS_nbook_bground.ana_prof(input_nbook,'DI')"
   ]
  },
  {
   "cell_type": "markdown",
   "id": "e57f877d-cd79-4f84-a71a-3a047c5fba0c",
   "metadata": {},
   "source": [
    "**Plotting**"
   ]
  },
  {
   "cell_type": "markdown",
   "id": "26825825-b323-4804-8599-97269517a083",
   "metadata": {},
   "source": [
    "Run this cell to plot the disk-integrated CCF series with their best fits. \n",
    "\n",
    "Use `x_range` to adjust the rv range of the profiles and `y_range` to adjust their flux range. Set to `None` for self-determination."
   ]
  },
  {
   "cell_type": "code",
   "execution_count": 3,
   "id": "b1ce643d-53bf-4331-9203-ef9dd0791177",
   "metadata": {},
   "outputs": [],
   "source": [
    "input_nbook['par']['x_range'] = [20.,140.] \n",
    "input_nbook['par']['y_range'] = [0.35,1.1] \n",
    "ANTARESS_nbook_bground.plot_prof(input_nbook,'DI_prof')"
   ]
  },
  {
   "cell_type": "markdown",
   "id": "34c38de7-b4c3-458b-b3db-81a9f600b985",
   "metadata": {},
   "source": [
    "Plots are stored in the `/Working_dir/Star/Planet_Plots/DI_data/Instrument_Visit_Indiv/Data/` directory."
   ]
  },
  {
   "cell_type": "markdown",
   "id": "fecec5b8-0381-4e8e-a0fb-8d3d6c36e96f",
   "metadata": {},
   "source": [
    "<a id='fit_prop'></a>\n",
    "# Trend characterisation"
   ]
  },
  {
   "cell_type": "markdown",
   "id": "7e5be4ee-a613-4a94-b9a8-ada3785c72d2",
   "metadata": {},
   "source": [
    "**Analysis**"
   ]
  },
  {
   "cell_type": "markdown",
   "id": "35a8cdad-5a40-4647-8f22-4128c735e9e0",
   "metadata": {},
   "source": [
    "You can now search for correlations of the derived stellar line properties (contrast `contrast`, FWHM `FWHM`, and residuals from the Keplerian rv model `rv_res`) with orbital phase (`coord = 'phasePlanetName'`) and the spectra S/R (`coord = 'snr'`). Polynomial models are fitted to each property as a function of the chosen coordinate, over out-of-transit exposures.\n",
    "\n",
    "Best-fit properties and merit values are printed in ANTARESS [run log](#Launch_ANTARESS). The goal is to find the coordinate and polynomial degree (`deg`) that yield the smallest Bayesian information criterion (BIC). Typical trends are a linear rv drift from the Keplerian over time, and a linear or quadratic correlation of the contrast with S/R. The FWHM is usually not precise enough to identify significant trends. \n",
    "\n",
    "The full workflow and its configuration file provide additional models and coordinates, and the possibility to combine multiple trends for a given property.\n",
    "\n",
    " \n",
    "Identify any trends usinc the cell , and find the best model representing the data. Once the best models for the parameters RV, FWHM, and contrast have been found using the Bayesian Information Criterion, insert the coefficient for each model below. If multiple properties are being corrected, add them to the list as shown in the example below.\n"
   ]
  },
  {
   "cell_type": "code",
   "execution_count": 4,
   "id": "37aaa011-fd93-44cd-a1d2-3854484507b1",
   "metadata": {},
   "outputs": [
    {
     "ename": "TypeError",
     "evalue": "unhashable type: 'dict'",
     "output_type": "error",
     "traceback": [
      "\u001b[0;31m---------------------------------------------------------------------------\u001b[0m",
      "\u001b[0;31mTypeError\u001b[0m                                 Traceback (most recent call last)",
      "Cell \u001b[0;32mIn[4], line 7\u001b[0m\n\u001b[1;32m      1\u001b[0m input_nbook[\u001b[38;5;124m'\u001b[39m\u001b[38;5;124mDI_trend\u001b[39m\u001b[38;5;124m'\u001b[39m]\u001b[38;5;241m.\u001b[39mupdate({\n\u001b[1;32m      2\u001b[0m     \u001b[38;5;124m'\u001b[39m\u001b[38;5;124mFWHM\u001b[39m\u001b[38;5;124m'\u001b[39m: {\u001b[38;5;124m'\u001b[39m\u001b[38;5;124mdeg\u001b[39m\u001b[38;5;124m'\u001b[39m : \u001b[38;5;241m0\u001b[39m,\u001b[38;5;124m'\u001b[39m\u001b[38;5;124mcoord\u001b[39m\u001b[38;5;124m'\u001b[39m : \u001b[38;5;124m'\u001b[39m\u001b[38;5;124msnr\u001b[39m\u001b[38;5;124m'\u001b[39m},\n\u001b[1;32m      3\u001b[0m     \u001b[38;5;124m'\u001b[39m\u001b[38;5;124mcontrast\u001b[39m\u001b[38;5;124m'\u001b[39m:{\u001b[38;5;124m'\u001b[39m\u001b[38;5;124mdeg\u001b[39m\u001b[38;5;124m'\u001b[39m : \u001b[38;5;241m0\u001b[39m,\u001b[38;5;124m'\u001b[39m\u001b[38;5;124mcoord\u001b[39m\u001b[38;5;124m'\u001b[39m : \u001b[38;5;124m'\u001b[39m\u001b[38;5;124msnr\u001b[39m\u001b[38;5;124m'\u001b[39m},\n\u001b[1;32m      4\u001b[0m     \u001b[38;5;124m'\u001b[39m\u001b[38;5;124mrv_res\u001b[39m\u001b[38;5;124m'\u001b[39m:   {\u001b[38;5;124m'\u001b[39m\u001b[38;5;124mdeg\u001b[39m\u001b[38;5;124m'\u001b[39m : \u001b[38;5;241m1\u001b[39m,\u001b[38;5;124m'\u001b[39m\u001b[38;5;124mcoord\u001b[39m\u001b[38;5;124m'\u001b[39m : \u001b[38;5;124m'\u001b[39m\u001b[38;5;124mphaseTOI421c\u001b[39m\u001b[38;5;124m'\u001b[39m},    \n\u001b[1;32m      5\u001b[0m })\n\u001b[0;32m----> 7\u001b[0m \u001b[43mANTARESS_nbook_bground\u001b[49m\u001b[38;5;241;43m.\u001b[39;49m\u001b[43mana_jointprop\u001b[49m\u001b[43m(\u001b[49m\u001b[43minput_nbook\u001b[49m\u001b[43m,\u001b[49m\u001b[38;5;124;43m'\u001b[39;49m\u001b[38;5;124;43mDI\u001b[39;49m\u001b[38;5;124;43m'\u001b[39;49m\u001b[43m)\u001b[49m\n",
      "File \u001b[0;32m~/Travaux/ANTARESS/Main/Notebooks/ANTARESS_nbook_bground.py:360\u001b[0m, in \u001b[0;36mana_jointprop\u001b[0;34m(input_nbook, data_type)\u001b[0m\n\u001b[1;32m    359\u001b[0m \u001b[38;5;28;01mdef\u001b[39;00m \u001b[38;5;21mana_jointprop\u001b[39m(input_nbook,data_type):\n\u001b[0;32m--> 360\u001b[0m     \u001b[43mana_jointcomm\u001b[49m\u001b[43m(\u001b[49m\u001b[43minput_nbook\u001b[49m\u001b[43m,\u001b[49m\u001b[43mdata_type\u001b[49m\u001b[43m,\u001b[49m\u001b[38;5;124;43m'\u001b[39;49m\u001b[38;5;124;43mProp\u001b[39;49m\u001b[38;5;124;43m'\u001b[39;49m\u001b[43m)\u001b[49m    \n\u001b[1;32m    361\u001b[0m     \u001b[38;5;28;01mreturn\u001b[39;00m \u001b[38;5;28;01mNone\u001b[39;00m\n",
      "File \u001b[0;32m~/Travaux/ANTARESS/Main/Notebooks/ANTARESS_nbook_bground.py:420\u001b[0m, in \u001b[0;36mana_jointcomm\u001b[0;34m(input_nbook, data_type, ana_type)\u001b[0m\n\u001b[1;32m    418\u001b[0m             \u001b[38;5;28;01mif\u001b[39;00m deg\u001b[38;5;241m>\u001b[39m\u001b[38;5;241m0\u001b[39m:\n\u001b[1;32m    419\u001b[0m                 \u001b[38;5;28;01mfor\u001b[39;00m ideg \u001b[38;5;129;01min\u001b[39;00m \u001b[38;5;28mrange\u001b[39m(\u001b[38;5;28mint\u001b[39m(deg)\u001b[38;5;241m+\u001b[39m\u001b[38;5;241m1\u001b[39m):\n\u001b[0;32m--> 420\u001b[0m                     input_nbook[\u001b[38;5;124m'\u001b[39m\u001b[38;5;124msettings\u001b[39m\u001b[38;5;124m'\u001b[39m][\u001b[38;5;124m'\u001b[39m\u001b[38;5;124mglob_fit_dic\u001b[39m\u001b[38;5;124m'\u001b[39m][data_type\u001b[38;5;241m+\u001b[39mana_type][\u001b[38;5;124m'\u001b[39m\u001b[38;5;124mmod_prop\u001b[39m\u001b[38;5;124m'\u001b[39m][prop_in][coord\u001b[38;5;241m+\u001b[39m\u001b[38;5;124m'\u001b[39m\u001b[38;5;124m__pol__ord1__IS__VS_\u001b[39m\u001b[38;5;124m'\u001b[39m]\u001b[38;5;241m=\u001b[39m{\n\u001b[1;32m    421\u001b[0m                         {\u001b[38;5;124m'\u001b[39m\u001b[38;5;124mvary\u001b[39m\u001b[38;5;124m'\u001b[39m:\u001b[38;5;28;01mTrue\u001b[39;00m ,\u001b[38;5;124m'\u001b[39m\u001b[38;5;124mguess\u001b[39m\u001b[38;5;124m'\u001b[39m:\u001b[38;5;241m0\u001b[39m,\u001b[38;5;124m'\u001b[39m\u001b[38;5;124mbd\u001b[39m\u001b[38;5;124m'\u001b[39m:[\u001b[38;5;241m-\u001b[39m\u001b[38;5;241m100.\u001b[39m,\u001b[38;5;241m100.\u001b[39m]}}\n\u001b[1;32m    423\u001b[0m \u001b[38;5;28;01melif\u001b[39;00m (ana_type\u001b[38;5;241m==\u001b[39m\u001b[38;5;124m'\u001b[39m\u001b[38;5;124mProf\u001b[39m\u001b[38;5;124m'\u001b[39m):\n\u001b[1;32m    424\u001b[0m     input_nbook[\u001b[38;5;124m'\u001b[39m\u001b[38;5;124msettings\u001b[39m\u001b[38;5;124m'\u001b[39m][\u001b[38;5;124m'\u001b[39m\u001b[38;5;124mglob_fit_dic\u001b[39m\u001b[38;5;124m'\u001b[39m][data_type\u001b[38;5;241m+\u001b[39mana_type][\u001b[38;5;124m'\u001b[39m\u001b[38;5;124mmod_prop\u001b[39m\u001b[38;5;124m'\u001b[39m] \u001b[38;5;241m=\u001b[39m {}        \n",
      "\u001b[0;31mTypeError\u001b[0m: unhashable type: 'dict'"
     ]
    }
   ],
   "source": [
    "input_nbook['DI_trend'].update({\n",
    "    'FWHM': {'deg' : 0,'coord' : 'snr'},\n",
    "    'contrast':{'deg' : 1,'coord' : 'snr'},\n",
    "    'rv_res':   {'deg' : 1,'coord' : 'phaseTOI421c'},    \n",
    "})\n",
    "\n",
    "ANTARESS_nbook_bground.ana_jointprop(input_nbook,'DI')"
   ]
  },
  {
   "cell_type": "markdown",
   "id": "bb85eef0-9c1c-49d5-af0b-bd59fde13127",
   "metadata": {},
   "source": [
    "**Systemic velocity**\n",
    "\n",
    "The residual rv fitted with the trend model are calculated by subtracting the centroids of the disk-integrated lines, defined in the solar barycentric rest frame, and the Keplerian rv model based on your input [planet properties](https://gitlab.unige.ch/spice_dune/antaress/-/blob/main/Notebooks/ANTARESS_nbook_setup.ipynb) and systemic rv.\n",
    "\n",
    "If this is your first run of the notebook, set the systemic rv `gamma` to 0 km/s. \n",
    "The zeroth-order coefficient of the residual rv fit will correspond to the systemic rv measured for your dataset, which you can then set `gamma` to."
   ]
  },
  {
   "cell_type": "code",
   "execution_count": null,
   "id": "23024a8d-5967-4a22-9766-03a6f2ef5c5c",
   "metadata": {},
   "outputs": [],
   "source": [
    "input_nbook['par']['gamma'] = 79.403893\n",
    "ANTARESS_nbook_bground.set_sysvel(input_nbook)"
   ]
  },
  {
   "cell_type": "markdown",
   "id": "4a51991a-1f14-47f5-9533-0966b3bf3381",
   "metadata": {},
   "source": [
    "**Plotting disk-integrated line properties**\n",
    "\n",
    "Run this cell to plot the time-series of properties derived from the fits to disk-integrated CCFs. \n",
    "Abscissa coordinate is automatically set to the fit coordinate.\n",
    "\n",
    "Use `y_range` to adjust the property range (set to `None` for automatic determination)."
   ]
  },
  {
   "cell_type": "code",
   "execution_count": null,
   "id": "65c33bd3-dfc9-4603-9aef-61836e0d3c27",
   "metadata": {},
   "outputs": [],
   "source": [
    "input_nbook['par']['y_range'] = {\n",
    "    'rv_res':      None, #[-4.,4.],  \n",
    "    'contrast':    None, #[0.4,0.9],  \n",
    "    'FWHM':        None, #[0.,6.]\n",
    "}\n",
    "ANTARESS_nbook_bground.plot_prop(input_nbook,'DI')"
   ]
  },
  {
   "cell_type": "markdown",
   "id": "637791ed-ef5e-472b-86cb-44f5666269a6",
   "metadata": {},
   "source": [
    "<a id='Launch_ANTARESS'></a>\n",
    "# Running ANTARESS"
   ]
  },
  {
   "cell_type": "markdown",
   "id": "732421ef-f7fb-463e-b908-027791dfed50",
   "metadata": {},
   "source": [
    "Run this cell to run the ANTARESS workflow."
   ]
  },
  {
   "cell_type": "code",
   "execution_count": null,
   "id": "1fb08378-d090-43a2-b2e0-81039224982c",
   "metadata": {},
   "outputs": [],
   "source": [
    "from antaress.ANTARESS_launch.ANTARESS_launcher import ANTARESS_launcher\n",
    "ANTARESS_launcher(working_path=input_nbook['working_path'], nbook_dic = input_nbook, exec_comm=False)"
   ]
  },
  {
   "cell_type": "markdown",
   "id": "d7c4d508-a871-4a9c-9ec7-6f0d590d90e6",
   "metadata": {},
   "source": [
    "<a id='Plot_display'></a>\n",
    "# Plot display"
   ]
  },
  {
   "cell_type": "code",
   "execution_count": null,
   "id": "9ea33564-5763-450c-bdc0-6fefbc2ff2e7",
   "metadata": {},
   "outputs": [],
   "source": [
    "from IPython.display import Image,display\n",
    "from IPython.core.display import HTML "
   ]
  },
  {
   "cell_type": "markdown",
   "id": "8c7c54be-3b4f-4e85-9b20-6462bb852a6f",
   "metadata": {},
   "source": [
    "**Disk-integrated CCFs**\n",
    "\n",
    "This plot shows disk-integrated CCFs (blue profile) with their best-fit Gaussian model (dashed black profile), from which are derived the properties showed in the next plots. Blue shaded ranges hilight your selected continuum.\n",
    "\n",
    "Choose the exposure to plot."
   ]
  },
  {
   "cell_type": "code",
   "execution_count": null,
   "id": "6fbdb8a9-42c2-4d9c-97ed-fd155161631c",
   "metadata": {},
   "outputs": [],
   "source": [
    "iexp2plot = 5"
   ]
  },
  {
   "cell_type": "code",
   "execution_count": null,
   "id": "c16389bc-b0b4-4e92-ae96-ae1eca82fec7",
   "metadata": {},
   "outputs": [],
   "source": [
    "path = ANTARESS_nbook_bground.find_exp(iexp2plot, input_nbook['plot_path']+'DI_data/'+input_nbook['par']['instrument']+'_'+input_nbook['par']['night']+'_Indiv/Data/'+input_nbook['par']['type']+'/')\n",
    "if path is not None:display(Image(filename = path))"
   ]
  },
  {
   "cell_type": "markdown",
   "id": "fafeab58-a865-4b9b-92fd-1acdb3e486af",
   "metadata": {},
   "source": [
    "**Disk-integrated line properties**\n",
    "\n",
    "The four plots below show the time-series of rv and rv residuals, contrast, and FWHM derived from the fits to the disk-integrated CCFs. \n",
    "They are plotted as a function of their respective fit coordinate, with the best-fit polynomial model shown as a grey line.\n",
    "If the coordinate is phase, transit contacts are shown as dashed black lines. In-transit exposures are flagged with empty symbols.\n",
    "\n",
    "Outside of the transit, rv should trace the motion of the star with respect to the solar system barycenter (the Keplerian model defined by your inputs for the star and planets is plotted as a solid blue curve). If your star is quiet and measurements are dominated by white noise, rv residuals from the Keplerian model should be evenly spread around 0 m/s. Contrast and FWHM measurements should be evenly spread around their mean out-of-transit value (dashed blue lines). You can assess this by looking at the ratio between the dispersion and mean error over out-of-transit measurements, reported on each plot, which should be close to unity. If that is not the case, find the optimal detrending model.  \n",
    "\n",
    "Inside of the transit the planet occults local regions of the stellar surface, distorting the disk-integrated stellar lines and inducing anomalous deviations in their derived properties. Traditionally, measurements of the sky-projected spin-orbit angle in planetary systems have been performed by analyzing this anomalous signal in RV - but the anomaly may not be detectable with faint, slow-rotating stars and small planets. With ANTARESS, you will be able to analyze directly the planet-occulted stellar profiles to get a higher precision on the transit chord and orbital architecture of the system."
   ]
  },
  {
   "cell_type": "code",
   "execution_count": null,
   "id": "7a9d4272-53ab-43fa-a9b4-7b449fc6ba6a",
   "metadata": {},
   "outputs": [],
   "source": [
    "Image(filename = input_nbook['plot_path']+'DI_prop/rv_'+input_nbook['plots']['prop_DI_rv']['prop_DI_absc']+'.png')"
   ]
  },
  {
   "cell_type": "code",
   "execution_count": null,
   "id": "e9966179-e9f7-4b3e-97c4-7f008f951bc7",
   "metadata": {},
   "outputs": [],
   "source": [
    "Image(filename = input_nbook['plot_path']+'DI_prop/rv_res_'+input_nbook['plots']['prop_DI_rv_res']['prop_DI_absc']+'.png')"
   ]
  },
  {
   "cell_type": "code",
   "execution_count": null,
   "id": "bfb14bba-7ca4-4165-b350-51f22c39b769",
   "metadata": {},
   "outputs": [],
   "source": [
    "Image(filename = input_nbook['plot_path']+'DI_prop/ctrst_'+input_nbook['plots']['prop_DI_ctrst']['prop_DI_absc']+'.png')"
   ]
  },
  {
   "cell_type": "code",
   "execution_count": null,
   "id": "38b89d3c-37a5-4ba8-a749-506f21512256",
   "metadata": {},
   "outputs": [],
   "source": [
    "Image(filename = input_nbook['plot_path']+'DI_prop/FWHM_'+input_nbook['plots']['prop_DI_FWHM']['prop_DI_absc']+'.png')"
   ]
  },
  {
   "cell_type": "code",
   "execution_count": null,
   "id": "a991876f-58c4-447f-8ce2-c288dc1a46d7",
   "metadata": {},
   "outputs": [],
   "source": []
  }
 ],
 "metadata": {
  "kernelspec": {
   "display_name": "Python 3 (ipykernel)",
   "language": "python",
   "name": "python3"
  },
  "language_info": {
   "codemirror_mode": {
    "name": "ipython",
    "version": 3
   },
   "file_extension": ".py",
   "mimetype": "text/x-python",
   "name": "python",
   "nbconvert_exporter": "python",
   "pygments_lexer": "ipython3",
   "version": "3.11.3"
  }
 },
 "nbformat": 4,
 "nbformat_minor": 5
}
