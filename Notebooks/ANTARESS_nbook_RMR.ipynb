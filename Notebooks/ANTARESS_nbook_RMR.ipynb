{
 "cells": [
  {
   "cell_type": "markdown",
   "id": "3e0aad91-71e8-4304-a1ed-4f95c988eafd",
   "metadata": {
    "tags": []
   },
   "source": [
    "# Introduction"
   ]
  },
  {
   "cell_type": "markdown",
   "id": "abdb3678",
   "metadata": {},
   "source": [
    "This notebook allows you to run a simplified version of the ANTARESS workflow, for the following purpose:\n",
    "- performing a Rossiter-McLaughlin Revolutions (RMR) analysis for a transiting planet\n",
    "\n",
    "To use this notebook you need to have extracted intrinsic CCFs from a transit time-series using the [processing notebook](https://gitlab.unige.ch/spice_dune/antaress/-/blob/main/Notebooks/ANTARESS_nbook_processing.ipynb). The default version of this notebook is set up to process the mock dataset generated with ANTARESS [set-up notebook](https://gitlab.unige.ch/spice_dune/antaress/-/blob/main/Notebooks/ANTARESS_nbook_setup_Arda.ipynb) and [mock notebook](https://gitlab.unige.ch/spice_dune/antaress/-/blob/main/Notebooks/ANTARESS_nbook_mock.ipynb). To try it out, copy the directory `Arda/` from `Notebooks/Mock_system/` into the directory of your choice (named, for example, `Working_dir/`) and set `working_path` to this directory location. Otherwise adjust the settings to retrieve your own processed dataset, setting `working_path`, `star_name`, and `pl_name` to the same values that you used to initialize your [observed](https://gitlab.unige.ch/spice_dune/antaress/-/blob/main/Notebooks/ANTARESS_nbook_setup.ipynb) or [mock](https://gitlab.unige.ch/spice_dune/antaress/-/blob/main/Notebooks/ANTARESS_nbook_setup_Arda.ipynb) system.\n",
    "\n",
    "To exploit the workflow to its full capabilities, run its executable with the [configuration files](https://obswww.unige.ch/~bourriev/antaress/doc/html/installation.html)."
   ]
  },
  {
   "cell_type": "code",
   "execution_count": 1,
   "id": "1fc87825-ce0a-442b-b35b-016b5b7df4c2",
   "metadata": {},
   "outputs": [],
   "source": [
    "import ANTARESS_nbook_bground\n",
    "input_nbook = {\n",
    "    'working_path' : '/Users/bourrier/Travaux/ANTARESS/Working_dir/',\n",
    "    'star_name' : 'Arda',\n",
    "    'pl_name' : 'Valinor'\n",
    "}\n",
    "input_nbook=ANTARESS_nbook_bground.load_nbook(input_nbook, 'RMR')"
   ]
  },
  {
   "cell_type": "markdown",
   "id": "650bd127-7db3-42c3-b725-ff2b5cff4f0f",
   "metadata": {},
   "source": [
    "The RMR approach consists in three successive steps:\n",
    "\n",
    "- fitting the intrinsic stellar line in each exposure\n",
    "- fitting the derived series of line properties\n",
    "- performing a joint fit to all intrinsic stellar lines\n",
    "\n",
    "Fits can be performed using a MCMC (`fit_mode = \"MCMC\"`) rather than the default least-square minimization (`fit_mode = \"chi2\"`). When running a MCMC you may adjust the default number of walkers, their steps, and the burn-in phase by uncommenting the `mcmc_set` dictionary. Check the MCMC chains to adjust these numbers, depending on your dataset quality and the number of free parameters. Since running a MCMC may take some time, you can set `calc_fit` to `False` once the MCMC is done and you only want to manipulate the [plots](#Plot_display).\n",
    "\n",
    "Default priors for the fitted parameters can be overwritten by uncommenting the `priors` field, and defining lower and upper boundaries for the uniform prior ranges. \n",
    "\n",
    "After setting up a step, [run ANTARESS](#Launch_ANTARESS) and use the fit results and associated plots to prepare the next step. The run log will display the median, 1-$\\sigma$ errors, and associated confidence intervals for each fitted parameter. "
   ]
  },
  {
   "cell_type": "markdown",
   "id": "aa611380-8be6-4069-ac0a-d54160c1f93d",
   "metadata": {
    "tags": []
   },
   "source": [
    "# Step 1 : individual profiles fits"
   ]
  },
  {
   "cell_type": "markdown",
   "id": "4c070f05-a75f-4985-991e-049931c6c644",
   "metadata": {
    "tags": []
   },
   "source": [
    "**Analysis**\n",
    "\n",
    "Run this cell to perform a Gaussian fit to each intrinsic CCF, and derive the rv, FWHM, and contrast of the average stellar line from regions occulted along the transit chord. Step 1 and 2 are used to identify which exposures should be included in the joint profile fit (Step 3), by assessing the quality of individual intrinsic CCFs and the series of derived line properties. \n",
    "\n",
    "Intrinsic CCFs are usually measured with low S/N, in which case it is advised to run the fits using a MCMC. This step settings can be adjusted based on the plots, as well as the MCMC chains and corner plots in `/Working_dir/Star/Planet_Saved_data/Introrig_prop/instrument_night_mcmc/iexp*/`.\n",
    "\n",
    "Although the Gaussian model used here includes instrumental convolution, it is an approximation compared to using ANTARESS numerical stellar grid (as in done in the full workflow, and in Step 3 for the joint profile fit). Here we do not account in particular for the blurring induced by the planet motion, which is significant for long exposure times and fast-rotators. Use the configuration file if you want to fit more finely individual intrinsic profiles. "
   ]
  },
  {
   "cell_type": "code",
   "execution_count": 2,
   "id": "5792ecd1-587d-475b-8fb8-391ad0a01fe4",
   "metadata": {},
   "outputs": [],
   "source": [
    "## Uncomment to use the MCMC\n",
    "input_nbook['par']['fit_mode'] = 'mcmc'\n",
    "\n",
    "## Uncomment to adjust the MCMC chains (default nwalkers = 50, nsteps = 1000, nburn = 200)\n",
    "input_nbook['par']['mcmc_set']={'nwalkers':20,'nsteps':800,'nburn':200} \n",
    "\n",
    "## Uncomment to set your own priors\n",
    "input_nbook['par']['priors']={        \n",
    "    'rv':   {'low':-4.0,'high':4.0},    \n",
    "    'FWHM': {'low': 0.5,'high':4.5},\n",
    "    'ctrst':{'low': 0.4,'high':0.9}}\n",
    "\n",
    "# Set to True to run the fit, and to False to retrieve its results\n",
    "input_nbook['par']['calc_fit'] = True  \n",
    "\n",
    "ANTARESS_nbook_bground.ana_prof(input_nbook,'Intr')"
   ]
  },
  {
   "cell_type": "markdown",
   "id": "7704a2c3-28ac-4012-a120-2653747e7c33",
   "metadata": {
    "tags": []
   },
   "source": [
    "**Plotting**\n",
    "\n",
    "Run this cell to plot the intrinsic CCF series with their best fits.\n",
    "\n",
    "Adjust `x_range` to the rv range of the profiles. Use `y_range` to adjust the flux range of the CCFs (vertical axis), or set to `None` for automatic determination."
   ]
  },
  {
   "cell_type": "code",
   "execution_count": 3,
   "id": "0d49b4cc-b27e-4e1e-b5c0-5155ff7d2080",
   "metadata": {},
   "outputs": [],
   "source": [
    "input_nbook['par']['x_range'] = [-31.,31.]\n",
    "input_nbook['par']['y_range'] = [0.4,1.1]\n",
    "ANTARESS_nbook_bground.plot_prof(input_nbook,'Intr_prof')"
   ]
  },
  {
   "cell_type": "markdown",
   "id": "32e54492-f445-423f-87b4-b6eb385838ff",
   "metadata": {
    "tags": []
   },
   "source": [
    "# Step 2 : properties fit"
   ]
  },
  {
   "cell_type": "markdown",
   "id": "7ee7ea11-2b06-4ddf-b64a-6097bbf75b35",
   "metadata": {
    "tags": []
   },
   "source": [
    "**Analysis**\n",
    "\n",
    "Run this cell to fit the series of rv, contrast, and FWHM derived in Step 1. Step 2 is used to determine the best models describing variations of these properties along the transit chord, which will then be used in the joint profile fit (Step 3). Guess values for the joint fit can further be informed by the results of Step 2.\n",
    "\n",
    "You can fit all in-transit exposures by setting `idx_in_fit` to `all`. However the occulted stellar lines and their derived properties may be so noisy in some exposures, especially at the stellar limbs, that they do not bring any constraints. It also happens that the planet only occults the star for a small fraction of the ingress/egress exposures, as in the example mock dataset, so that the model planet does not transit. In that case, you can change `idx_in_fit` to a list of the exposure indexes to fit (counted from 0 from the first in-transit exposure). If the star is too faint or the planet too small, all properties may be derived with a precision that is too low to analyze them here. In that case, skip Step 2 and apply directly the joint profile fit with the simplest models describing the line properties. \n",
    "\n",
    "Property models are controlled by parameters `x`, for which you must define a range [${\\rm x}_{\\rm low}$,${\\rm x}_{\\rm high}$] in the `mod_prop` dictionary. If you run a ${\\chi}^{2}$ fit, it will be initialized with the mean of this range. If you run a MCMC fit, its walkers will be initialized over this range. If the data allows it you can increase the complexity of the models by uncommenting additional parameters, as described below.\n",
    "\n",
    "- The intrinsic rv series traces the motion of the stellar surface along the transit chord, and thus depends on the sky-projected angle `lambda` (in degrees) between the stellar spin and orbital normal, and on the sky-projected stellar rotational velocity `veq` (in km/s). Here we assume solid-body rotation for the star, so that the stellar inclination is degenerate and fixed to 90$^{\\circ}$. The rv model can be modulated by stellar differential rotation, in which case you can break this degeneracy and fit for `istar` (in degrees) and the coefficient `alpha` (0 corresponds to solid rotation, 1 to the poles not rotating). The rv model can further be modulated by convective blueshift, defined as a polynomial of the center-to-limb angle for which you can control the linear or quadratic coefficients `c1_CB` and `c2_CB` (in km/s).\n",
    "\n",
    "- The intrinsic contrast and FWHM series trace the shape of the planet-occulted stellar lines along the transit chord. They are modelled as polynomials of the center-to-limb angle for which you can control the coefficients `x_i`, with `i`$\\ge0$.\n",
    "\n",
    "This step settings can be adjusted based on the plots, as well as the MCMC chains and corner plots in `/Working_dir/Star/Planet_Saved_data/Joined_fits/IntrProp/mcmc/x/`.\n",
    "\n"
   ]
  },
  {
   "cell_type": "code",
   "execution_count": 4,
   "id": "a0387133-6776-48a3-8d00-3377f6caba2d",
   "metadata": {},
   "outputs": [],
   "source": [
    "# Exposures to be fitted\n",
    "input_nbook['par']['idx_in_fit'] = range(1,25)\n",
    "\n",
    "## Uncomment to use the MCMC\n",
    "input_nbook['par']['fit_mode'] = 'mcmc'\n",
    "\n",
    "## Uncomment to adjust the MCMC chains (default nwalkers = 50, nsteps = 1000, nburn = 200)\n",
    "input_nbook['par']['mcmc_set']={'nwalkers':20,'nsteps':1500,'nburn':500} \n",
    "\n",
    "# Surface RV: main parameters\n",
    "input_nbook['par']['mod_prop']={ \n",
    "    'veq':   [0.,10.],\n",
    "    'lambda':[-180.,180.]    \n",
    "}\n",
    "\n",
    "## Surface RV: convective blueshift\n",
    "#input_nbook['par']['mod_prop']['c1_CB']=[-1.,1.] \n",
    "#input_nbook['par']['mod_prop']['c2_CB']=[-1.,1.]\n",
    "\n",
    "## Surface RV: differential rotation\n",
    "#input_nbook['par']['mod_prop']['alpha']=[0.,0.2] \n",
    "#input_nbook['par']['mod_prop']['istar']=[-90.,90.]\n",
    "\n",
    "# Intrinsic line contrast and FWHM: polynomial coefficients\n",
    "input_nbook['par']['mod_prop']['contrast_0']=[0.5,1.]   \n",
    "#input_nbook['par']['mod_prop']['contrast_1']=[-1.,1.]   \n",
    "input_nbook['par']['mod_prop']['FWHM_0']=[1.,6.]   \n",
    "#input_nbook['par']['mod_prop']['FWHM_1']=[-5.,5.]\n",
    "\n",
    "## Uncomment to set your own priors\n",
    "input_nbook['par']['priors']={        \n",
    "    'veq':       {'low':1.,   'high':5.},  \n",
    "    'lambda':    {'low':-180.,'high':180.},  \n",
    "    'contrast_0':{'low':0.5,  'high':1.},    \n",
    "    'FWHM_0':    {'low':0.,   'high':8.}}\n",
    "\n",
    "# Set to True to run the fit, and to False to retrieve its results\n",
    "input_nbook['par']['calc_fit'] = True \n",
    "\n",
    "ANTARESS_nbook_bground.ana_jointprop(input_nbook,'Intr')"
   ]
  },
  {
   "cell_type": "markdown",
   "id": "ca43b388-8e97-4888-a77b-343041448924",
   "metadata": {
    "tags": []
   },
   "source": [
    "**Plotting**\n",
    "\n",
    "Run this cell to plot the series of intrinsic properties and their best-fit models. \n",
    "\n",
    "Use `x_range` to adjust the phase range and `y_range` to adjust the property range (set to `None` for automatic determination)."
   ]
  },
  {
   "cell_type": "code",
   "execution_count": 5,
   "id": "ad3d6268-1300-4a44-9c26-81f4a7c4561e",
   "metadata": {},
   "outputs": [],
   "source": [
    "input_nbook['par']['x_range'] = [-0.018,0.018]\n",
    "input_nbook['par']['y_range'] = {\n",
    "    'rv':      [-4.,4.],  \n",
    "    'contrast':[0.4,0.9],  \n",
    "    'FWHM':    [0.,6.]}\n",
    "ANTARESS_nbook_bground.plot_prop(input_nbook,'Intr')"
   ]
  },
  {
   "cell_type": "markdown",
   "id": "4c3ac319-1aa5-4f95-992f-35c467409071",
   "metadata": {
    "tags": []
   },
   "source": [
    "# Step 3 : joint profiles fit"
   ]
  },
  {
   "cell_type": "markdown",
   "id": "c50fac4b-c6dd-4b09-96dd-3280769a4454",
   "metadata": {
    "tags": []
   },
   "source": [
    "**Analysis**\n",
    "\n",
    "Run this cell to fit a joint model of the planet-occulted lines to all exposures that you request with `idx_in_fit`, based on your analysis from the Steps 1 and 2. Results from Step 2 can further be used to define, initialize, and constrain the parameters controlling the line properties models.\n",
    "\n",
    "It is advised to run the fit through a MCMC, which you can set up after a preliminary run by checking the MCMC chains in `/Working_dir/Star/Planet_Saved_data/Joined_fits/IntrProf/mcmc/`. Best-fit values and associated uncertainties can be read in the log, or retrieved with additional information in the file `Outputs` file of the above directory.\n",
    "\n",
    "This notebook assumes a simple Gaussian profile for the intrinsic lines, with default properties for ANTARESS stellar grid that may not be optimal for your dataset. Additional options are available through the workflow configuration file. "
   ]
  },
  {
   "cell_type": "code",
   "execution_count": 6,
   "id": "01d58231-7341-46a4-a77f-c4f415f8b03b",
   "metadata": {},
   "outputs": [],
   "source": [
    "# Exposures to be fitted\n",
    "input_nbook['par']['idx_in_fit'] = range(1,25)\n",
    "\n",
    "## Uncomment to use the MCMC\n",
    "input_nbook['par']['fit_mode'] = 'mcmc'\n",
    "\n",
    "# Uncomment to adjust the MCMC chains (default nwalkers = 3 x number of free parameters, nsteps = 5000, nburn = 1000)    \n",
    "input_nbook['par']['mcmc_set']={'nwalkers':20,'nsteps':1500,'nburn':500} \n",
    "\n",
    "# Model parameters\n",
    "input_nbook['par']['mod_prop']={ \n",
    "    'veq':       [0.,5.],\n",
    "#    'cos_istar':[-1.,1.],    \n",
    "    'lambda':    [0.,90.],\n",
    "    'contrast_0':[0.2,0.8],    \n",
    "    'FWHM_0':    [1.,4.]}   \n",
    "\n",
    "## Uncomment to set your own priors\n",
    "input_nbook['par']['priors']={        \n",
    "    'veq':       {'low':0.,'high':10.},\n",
    "#    'cos_istar':{'low':-1.,'high':1},\n",
    "    'lambda':    {'low':-360.,'high':360.},  \n",
    "    'contrast_0':{'low':0.,'high':1.},    \n",
    "    'FWHM_0':    {'low':0.,'high':10.}}\n",
    "\n",
    "# Set to True to run the fit, and to False to retrieve its results\n",
    "input_nbook['par']['calc_fit'] = True \n",
    "\n",
    "ANTARESS_nbook_bground.ana_jointprof(input_nbook,'Intr')"
   ]
  },
  {
   "cell_type": "markdown",
   "id": "38d105f6-2045-4352-854d-171b3a7c96f5",
   "metadata": {
    "tags": []
   },
   "source": [
    "**Plotting**"
   ]
  },
  {
   "cell_type": "markdown",
   "id": "7463e76f-87f8-491b-98e3-f478ca321c24",
   "metadata": {
    "tags": []
   },
   "source": [
    "The next cells set up phase vs rv maps plots.\n",
    "Use `x_range` to adjust the rv range of the maps and `v_range` to adjust their flux range (corresponding to the map color scale)."
   ]
  },
  {
   "cell_type": "code",
   "execution_count": 7,
   "id": "fa602968-045e-41e6-8bff-e4a2236a77a8",
   "metadata": {},
   "outputs": [],
   "source": [
    "input_nbook['par']['x_range'] = [-31.,31.]"
   ]
  },
  {
   "cell_type": "markdown",
   "id": "6d967277-a0db-4359-a094-375fef775141",
   "metadata": {
    "tags": []
   },
   "source": [
    "Run the cell below cell to plot a map of intrinsic CCFs."
   ]
  },
  {
   "cell_type": "code",
   "execution_count": 8,
   "id": "8c7b72c2-a8f5-4185-acdd-ab29d485160d",
   "metadata": {},
   "outputs": [],
   "source": [
    "input_nbook['par']['v_range'] = [0.4,1.1]\n",
    "ANTARESS_nbook_bground.plot_map(input_nbook,'Intr_prof')"
   ]
  },
  {
   "cell_type": "markdown",
   "id": "8fee986a-099f-4986-9747-29d9b2073280",
   "metadata": {
    "tags": []
   },
   "source": [
    "**Skip the next plotting cells if you have not yet performed the joint fit in Step 3**"
   ]
  },
  {
   "cell_type": "markdown",
   "id": "ed16829e-eefc-4c6c-9c2e-73f392ae3c14",
   "metadata": {
    "tags": []
   },
   "source": [
    "Run the cell below to generate the model intrinsic CCFs that correspond to your best joint fit. This is required for the next two plots."
   ]
  },
  {
   "cell_type": "code",
   "execution_count": 9,
   "id": "f044f09c-41e2-4d00-8843-25a26406c95b",
   "metadata": {},
   "outputs": [],
   "source": [
    "ANTARESS_nbook_bground.loc_prof_est(input_nbook)"
   ]
  },
  {
   "cell_type": "markdown",
   "id": "25b22b73-38a4-4513-b872-ae6a0645a05c",
   "metadata": {
    "tags": []
   },
   "source": [
    "Run the cell below to plot a map of your model intrinsic CCFs."
   ]
  },
  {
   "cell_type": "code",
   "execution_count": 10,
   "id": "30f8a589-1c54-4763-8c31-0a47f6e313cc",
   "metadata": {},
   "outputs": [],
   "source": [
    "input_nbook['par']['v_range'] = [0.4,1.1]\n",
    "ANTARESS_nbook_bground.plot_map(input_nbook,'Intr_prof_est')"
   ]
  },
  {
   "cell_type": "markdown",
   "id": "78415a30-700a-4000-a75e-1309c6499fac",
   "metadata": {
    "tags": []
   },
   "source": [
    "Run the cell below to plot a map of residuals between your fitted and model intrinsic CCFs."
   ]
  },
  {
   "cell_type": "code",
   "execution_count": 11,
   "id": "32e8092d-fb7a-4e05-b6db-e4bb5e2b9e13",
   "metadata": {},
   "outputs": [],
   "source": [
    "input_nbook['par']['v_range'] = [-1700,1700]\n",
    "ANTARESS_nbook_bground.plot_map(input_nbook,'Intr_prof_res')"
   ]
  },
  {
   "cell_type": "markdown",
   "id": "358e1bd6",
   "metadata": {},
   "source": [
    "<a id='Launch_ANTARESS'></a>\n",
    "# Running ANTARESS"
   ]
  },
  {
   "cell_type": "markdown",
   "id": "5f9fdb71",
   "metadata": {},
   "source": [
    "Run this cell to run the ANTARESS workflow."
   ]
  },
  {
   "cell_type": "code",
   "execution_count": null,
   "id": "60c14bb1-9e0a-4f17-8f62-6fe7b986e397",
   "metadata": {
    "tags": []
   },
   "outputs": [],
   "source": [
    "from antaress.ANTARESS_launch.ANTARESS_launcher import ANTARESS_launcher\n",
    "ANTARESS_launcher(working_path=input_nbook['working_path'], nbook_dic = input_nbook, exec_comm=False)"
   ]
  },
  {
   "cell_type": "markdown",
   "id": "8fe20ca0-b976-4507-8303-e0aa703f685c",
   "metadata": {},
   "source": [
    "<a id='Plot_display'></a>\n",
    "# Plot display"
   ]
  },
  {
   "cell_type": "code",
   "execution_count": null,
   "id": "abf010ec-2e50-4282-a87c-37607673b6b1",
   "metadata": {
    "tags": []
   },
   "outputs": [],
   "source": [
    "from IPython.display import Image\n",
    "from IPython.core.display import HTML "
   ]
  },
  {
   "cell_type": "markdown",
   "id": "a5c6ed3a-a238-426c-9360-c632503e1924",
   "metadata": {},
   "source": [
    "Run the cells below to show saved plots."
   ]
  },
  {
   "cell_type": "markdown",
   "id": "7310670a-f530-4682-9db6-9ae6b12f50e6",
   "metadata": {},
   "source": [
    "**Intrinsic CCF series**\n",
    "\n",
    "This plot shows the time-series of intrinsic CCFs (blue profiles) with their best-fit Gaussian models (dashed black profiles), from which are derived the properties showed in the next plots."
   ]
  },
  {
   "cell_type": "code",
   "execution_count": null,
   "id": "81376016-d05f-487e-b138-e68be9590028",
   "metadata": {
    "tags": []
   },
   "outputs": [],
   "source": [
    "Image(filename = input_nbook['plot_path']+'Intr_data/'+input_nbook['par']['instrument']+'_'+input_nbook['par']['night']+'_Indiv/Data/'+input_nbook['par']['type']+'/phase.gif')"
   ]
  },
  {
   "cell_type": "markdown",
   "id": "89653cb5-b480-48a1-81ef-ed904347b5c3",
   "metadata": {},
   "source": [
    "**Intrinsic line properties**\n",
    "\n",
    "The three plots below show the time-series of rv, contrast, and FWHM derived from the fits to intrinsic CCFs, which directly trace the properties of the photosphere along the transit chord. Transit contacts are shown as dashed black lines.\n",
    "\n",
    "The dashed orange lines show the best-fit models you derived for each property series (if run in Step 2). You can see how the decreasing intensity at the stellar limb, combined with its partial occultation by the planet, leads to intrinsic properties being derived at a lower precision. For smaller planets and fainter stars all exposures may yield a poor fit individually, making it hazardous to interpret the property time series. Fortunately, useful information can still be retrieved from these exposures by fitting the time series of intrinsic line profiles with a joint model through a joint fit to all CCF profiles. The dashed black lines show the properties associated with this global best fit (if run in Step 3)."
   ]
  },
  {
   "cell_type": "code",
   "execution_count": null,
   "id": "ef97b7d4-d3e6-46f9-b10a-b6e3e09cd59e",
   "metadata": {
    "tags": []
   },
   "outputs": [],
   "source": [
    "Image(filename = input_nbook['plot_path']+'Intr_prop/rv_phase.png')"
   ]
  },
  {
   "cell_type": "code",
   "execution_count": null,
   "id": "e41fbdc1-b4f0-467f-80a6-261629258a63",
   "metadata": {
    "tags": []
   },
   "outputs": [],
   "source": [
    "Image(filename = input_nbook['plot_path']+'Intr_prop/ctrst_phase.png')"
   ]
  },
  {
   "cell_type": "code",
   "execution_count": null,
   "id": "9104b8a6-ae52-42f4-9681-b5096ff0def5",
   "metadata": {
    "tags": []
   },
   "outputs": [],
   "source": [
    "Image(filename = input_nbook['plot_path']+'Intr_prop/FWHM_phase.png')"
   ]
  },
  {
   "cell_type": "markdown",
   "id": "8aded982-46e9-4ce4-a56c-bbd0469a3057",
   "metadata": {},
   "source": [
    "**Intrinsic CCF maps**\n",
    "\n",
    "The first plot shows the series of intrinsic CCFs as a function of rv in the star rest frame and orbital phase, colored with flux. The solid green line traces the centroid of the model stellar lines occulted by the planet, as derived from your best RM Revolutions fit to the full dataset (shown in the second plot). The third plot shows the residual values between the processed and model intrinsic CCFs."
   ]
  },
  {
   "cell_type": "code",
   "execution_count": null,
   "id": "40ff4f06-dd33-4a55-8517-b1898f5b0eff",
   "metadata": {
    "tags": []
   },
   "outputs": [],
   "source": [
    "Image(filename = input_nbook['plot_path']+'Intr_data/'+input_nbook['par']['instrument']+'_'+input_nbook['par']['night']+'_Map/Data/'+input_nbook['par']['type']+'/iord0.png')"
   ]
  },
  {
   "cell_type": "code",
   "execution_count": null,
   "id": "6c9d2a35-3147-4cae-b92f-b7dca2a42d1a",
   "metadata": {
    "tags": []
   },
   "outputs": [],
   "source": [
    "Image(filename = input_nbook['plot_path']+'Intr_data/'+input_nbook['par']['instrument']+'_'+input_nbook['par']['night']+'_Map/Model/'+input_nbook['par']['type']+'/iord0_glob_mod_rec.png')"
   ]
  },
  {
   "cell_type": "code",
   "execution_count": null,
   "id": "7f2df184-3176-4e98-a82e-52a29427314a",
   "metadata": {
    "tags": []
   },
   "outputs": [],
   "source": [
    "Image(filename = input_nbook['plot_path']+'Intr_data/'+input_nbook['par']['instrument']+'_'+input_nbook['par']['night']+'_Map/Res/'+input_nbook['par']['type']+'/iord0_glob_mod_rec_res.png')"
   ]
  },
  {
   "cell_type": "markdown",
   "id": "24f98f78-4260-4ff7-a152-c7c496c972f7",
   "metadata": {},
   "source": [
    "# Results comparison for the example mock dataset"
   ]
  },
  {
   "cell_type": "markdown",
   "id": "b6afb950-369b-444a-b89a-33c7ede9e47f",
   "metadata": {},
   "source": [
    "If you applied the notebook with default settings, you should have retrieved best-fit values from the RM Revolutions analysis that match the properties used to generate the default mock dataset:\n",
    "- a projected stellar surface velocity `vsini` = 3 km/s\n",
    "- a sky-projected spin-orbit angle `lambda` = 35 degrees\n",
    "- an intrinsic stellar line `contrast` = 0.7\n",
    "- an intrinsic stellar line `FWHM` = 2.5 km/s "
   ]
  }
 ],
 "metadata": {
  "kernelspec": {
   "display_name": "Python 3 (ipykernel)",
   "language": "python",
   "name": "python3"
  },
  "language_info": {
   "codemirror_mode": {
    "name": "ipython",
    "version": 3
   },
   "file_extension": ".py",
   "mimetype": "text/x-python",
   "name": "python",
   "nbconvert_exporter": "python",
   "pygments_lexer": "ipython3",
   "version": "3.11.3"
  },
  "toc": {
   "base_numbering": 1,
   "nav_menu": {},
   "number_sections": true,
   "sideBar": true,
   "skip_h1_title": false,
   "title_cell": "Table of Contents",
   "title_sidebar": "Contents",
   "toc_cell": false,
   "toc_position": {},
   "toc_section_display": true,
   "toc_window_display": true
  }
 },
 "nbformat": 4,
 "nbformat_minor": 5
}
