{
 "cells": [
  {
   "cell_type": "markdown",
   "id": "3e0aad91-71e8-4304-a1ed-4f95c988eafd",
   "metadata": {
    "tags": []
   },
   "source": [
    "# Introduction"
   ]
  },
  {
   "cell_type": "markdown",
   "id": "abdb3678",
   "metadata": {},
   "source": [
    "This notebook allows you to run a simplified version of the ANTARESS workflow, for the following purpose:\n",
    "- performing a Rossiter-McLaughlin Revolutions analysis for a transiting planet\n",
    "\n",
    "To use this notebook you need to have extracted intrinsic CCFs from a transit time-series using the [processing notebook](https://gitlab.unige.ch/spice_dune/antaress/-/blob/main/Notebooks/ANTARESS_nbook_processing.ipynb). The default version of this notebook is set up to process the mock dataset generated with ANTARESS [set-up notebook](https://gitlab.unige.ch/spice_dune/antaress/-/blob/main/Notebooks/ANTARESS_nbook_setup_Arda.ipynb) and [mock notebook](https://gitlab.unige.ch/spice_dune/antaress/-/blob/main/Notebooks/ANTARESS_nbook_mock.ipynb). To try it out, copy the directory `Arda/` from `Notebooks/Mock_system/` into the directory of your choice (named, for example, `Working_dir/`) and set `working_path` to this directory location. Otherwise adjust the settings to retrieve your own processed dataset, setting `working_path`, `star_name`, and `pl_name` to the same values that you used to initialize your [observed](https://gitlab.unige.ch/spice_dune/antaress/-/blob/main/Notebooks/ANTARESS_nbook_setup.ipynb) or [mock](https://gitlab.unige.ch/spice_dune/antaress/-/blob/main/Notebooks/ANTARESS_nbook_setup_Arda.ipynb) system.\n",
    "\n",
    "To exploit the workflow to its full capabilities, run its executable with the [configuration files](https://obswww.unige.ch/~bourriev/antaress/doc/html/installation.html)."
   ]
  },
  {
   "cell_type": "code",
   "execution_count": 1,
   "id": "1fc87825-ce0a-442b-b35b-016b5b7df4c2",
   "metadata": {},
   "outputs": [],
   "source": [
    "import ANTARESS_nbook_bground\n",
    "input_nbook = {\n",
    "    'working_path' : '/Users/bourrier/Travaux/ANTARESS/Working_dir/',\n",
    "    'star_name' : 'Arda',\n",
    "    'pl_name' : 'Valinor'\n",
    "}\n",
    "input_nbook=ANTARESS_nbook_bground.load_nbook(input_nbook, 'RMR')"
   ]
  },
  {
   "cell_type": "markdown",
   "id": "3c3c58d9-770c-4c51-96aa-0c02fb5db0b0",
   "metadata": {
    "tags": []
   },
   "source": [
    "# Analysis and plot display"
   ]
  },
  {
   "cell_type": "markdown",
   "id": "8dca5055",
   "metadata": {
    "tags": []
   },
   "source": [
    "Results from the fits you are going to perform are printed in the log of Section 6 below. For each fitted parameter, the workflow indicates its median and the 1-$\\sigma$ errors and associated intervals from the Highest Density Intervals (when a MCMC has been used)."
   ]
  },
  {
   "cell_type": "markdown",
   "id": "4c070f05-a75f-4985-991e-049931c6c644",
   "metadata": {
    "tags": []
   },
   "source": [
    "**Analysis of intrinsic CCFs**\n",
    "\n",
    "Run this cell to perform a Gaussian fit to each intrinsic CCF. This will return the rv, FWHM, and contrast time-series of the average stellar line from regions occulted along the transit chord, which you can visualize below. \n",
    "\n",
    "Intrinsic CCFs are usually measured with low S/N. In that case, you can run the fits using a MCMC (`fit_mode = \"MCMC\"`) rather than the default least-square minimization (`fit_mode = \"chi2\"`). To overwrite the default priors, you can further uncomment the `priors` field and define the lower and upper boundary of the uniform prior ranges. Look at the time-series of properties plotted below to adjust the priors, or at the MCMC chains and corner plots in the directories `/Working_dir/planet_Saved_data/Introrig_prop/instrument_night_mcmc/iexp*/`. Since running the MCMC may take some time, you can set `calc_fit` to `False` once the MCMC is done and you only want to manipulate the plots.\n",
    "\n",
    "This step is used to identify which exposures should be included in the RM Revolutions fit, by assessing the quality of intrinsic CCFs. The derived stellar line properties can further be analyzed in the next step. Additional stellar line models and fit options are available through the configuration file. "
   ]
  },
  {
   "cell_type": "code",
   "execution_count": 2,
   "id": "5792ecd1-587d-475b-8fb8-391ad0a01fe4",
   "metadata": {},
   "outputs": [],
   "source": [
    "#Uncomment to use the MCMC\n",
    "input_nbook['par']['fit_mode'] = 'mcmc'\n",
    "\n",
    "#Uncomment to set your own priors\n",
    "input_nbook['par']['priors']={        \n",
    "    'rv':{'low':-5.,'high':5.},    \n",
    "    'FWHM':{'low':0.,'high':10.},\n",
    "    'ctrst':{'low':0.,'high':1.}}\n",
    "\n",
    "#Set to True to run the fit, and to False to retrieve its results\n",
    "input_nbook['par']['calc_fit'] = True\n",
    "\n",
    "ANTARESS_nbook_bground.ana_prof(input_nbook,'Intr')"
   ]
  },
  {
   "cell_type": "markdown",
   "id": "7704a2c3-28ac-4012-a120-2653747e7c33",
   "metadata": {
    "tags": []
   },
   "source": [
    "**Plotting intrinsic CCFs**\n",
    "\n",
    "Run this cell to plot the intrinsic CCF series with their best fits. Uncomment `y_range` to adjust the flux range of the CCFs (vertical axis). "
   ]
  },
  {
   "cell_type": "code",
   "execution_count": 3,
   "id": "0d49b4cc-b27e-4e1e-b5c0-5155ff7d2080",
   "metadata": {},
   "outputs": [],
   "source": [
    "input_nbook['par']['y_range'] = [0.2,1.5] \n",
    "ANTARESS_nbook_bground.plot_prof(input_nbook,'Intr_prof')"
   ]
  },
  {
   "cell_type": "markdown",
   "id": "7ee7ea11-2b06-4ddf-b64a-6097bbf75b35",
   "metadata": {
    "tags": []
   },
   "source": [
    "**Analysis of intrinsic properties**\n",
    "\n",
    "Run this cell to fit the series of rv, contrast, and FWHM derived from the fits to individual intrinsic CCFs. This step is used to determine the best models describing variations of these properties along the transit chord, which will then be used in the global Rossiter-McLaughlin Revolutions fit. Guess values for the global fit can be informed by the results of this step, printed in the log below.\n",
    "\n",
    "The models are controlled by various parameters `x`, for which you must define a range [${\\rm x}_{\\rm low}$,${\\rm x}_{\\rm high}$] in the `mod_prop` dictionary. If you run a least-square fit, it will be initialized with the mean of this range. If you run a MCMC fit, its walkers will be initialized over this range. If the data allows it you can increase the complexity of the models by uncommenting additional parameters, as described below.\n",
    "\n",
    "- The intrinsic rv series traces the motion of the stellar surface along the transit chord, and thus depend on the sky-projected angle `lambda` (in degrees) between the stellar spin and orbital normal, and on the sky-projected stellar rotational velocity `veq` (in km/s). Here we are assuming solid-body rotation for the star, so that the stellar inclination is degenerate and fixed to 90$^{\\circ}$. The rv model can be modulated by stellar differential rotation, in which case you can break this degeneracy and fit for `istar` (in degrees) and the coefficient `alpha` (0 corresponds to solid rotation, 1 to the poles not rotating). The rv model can further be modulated by convective blueshift, defined as a polynomial of the center-to-limb angle for which you can control the linear or quadratic coefficients `c1_CB` and `c2_CB`.\n",
    "\n",
    "- The intrinsic contrast and FWHM series trace the shape of the planet-occulted stellar lines along the transit chord. They are modelled as polynomials of the center-to-limb angle for which you can control the coefficients `x_i`, with `i`$\\ge0$. \n",
    "\n",
    "Depending on the number of parameters and the dataset, you may need to adjust the number of walkers in the MCMC, their steps, and the burn-in phase by uncommenting the `mcmc_set` dictionary. Check the MCMC chains in `/Working_dir/planet_Saved_data/Joined_fits/IntrProp/mcmc/x/` to adjust these numbers. As with the fits to intrinsic CCFs you can overwrite the default MCMC priors for any of the fitted parameters. Once you have run the fit, you can set `calc_fit` to `False` to manipulate the plots. \n",
    "\n",
    "You can fit all in-transit exposures by setting `idx_in_fit` to `all`. However the occulted stellar lines and their derived properties may be so noisy in some exposures, especially at the stellar limbs, that they do not bring any constraint to the fits. It also happens that the planet only occults the star for a small fraction of the ingress/egress exposure, as in the example mock dataset, so that the model planet does not transit. In that case, you can change `idx_in_fit` to the list of indexes indicating which exposures to fit (indexes are counted from 0 from the first in-transit exposure). \n",
    "\n",
    "If the star is too faint or the planet too small, the properties may all be derived with a precision that is too low to analyze them here. In that case, you can apply directly the Revolutions fit with the simplest models to describe these properties. \n",
    "\n",
    "Finally, in this notebook we are using a simple Gaussian profile to fit the intrinsic lines. Although this model includes instrumental convolution, it is an approximation compared to using ANTARESS numerical stellar grid to simulate realistic line profiles, as is done when applying the RM Revolutions fit. Here we do not account in particular for the blurring induced by the planet motion, which is significant for long exposure times and fast-rotators. Use the configuration file if you want to fit more finely individual intrinsic profiles. "
   ]
  },
  {
   "cell_type": "code",
   "execution_count": 4,
   "id": "a0387133-6776-48a3-8d00-3377f6caba2d",
   "metadata": {},
   "outputs": [],
   "source": [
    "#Exposures to be fitted\n",
    "input_nbook['par']['idx_in_fit'] = 'all'\n",
    "\n",
    "#Uncomment to use the MCMC\n",
    "input_nbook['par']['fit_mode'] = 'mcmc'\n",
    "\n",
    "#Uncomment to adjust the MCMC chains (default nwalkers = 50, nsteps = 1000, nburn = 200)\n",
    "input_nbook['par']['mcmc_set']={'nwalkers':10,'nsteps':2000,'nburn':500} \n",
    "\n",
    "#Surface RV: main parameters\n",
    "input_nbook['par']['mod_prop']={ \n",
    "    'veq':[0.,5.],\n",
    "    'lambda':[-180.,180.]    \n",
    "}\n",
    "\n",
    "#Surface RV: convective blueshift\n",
    "#input_nbook['par']['mod_prop']['c1_CB']=[-1.,1.] \n",
    "#input_nbook['par']['mod_prop']['c2_CB']=[-1.,1.]\n",
    "\n",
    "#Surface RV: differential rotation\n",
    "#input_nbook['par']['mod_prop']['alpha']=[0.,0.2] \n",
    "#input_nbook['par']['mod_prop']['istar']=[-90.,90.]\n",
    "\n",
    "#Intrinsic line contrast and FWHM: polynomial coefficients\n",
    "input_nbook['par']['mod_prop']['contrast_0']=[0.4,0.8]   \n",
    "#input_nbook['par']['mod_prop']['contrast_1']=[-1.,1.]   \n",
    "input_nbook['par']['mod_prop']['FWHM_0']=[2.,6.]   \n",
    "#input_nbook['par']['mod_prop']['FWHM_1']=[-5.,5.]\n",
    "\n",
    "#Uncomment to set your own priors\n",
    "input_nbook['par']['priors']={        \n",
    "    'veq':{'low':0.,'high':10.},  \n",
    "    'lambda':{'low':-360.,'high':360.},  \n",
    "    'contrast_0':{'low':0.,'high':1.},    \n",
    "    'FWHM_0':{'low':0.,'high':10.}}\n",
    "\n",
    "#Set to True to run the fit, and to False to retrieve its results\n",
    "input_nbook['par']['calc_fit'] = True\n",
    "\n",
    "ANTARESS_nbook_bground.ana_jointprop(input_nbook,'Intr')"
   ]
  },
  {
   "cell_type": "markdown",
   "id": "ca43b388-8e97-4888-a77b-343041448924",
   "metadata": {
    "tags": []
   },
   "source": [
    "**Plotting intrinsic properties**\n",
    "\n",
    "Run this cell to plot the intrinsic CCF properties and their best-fit models."
   ]
  },
  {
   "cell_type": "code",
   "execution_count": 5,
   "id": "ad3d6268-1300-4a44-9c26-81f4a7c4561e",
   "metadata": {},
   "outputs": [],
   "source": [
    "ANTARESS_nbook_bground.plot_prop(input_nbook,'Intr')"
   ]
  },
  {
   "cell_type": "markdown",
   "id": "c50fac4b-c6dd-4b09-96dd-3280769a4454",
   "metadata": {
    "tags": []
   },
   "source": [
    "**Rossiter-McLaughlin Revolutions**\n",
    "\n",
    "Run this cell to perform a RM Revolution fit to your dataset. A joint model for the occulted line profiles along the transit chord will be fitted to the exposures that you can select with `idx_in_fit`, based on your analysis from the previous step.\n",
    "\n",
    "The model is controlled by the same parameters as for individual intrinsic properties, so that you can define the model here in the same way using the parameters that you identified as relevant in the previous step.\n",
    "\n",
    "It is advised to run the fit through a MCMC, which you can set up after a preliminary run by checking the MCMC chains in `/Working_dir/planet_Saved_data/Joined_fits/IntrProf/mcmc/`.\n",
    "\n",
    "Best-fit values and associated uncertainties can be read in the log below, or retrieved with additional information in the file `/Working_dir/planet_Saved_data/Joined_fits/IntrProf/mcmc/Outputs`.\n",
    "\n",
    "The notebook assumes a simple Gaussian profile to fit intrinsic lines, with default properties for ANTARESS stellar grid. Additional options are available through the configuration file. "
   ]
  },
  {
   "cell_type": "code",
   "execution_count": 6,
   "id": "01d58231-7341-46a4-a77f-c4f415f8b03b",
   "metadata": {},
   "outputs": [],
   "source": [
    "#Exposures to be fitted\n",
    "input_nbook['par']['idx_in_fit'] = 'all'\n",
    "\n",
    "#Uncomment to use the MCMC\n",
    "input_nbook['par']['fit_mode'] = 'mcmc'\n",
    "\n",
    "#Uncomment to adjust the MCMC chains (default nwalkers = 3 x number of free parameters, nsteps = 5000, nburn = 1000)    \n",
    "input_nbook['par']['mcmc_set']={'nwalkers':10,'nsteps':2000,'nburn':500} \n",
    "\n",
    "#Model parameters\n",
    "input_nbook['par']['mod_prop']={ \n",
    "    'veq':[0.,5.],\n",
    "#    'cos_istar':[-1.,1.],    \n",
    "    'lambda':[0.,90.],\n",
    "    'contrast_0':[0.2,0.8],    \n",
    "    'FWHM_0':[1.,4.]}   \n",
    "\n",
    "#Uncomment to set your own priors\n",
    "input_nbook['par']['priors']={        \n",
    "    'veq':{'low':0.,'high':10.},\n",
    "#    'cos_istar':{'low':-1.,'high':1},\n",
    "    'lambda':{'low':-360.,'high':3600.},  \n",
    "    'contrast_0':{'low':0.,'high':1.},    \n",
    "    'FWHM_0':{'low':0.,'high':10.}}\n",
    "\n",
    "#Set to True to run the fit, and to False to retrieve its results\n",
    "input_nbook['par']['calc_fit'] = True\n",
    "\n",
    "ANTARESS_nbook_bground.ana_jointprof(input_nbook,'Intr')"
   ]
  },
  {
   "cell_type": "markdown",
   "id": "7463e76f-87f8-491b-98e3-f478ca321c24",
   "metadata": {
    "tags": []
   },
   "source": [
    "**Plotting intrinsic CCF maps**\n",
    "\n",
    "Run this cell to plot the phase vs RV maps of your intrinsic CCFs.\n",
    "\n",
    "Adjust `v_range` to the flux range of your CCF dataset (corresponding to the color scale in the maps)."
   ]
  },
  {
   "cell_type": "code",
   "execution_count": 7,
   "id": "8c7b72c2-a8f5-4185-acdd-ab29d485160d",
   "metadata": {},
   "outputs": [],
   "source": [
    "input_nbook['par']['v_range'] = [-.5,1.]\n",
    "ANTARESS_nbook_bground.plot_map(input_nbook,'Intr_prof')"
   ]
  },
  {
   "cell_type": "markdown",
   "id": "8fee986a-099f-4986-9747-29d9b2073280",
   "metadata": {
    "tags": []
   },
   "source": [
    "**Plotting model and residual intrinsic CCF maps**\n",
    "\n",
    "Run this cell to generate the model intrinsic CCFs that correspond to the best RMR fit. Note that you first need to perform a RMR fit, and then run the notebook again to build the model (thus, leave the cell commented the first time you use the notebook)."
   ]
  },
  {
   "cell_type": "code",
   "execution_count": 8,
   "id": "f044f09c-41e2-4d00-8843-25a26406c95b",
   "metadata": {},
   "outputs": [],
   "source": [
    "#ANTARESS_nbook_bground.loc_prof_corr(input_nbook)"
   ]
  },
  {
   "cell_type": "markdown",
   "id": "25b22b73-38a4-4513-b872-ae6a0645a05c",
   "metadata": {
    "tags": []
   },
   "source": [
    "Run this cell to plot the phase vs RV maps of your model intrinsic CCFs.\n",
    "\n",
    "Adjust v_range to the flux range of your CCF dataset (corresponding to the color scale in the maps)."
   ]
  },
  {
   "cell_type": "markdown",
   "id": "af7cf0cb-87ab-4633-a2ba-4c6ace2c6445",
   "metadata": {
    "tags": []
   },
   "source": [
    "Run this cell to plot the phase vs RV maps of the residuals between processed and model intrinsic CCFs.\n",
    "\n",
    "Adjust `v_range` to the residual flux range."
   ]
  },
  {
   "cell_type": "code",
   "execution_count": 9,
   "id": "30f8a589-1c54-4763-8c31-0a47f6e313cc",
   "metadata": {},
   "outputs": [],
   "source": [
    "input_nbook['par']['v_range'] = [-0.5,1.]\n",
    "ANTARESS_nbook_bground.plot_map(input_nbook,'Intr_prof_res')"
   ]
  },
  {
   "cell_type": "code",
   "execution_count": 10,
   "id": "32e8092d-fb7a-4e05-b6db-e4bb5e2b9e13",
   "metadata": {},
   "outputs": [],
   "source": [
    "input_nbook['par']['x_range'] = [-31.,31.]\n",
    "ANTARESS_nbook_bground.plot_map(input_nbook,'Intr_prof')"
   ]
  },
  {
   "cell_type": "markdown",
   "id": "358e1bd6",
   "metadata": {},
   "source": [
    "# Running ANTARESS"
   ]
  },
  {
   "cell_type": "markdown",
   "id": "5f9fdb71",
   "metadata": {},
   "source": [
    "Run this cell to run the ANTARESS workflow."
   ]
  },
  {
   "cell_type": "code",
   "execution_count": 11,
   "id": "60c14bb1-9e0a-4f17-8f62-6fe7b986e397",
   "metadata": {
    "tags": []
   },
   "outputs": [
    {
     "name": "stdout",
     "output_type": "stream",
     "text": [
      "****************************************\n",
      "Launching ANTARESS\n",
      "****************************************\n",
      "\n",
      "Multi-threading: 16 threads available\n",
      "Running with artificial data\n",
      "Covariances discounted\n",
      "Study of: Valinor\n",
      "Accounting for Keplerian motion from all planets\n",
      "Automatic definition of T14[Valinor]=2.99 h\n",
      "Default nsub_Dpl[Valinor]=124\n",
      "\n",
      "-----------------------\n",
      "Processing instrument : ESPRESSO\n",
      "-----------------------\n",
      "  Reading and initializing CCFs\n",
      "   > Data resampled on a common spectral table\n",
      "         Calculating data\n",
      "         Initializing visit mockvis\n",
      "            Building exposures ... \n",
      "           Automatic definition of mock line profile\n"
     ]
    },
    {
     "ename": "KeyError",
     "evalue": "'ESPRESSO'",
     "output_type": "error",
     "traceback": [
      "\u001b[0;31m---------------------------------------------------------------------------\u001b[0m",
      "\u001b[0;31mKeyError\u001b[0m                                  Traceback (most recent call last)",
      "Cell \u001b[0;32mIn[11], line 2\u001b[0m\n\u001b[1;32m      1\u001b[0m \u001b[38;5;28;01mfrom\u001b[39;00m \u001b[38;5;21;01mantaress\u001b[39;00m\u001b[38;5;21;01m.\u001b[39;00m\u001b[38;5;21;01mANTARESS_launch\u001b[39;00m\u001b[38;5;21;01m.\u001b[39;00m\u001b[38;5;21;01mANTARESS_launcher\u001b[39;00m \u001b[38;5;28;01mimport\u001b[39;00m ANTARESS_launcher\n\u001b[0;32m----> 2\u001b[0m \u001b[43mANTARESS_launcher\u001b[49m\u001b[43m(\u001b[49m\u001b[43mworking_path\u001b[49m\u001b[38;5;241;43m=\u001b[39;49m\u001b[43minput_nbook\u001b[49m\u001b[43m[\u001b[49m\u001b[38;5;124;43m'\u001b[39;49m\u001b[38;5;124;43mworking_path\u001b[39;49m\u001b[38;5;124;43m'\u001b[39;49m\u001b[43m]\u001b[49m\u001b[43m,\u001b[49m\u001b[43m \u001b[49m\u001b[43mnbook_dic\u001b[49m\u001b[43m \u001b[49m\u001b[38;5;241;43m=\u001b[39;49m\u001b[43m \u001b[49m\u001b[43minput_nbook\u001b[49m\u001b[43m,\u001b[49m\u001b[43m \u001b[49m\u001b[43mexec_comm\u001b[49m\u001b[38;5;241;43m=\u001b[39;49m\u001b[38;5;28;43;01mFalse\u001b[39;49;00m\u001b[43m)\u001b[49m\n",
      "File \u001b[0;32m~/opt/anaconda3/envs/spyder-env/lib/python3.11/site-packages/antaress/ANTARESS_launch/ANTARESS_launcher.py:116\u001b[0m, in \u001b[0;36mANTARESS_launcher\u001b[0;34m(custom_systems, custom_settings, custom_plot_settings, working_path, nbook_dic, exec_comm)\u001b[0m\n\u001b[1;32m    113\u001b[0m \u001b[38;5;66;03m#Run over nominal settings properties\u001b[39;00m\n\u001b[1;32m    114\u001b[0m \u001b[38;5;66;03m#    - notebook settings have already been used to overwrite congiguration settings, and are only passed on to overwrite the plot settings if relevant\u001b[39;00m\n\u001b[1;32m    115\u001b[0m \u001b[38;5;28;01mif\u001b[39;00m \u001b[38;5;129;01mnot\u001b[39;00m gen_dic[\u001b[38;5;124m'\u001b[39m\u001b[38;5;124mgrid_run\u001b[39m\u001b[38;5;124m'\u001b[39m]:\n\u001b[0;32m--> 116\u001b[0m     \u001b[43mANTARESS_main\u001b[49m\u001b[43m(\u001b[49m\u001b[38;5;241;43m*\u001b[39;49m\u001b[43minput_dics\u001b[49m\u001b[43m,\u001b[49m\u001b[43msystem_params\u001b[49m\u001b[43m,\u001b[49m\u001b[43mnbook_dic\u001b[49m\u001b[43m,\u001b[49m\u001b[43mcustom_plot_settings\u001b[49m\u001b[43m)\u001b[49m\n\u001b[1;32m    118\u001b[0m \u001b[38;5;66;03m#Run over a grid of properties\u001b[39;00m\n\u001b[1;32m    119\u001b[0m \u001b[38;5;66;03m#    - will overwrite default and notebook configuration settings\u001b[39;00m\n\u001b[1;32m    120\u001b[0m \u001b[38;5;28;01melse\u001b[39;00m:\n\u001b[1;32m    121\u001b[0m     ANTARESS_gridrun(\u001b[38;5;241m*\u001b[39minput_dics,system_params,nbook_dic,custom_plot_settings)\n",
      "File \u001b[0;32m~/opt/anaconda3/envs/spyder-env/lib/python3.11/site-packages/antaress/ANTARESS_process/ANTARESS_main.py:105\u001b[0m, in \u001b[0;36mANTARESS_main\u001b[0;34m(data_dic, mock_dic, gen_dic, theo_dic, plot_dic, glob_fit_dic, detrend_prof_dic, corr_spot_dic, system_param, input_dic, custom_plot_settings)\u001b[0m\n\u001b[1;32m    102\u001b[0m \u001b[38;5;28mprint\u001b[39m(\u001b[38;5;124m'\u001b[39m\u001b[38;5;124m-----------------------\u001b[39m\u001b[38;5;124m'\u001b[39m)\n\u001b[1;32m    104\u001b[0m \u001b[38;5;66;03m#Initialize instrument tables and dictionaries\u001b[39;00m\n\u001b[0;32m--> 105\u001b[0m \u001b[43minit_inst\u001b[49m\u001b[43m(\u001b[49m\u001b[43mmock_dic\u001b[49m\u001b[43m,\u001b[49m\u001b[43minst\u001b[49m\u001b[43m,\u001b[49m\u001b[43mgen_dic\u001b[49m\u001b[43m,\u001b[49m\u001b[43mdata_dic\u001b[49m\u001b[43m,\u001b[49m\u001b[43mtheo_dic\u001b[49m\u001b[43m,\u001b[49m\u001b[43mdata_prop\u001b[49m\u001b[43m,\u001b[49m\u001b[43mcoord_dic\u001b[49m\u001b[43m,\u001b[49m\u001b[43msystem_param\u001b[49m\u001b[43m,\u001b[49m\u001b[43mplot_dic\u001b[49m\u001b[43m)\u001b[49m\n\u001b[1;32m    107\u001b[0m \u001b[38;5;66;03m#Spectral data\u001b[39;00m\n\u001b[1;32m    108\u001b[0m \u001b[38;5;28;01mif\u001b[39;00m (\u001b[38;5;124m'\u001b[39m\u001b[38;5;124mspec\u001b[39m\u001b[38;5;124m'\u001b[39m \u001b[38;5;129;01min\u001b[39;00m data_dic[inst][\u001b[38;5;124m'\u001b[39m\u001b[38;5;124mtype\u001b[39m\u001b[38;5;124m'\u001b[39m]):\n\u001b[1;32m    109\u001b[0m \n\u001b[1;32m    110\u001b[0m     \u001b[38;5;66;03m#Estimating instrumental calibration\u001b[39;00m\n",
      "File \u001b[0;32m~/opt/anaconda3/envs/spyder-env/lib/python3.11/site-packages/antaress/ANTARESS_process/ANTARESS_main.py:1980\u001b[0m, in \u001b[0;36minit_inst\u001b[0;34m(mock_dic, inst, gen_dic, data_dic, theo_dic, data_prop, coord_dic, system_param, plot_dic)\u001b[0m\n\u001b[1;32m   1977\u001b[0m args_exp \u001b[38;5;241m=\u001b[39m def_st_prof_tab(\u001b[38;5;28;01mNone\u001b[39;00m,\u001b[38;5;28;01mNone\u001b[39;00m,\u001b[38;5;28;01mNone\u001b[39;00m,deepcopy(fixed_args))\n\u001b[1;32m   1979\u001b[0m \u001b[38;5;66;03m#Initializing stellar profiles\u001b[39;00m\n\u001b[0;32m-> 1980\u001b[0m args_exp \u001b[38;5;241m=\u001b[39m \u001b[43minit_custom_DI_prof\u001b[49m\u001b[43m(\u001b[49m\u001b[43margs_exp\u001b[49m\u001b[43m,\u001b[49m\u001b[43mgen_dic\u001b[49m\u001b[43m,\u001b[49m\u001b[43mparam_exp\u001b[49m\u001b[43m)\u001b[49m\n\u001b[1;32m   1982\u001b[0m \u001b[38;5;66;03m#Initializing broadband scaling of intrinsic profiles into local profiles\u001b[39;00m\n\u001b[1;32m   1983\u001b[0m \u001b[38;5;66;03m#    - defined in forward mode at initialization, or defined in fit mode only if the stellar grid is not updated through the fit\u001b[39;00m\n\u001b[1;32m   1984\u001b[0m \u001b[38;5;66;03m#    - there are no default pipeline tables for this scaling because they depend on the local spectral tables of the line profiles\u001b[39;00m\n\u001b[1;32m   1985\u001b[0m args_exp[\u001b[38;5;124m'\u001b[39m\u001b[38;5;124mFsurf_grid_spec\u001b[39m\u001b[38;5;124m'\u001b[39m] \u001b[38;5;241m=\u001b[39m theo_intr2loc(args_exp[\u001b[38;5;124m'\u001b[39m\u001b[38;5;124mgrid_dic\u001b[39m\u001b[38;5;124m'\u001b[39m],args_exp[\u001b[38;5;124m'\u001b[39m\u001b[38;5;124msystem_prop\u001b[39m\u001b[38;5;124m'\u001b[39m],args_exp,args_exp[\u001b[38;5;124m'\u001b[39m\u001b[38;5;124mncen_bins\u001b[39m\u001b[38;5;124m'\u001b[39m],theo_dic[\u001b[38;5;124m'\u001b[39m\u001b[38;5;124mnsub_star\u001b[39m\u001b[38;5;124m'\u001b[39m])                        \n",
      "File \u001b[0;32m~/opt/anaconda3/envs/spyder-env/lib/python3.11/site-packages/antaress/ANTARESS_grids/ANTARESS_prof_grid.py:371\u001b[0m, in \u001b[0;36minit_custom_DI_prof\u001b[0;34m(fixed_args, gen_dic, param_in)\u001b[0m\n\u001b[1;32m    368\u001b[0m \u001b[38;5;28;01melse\u001b[39;00m:fixed_args[\u001b[38;5;124m'\u001b[39m\u001b[38;5;124mfunc_prof\u001b[39m\u001b[38;5;124m'\u001b[39m] \u001b[38;5;241m=\u001b[39m {inst:dispatch_func_prof(fixed_args[\u001b[38;5;124m'\u001b[39m\u001b[38;5;124mmodel\u001b[39m\u001b[38;5;124m'\u001b[39m][inst]) \u001b[38;5;28;01mfor\u001b[39;00m inst \u001b[38;5;129;01min\u001b[39;00m fixed_args[\u001b[38;5;124m'\u001b[39m\u001b[38;5;124mmodel\u001b[39m\u001b[38;5;124m'\u001b[39m]}\n\u001b[1;32m    370\u001b[0m \u001b[38;5;66;03m#Define profiles in forward mode\u001b[39;00m\n\u001b[0;32m--> 371\u001b[0m \u001b[38;5;28;01mif\u001b[39;00m (\u001b[38;5;129;01mnot\u001b[39;00m fixed_args[\u001b[38;5;124m'\u001b[39m\u001b[38;5;124mfit\u001b[39m\u001b[38;5;124m'\u001b[39m]):\u001b[43minit_st_intr_prof\u001b[49m\u001b[43m(\u001b[49m\u001b[43mfixed_args\u001b[49m\u001b[43m,\u001b[49m\u001b[43mfixed_args\u001b[49m\u001b[43m[\u001b[49m\u001b[38;5;124;43m'\u001b[39;49m\u001b[38;5;124;43mgrid_dic\u001b[39;49m\u001b[38;5;124;43m'\u001b[39;49m\u001b[43m]\u001b[49m\u001b[43m,\u001b[49m\u001b[43mparams\u001b[49m\u001b[43m)\u001b[49m\n\u001b[1;32m    373\u001b[0m \u001b[38;5;66;03m#Fit mode\u001b[39;00m\n\u001b[1;32m    374\u001b[0m \u001b[38;5;66;03m#    - there is no default grid of analytical profiles\u001b[39;00m\n\u001b[1;32m    375\u001b[0m \u001b[38;5;66;03m#      profiles are calculated directly in each cell, but their properties can be pre-calculated either here (if not fitted) or during the fit (if fitted)\u001b[39;00m\n\u001b[1;32m    376\u001b[0m \u001b[38;5;28;01melse\u001b[39;00m:           \n\u001b[1;32m    377\u001b[0m     \u001b[38;5;28;01mfor\u001b[39;00m par \u001b[38;5;129;01min\u001b[39;00m params:\n",
      "File \u001b[0;32m~/opt/anaconda3/envs/spyder-env/lib/python3.11/site-packages/antaress/ANTARESS_grids/ANTARESS_prof_grid.py:505\u001b[0m, in \u001b[0;36minit_st_intr_prof\u001b[0;34m(args, grid_dic, param)\u001b[0m\n\u001b[1;32m    503\u001b[0m vis_list \u001b[38;5;241m=\u001b[39m [args[\u001b[38;5;124m'\u001b[39m\u001b[38;5;124mvis\u001b[39m\u001b[38;5;124m'\u001b[39m]] \u001b[38;5;28;01mif\u001b[39;00m (\u001b[38;5;124m'\u001b[39m\u001b[38;5;124mvis\u001b[39m\u001b[38;5;124m'\u001b[39m \u001b[38;5;129;01min\u001b[39;00m args) \u001b[38;5;28;01melse\u001b[39;00m \u001b[38;5;28mlist\u001b[39m(args[\u001b[38;5;124m'\u001b[39m\u001b[38;5;124mlinevar_par\u001b[39m\u001b[38;5;124m'\u001b[39m][inst]\u001b[38;5;241m.\u001b[39mkeys())\n\u001b[1;32m    504\u001b[0m \u001b[38;5;28;01mfor\u001b[39;00m vis \u001b[38;5;129;01min\u001b[39;00m vis_list:  \n\u001b[0;32m--> 505\u001b[0m     \u001b[38;5;28;01mfor\u001b[39;00m par_loc \u001b[38;5;129;01min\u001b[39;00m \u001b[43margs\u001b[49m\u001b[43m[\u001b[49m\u001b[38;5;124;43m'\u001b[39;49m\u001b[38;5;124;43mlinevar_par\u001b[39;49m\u001b[38;5;124;43m'\u001b[39;49m\u001b[43m]\u001b[49m\u001b[43m[\u001b[49m\u001b[43minst\u001b[49m\u001b[43m]\u001b[49m[vis]:     \n\u001b[1;32m    506\u001b[0m         args[\u001b[38;5;124m'\u001b[39m\u001b[38;5;124mcoeff_line\u001b[39m\u001b[38;5;124m'\u001b[39m][par_loc] \u001b[38;5;241m=\u001b[39m polycoeff_def(param,args[\u001b[38;5;124m'\u001b[39m\u001b[38;5;124mcoeff_ord2name\u001b[39m\u001b[38;5;124m'\u001b[39m][inst][vis][par_loc])\n\u001b[1;32m    507\u001b[0m         args[\u001b[38;5;124m'\u001b[39m\u001b[38;5;124minput_cell_all\u001b[39m\u001b[38;5;124m'\u001b[39m][par_loc] \u001b[38;5;241m=\u001b[39m calc_polymodu(args[\u001b[38;5;124m'\u001b[39m\u001b[38;5;124mpol_mode\u001b[39m\u001b[38;5;124m'\u001b[39m],args[\u001b[38;5;124m'\u001b[39m\u001b[38;5;124mcoeff_line\u001b[39m\u001b[38;5;124m'\u001b[39m][par_loc],grid_dic[\u001b[38;5;124m'\u001b[39m\u001b[38;5;124mlinevar_coord_grid\u001b[39m\u001b[38;5;124m'\u001b[39m]) \n",
      "\u001b[0;31mKeyError\u001b[0m: 'ESPRESSO'"
     ]
    }
   ],
   "source": [
    "from antaress.ANTARESS_launch.ANTARESS_launcher import ANTARESS_launcher\n",
    "ANTARESS_launcher(working_path=input_nbook['working_path'], nbook_dic = input_nbook, exec_comm=False)"
   ]
  },
  {
   "cell_type": "markdown",
   "id": "8fe20ca0-b976-4507-8303-e0aa703f685c",
   "metadata": {},
   "source": [
    "# Plot display"
   ]
  },
  {
   "cell_type": "code",
   "execution_count": null,
   "id": "abf010ec-2e50-4282-a87c-37607673b6b1",
   "metadata": {
    "tags": []
   },
   "outputs": [],
   "source": [
    "from IPython.display import Image\n",
    "from IPython.core.display import HTML "
   ]
  },
  {
   "cell_type": "markdown",
   "id": "a5c6ed3a-a238-426c-9360-c632503e1924",
   "metadata": {},
   "source": [
    "Run the cells below to show saved plots."
   ]
  },
  {
   "cell_type": "markdown",
   "id": "7310670a-f530-4682-9db6-9ae6b12f50e6",
   "metadata": {},
   "source": [
    "**Intrinsic CCF series**\n",
    "\n",
    "This plot shows the series of intrinsic CCFs (blue profiles) with their best-fit Gaussian models (dashed black profiles), from which are derived the properties showed in the next plots."
   ]
  },
  {
   "cell_type": "code",
   "execution_count": null,
   "id": "81376016-d05f-487e-b138-e68be9590028",
   "metadata": {
    "tags": []
   },
   "outputs": [],
   "source": [
    "Image(filename = input_nbook['plot_path']+'Intr_data/'+input_nbook['par']['instrument']+'_'+input_nbook['par']['night']+'_Indiv/Data/CCF/phase.gif')"
   ]
  },
  {
   "cell_type": "markdown",
   "id": "89653cb5-b480-48a1-81ef-ed904347b5c3",
   "metadata": {},
   "source": [
    "**Intrinsic line properties**\n",
    "\n",
    "The three plots below show the time-series of RVs, contrast, and FWHM derived from the fits to intrinsic CCFs, which directly trace the properties of the photosphere along the transit chord. Transit contacts are shown as dashed black lines.\n",
    "\n",
    "The dashed orange lines show the best-fit models you derived for each property series. You can see how the decreasing intensity at the stellar limb, combined with its partial occultation by the planet, leads to intrinsic line properties being derived at a lower precision. For smaller planets and fainter stars all exposures may yield a poor fit individually, making it hazardous to interpret the property time series. Fortunately, useful information can still be retrieved from these exposures by fitting the time series of intrinsic line profiles with a joint model through a RM Revolutions fit. The dashed black lines show the properties associated with this best fit."
   ]
  },
  {
   "cell_type": "code",
   "execution_count": null,
   "id": "ef97b7d4-d3e6-46f9-b10a-b6e3e09cd59e",
   "metadata": {
    "tags": []
   },
   "outputs": [],
   "source": [
    "Image(filename = input_nbook['plot_path']+'Intr_prop/rv_phase.png')"
   ]
  },
  {
   "cell_type": "code",
   "execution_count": null,
   "id": "e41fbdc1-b4f0-467f-80a6-261629258a63",
   "metadata": {
    "tags": []
   },
   "outputs": [],
   "source": [
    "Image(filename = input_nbook['plot_path']+'Intr_prop/ctrst_phase.png')"
   ]
  },
  {
   "cell_type": "code",
   "execution_count": null,
   "id": "9104b8a6-ae52-42f4-9681-b5096ff0def5",
   "metadata": {
    "tags": []
   },
   "outputs": [],
   "source": [
    "Image(filename = input_nbook['plot_path']+'Intr_prop/FWHM_phase.png')"
   ]
  },
  {
   "cell_type": "markdown",
   "id": "8aded982-46e9-4ce4-a56c-bbd0469a3057",
   "metadata": {},
   "source": [
    "**Intrinsic line maps**\n",
    "\n",
    "The first plot shows the series of intrinsic CCFs as a function of RV in the star rest frame and orbital phase, colored with flux. The solid green line traces the centroid of the model stellar lines occulted by the planet, as derived from your best RM Revolutions fit to the full dataset shown in the second plot. The third plot shows the residual values between the processed and model intrinsic CCFs."
   ]
  },
  {
   "cell_type": "code",
   "execution_count": null,
   "id": "40ff4f06-dd33-4a55-8517-b1898f5b0eff",
   "metadata": {
    "tags": []
   },
   "outputs": [],
   "source": [
    "Image(filename = input_nbook['plot_path']+'Intr_data/ESPRESSO_20230624_Map/Data/CCF/iord0.png')"
   ]
  },
  {
   "cell_type": "code",
   "execution_count": null,
   "id": "6c9d2a35-3147-4cae-b92f-b7dca2a42d1a",
   "metadata": {
    "tags": []
   },
   "outputs": [],
   "source": [
    "if input_nbook['par']['loc_prof_corr']:Image(filename = input_nbook['plot_path']+'Intr_data/ESPRESSO_20230624_Map/Model/CCF/iord0_glob_mod_rec.png')"
   ]
  },
  {
   "cell_type": "code",
   "execution_count": null,
   "id": "7f2df184-3176-4e98-a82e-52a29427314a",
   "metadata": {
    "tags": []
   },
   "outputs": [],
   "source": [
    "if input_nbook['par']['loc_prof_corr']:Image(filename = input_nbook['plot_path']+'Intr_data/ESPRESSO_20230624_Map/Res/CCF/iord0_glob_mod_rec_res.png')"
   ]
  },
  {
   "cell_type": "markdown",
   "id": "24f98f78-4260-4ff7-a152-c7c496c972f7",
   "metadata": {},
   "source": [
    "# Results comparison for the example mock dataset"
   ]
  },
  {
   "cell_type": "markdown",
   "id": "b6afb950-369b-444a-b89a-33c7ede9e47f",
   "metadata": {},
   "source": [
    "If you ran the successive steps with relevant settings, you should have retrieved best-fit values from the RM Revolutions analysis that match the properties used to generate the mock dataset:\n",
    "- a projected stellar surface velocity `vsini` = 3 km/s\n",
    "- a sky-projected spin-orbit angle `lambda` = 35 degrees\n",
    "- an intrinsic stellar line `contrast` = 0.7\n",
    "- an intrinsic stellar line `FWHM` = 2.5 km/s "
   ]
  }
 ],
 "metadata": {
  "kernelspec": {
   "display_name": "Python 3 (ipykernel)",
   "language": "python",
   "name": "python3"
  },
  "language_info": {
   "codemirror_mode": {
    "name": "ipython",
    "version": 3
   },
   "file_extension": ".py",
   "mimetype": "text/x-python",
   "name": "python",
   "nbconvert_exporter": "python",
   "pygments_lexer": "ipython3",
   "version": "3.11.3"
  },
  "toc": {
   "base_numbering": 1,
   "nav_menu": {},
   "number_sections": true,
   "sideBar": true,
   "skip_h1_title": false,
   "title_cell": "Table of Contents",
   "title_sidebar": "Contents",
   "toc_cell": false,
   "toc_position": {},
   "toc_section_display": true,
   "toc_window_display": true
  }
 },
 "nbformat": 4,
 "nbformat_minor": 5
}
