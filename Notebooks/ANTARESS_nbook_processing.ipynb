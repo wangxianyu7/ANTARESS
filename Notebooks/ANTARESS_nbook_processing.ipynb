{
 "cells": [
  {
   "cell_type": "markdown",
   "id": "3e0aad91-71e8-4304-a1ed-4f95c988eafd",
   "metadata": {
    "tags": []
   },
   "source": [
    "# Introduction"
   ]
  },
  {
   "cell_type": "markdown",
   "id": "42b455ea-84ad-478f-b183-d0450e119f89",
   "metadata": {},
   "source": [
    "This notebook allows you to run a simplified version of the ANTARESS workflow, to process stellar disk-integrated (DI) profiles during an exoplanet transit with the following steps:\n",
    "- aligning the profiles into the star rest frame\n",
    "- scaling the profiles to their correct relative flux level\n",
    "- extracting differential and intrinsic profiles\n",
    "- computing intrinsic CCFs from spectral profiles\n",
    "\n",
    "This notebook can take as input a time-series of DI echelle spectra (first cleaned with the [reduction notebook](https://gitlab.unige.ch/spice_dune/antaress/-/blob/main/Notebooks/ANTARESS_nbook_sp_reduc.ipynb)) or CCFs (possibly generated with the [mock notebook](https://gitlab.unige.ch/spice_dune/antaress/-/blob/main/Notebooks/ANTARESS_nbook_mock.ipynb)). A typical use of the intrinsic CCFs output by this notebook is to analyze the Rossiter-McLaughlin signal from the transiting planet, which can be done in a simplified way using the [RM notebook](https://gitlab.unige.ch/spice_dune/antaress/-/blob/main/Notebooks/ANTARESS_nbook_RMR.ipynb).  \n",
    "\n",
    "The default version of this notebook is set up to process the default mock dataset provided with ANTARESS. To try it out, copy the directory `Arda/` from `Notebooks/Mock_system/` into the directory of your choice (named, for example, `Working_dir/`) and set `working_path` to this directory location. Otherwise adjust the settings to retrieve your own cleaned dataset, setting `working_path`, `star_name`, and `pl_name` to the same values that you used to initialize your [observed](https://gitlab.unige.ch/spice_dune/antaress/-/blob/main/Notebooks/ANTARESS_nbook_setup.ipynb) or [mock](https://gitlab.unige.ch/spice_dune/antaress/-/blob/main/Notebooks/ANTARESS_nbook_setup_Arda.ipynb) system.\n",
    "\n",
    "To exploit the workflow to its full capabilities, run its executable with the [configuration files](https://obswww.unige.ch/~bourriev/antaress/doc/html/installation.html)."
   ]
  },
  {
   "cell_type": "code",
   "execution_count": 6,
   "id": "f56fd0e2-a1f3-4452-bd41-ae2002254987",
   "metadata": {},
   "outputs": [],
   "source": [
    "import ANTARESS_nbook_bground\n",
    "input_nbook = {\n",
    "    'working_path' : '/Users/bourrier/Travaux/ANTARESS/Working_dir/',\n",
    "    #'star_name' : 'Arda',\n",
    "    #'pl_name' : 'Valinor'\n",
    "    'star_name' : 'TOI421',\n",
    "    'pl_name' : 'TOI421c'\n",
    "}\n",
    "input_nbook=ANTARESS_nbook_bground.load_nbook(input_nbook, 'Processing')"
   ]
  },
  {
   "cell_type": "markdown",
   "id": "11d1baf3-05f8-414c-98f6-7797c7678749",
   "metadata": {
    "tags": []
   },
   "source": [
    "# Processing"
   ]
  },
  {
   "cell_type": "markdown",
   "id": "c0206a8c-2a69-4444-8924-c8521d14df94",
   "metadata": {},
   "source": [
    "**Systemic velocity**\n",
    "\n",
    "Run this cell to set the systemic rv `gamma` (float, in km/s) to the value specific to your visit. `gamma` can vary slightly with the epoch and the instrument, and should thus be derived from each dataset itself rather than set to an external value.\n",
    "\n",
    "Ideally, you should have measured `gamma` using the [DI CCF analysis notebook](https://gitlab.unige.ch/spice_dune/antaress/-/blob/main/Notebooks/ANTARESS_nbook_detrending.ipynb)). If you are using the present notebook with DI CCFs directly, you can also set `gamma` = 0 km/s and [run directly](#Launch_ANTARESS) the workflow. The systemic rv will be printed in ANTARESS log as the weighted mean of the out-of-transit DI CCFs centroids."
   ]
  },
  {
   "cell_type": "code",
   "execution_count": 2,
   "id": "5e8c2851-6fe9-44e1-ba71-e52ae6a04ba5",
   "metadata": {},
   "outputs": [
    {
     "name": "stdout",
     "output_type": "stream",
     "text": [
      "Data in spectral mode: no fit performed\n"
     ]
    }
   ],
   "source": [
    "input_nbook['par']['gamma'] = 10.\n",
    "ANTARESS_nbook_bground.set_sysvel(input_nbook)\n",
    "ANTARESS_nbook_bground.ana_prof(input_nbook,'DI')"
   ]
  },
  {
   "cell_type": "markdown",
   "id": "abc8ea4c-b9fa-45b9-bad1-df153012bf6a",
   "metadata": {},
   "source": [
    "**Alignment in star rest frame**\n",
    "\n",
    "Run this cell to align the DI profiles in the star rest frame. Profiles input into the workflow are typically defined in the Sun barycentric rest frame. Here, they are Doppler-shifted by the systemic rv defined above, and by the Keplerian rv motion induced by all planets you set up for this system."
   ]
  },
  {
   "cell_type": "code",
   "execution_count": 3,
   "id": "1135c75a-fb69-46fd-80db-5120902dbab1",
   "metadata": {},
   "outputs": [],
   "source": [
    "ANTARESS_nbook_bground.align_prof(input_nbook)"
   ]
  },
  {
   "cell_type": "markdown",
   "id": "fb882f8a-0a5c-47d3-bbf6-295d94622fbf",
   "metadata": {},
   "source": [
    "**Flux scaling**\n",
    "\n",
    "Run this cell to scale the DI profiles to their correct relative flux level over the transit. The scaling depends on the limb-darkening coefficients and planet-to-star radius ratio that you set up for the system."
   ]
  },
  {
   "cell_type": "code",
   "execution_count": 7,
   "id": "8016277d-4b87-4e40-b176-2c80ce373de6",
   "metadata": {},
   "outputs": [],
   "source": [
    "ANTARESS_nbook_bground.flux_sc(input_nbook)\n",
    "ANTARESS_nbook_bground.DImast_weight(input_nbook)"
   ]
  },
  {
   "cell_type": "markdown",
   "id": "67688dff-da83-4023-9da7-a70f3b217bea",
   "metadata": {
    "tags": []
   },
   "source": [
    "**Differential profile extraction**\n",
    "\n",
    "Run this cell to extract differential profiles, which are the difference between the master DI out-of-transit profile (representative of the unocculted star) and the DI profiles in each exposure. During transit, differential profiles correspond to the light coming from the planet-occulted regions of the stellar photosphere. "
   ]
  },
  {
   "cell_type": "code",
   "execution_count": null,
   "id": "0038e02c-92a8-4e36-a000-a58395044684",
   "metadata": {},
   "outputs": [],
   "source": [
    "ANTARESS_nbook_bground.extract_diff(input_nbook)"
   ]
  },
  {
   "cell_type": "markdown",
   "id": "0c44d1b8-e84e-4e97-a31d-5f5498a02e46",
   "metadata": {
    "tags": []
   },
   "source": [
    "At this stage, you can define further processing steps below, or you can [run directly](#Launch_ANTARESS) ANTARESS and retrieve the time-series of differential profiles (stored under `/Working_dir/Star/Planet_Saved_data/Diff_data/instrument_night_i.npz`) to fit them outside of the workflow with an atmospheric code like [EvE](https://gitlab.unige.ch/spice_dune/eve/))."
   ]
  },
  {
   "cell_type": "markdown",
   "id": "8944b97a-f36e-4189-b7f1-130eaed437a8",
   "metadata": {
    "tags": []
   },
   "source": [
    "**Intrinsic profile extraction**\n",
    "\n",
    "Run this cell to convert in-transit residual profiles into intrinsic profiles, which are corrected for broadband planetary absorption and stellar intensity variations, and only trace variations in the spectral profile of stellar lines along the transit chord. Use the full workflow to mask narrow absorption lines from the planetary atmosphere, if relevant. "
   ]
  },
  {
   "cell_type": "code",
   "execution_count": null,
   "id": "00f54661-f34d-4b21-9b97-44f1aaf04a59",
   "metadata": {},
   "outputs": [],
   "source": [
    "ANTARESS_nbook_bground.extract_intr(input_nbook)"
   ]
  },
  {
   "cell_type": "markdown",
   "id": "80d6582f-0397-42a7-bc4e-a1fdb3ade45b",
   "metadata": {
    "tags": []
   },
   "source": [
    "At this stage, you can define further processing steps below, or you can [run directly](#Launch_ANTARESS) ANTARESS to generate the intrinsic profiles series (stored under `/Working_dir/Star/Planet_Saved_data/Diff_data/instrument_night_i.npz`, where `i` refers to in-transit indexes). They can be used to characterize spatial variations of the stellar photosphere (rv motions, spectral lines, ...) along the transit chord, using the full workflow or external tools. "
   ]
  },
  {
   "cell_type": "markdown",
   "id": "046c6727-88d9-4ba8-96ea-11dc71ef171c",
   "metadata": {},
   "source": [
    "# Converting intrinsic spectra into CCFs\n"
   ]
  },
  {
   "cell_type": "markdown",
   "id": "deb53421-040d-485a-b673-72c790b8634a",
   "metadata": {},
   "source": [
    "**This step is only relevant if you are processing spectra**\n",
    "\n",
    "Run this cell to cross-correlate intrinsic spectra with a chosen mask. You need to define:\n",
    "\n",
    "+ `start_RV` (float): lower boundary of the CCF RV grid (in km/s), relative to the systemic velocity\n",
    "+ `end_RV` (float): upper boundary of the CCF RV grid (in km/s), relative to the systemic velocity\n",
    "+ `dRV` (float): step size of the CCF RV grid (in km/s). Set to `None` to use instrumental resolution\n",
    "+ `mask_path` (string): path (relative to `'working_path'`) + name of the mask file\n",
    "+ `calc_CCF` (bool): set to `False` to retrieve the CCFs and not calculate them again\n",
    "\n",
    "As an example, we provide the [CCF mask](https://gitlab.unige.ch/spice_dune/antaress/-/blob/main/Notebooks/ESPRESSO_new_G9.fits) used by the ESPRESSO DRS for G9-type stars. You can use it to process the TOI-421 dataset provided with ANTARESS [reduction notebook](https://gitlab.unige.ch/spice_dune/antaress/-/blob/main/Notebooks/ANTARESS_nbook_sp_reduc.ipynb)."
   ]
  },
  {
   "cell_type": "code",
   "execution_count": null,
   "id": "fabe369a-74c4-49e8-a4ae-00d6d3ef9d2e",
   "metadata": {},
   "outputs": [],
   "source": [
    "input_nbook['par'].update({\n",
    "    'start_RV' : -150.,\n",
    "    'end_RV'   :  150.,\n",
    "    'dRV'      : None,\n",
    "    'mask_path': '/ESPRESSO_new_G9.fits',\n",
    "    'calc_CCF' : True,\n",
    "})\n",
    "ANTARESS_nbook_bground.conv_CCF(input_nbook,'Intr')"
   ]
  },
  {
   "cell_type": "markdown",
   "id": "3c3c58d9-770c-4c51-96aa-0c02fb5db0b0",
   "metadata": {
    "tags": []
   },
   "source": [
    "# Plot settings"
   ]
  },
  {
   "cell_type": "markdown",
   "id": "7800a7d7-5257-4296-b433-9372e0cbe489",
   "metadata": {},
   "source": [
    "The following cells allow you to set up the [plot display](#Plot_display) of your dataset.\n",
    "\n",
    "Define the index of the spectrograph order to be plotted (**only relevant with spectra**).\n",
    "\n",
    "Adjust:\n",
    "\n",
    "- `x_range` to the rv or wavelength range of the profiles.\n",
    "- `y_range` to the flux range of the profiles (vertical axis in 1D)  \n",
    "- `v_range` to the flux range of the profiles (color scale in 2D)\n",
    "\n",
    "Or set these fields to `None` for automatic determination."
   ]
  },
  {
   "cell_type": "code",
   "execution_count": null,
   "id": "0d49b4cc-b27e-4e1e-b5c0-5155ff7d2080",
   "metadata": {},
   "outputs": [],
   "source": [
    "input_nbook['par']['iord2plot'] = 113"
   ]
  },
  {
   "cell_type": "markdown",
   "id": "05f6d9ec-f6a6-4252-92fc-0889972ea0a5",
   "metadata": {},
   "source": [
    "**Differential profiles**\n",
    "\n",
    "Run this cell to plot the phase vs rv map of differential profiles."
   ]
  },
  {
   "cell_type": "code",
   "execution_count": null,
   "id": "db33bdf1-d0cf-43db-9931-70b7b5530959",
   "metadata": {},
   "outputs": [],
   "source": [
    "input_nbook['par']['x_range'] = [-31.,31.]\n",
    "input_nbook['par']['v_range'] = [-1e3,26e3] \n",
    "ANTARESS_nbook_bground.plot_map(input_nbook,'Diff_prof')"
   ]
  },
  {
   "cell_type": "markdown",
   "id": "7463e76f-87f8-491b-98e3-f478ca321c24",
   "metadata": {
    "tags": []
   },
   "source": [
    "**Intrinsic profiles**\n",
    "\n",
    "Run this cell to plot the time-series and phase vs rv map of intrinsic profiles."
   ]
  },
  {
   "cell_type": "code",
   "execution_count": null,
   "id": "d54a7aa0-05cb-422d-8283-a1829206b1a1",
   "metadata": {},
   "outputs": [],
   "source": [
    "input_nbook['par']['x_range'] = [-31.,31.]\n",
    "input_nbook['par']['y_range'] = [0.4,1.1]\n",
    "ANTARESS_nbook_bground.plot_prof(input_nbook,'Intr_prof')\n",
    "input_nbook['par']['x_range'] = [-31.,31.]\n",
    "input_nbook['par']['v_range'] = [0.4,1.1]\n",
    "ANTARESS_nbook_bground.plot_map(input_nbook,'Intr_prof')"
   ]
  },
  {
   "cell_type": "markdown",
   "id": "358e1bd6",
   "metadata": {},
   "source": [
    "<a id='Launch_ANTARESS'></a>\n",
    "# Running ANTARESS"
   ]
  },
  {
   "cell_type": "code",
   "execution_count": 8,
   "id": "3c887941-5009-45a6-b3b2-b2841fbb4463",
   "metadata": {},
   "outputs": [
    {
     "name": "stdout",
     "output_type": "stream",
     "text": [
      "****************************************\n",
      "Launching ANTARESS\n",
      "****************************************\n",
      "\n",
      "Multi-threading: 16 threads available\n",
      "Running with observational data\n",
      "Study of: TOI421c\n",
      "Accounting for Keplerian motion from all planets\n",
      "Default nsub_Dpl[TOI421c]=26\n",
      "\n",
      "-----------------------\n",
      "Processing instrument : ESPRESSO\n",
      "-----------------------\n",
      "  Reading and initializing 2D echelle spectra\n",
      "   > Errors propagated from raw data\n",
      "   > Data processed on individual spectral tables for each exposure\n",
      "         Retrieving data\n",
      "         Processing visit 20231106\n",
      "           Date (night start) : 2023/11/06\n",
      "           Visit midpoint: 2460255.75606 BJD\n",
      "           Exposures do not share a common spectral table\n",
      "           54 exposures\n",
      "   > Estimating instrumental calibration\n",
      "         Retrieving data for 20231106\n",
      "   > Correcting spectra for tellurics\n",
      "         Retrieving data for 20231106\n",
      "   > Calculating stellar masters\n",
      "         Retrieving data for 20231106\n",
      "   > Correcting spectra for global flux balance\n",
      "         Retrieving data for 20231106\n",
      "   > Correcting spectra for cosmics\n",
      "         Retrieving data for 20231106\n",
      "   > Correcting ESPRESSO spectra for wiggles\n",
      "         Retrieving data for 20231106\n",
      "  -----------------\n",
      "  Processing visit: 20231106\n",
      "  -----------------\n",
      "   > 54 exposures\n",
      "         29 in-transit\n",
      "         25 out-of-transit (15 pre / 10 post)\n",
      "   > Calculating properties of planet-occulted regions\n",
      "         Calculating data\n",
      "   > Broadband flux scaling\n",
      "         Default transit model\n",
      "         Calculating data\n",
      "   > Calculating master stellar spectrum\n",
      "         Calculating data\n",
      "WARNING: disk-integrated profiles must be aligned\n",
      "         Reference planet for 20231106 binning set to TOI421c\n",
      "End of workflow\n"
     ]
    }
   ],
   "source": [
    "from antaress.ANTARESS_launch.ANTARESS_launcher import ANTARESS_launcher\n",
    "ANTARESS_launcher(working_path=input_nbook['working_path'], nbook_dic = input_nbook, exec_comm=False)"
   ]
  },
  {
   "cell_type": "markdown",
   "id": "36f918f6-0fc2-4e17-a333-e10ad29c27dc",
   "metadata": {},
   "source": [
    "Run the next cell to save the system settings, in case you want to further process your dataset with other notebooks."
   ]
  },
  {
   "cell_type": "code",
   "execution_count": null,
   "id": "faca3019-fb43-45a0-a695-239436dfa1e3",
   "metadata": {},
   "outputs": [],
   "source": [
    "ANTARESS_nbook_bground.save_system(input_nbook)"
   ]
  },
  {
   "cell_type": "markdown",
   "id": "0ea87b53-746b-4cf6-9a26-f3f3224ed177",
   "metadata": {},
   "source": [
    "<a id='Plot_display'></a>\n",
    "# Plot display"
   ]
  },
  {
   "cell_type": "code",
   "execution_count": null,
   "id": "abf010ec-2e50-4282-a87c-37607673b6b1",
   "metadata": {
    "tags": []
   },
   "outputs": [],
   "source": [
    "from IPython.display import Image\n",
    "from IPython.core.display import HTML "
   ]
  },
  {
   "cell_type": "markdown",
   "id": "a5c6ed3a-a238-426c-9360-c632503e1924",
   "metadata": {},
   "source": [
    "Run the cells below to show saved plots."
   ]
  },
  {
   "cell_type": "markdown",
   "id": "7310670a-f530-4682-9db6-9ae6b12f50e6",
   "metadata": {},
   "source": [
    "**Differential profile map**\n",
    "\n",
    "This plot shows the series of differential profiles in phase vs RV or wavelength space, colored with flux. \n",
    "Outside of the transit window (marked by the dashed white lines) the profiles should trace white noise around zero, if the stellar photosphere remained stable during the visit.\n",
    "Within the transit window, profiles vary in flux due to the broadband planetary occultation and stellar intensity variations, and show bright tracks following the planet-occulted stellar lines.\n",
    "\n",
    "The mock system used as default for this notebook is aligned, which is why the occulted track is symmetrical and goes from negative to positive rv following the rotational motion of the photosphere along the transit chord. "
   ]
  },
  {
   "cell_type": "code",
   "execution_count": null,
   "id": "81376016-d05f-487e-b138-e68be9590028",
   "metadata": {
    "tags": []
   },
   "outputs": [],
   "source": [
    "Image(filename = input_nbook['plot_path']+'Diff_data/'+input_nbook['par']['instrument']+'_'+input_nbook['par']['night']+'_Map/Data/'+input_nbook['par']['type']+'/iord'+str(input_nbook['par']['iord2plot'])+'.png')"
   ]
  },
  {
   "cell_type": "markdown",
   "id": "7e955334-632a-4280-ab8b-c1c641081414",
   "metadata": {},
   "source": [
    "**Intrinsic profile series**\n",
    "\n",
    "This plot shows the time-series of intrinsic profiles, as the planet moves along the transit chord. "
   ]
  },
  {
   "cell_type": "code",
   "execution_count": null,
   "id": "29f7089b-0d39-4af9-91c6-9db451237288",
   "metadata": {
    "tags": []
   },
   "outputs": [],
   "source": [
    "Image(filename = input_nbook['plot_path']+'Intr_data/'+input_nbook['par']['instrument']+'_'+input_nbook['par']['night']+'_Indiv/Data/'+input_nbook['par']['type']+'/phase.gif')"
   ]
  },
  {
   "cell_type": "markdown",
   "id": "c52c8c56-39e3-454d-a413-8db29fc509eb",
   "metadata": {},
   "source": [
    "**Intrinsic profile map**\n",
    "\n",
    "This plot shows the series of intrinsic profiles in phase vs RV or wavelength space, colored with flux. \n",
    "Intrinsic profiles are corrected for broadband flux variations and only trace variations in the occulted stellar lines.\n",
    "The green solid track (for plots in CCF format) is the photospheric rv model for the sky-projected stellar rotational velocity (`vsini`) and spin-orbit angle (`lambda`) that you used to set-up the system."
   ]
  },
  {
   "cell_type": "code",
   "execution_count": null,
   "id": "4c1863fa-bae4-4361-95a8-84ecb4ac6780",
   "metadata": {
    "tags": []
   },
   "outputs": [],
   "source": [
    "Image(filename = input_nbook['plot_path']+'Intr_data/'+input_nbook['par']['instrument']+'_'+input_nbook['par']['night']+'_Map/Data/'+input_nbook['par']['type']+'/iord'+str(input_nbook['par']['iord2plot'])+'.png')"
   ]
  }
 ],
 "metadata": {
  "kernelspec": {
   "display_name": "Python 3 (ipykernel)",
   "language": "python",
   "name": "python3"
  },
  "language_info": {
   "codemirror_mode": {
    "name": "ipython",
    "version": 3
   },
   "file_extension": ".py",
   "mimetype": "text/x-python",
   "name": "python",
   "nbconvert_exporter": "python",
   "pygments_lexer": "ipython3",
   "version": "3.11.3"
  },
  "toc": {
   "base_numbering": 1,
   "nav_menu": {},
   "number_sections": true,
   "sideBar": true,
   "skip_h1_title": false,
   "title_cell": "Table of Contents",
   "title_sidebar": "Contents",
   "toc_cell": false,
   "toc_position": {},
   "toc_section_display": true,
   "toc_window_display": true
  }
 },
 "nbformat": 4,
 "nbformat_minor": 5
}
