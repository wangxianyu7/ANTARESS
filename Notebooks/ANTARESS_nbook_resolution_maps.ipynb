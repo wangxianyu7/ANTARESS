{
 "cells": [
  {
   "cell_type": "markdown",
   "metadata": {},
   "source": [
    "# RESOLUTION MAPS\n",
    "### This file is set up to create resolution maps for HARPS, HARPS-N, ESPRESSO and NIRPS using the best-fit polynomial."
   ]
  },
  {
   "cell_type": "code",
   "execution_count": 2,
   "metadata": {},
   "outputs": [
    {
     "data": {
      "text/plain": [
       "<module 'Create_resolution_maps_ALL' from '/Users/bourrier/Travaux/ANTARESS/Main/Notebooks/Create_resolution_maps_ALL.py'>"
      ]
     },
     "execution_count": 2,
     "metadata": {},
     "output_type": "execute_result"
    }
   ],
   "source": [
    "import Create_resolution_maps_ALL as create\n",
    "import importlib\n",
    "importlib.reload(create)"
   ]
  },
  {
   "cell_type": "markdown",
   "metadata": {},
   "source": [
    "### COMPUTE RESOLUTION MAPS FOR HARPS - ALL EPOCHS OF THE INSTRUMENT\n",
    "\n",
    "Commented lines can be used to create automatically resolution maps using different polynomial regressions and compare them with each other.\n",
    "\n",
    "HARPS can operate in two different mode (different resolution): HAM and EGGS. \n",
    "\n",
    "HARPS/EGGS epochs due to major interventions over the years \n",
    "\n",
    "- HARPS03/EGGS03: installed in 2003 :> 03\n",
    "- HARPS15/EGGS15: change of the fibers in 2015 :> 15 \n",
    "- HARPS23/EGGS23: change of the cryostat in 2023 :> 23 "
   ]
  },
  {
   "cell_type": "code",
   "execution_count": 2,
   "metadata": {},
   "outputs": [],
   "source": [
    "file_path_HARPS = '/Users/saratavella/Desktop/ANTARESS/resolution_maps/HARPS/'"
   ]
  },
  {
   "cell_type": "code",
   "execution_count": null,
   "metadata": {},
   "outputs": [],
   "source": [
    "inst_mode = 'HARPS03'\n",
    "THAR_LINE_TABLE_THAR_FP_A = create.pyfits.open(file_path_HARPS + 'r.HARPS.2013-01-17T21_13_04.121_TH_TABLE_THAR_FP_A.fits')\n",
    "excl_pixels = create.Instrumental_resolution_HARPS(thar_file_path=file_path_HARPS,THAR_LINE_TABLE_THAR_FP_A=THAR_LINE_TABLE_THAR_FP_A,inst_mode=inst_mode,function_map_resolution=[create.polynomial_regression_espresso,create.polynomial_regression_espresso], degree = ['espresso','espresso'])\n",
    "\n",
    "#excl_pixels = create.Instrumental_resolution_HARPS(thar_file_path=file_path_HARPS,THAR_LINE_TABLE_THAR_FP_A=THAR_LINE_TABLE_THAR_FP_A,inst_mode=inst_mode,function_map_resolution=None, degree= None)"
   ]
  },
  {
   "cell_type": "code",
   "execution_count": null,
   "metadata": {},
   "outputs": [],
   "source": [
    "inst_mode = 'HARPS15'\n",
    "THAR_LINE_TABLE_THAR_FP_A = create.pyfits.open(file_path_HARPS + 'r.HARPS.2018-05-15T14_27_58.639_TH_TABLE_THAR_FP_A.fits')\n",
    "excl_pixels = create.Instrumental_resolution_HARPS(thar_file_path=file_path_HARPS,THAR_LINE_TABLE_THAR_FP_A=THAR_LINE_TABLE_THAR_FP_A,inst_mode=inst_mode,function_map_resolution=[create.polynomial_regression_4d,create.polynomial_regression_3d], degree= ['4d','3d'])\n",
    "\n",
    "#excl_pixels = create.Instrumental_resolution_HARPS(thar_file_path=file_path_HARPS,THAR_LINE_TABLE_THAR_FP_A=THAR_LINE_TABLE_THAR_FP_A,inst_mode=inst_mode,function_map_resolution=None, degree= None)"
   ]
  },
  {
   "cell_type": "code",
   "execution_count": null,
   "metadata": {},
   "outputs": [],
   "source": [
    "inst_mode = 'HARPS23'\n",
    "THAR_LINE_TABLE_THAR_FP_A = create.pyfits.open(file_path_HARPS + 'r.HARPS.2024-02-15T194830.413_TH_TABLE_THAR_FP_A.fits')\n",
    "excl_pixels = create.Instrumental_resolution_HARPS(thar_file_path=file_path_HARPS,THAR_LINE_TABLE_THAR_FP_A=THAR_LINE_TABLE_THAR_FP_A,inst_mode=inst_mode,function_map_resolution=[create.polynomial_regression_4d,create.polynomial_regression_3d], degree = ['4d','3d'])\n",
    "\n",
    "#excl_pixels = create.Instrumental_resolution_HARPS(thar_file_path=file_path_HARPS,THAR_LINE_TABLE_THAR_FP_A=THAR_LINE_TABLE_THAR_FP_A,inst_mode=inst_mode,function_map_resolution=None, degree= None)"
   ]
  },
  {
   "cell_type": "code",
   "execution_count": null,
   "metadata": {},
   "outputs": [],
   "source": [
    "inst_mode = 'EGGS03' \n",
    "THAR_LINE_TABLE_THAR_FP_A = create.pyfits.open(file_path_HARPS + inst_mode + '_STATIC_TH_LINE_TABLE_A.fits')\n",
    "excl_pixels, cum_plot03_red, cum_plot03_blue = create.Instrumental_resolution_HARPS(thar_file_path=file_path_HARPS,THAR_LINE_TABLE_THAR_FP_A=THAR_LINE_TABLE_THAR_FP_A,inst_mode=inst_mode,function_map_resolution=[create.polynomial_regression_espresso,create.polynomial_regression_espresso], degree = ['espresso','espresso'])\n",
    "\n",
    "#excl_pixels = create.Instrumental_resolution_HARPS(thar_file_path=file_path_HARPS,THAR_LINE_TABLE_THAR_FP_A=THAR_LINE_TABLE_THAR_FP_A,inst_mode=inst_mode,function_map_resolution=None, degree= None)\n"
   ]
  },
  {
   "cell_type": "code",
   "execution_count": null,
   "metadata": {},
   "outputs": [],
   "source": [
    "inst_mode = 'EGGS15'\n",
    "THAR_LINE_TABLE_THAR_FP_A = create.pyfits.open(file_path_HARPS + inst_mode + '_STATIC_TH_LINE_TABLE_A.fits')\n",
    "excl_pixels, cum_plot15_red, cum_plot15_blue = create.Instrumental_resolution_HARPS(thar_file_path=file_path_HARPS,THAR_LINE_TABLE_THAR_FP_A=THAR_LINE_TABLE_THAR_FP_A,inst_mode=inst_mode,function_map_resolution=[create.polynomial_regression_3d,create.polynomial_regression_3d], degree = ['3d','3d'])\n",
    "\n",
    "#excl_pixels = create.Instrumental_resolution_HARPS(thar_file_path=file_path_HARPS,THAR_LINE_TABLE_THAR_FP_A=THAR_LINE_TABLE_THAR_FP_A,inst_mode=inst_mode,function_map_resolution=None, degree= None)"
   ]
  },
  {
   "cell_type": "code",
   "execution_count": null,
   "metadata": {},
   "outputs": [],
   "source": [
    "inst_mode = 'EGGS23'\n",
    "THAR_LINE_TABLE_THAR_FP_A = create.pyfits.open(file_path_HARPS + 'r.HARPS.2024-02-15T20_15_53.886_TH_TABLE_THAR_THAR_A.fits')\n",
    "excl_pixels, cum_plot23_red, cum_plot23_blue = create.Instrumental_resolution_HARPS(thar_file_path=file_path_HARPS,THAR_LINE_TABLE_THAR_FP_A=THAR_LINE_TABLE_THAR_FP_A,inst_mode=inst_mode,function_map_resolution=[create.polynomial_regression_4d,create.polynomial_regression_3d], degree = ['4d','3d'])\n",
    "\n",
    "#excl_pixels = create.Instrumental_resolution_HARPS(thar_file_path=file_path_HARPS,THAR_LINE_TABLE_THAR_FP_A=THAR_LINE_TABLE_THAR_FP_A,inst_mode=inst_mode,function_map_resolution=None, degree= None)"
   ]
  },
  {
   "cell_type": "markdown",
   "metadata": {},
   "source": [
    "PLOT of the detector average resolution profile along the x-axis and y-axis, for all epochs"
   ]
  },
  {
   "cell_type": "code",
   "execution_count": null,
   "metadata": {},
   "outputs": [],
   "source": [
    "import matplotlib.pyplot as plt\n",
    "import numpy as np\n",
    "file_path = '/Users/saratavella/Desktop/ANTARESS/resolution_maps/plot_presentation/'\n",
    "fig, axs = plt.subplots(2,2, figsize=(12,12))\n",
    "axs = axs.flatten()\n",
    "axs[0].plot(cum_plot03_red[0][100:-100],cum_plot03_red[1][100:-100], alpha=0.5)\n",
    "axs[0].scatter(cum_plot03_red[0][100:-100],cum_plot03_red[1][100:-100], label = '2003')\n",
    "axs[0].plot(cum_plot15_red[0][100:-100],cum_plot15_red[1][100:-100], alpha=0.5)\n",
    "axs[0].scatter(cum_plot15_red[0][100:-100],cum_plot15_red[1][100:-100], label = '2015')\n",
    "axs[0].plot(cum_plot23_red[0][100:-100],cum_plot23_red[1][100:-100], alpha=0.5)\n",
    "axs[0].scatter(cum_plot23_red[0][100:-100],cum_plot23_red[1][100:-100], label = '2023')\n",
    "axs[0].set_title('mean resolution profiles over pixels', size=15)\n",
    "axs[0].legend()\n",
    "axs[0].set_xlabel('Pixels', size=15)\n",
    "axs[0].set_ylabel('Resolution', size=15)\n",
    "axs[1].plot(cum_plot03_red[2], np.arange(1,27), alpha=0.5)\n",
    "axs[1].scatter(cum_plot03_red[2], np.arange(1,27), label = '2003')\n",
    "axs[1].plot(cum_plot15_red[2], np.arange(1,27), alpha=0.5)\n",
    "axs[1].scatter(cum_plot15_red[2], np.arange(1,27), label = '2015')\n",
    "axs[1].plot(cum_plot23_red[2], np.arange(1,27), alpha=0.5)\n",
    "axs[1].scatter(cum_plot23_red[2], np.arange(1,27), label = '2023')\n",
    "axs[1].set_title('mean resolution profile over orders', size=15)\n",
    "axs[1].legend()\n",
    "axs[1].set_xlabel('Resolution', size=15)\n",
    "axs[1].set_ylabel('orders', size=15)\n",
    "\n",
    "fig.savefig(file_path + inst_mode + '_detector_average_profiles_overplot.png', dpi=100, format='png', bbox_inches='tight')"
   ]
  },
  {
   "cell_type": "markdown",
   "metadata": {},
   "source": [
    "### COMPUTE RESOLUTION MAPS FOR HARPN - ALL EPOCHS OF THE INSTRUMENT\n",
    "\n",
    "Commented lines can be used to create automatically resolution maps using different polynomial regressions and compare them with each other\n",
    "\n",
    "HARPS-N epochs due to major interventions over the years: \n",
    "\n",
    "- HARPN12: installed in 2012\n",
    "- HARPN14: change of the focus in 2014 \n",
    "- HARPN21: change of the cryostat in 2021 "
   ]
  },
  {
   "cell_type": "code",
   "execution_count": 3,
   "metadata": {},
   "outputs": [],
   "source": [
    "file_path_HARPN = '/Users/saratavella/Desktop/ANTARESS/resolution_maps/HARPS_N/'"
   ]
  },
  {
   "cell_type": "code",
   "execution_count": null,
   "metadata": {},
   "outputs": [],
   "source": [
    "inst_mode = 'HARPN12'\n",
    "THAR_LINE_TABLE_THAR_FP_A = create.pyfits.open(file_path_HARPN + 'r.HARPN.2013-08-15T17-38-24.899_TH_TABLE_THAR_FP_A.fits')\n",
    "excl_pixels, cum_plot12 = create.Instrumental_resolution_HARPN(thar_file_path=file_path_HARPN,THAR_LINE_TABLE_THAR_FP_A=THAR_LINE_TABLE_THAR_FP_A,inst_mode=inst_mode,function_map_resolution=create.polynomial_regression_4d, degree='4d')\n",
    "\n",
    "\n",
    "#excl_pixels, cum_plot12 = create.Instrumental_resolution_HARPN(thar_file_path=file_path_HARPN,THAR_LINE_TABLE_THAR_FP_A=THAR_LINE_TABLE_THAR_FP_A,inst_mode=inst_mode,function_map_resolution=None, degree=None)\n"
   ]
  },
  {
   "cell_type": "code",
   "execution_count": null,
   "metadata": {},
   "outputs": [],
   "source": [
    "inst_mode = 'HARPN14'\n",
    "THAR_LINE_TABLE_THAR_FP_A = create.pyfits.open(file_path_HARPN + 'r.HARPN.2017-11-12T15-45-32.482_TH_TABLE_THAR_FP_A.fits')\n",
    "excl_pixels, cum_plot14 = create.Instrumental_resolution_HARPN(thar_file_path=file_path_HARPN,THAR_LINE_TABLE_THAR_FP_A=THAR_LINE_TABLE_THAR_FP_A,inst_mode=inst_mode,function_map_resolution=create.polynomial_regression_4d, degree='4d')\n",
    "\n",
    "#excl_pixels, cum_plot14 = create.Instrumental_resolution_HARPN(thar_file_path=file_path_HARPN,THAR_LINE_TABLE_THAR_FP_A=THAR_LINE_TABLE_THAR_FP_A,inst_mode=inst_mode,function_map_resolution=None, degree=None)\n"
   ]
  },
  {
   "cell_type": "code",
   "execution_count": null,
   "metadata": {},
   "outputs": [],
   "source": [
    "inst_mode = 'HARPN21'\n",
    "THAR_LINE_TABLE_THAR_FP_A = create.pyfits.open(file_path_HARPN + 'r.HARPN.2023-06-15T15-40-02.070_TH_TABLE_THAR_FP_A.fits')\n",
    "excl_pixels, cum_plot21 = create.Instrumental_resolution_HARPN(thar_file_path=file_path_HARPN,THAR_LINE_TABLE_THAR_FP_A=THAR_LINE_TABLE_THAR_FP_A,inst_mode=inst_mode,function_map_resolution=create.polynomial_regression_4d, degree='4d')\n",
    "\n",
    "#excl_pixels, cum_plot21 = create.Instrumental_resolution_HARPN(thar_file_path=file_path_HARPN,THAR_LINE_TABLE_THAR_FP_A=THAR_LINE_TABLE_THAR_FP_A,inst_mode=inst_mode,function_map_resolution=None, degree=None)"
   ]
  },
  {
   "cell_type": "markdown",
   "metadata": {},
   "source": [
    "PLOT of the detector average resolution profile along the x-axis and y-axis, for all epochs"
   ]
  },
  {
   "cell_type": "code",
   "execution_count": null,
   "metadata": {},
   "outputs": [],
   "source": [
    "import matplotlib.pyplot as plt\n",
    "import numpy as np\n",
    "file_path = '/Users/saratavella/Desktop/ANTARESS/resolution_maps/plot_presentation/'\n",
    "fig, axs = plt.subplots(1,2, figsize=(12,6))\n",
    "axs = axs.flatten()\n",
    "axs[0].plot(cum_plot12[0][100:-100],cum_plot12[1][100:-100], alpha=0.5)\n",
    "axs[0].scatter(cum_plot12[0][100:-100],cum_plot12[1][100:-100], label = '2012')\n",
    "axs[0].plot(cum_plot14[0][100:-100],cum_plot14[1][100:-100], alpha=0.5)\n",
    "axs[0].scatter(cum_plot14[0][100:-100],cum_plot14[1][100:-100], label = '2014')\n",
    "axs[0].plot(cum_plot21[0][100:-100],cum_plot21[1][100:-100], alpha=0.5)\n",
    "axs[0].scatter(cum_plot21[0][100:-100],cum_plot21[1][100:-100], label = '2021')\n",
    "axs[0].set_title('mean resolution profiles over pixels', size=15)\n",
    "axs[0].legend()\n",
    "axs[0].set_xlabel('Pixels', size=15)\n",
    "axs[0].set_ylabel('Resolution', size=15)\n",
    "axs[1].plot(cum_plot12[2], np.arange(1,70), alpha=0.5)\n",
    "axs[1].scatter(cum_plot12[2], np.arange(1,70), label = '2012')\n",
    "axs[1].plot(cum_plot14[2], np.arange(1,70), alpha=0.5)\n",
    "axs[1].scatter(cum_plot14[2], np.arange(1,70), label = '2014')\n",
    "axs[1].plot(cum_plot21[2], np.arange(1,70), alpha=0.5)\n",
    "axs[1].scatter(cum_plot21[2], np.arange(1,70), label = '2021')\n",
    "axs[1].set_title('mean resolution profile over orders', size=15)\n",
    "axs[1].legend()\n",
    "axs[1].set_xlabel('Resolution', size=15)\n",
    "axs[1].set_ylabel('Pixels', size=15)\n",
    "\n",
    "fig.savefig(file_path + inst_mode + '_detector_average_profiles_overplot.png', dpi=100, format='png', bbox_inches='tight')\n"
   ]
  },
  {
   "cell_type": "code",
   "execution_count": null,
   "metadata": {},
   "outputs": [],
   "source": [
    "import matplotlib.pyplot as plt\n",
    "import numpy as np\n",
    "file_path = '/Users/saratavella/Desktop/phd/ANTARESS/resolution_maps/plot_presentation/'\n",
    "fig, axs = plt.subplots(1,2, figsize=(12,6))\n",
    "axs = axs.flatten()\n",
    "axs[0].plot(cum_plot12[0][100:-100],cum_plot12[1][100:-100], alpha=0.5)\n",
    "axs[0].scatter(cum_plot12[0][100:-100],cum_plot12[1][100:-100], label = '2012')\n",
    "axs[0].plot(cum_plot14[0][100:-100],cum_plot14[1][100:-100], alpha=0.5)\n",
    "axs[0].scatter(cum_plot14[0][100:-100],cum_plot14[1][100:-100], label = '2014')\n",
    "axs[0].plot(cum_plot21[0][100:-100],cum_plot21[1][100:-100], alpha=0.5)\n",
    "axs[0].scatter(cum_plot21[0][100:-100],cum_plot21[1][100:-100], label = '2021')\n",
    "axs[0].set_title('mean resolution profiles over pixels', size=15)\n",
    "axs[0].legend()\n",
    "axs[0].set_xlabel('Pixels', size=15)\n",
    "axs[0].set_ylabel('Resolution', size=15)\n",
    "axs[1].plot(cum_plot12[2], np.arange(1,70), alpha=0.5)\n",
    "axs[1].scatter(cum_plot12[2], np.arange(1,70), label = '2012')\n",
    "axs[1].plot(cum_plot14[2], np.arange(1,70), alpha=0.5)\n",
    "axs[1].scatter(cum_plot14[2], np.arange(1,70), label = '2014')\n",
    "axs[1].plot(cum_plot21[2], np.arange(1,70), alpha=0.5)\n",
    "axs[1].scatter(cum_plot21[2], np.arange(1,70), label = '2021')\n",
    "axs[1].set_title('mean resolution profile over orders', size=15)\n",
    "axs[1].legend()\n",
    "axs[1].set_xlabel('Resolution', size=15)\n",
    "axs[1].set_ylabel('Pixels', size=15)\n",
    "\n",
    "fig.savefig(file_path + inst_mode + '_detector_average_profiles_overplot.png', dpi=100, format='png', bbox_inches='tight')"
   ]
  },
  {
   "cell_type": "markdown",
   "metadata": {},
   "source": [
    "### COMPUTE RESOLUTION MAPS FOR ESPRESSO \n",
    "\n",
    "Only one epoch exists so far for this instrument.\n",
    "\n",
    "ESPRESSO can operate in several resolution and read-out modes. \n",
    "\n",
    "- UHR: ultra high resolution\n",
    "- HR: high resolution \n",
    "- MR: medium resolution\n",
    "\n",
    "read-out modes: 1x1, 2x1, 4x2, 8x4 pixels"
   ]
  },
  {
   "cell_type": "code",
   "execution_count": null,
   "metadata": {},
   "outputs": [],
   "source": [
    "# #UHR\n",
    "file_to_map_resolution = create.pyfits.open('/Users/saratavella/Desktop/phd/ANTARESS/resolution_maps/r.NIRPS.2022-11-28T204751.815_THAR_LINE_TABLE_THAR_FP_A.fits')\n",
    "create.Instrumental_resolution_ESPRESSO(THAR_LINE_TABLE_THAR_FP_A=file_to_map_resolution,function_map_resolution=create.polynomial_regression_espresso)\n",
    "#file_to_map_resolution = create.pyfits.open('/Users/saratavella/Desktop/phd/ANTARESS/resolution_maps/r.ESPRE.2019-03-30T212832.060_THAR_LINE_TABLE_THAR_FP_A.fits')\n",
    "#create.Instrumental_resolution_ESPRESSO(THAR_LINE_TABLE_THAR_FP_A=file_to_map_resolution,function_map_resolution=create.polynomial_regression_espresso)\n",
    "# file_to_map_resolution = create.pyfits.open('Input_files_statics/Resolution_table/ESPRESSO/UHR/r.ESPRE.2019-04-06T11:52:27.477_THAR_LINE_TABLE_THAR_FP_A.fits')\n",
    "# create.Instrumental_resolution_ESPRESSO(THAR_LINE_TABLE_THAR_FP_A=file_to_map_resolution,function_map_resolution=create.polynomial_regression_espresso)\n",
    "# file_to_map_resolution = create.pyfits.open('Input_files_statics/Resolution_table/ESPRESSO/UHR/r.ESPRE.2019-11-06T11:06:36.913_THAR_LINE_TABLE_THAR_FP_A.fits')\n",
    "# create.Instrumental_resolution_ESPRESSO(THAR_LINE_TABLE_THAR_FP_A=file_to_map_resolution,function_map_resolution=create.polynomial_regression_espresso)\n",
    "#file_to_map_resolution = create.pyfits.open('Input_files_statics/Resolution_table/ESPRESSO/UHR/r.ESPRE.2019-11-26T15:27:21.138_THAR_LINE_TABLE_FP_THAR_B.fits') # fiber B\n",
    "#create.Instrumental_resolution_ESPRESSO(THAR_LINE_TABLE_THAR_FP_A=file_to_map_resolution,function_map_resolution=create.polynomial_regression_espresso)\n",
    "\n",
    "# #HR 1x1\n",
    "# file_to_map_resolution = create.pyfits.open('Input_files_statics/Resolution_table/ESPRESSO/HR/1x1/r.ESPRE.2018-07-04T21:28:53.759_THAR_LINE_TABLE_THAR_FP_A.fits')\n",
    "# create.Instrumental_resolution_ESPRESSO(THAR_LINE_TABLE_THAR_FP_A=file_to_map_resolution,function_map_resolution=create.polynomial_regression_espresso)\n",
    "# file_to_map_resolution = create.pyfits.open('Input_files_statics/Resolution_table/ESPRESSO/HR/1x1/r.ESPRE.2019-01-05T19:53:55.501_THAR_LINE_TABLE_THAR_FP_A.fits')\n",
    "# create.Instrumental_resolution_ESPRESSO(THAR_LINE_TABLE_THAR_FP_A=file_to_map_resolution,function_map_resolution=create.polynomial_regression_espresso)\n",
    "# file_to_map_resolution = create.pyfits.open('Input_files_statics/Resolution_table/ESPRESSO/HR/1x1/r.ESPRE.2019-11-19T10:10:12.384_THAR_LINE_TABLE_THAR_FP_A.fits')\n",
    "# create.Instrumental_resolution_ESPRESSO(THAR_LINE_TABLE_THAR_FP_A=file_to_map_resolution,function_map_resolution=create.polynomial_regression_espresso)\n",
    "\n",
    "# #HR 2x1\n",
    "# file_to_map_resolution = create.pyfits.open('Input_files_statics/Resolution_table/ESPRESSO/HR/2x1/r.ESPRE.2018-09-05T14:01:58.063_THAR_LINE_TABLE_THAR_FP_A.fits')\n",
    "# create.Instrumental_resolution_ESPRESSO(THAR_LINE_TABLE_THAR_FP_A=file_to_map_resolution,function_map_resolution=create.polynomial_regression_espresso)\n",
    "# file_to_map_resolution = create.pyfits.open('Input_files_statics/Resolution_table/ESPRESSO/HR/2x1/r.ESPRE.2019-03-30T21:28:32.060_THAR_LINE_TABLE_THAR_FP_A.fits')\n",
    "# create.Instrumental_resolution_ESPRESSO(THAR_LINE_TABLE_THAR_FP_A=file_to_map_resolution,function_map_resolution=create.polynomial_regression_espresso)\n",
    "# file_to_map_resolution = create.pyfits.open('Input_files_statics/Resolution_table/ESPRESSO/HR/2x1/r.ESPRE.2019-09-26T11:06:01.271_THAR_LINE_TABLE_THAR_FP_A.fits')\n",
    "# create.Instrumental_resolution_ESPRESSO(THAR_LINE_TABLE_THAR_FP_A=file_to_map_resolution,function_map_resolution=create.polynomial_regression_espresso)\n",
    "\n",
    "# #MR4x2\n",
    "# file_to_map_resolution = create.pyfits.open('Input_files_statics/Resolution_table/ESPRESSO/4x2/r.ESPRE.2018-07-08T14:51:53.873_THAR_LINE_TABLE_THAR_FP_A.fits')\n",
    "# create.Instrumental_resolution_ESPRESSO(THAR_LINE_TABLE_THAR_FP_A=file_to_map_resolution,function_map_resolution=create.polynomial_regression_espresso)\n",
    "# file_to_map_resolution = create.pyfits.open('Input_files_statics/Resolution_table/ESPRESSO/4x2/r.ESPRE.2018-12-01T11:25:27.377_THAR_LINE_TABLE_THAR_FP_A.fits')\n",
    "# create.Instrumental_resolution_ESPRESSO(THAR_LINE_TABLE_THAR_FP_A=file_to_map_resolution,function_map_resolution=create.polynomial_regression_espresso)\n",
    "# file_to_map_resolution = create.pyfits.open('Input_files_statics/Resolution_table/ESPRESSO/4x2/r.ESPRE.2019-11-05T12:23:45.139_THAR_LINE_TABLE_THAR_FP_A.fits')\n",
    "# create.Instrumental_resolution_ESPRESSO(THAR_LINE_TABLE_THAR_FP_A=file_to_map_resolution,function_map_resolution=create.polynomial_regression_espresso)\n",
    "\n",
    "# #MR8x4\n",
    "# file_to_map_resolution = create.pyfits.open('Input_files_statics/Resolution_table/ESPRESSO/8x4/r.ESPRE.2018-07-06T11:48:22.862_THAR_LINE_TABLE_THAR_FP_A.fits')\n",
    "# create.Instrumental_resolution_ESPRESSO(THAR_LINE_TABLE_THAR_FP_A=file_to_map_resolution,function_map_resolution=create.polynomial_regression_espresso)\n",
    "# file_to_map_resolution = create.pyfits.open('Input_files_statics/Resolution_table/ESPRESSO/8x4/r.ESPRE.2018-10-24T14:16:52.394_THAR_LINE_TABLE_THAR_FP_A.fits')\n",
    "# create.Instrumental_resolution_ESPRESSO(THAR_LINE_TABLE_THAR_FP_A=file_to_map_resolution,function_map_resolution=create.polynomial_regression_espresso)\n",
    "# file_to_map_resolution = create.pyfits.open('Input_files_statics/Resolution_table/ESPRESSO/8x4/r.ESPRE.2019-11-05T12:59:57.138_THAR_LINE_TABLE_THAR_FP_A.fits')\n",
    "# create.Instrumental_resolution_ESPRESSO(THAR_LINE_TABLE_THAR_FP_A=file_to_map_resolution,function_map_resolution=create.polynomial_regression_espresso)\n"
   ]
  }
 ],
 "metadata": {
  "kernelspec": {
   "display_name": "Python 3 (ipykernel)",
   "language": "python",
   "name": "python3"
  },
  "language_info": {
   "codemirror_mode": {
    "name": "ipython",
    "version": 3
   },
   "file_extension": ".py",
   "mimetype": "text/x-python",
   "name": "python",
   "nbconvert_exporter": "python",
   "pygments_lexer": "ipython3",
   "version": "3.11.3"
  }
 },
 "nbformat": 4,
 "nbformat_minor": 4
}
