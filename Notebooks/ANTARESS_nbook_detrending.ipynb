{
 "cells": [
  {
   "cell_type": "markdown",
   "id": "34b4eaef-1ed1-4e33-9de6-9bb7e0677262",
   "metadata": {},
   "source": [
    "# Introduction"
   ]
  },
  {
   "cell_type": "markdown",
   "id": "0fa6642f-4352-47e0-8d0a-1d4694cec2d4",
   "metadata": {},
   "source": [
    "This notebook's purpose is to characterise trends and correlations from CCF time series, either CCFs computed in the Spectral reduction notebook or directly from the instrumental DRS pipeline.\n",
    "\n",
    "- Investigate CCF properties and trends for the spectral line parameters\n",
    "- Find the best-fitting model to correct for spectral line variations\n",
    "- Apply trend correction for the specific spectral line properties\n",
    "\n",
    "This notebook is used to process, detrend and scale CCF time series. To try the workflow, place your CCFs to process in your chosen directory (for example, `Working_dir/`) and set the `working_path` to the directory containing your data.\n",
    "\n",
    "Some options and functionalities are not included in this notebook to keep it light and easy to use. For targets with multiple observations, it is especially recommended to use the [configuration files](https://obswww.unige.ch/~bourriev/antaress/doc/html/installation.html)."
   ]
  },
  {
   "cell_type": "code",
   "execution_count": 1,
   "id": "f02879c9-c060-44a5-b6b7-efea4a8ce916",
   "metadata": {},
   "outputs": [],
   "source": [
    "import ANTARESS_nbook_bground\n",
    "input_nbook = ANTARESS_nbook_bground.init('Detrending')\n",
    "input_nbook['working_path'] ='/Users/erikfriden/Desktop/antaress-pip/working_dir/'"
   ]
  },
  {
   "cell_type": "markdown",
   "id": "7e6e38e1-a815-4be5-9a29-115d90c488f0",
   "metadata": {},
   "source": [
    "# System parameters"
   ]
  },
  {
   "cell_type": "markdown",
   "id": "4e061b59-6384-4321-b88c-09319f3b2e17",
   "metadata": {},
   "source": [
    "**Parameters of the host star**\n",
    "\n",
    "Run this cell to define the host star. \n",
    "- `star_name` (string): Name of the star. Should not contain spaces/dashes.\n",
    "- `Rs` (float): Radius of the star, in $R_\\odot$.\n",
    "- `vsini` (float): Projected stellar surface velocity, in km/s. The value given here is only used as guess for the fits, as it will eventually be derived from your analysis.\n",
    "- `ld_u1` (float): First coefficient of the quadratic limb-darkening.\n",
    "- `ld_u2` (float): Second coefficient of the quadratic limb-darkening."
   ]
  },
  {
   "cell_type": "code",
   "execution_count": null,
   "id": "ea7238b7-b010-450c-aea4-fadd4a0e6fa2",
   "metadata": {},
   "outputs": [],
   "source": [
    "input_nbook['par'].update({\n",
    "    'star_name' : 'TOI421',\n",
    "    'Rs'        : 0.866,\n",
    "    'vsini'     : 1.8,\n",
    "    'sysvel'    : 80.,\n",
    "    'ld_u1'     : 0.48,\n",
    "    'ld_u2'     : 0.18\n",
    "})\n",
    "ANTARESS_nbook_bground.init_star(input_nbook)"
   ]
  },
  {
   "cell_type": "markdown",
   "id": "39cde6ef-898d-4844-8ef4-dd83ce0a0db4",
   "metadata": {},
   "source": [
    "**Parameters of transiting planet**\n",
    "\n",
    "Run this cell to set the transiting planet on which the RM analysis is applied. \n",
    "- `planet_name` (string): Name of the transiting planet. Should not contain spaces/dashes.\n",
    "- `period` (float): Orbital period, in days.\n",
    "- `T0` (float): Mid-transit time, in ${\\rm BJD}_{\\rm TBD}$.\n",
    "- `ecc` (float): Orbital eccentricity.\n",
    "- `long_per` (float): Longitude of periastron, in degrees. If the orbit is circular, fill in `90.`.\n",
    "- `Kstar` (float): RV semi-amplitude, in m/s.\n",
    "- `aRs` (float): Scaled separation $a/R_\\star$.\n",
    "- `incl` (float): Orbital inclination, in degrees.\n",
    "- `RpRs` (float): Planet-to-star radius ratio $R_{\\rm p}/R_\\star$."
   ]
  },
  {
   "cell_type": "code",
   "execution_count": null,
   "id": "c93db7b7-afa8-4a7b-b6b3-49a57f19a33d",
   "metadata": {},
   "outputs": [],
   "source": [
    "input_nbook['par'].update({\n",
    "    'planet_name' : 'TOI421c',\n",
    "    'period'      : 16.067541,\n",
    "    'T0'          : 2459195.30741,\n",
    "    'ecc'         : 0.19,\n",
    "    'long_per'    : 102.,\n",
    "    'Kstar'       : 4.1,\n",
    "    'aRs'         : 29.0546178,\n",
    "    'incl'        : 88.30373,\n",
    "    'RpRs'        : 0.0540\n",
    "})\n",
    "ANTARESS_nbook_bground.init_pl(input_nbook,'main')"
   ]
  },
  {
   "cell_type": "markdown",
   "id": "c5340306-206f-497f-b217-3acc7d0a9666",
   "metadata": {},
   "source": [
    "**Parameters of additional planets in the system**\n",
    "\n",
    "Run this cell to set additional planets, which will only contribute to the computation of the star Keplerian motion. \n",
    "\n",
    "The names and definitions of the parameters are the same as for the main planet (`aRs`, `incl`, `RpRs` are not required).\n",
    "\n",
    "Copy the cell to add further planets"
   ]
  },
  {
   "cell_type": "code",
   "execution_count": null,
   "id": "03955de0-9d9c-43f4-9abc-31037d793836",
   "metadata": {},
   "outputs": [],
   "source": [
    "input_nbook['par'].update({\n",
    "    'planet_name' : 'TOI421b',\n",
    "    'period'      : 5.197576,\n",
    "    'T0'          : 2459189.7341,\n",
    "    'ecc'         : 0.13,\n",
    "    'long_per'    : 140.,\n",
    "    'Kstar'       : 2.83\n",
    "})\n",
    "ANTARESS_nbook_bground.init_pl(input_nbook,'sec')"
   ]
  },
  {
   "cell_type": "markdown",
   "id": "734c016e-bdd6-4954-adf1-669a6169396f",
   "metadata": {},
   "source": [
    "# Dataset properties"
   ]
  },
  {
   "cell_type": "markdown",
   "id": "f0709432-53c1-4967-8773-4251b4ed4784",
   "metadata": {},
   "source": [
    "**Visit**\n",
    "\n",
    "Run this cell to define the visit to be processed. It must overlap with the transit of the `transiting planet`.\n",
    "- `instrument` (string): Instrument of the visit (e.g. `ESPRESSO`, `NIRPS_HE`...).\n",
    "- `night` (string): Night of the visit. It is preferred to use the standard format, i.e. `YYYYMMDD`.\n",
    "- `data_dir` (string): Path to the directory holding the observed .fits files (here, set to `observations/CCF` to retrieve the 2D spectra with ANTARESS)\n",
    "- `Tcenter_vis` (float): This one should be able to be excluded, and just assign the T0 fot the main planet but I think we need to rewrite the init_pl **(to do)**"
   ]
  },
  {
   "cell_type": "code",
   "execution_count": null,
   "id": "f8ce098c-3e03-490a-902c-78084463e27a",
   "metadata": {},
   "outputs": [],
   "source": [
    "input_nbook['par'].update({\n",
    "    'instrument'  : 'ESPRESSO',\n",
    "    'night'       : '20231106',\n",
    "    'data_dir'    : 'observations/CCF',\n",
    "})\n",
    "ANTARESS_nbook_bground.add_vis(input_nbook)"
   ]
  },
  {
   "cell_type": "markdown",
   "id": "790759e5-d89a-42e4-96cf-33aaca845bf2",
   "metadata": {},
   "source": [
    "# CCF Analysis\n",
    "\n",
    "The first step in detrending will be to analyse the disk-integrated CCF profiles. Later, potential correlations for the line parameters full width at half maxima (FWHM), contrast, and RV will be analysed to see if they correlate with either time (phase) or SNR. For more options, use the configuration file."
   ]
  },
  {
   "cell_type": "markdown",
   "id": "09fb138b-2f74-47e8-962b-2ae32483c1d8",
   "metadata": {},
   "source": [
    "**Fit disk-integrated CCF profiles**\n",
    "\n",
    "The first step in fitting the CCF profiles will be to determine the velocity range for the fit and continuum. \n",
    "- `cont_range` (list, float): define regions used for the continuum, which can be multiple ranges\n",
    "- `fit_range` (list, float): define range used for fit, can be multiple ranges and will then have the same format as `cont_range`\n"
   ]
  },
  {
   "cell_type": "code",
   "execution_count": null,
   "id": "e8d69fdd-281b-470c-9a05-ecca57f430ef",
   "metadata": {},
   "outputs": [],
   "source": [
    "input_nbook['DI_trend'].update({\n",
    "    'cont_range' : [[-100., -25.], [25., 100.]],\n",
    "    'fit_range'  : [[-100, 100]]\n",
    "})\n",
    "\n",
    "ANTARESS_nbook_bground.range_def(input_nbook)"
   ]
  },
  {
   "cell_type": "markdown",
   "id": "998f187a-1609-459a-b3f6-949981097a06",
   "metadata": {},
   "source": [
    "**FIT Model parameters**\n",
    "\n",
    "To fit the CCFs, we use a Gaussian model using $\\chi^2$-minimization. The guess parameters will be used to initialise the starting values of the fitting routine. Choose guess values for RV and FWHM in km/s and the contrast. To plot the Gaussian fit set `plot_CCF` to true, the properties for RV, FWHM, and contrast will be plotted if `plot=True`.\n"
   ]
  },
  {
   "cell_type": "code",
   "execution_count": null,
   "id": "8b44e13c-ff51-4cc9-bd36-67cb52ad2613",
   "metadata": {},
   "outputs": [],
   "source": [
    "input_nbook['DI_trend'].update({\n",
    "    'rv'       : 0.,\n",
    "    'FWHM'     : 6.,\n",
    "    'ctrst'    : 0.7,\n",
    "    'plot_CCF' : True\n",
    "})\n",
    "\n",
    "ANTARESS_nbook_bground.fit_DI(input_nbook, plot=False)"
   ]
  },
  {
   "cell_type": "markdown",
   "id": "35a8cdad-5a40-4647-8f22-4128c735e9e0",
   "metadata": {},
   "source": [
    "<a id='fit_prop'></a>\n",
    "**Trend characterisation**\n",
    "\n",
    "Here, we investigate the data and the model parameters to identify any trends seen in the model parameters as either a function of time (phase) or SNR. The goal will be to find the model and its coefficients that best fit the data. No correction will be applied if a linear fit shows the best agreement with the data. The most common models to characterise the data are first or second-degree polynomials; if you need a more complex model to fit the data, e.g., a sinus model, you can use the full ANTARESS workflow using [configuration files](https://obswww.unige.ch/~bourriev/antaress/doc/html/installation.html). In this notebook, we only work with polynomials.\n",
    "\n",
    "- `pol_deg` (integer): degree of polynomial to fit\n",
    "- `x_var` (string): phase or SNR, choose what dependence to plot against for the properties (RV, FWHM, and ctrst).\n",
    "\n",
    "Run the cell below to perform the fit for (RV, FWHM, and ctrst) as a function of `'phase'` or `'snr'`. Try different polynomial degrees. The Bayesian information criterion (BIC) will be printed for each fit to compare the different models.\n"
   ]
  },
  {
   "cell_type": "code",
   "execution_count": null,
   "id": "37aaa011-fd93-44cd-a1d2-3854484507b1",
   "metadata": {},
   "outputs": [],
   "source": [
    "input_nbook['DI_trend'].update({\n",
    "    'pol_deg' : 0.,\n",
    "    'x_var'   : 'phase',\n",
    "})\n",
    "\n",
    "ANTARESS_nbook_bground.fit_prop(input_nbook, plot=False)"
   ]
  },
  {
   "cell_type": "markdown",
   "id": "bb85eef0-9c1c-49d5-af0b-bd59fde13127",
   "metadata": {},
   "source": [
    "**Systemic velocity**\n",
    "\n",
    "**If it is the first time you run the analysis, leave it as** `gamma = 0`. When you run ANTARESS the first time, you will measure the systemic velocity, which will be printed in the output, later set gamma to the measured value."
   ]
  },
  {
   "cell_type": "code",
   "execution_count": null,
   "id": "23024a8d-5967-4a22-9766-03a6f2ef5c5c",
   "metadata": {},
   "outputs": [],
   "source": [
    "input_nbook['par']['gamma'] = 0.\n",
    "ANTARESS_nbook_bground.set_sysvel(input_nbook)"
   ]
  },
  {
   "cell_type": "markdown",
   "id": "98d80b88-a63d-4c16-a52e-c6c7bddb299a",
   "metadata": {},
   "source": [
    "**Detrending of CCFs**\n",
    "\n",
    "**If this is the first time processing the data set, skip this step and run ANTARESS in the cell below.** Identify any trends usinc the cell [Trend characterisation](#fit_prop), and find the best model representing the data. Once the best models for the parameters RV, FWHM, and contrast have been found using the Bayesian Information Criterion, insert the coefficient for each model below. If multiple properties are being corrected, add them to the list as shown in the example below.\n",
    "\n",
    "- `use` (bool): set to True to perform a trend correction\n",
    "- `prop` (list, str): list each property to correct with the corresponding dependence. Properties to correct here are either RV, FWHM, and contrast (ctrst), and as a function of either phase or snr\n",
    "- `coeff` (list, list): indicate coefficients used for each model, add coefficients with decreasing order and add a new list if more than one property is corrected. The RV coefficient should be in km/s."
   ]
  },
  {
   "cell_type": "code",
   "execution_count": null,
   "id": "26138ad2-c954-4efa-a8a0-ae41bdbac066",
   "metadata": {},
   "outputs": [],
   "source": [
    "input_nbook['par'].update({\n",
    "    'use'  : False,\n",
    "    'prop' : ['ctrst_snrQ', 'RV_phase'],\n",
    "    'mode' : ['pol', 'pol'],\n",
    "    'coeff': [[-1.109190e-05], [-6.840494e-02]]\n",
    "})\n",
    "\n",
    "ANTARESS_nbook_bground.detrend(input_nbook)"
   ]
  },
  {
   "cell_type": "code",
   "execution_count": null,
   "id": "1fb08378-d090-43a2-b2e0-81039224982c",
   "metadata": {},
   "outputs": [],
   "source": [
    "from antaress.ANTARESS_launch.ANTARESS_launcher import ANTARESS_launcher\n",
    "ANTARESS_launcher(working_path=input_nbook['working_path'], nbook_dic = input_nbook, exec_comm=False)"
   ]
  },
  {
   "cell_type": "markdown",
   "id": "d7c4d508-a871-4a9c-9ec7-6f0d590d90e6",
   "metadata": {},
   "source": [
    "# Display Plots"
   ]
  },
  {
   "cell_type": "code",
   "execution_count": null,
   "id": "9ea33564-5763-450c-bdc0-6fefbc2ff2e7",
   "metadata": {},
   "outputs": [],
   "source": [
    "from IPython.display import Image\n",
    "from IPython.core.display import HTML "
   ]
  },
  {
   "cell_type": "markdown",
   "id": "753f6182-0282-48bd-9446-db12eb7ce976",
   "metadata": {},
   "source": [
    "Run the cells below to show saved plots. Plots can be found in `working_path/targetName_plots/`. For the fits to the CCF go to `working_path/target/targetPL_Plots/DI_data/instrument_night_Indiv/Data/`"
   ]
  },
  {
   "cell_type": "markdown",
   "id": "732421ef-f7fb-463e-b908-027791dfed50",
   "metadata": {},
   "source": [
    "**Disk-integrated line properties**\n",
    "\n",
    "The three plots below show the time-series of RVs, contrast, and FWHM derived from the fits to the disk-integrated CCFs. Transit contacts are shown as dashed black lines, and in-transit exposures are flagged with empty symbols.\n",
    "\n",
    "Outside of the transit, RVs should trace the Keplerian motion of your star with respect to the solar system barycenter (the Keplerian model defined by your inputs for the star and planets is plotted as a solid blue curve). If your star is quiet and measurements are dominated by white noise, RV measurements should be evenly spread around the Keplerian model, while contrast and FWHM measurements should be evenly spread around their mean out-of-transit value (dashed blue lines). You can assess this by looking at the ratio between the dispersion and mean error over out-of-transit measurements, reported on each plot, which should be close to unity. If that is not the case, you can use the workflow to detrend the data.  \n",
    "\n",
    "Inside of the transit the planet occults local regions of the stellar surface, distorting the disk-integrated stellar lines and inducing anomalous deviations in their derived properties. Traditionally, measurements of the sky-projected spin-orbit angle in planetary systems have been performed by analyzing this anomalous signal in RV - but the anomaly may not be detectable with faint, slow-rotating stars and small planets. With ANTARESS, you will be able to analyze directly the planet-occulted stellar profiles to get a higher precision on the transit chord and orbital architecture of the system."
   ]
  },
  {
   "cell_type": "code",
   "execution_count": null,
   "id": "c16389bc-b0b4-4e92-ae96-ae1eca82fec7",
   "metadata": {},
   "outputs": [],
   "source": [
    "Image(filename = input_nbook['plot_path']+'DI_prop/rv_phase.png')"
   ]
  },
  {
   "cell_type": "code",
   "execution_count": null,
   "id": "7a9d4272-53ab-43fa-a9b4-7b449fc6ba6a",
   "metadata": {},
   "outputs": [],
   "source": [
    "Image(filename = input_nbook['plot_path']+'DI_prop/rv_res_phase.png')"
   ]
  },
  {
   "cell_type": "code",
   "execution_count": null,
   "id": "bfb14bba-7ca4-4165-b350-51f22c39b769",
   "metadata": {},
   "outputs": [],
   "source": [
    "Image(filename = input_nbook['plot_path']+'DI_prop/ctrst_phase.png')"
   ]
  },
  {
   "cell_type": "code",
   "execution_count": null,
   "id": "38b89d3c-37a5-4ba8-a749-506f21512256",
   "metadata": {},
   "outputs": [],
   "source": [
    "Image(filename = input_nbook['plot_path']+'DI_prop/FWHM_phase.png')"
   ]
  },
  {
   "cell_type": "code",
   "execution_count": null,
   "id": "03b6099f-d4a2-40d1-9902-6f6b32adb38b",
   "metadata": {},
   "outputs": [],
   "source": []
  },
  {
   "cell_type": "code",
   "execution_count": null,
   "id": "e355816d-d9e7-42e7-9ab5-0ffa0b873332",
   "metadata": {},
   "outputs": [],
   "source": []
  },
  {
   "cell_type": "code",
   "execution_count": null,
   "id": "f6d2d649-6daa-43de-94f5-09ed0d8c3cd4",
   "metadata": {},
   "outputs": [],
   "source": []
  },
  {
   "cell_type": "code",
   "execution_count": null,
   "id": "e1821730-36dd-4ffb-ab24-ad12c75ea842",
   "metadata": {},
   "outputs": [],
   "source": []
  },
  {
   "cell_type": "code",
   "execution_count": null,
   "id": "d38d5b4e-f3be-4246-9b89-0f9870c8c46f",
   "metadata": {},
   "outputs": [],
   "source": []
  }
 ],
 "metadata": {
  "kernelspec": {
   "display_name": "Python 3 (ipykernel)",
   "language": "python",
   "name": "python3"
  },
  "language_info": {
   "codemirror_mode": {
    "name": "ipython",
    "version": 3
   },
   "file_extension": ".py",
   "mimetype": "text/x-python",
   "name": "python",
   "nbconvert_exporter": "python",
   "pygments_lexer": "ipython3",
   "version": "3.12.4"
  }
 },
 "nbformat": 4,
 "nbformat_minor": 5
}
