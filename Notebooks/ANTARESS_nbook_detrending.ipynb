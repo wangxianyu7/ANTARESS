{
 "cells": [
  {
   "cell_type": "markdown",
   "id": "34b4eaef-1ed1-4e33-9de6-9bb7e0677262",
   "metadata": {},
   "source": [
    "# Introduction"
   ]
  },
  {
   "cell_type": "markdown",
   "id": "0fa6642f-4352-47e0-8d0a-1d4694cec2d4",
   "metadata": {},
   "source": [
    "This notebook allows you to apply a simplified version of the ANTARESS workflow to a dataset obtained during an exoplanet transit, for the following purposes:\n",
    "- characterizing systematic trends in out-of-transit stellar line properties \n",
    "- measuring the systemic velocity at the epoch of the transit\n",
    "\n",
    "The notebook takes as input a time-series of disk-integrated CCFs, after they have been processed with the [reduction notebook](https://gitlab.unige.ch/spice_dune/antaress/-/blob/main/Notebooks/ANTARESS_nbook_sp_reduc.ipynb)). The default version is set up to analyze the echelle spectra obtained with ESPRESSO during the transit of TOI-421c, cleaned and converted into CCFs with the reduction notebook. Otherwise adjust settings to retrieve your own cleaned dataset, setting `working_path`, `star_name`, and `pl_name` to the same values that you used to [initialize](https://gitlab.unige.ch/spice_dune/antaress/-/blob/main/Notebooks/ANTARESS_nbook_setup.ipynb) your system.\n",
    "\n",
    "To exploit the workflow to its full capabilities, run its executable with the [configuration files](https://obswww.unige.ch/~bourriev/antaress/doc/html/installation.html)."
   ]
  },
  {
   "cell_type": "code",
   "execution_count": 4,
   "id": "f02879c9-c060-44a5-b6b7-efea4a8ce916",
   "metadata": {},
   "outputs": [
    {
     "ename": "TypeError",
     "evalue": "init() takes 0 positional arguments but 1 was given",
     "output_type": "error",
     "traceback": [
      "\u001b[0;31m---------------------------------------------------------------------------\u001b[0m",
      "\u001b[0;31mTypeError\u001b[0m                                 Traceback (most recent call last)",
      "Cell \u001b[0;32mIn[4], line 2\u001b[0m\n\u001b[1;32m      1\u001b[0m \u001b[38;5;28;01mimport\u001b[39;00m \u001b[38;5;21;01mANTARESS_nbook_bground\u001b[39;00m\n\u001b[0;32m----> 2\u001b[0m input_nbook \u001b[38;5;241m=\u001b[39m \u001b[43mANTARESS_nbook_bground\u001b[49m\u001b[38;5;241;43m.\u001b[39;49m\u001b[43minit\u001b[49m\u001b[43m(\u001b[49m\u001b[38;5;124;43m'\u001b[39;49m\u001b[38;5;124;43mDetrending\u001b[39;49m\u001b[38;5;124;43m'\u001b[39;49m\u001b[43m)\u001b[49m\n\u001b[1;32m      3\u001b[0m input_nbook[\u001b[38;5;124m'\u001b[39m\u001b[38;5;124mworking_path\u001b[39m\u001b[38;5;124m'\u001b[39m] \u001b[38;5;241m=\u001b[39m\u001b[38;5;124m'\u001b[39m\u001b[38;5;124m/Users/erikfriden/Desktop/antaress-pip/working_dir/\u001b[39m\u001b[38;5;124m'\u001b[39m\n",
      "\u001b[0;31mTypeError\u001b[0m: init() takes 0 positional arguments but 1 was given"
     ]
    }
   ],
   "source": [
    "import ANTARESS_nbook_bground\n",
    "input_nbook = {\n",
    "    'working_path' : '/Users/bourrier/Travaux/ANTARESS/Working_dir/',\n",
    "    'star_name' : 'TOI421',\n",
    "    'pl_name'   : 'TOI421c'\n",
    "}\n",
    "input_nbook = ANTARESS_nbook_bground.load_nbook(input_nbook, 'trends')"
   ]
  },
  {
   "cell_type": "markdown",
   "id": "6302c62e-7108-416d-b467-2b5571a11139",
   "metadata": {},
   "source": [
    "# CCF analysis"
   ]
  },
  {
   "cell_type": "markdown",
   "id": "790759e5-d89a-42e4-96cf-33aaca845bf2",
   "metadata": {},
   "source": [
    "Trends are searched for in the properties of the disk-integrated stellar line.\n",
    "The first step thus consists in fitting CCFs with a Gaussian model to derive their full width at half maxima (FWHM), contrast, and rv position. \n",
    "\n",
    "You can define the radial velocity range for the fit and continuum. \n",
    "- `cont_range` : define regions used for the continuum, which can be multiple ranges\n",
    "- `fit_range` (list, float): define range used for fit, can be multiple ranges and will then have the same format as `cont_range`\n",
    "\n",
    "\n",
    "Additional model and fit options are available through the configuration file. The full workflow will also allow you to correct for putative line trends.\n",
    "\n",
    "**Fit disk-integrated CCF profiles**\n",
    "\n",
    "The first step in fitting the CCF profiles will be to \n",
    "\n",
    "\n",
    "\n",
    "**FIT Model parameters**\n",
    "\n",
    "To fit the CCFs, we use a Gaussian model using $\\chi^2$-minimization. The guess parameters will be used to initialise the starting values of the fitting routine. Choose guess values for RV and FWHM in km/s and the contrast. To plot the Gaussian fit set `plot_CCF` to true, the properties for RV, FWHM, and contrast will be plotted if `plot=True`.\n"
   ]
  },
  {
   "cell_type": "code",
   "execution_count": null,
   "id": "8b44e13c-ff51-4cc9-bd36-67cb52ad2613",
   "metadata": {},
   "outputs": [],
   "source": [
    "# Ranges\n",
    "input_nbook['par'].update({\n",
    "    'cont_range' : [[-100., -25.], [25., 100.]],\n",
    "    'fit_range'  : [[-100, 100]]\n",
    "})\n",
    "\n",
    "\n",
    "input_nbook['par']['guess'({\n",
    "    'rv'       : 0.,\n",
    "    'FWHM'     : 6.,\n",
    "    'ctrst'    : 0.7,\n",
    "})\n",
    "\n",
    "# Set to True to run the fit, and to False to retrieve its results\n",
    "input_nbook['par']['calc_fit'] = True  \n",
    "\n",
    "ANTARESS_nbook_bground.ana_prof(input_nbook,'DI')"
   ]
  },
  {
   "cell_type": "markdown",
   "id": "a7ec7dc5-07b5-4ec0-843a-8332d184a5b4",
   "metadata": {},
   "source": [
    "**Plotting disk-integrated CCFs**\n",
    "\n",
    "Run this cell to plot the disk-integrated CCF series with their best fits. Uncomment `y_range` to adjust the flux range of the CCFs (vertical axis)."
   ]
  },
  {
   "cell_type": "code",
   "execution_count": null,
   "id": "b1ce643d-53bf-4331-9203-ef9dd0791177",
   "metadata": {},
   "outputs": [],
   "source": [
    "input_nbook['par']['y_range'] = [2.1e5,3.6e5] \n",
    "ANTARESS_nbook_bground.plot_prof(input_nbook,'DI_prof')"
   ]
  },
  {
   "cell_type": "markdown",
   "id": "fecec5b8-0381-4e8e-a0fb-8d3d6c36e96f",
   "metadata": {},
   "source": [
    "<a id='fit_prop'></a>\n",
    "# Trend characterisation"
   ]
  },
  {
   "cell_type": "markdown",
   "id": "35a8cdad-5a40-4647-8f22-4128c735e9e0",
   "metadata": {},
   "source": [
    " will be analysed to see if they correlate with either time (phase) or SNR. For more options, use the configuration file.\n",
    "\n",
    "Here, we investigate the data and the model parameters to identify any trends seen in the model parameters as either a function of time (phase) or SNR. The goal will be to find the model and its coefficients that best fit the data. No correction will be applied if a linear fit shows the best agreement with the data. The most common models to characterise the data are first or second-degree polynomials; if you need a more complex model to fit the data, e.g., a sinus model, you can use the full ANTARESS workflow using [configuration files](https://obswww.unige.ch/~bourriev/antaress/doc/html/installation.html). In this notebook, we only work with polynomials.\n",
    "\n",
    "- `pol_deg` (integer): degree of polynomial to fit\n",
    "- `x_var` (string): phase or SNR, choose what dependence to plot against for the properties (RV, FWHM, and ctrst).\n",
    "\n",
    "Run the cell below to perform the fit for (RV, FWHM, and ctrst) as a function of `'phase'` or `'snr'`. Try different polynomial degrees. The Bayesian information criterion (BIC) will be printed for each fit to compare the different models.\n",
    "\n",
    "Identify any trends usinc the cell [Trend characterisation](#fit_prop), and find the best model representing the data. Once the best models for the parameters RV, FWHM, and contrast have been found using the Bayesian Information Criterion, insert the coefficient for each model below. If multiple properties are being corrected, add them to the list as shown in the example below.\n"
   ]
  },
  {
   "cell_type": "code",
   "execution_count": null,
   "id": "37aaa011-fd93-44cd-a1d2-3854484507b1",
   "metadata": {},
   "outputs": [],
   "source": [
    "input_nbook['DI_trend'].update({\n",
    "    'pol_deg' : 0.,\n",
    "    'x_var'   : 'phase',\n",
    "})\n",
    "\n",
    "ANTARESS_nbook_bground.fit_prop(input_nbook, plot=False)\n",
    "\n",
    "input_nbook['settings']['plot_dic']['porp_DI'] = 'png'"
   ]
  },
  {
   "cell_type": "markdown",
   "id": "bb85eef0-9c1c-49d5-af0b-bd59fde13127",
   "metadata": {},
   "source": [
    "**Systemic velocity**\n",
    "\n",
    "**If it is the first time you run the analysis, leave it as** `gamma = 0`. When you run ANTARESS the first time, you will measure the systemic velocity, which will be printed in the output, later set gamma to the measured value.\n",
    "\n",
    " This step is used to measure the systemic rv, to check that your Keplerian model matches the data, and to search for systematic trends in the line properties. "
   ]
  },
  {
   "cell_type": "code",
   "execution_count": null,
   "id": "23024a8d-5967-4a22-9766-03a6f2ef5c5c",
   "metadata": {},
   "outputs": [],
   "source": [
    "input_nbook['par']['gamma'] = 0.\n",
    "ANTARESS_nbook_bground.set_sysvel(input_nbook)"
   ]
  },
  {
   "cell_type": "markdown",
   "id": "4a51991a-1f14-47f5-9533-0966b3bf3381",
   "metadata": {},
   "source": [
    "**Plotting disk-integrated line properties**\n",
    "\n",
    "Run this cell to plot the time-series of properties derived from the fits to disk-integrated CCFs. "
   ]
  },
  {
   "cell_type": "code",
   "execution_count": null,
   "id": "65c33bd3-dfc9-4603-9aef-61836e0d3c27",
   "metadata": {},
   "outputs": [],
   "source": [
    "ANTARESS_nbook_bground.plot_prop(input_nbook,'DI')"
   ]
  },
  {
   "cell_type": "markdown",
   "id": "637791ed-ef5e-472b-86cb-44f5666269a6",
   "metadata": {},
   "source": [
    "# Running ANTARESS"
   ]
  },
  {
   "cell_type": "markdown",
   "id": "732421ef-f7fb-463e-b908-027791dfed50",
   "metadata": {},
   "source": [
    "Run this cell to run the ANTARESS workflow."
   ]
  },
  {
   "cell_type": "code",
   "execution_count": null,
   "id": "1fb08378-d090-43a2-b2e0-81039224982c",
   "metadata": {},
   "outputs": [],
   "source": [
    "from antaress.ANTARESS_launch.ANTARESS_launcher import ANTARESS_launcher\n",
    "ANTARESS_launcher(working_path=input_nbook['working_path'], nbook_dic = input_nbook, exec_comm=False)"
   ]
  },
  {
   "cell_type": "markdown",
   "id": "d7c4d508-a871-4a9c-9ec7-6f0d590d90e6",
   "metadata": {},
   "source": [
    "# Plot display"
   ]
  },
  {
   "cell_type": "code",
   "execution_count": null,
   "id": "9ea33564-5763-450c-bdc0-6fefbc2ff2e7",
   "metadata": {},
   "outputs": [],
   "source": [
    "from IPython.display import Image,display\n",
    "from IPython.core.display import HTML "
   ]
  },
  {
   "cell_type": "markdown",
   "id": "753f6182-0282-48bd-9446-db12eb7ce976",
   "metadata": {},
   "source": [
    "Run the cells below to show saved plots. Plots can be found in `working_path/targetName_plots/`. For the fits to the CCF go to `working_path/target/targetPL_Plots/DI_data/instrument_night_Indiv/Data/`"
   ]
  },
  {
   "cell_type": "markdown",
   "id": "8c7c54be-3b4f-4e85-9b20-6462bb852a6f",
   "metadata": {},
   "source": [
    "**Disk-integrated CCF series**\n",
    "\n",
    "This plot shows the series of disk-integrated CCFs (blue profiles) with their best-fit Gaussian models (dashed black profiles), from which are derived the properties showed in the next plot."
   ]
  },
  {
   "cell_type": "code",
   "execution_count": null,
   "id": "c16389bc-b0b4-4e92-ae96-ae1eca82fec7",
   "metadata": {},
   "outputs": [],
   "source": [
    "Image(filename = input_nbook['plot_path']+'DI_data/'+input_nbook['par']['instrument']+'_'+input_nbook['par']['night']+'_Indiv/Data/CCF/phase.gif')"
   ]
  },
  {
   "cell_type": "markdown",
   "id": "fafeab58-a865-4b9b-92fd-1acdb3e486af",
   "metadata": {},
   "source": [
    "**Disk-integrated line properties**\n",
    "\n",
    "The three plots below show the time-series of RVs, contrast, and FWHM derived from the fits to the disk-integrated CCFs. Transit contacts are shown as dashed black lines, and in-transit exposures are flagged with empty symbols.\n",
    "\n",
    "Outside of the transit, RVs should trace the Keplerian motion of your star with respect to the solar system barycenter (the Keplerian model defined by your inputs for the star and planets is plotted as a solid blue curve). If your star is quiet and measurements are dominated by white noise, RV measurements should be evenly spread around the Keplerian model, while contrast and FWHM measurements should be evenly spread around their mean out-of-transit value (dashed blue lines). You can assess this by looking at the ratio between the dispersion and mean error over out-of-transit measurements, reported on each plot, which should be close to unity. If that is not the case, you can use the workflow to detrend the data.  \n",
    "\n",
    "Inside of the transit the planet occults local regions of the stellar surface, distorting the disk-integrated stellar lines and inducing anomalous deviations in their derived properties. Traditionally, measurements of the sky-projected spin-orbit angle in planetary systems have been performed by analyzing this anomalous signal in RV - but the anomaly may not be detectable with faint, slow-rotating stars and small planets. With ANTARESS, you will be able to analyze directly the planet-occulted stellar profiles to get a higher precision on the transit chord and orbital architecture of the system."
   ]
  },
  {
   "cell_type": "code",
   "execution_count": null,
   "id": "6e07b86a-0dbd-4bdd-a50e-c8fd8fb72924",
   "metadata": {},
   "outputs": [],
   "source": [
    "Image(filename = input_nbook['plot_path']+'DI_prop/rv_phase.png')"
   ]
  },
  {
   "cell_type": "code",
   "execution_count": null,
   "id": "7a9d4272-53ab-43fa-a9b4-7b449fc6ba6a",
   "metadata": {},
   "outputs": [],
   "source": [
    "Image(filename = input_nbook['plot_path']+'DI_prop/rv_res_phase.png')"
   ]
  },
  {
   "cell_type": "code",
   "execution_count": null,
   "id": "bfb14bba-7ca4-4165-b350-51f22c39b769",
   "metadata": {},
   "outputs": [],
   "source": [
    "Image(filename = input_nbook['plot_path']+'DI_prop/ctrst_phase.png')"
   ]
  },
  {
   "cell_type": "code",
   "execution_count": null,
   "id": "38b89d3c-37a5-4ba8-a749-506f21512256",
   "metadata": {},
   "outputs": [],
   "source": [
    "Image(filename = input_nbook['plot_path']+'DI_prop/FWHM_phase.png')"
   ]
  },
  {
   "cell_type": "code",
   "execution_count": null,
   "id": "03b6099f-d4a2-40d1-9902-6f6b32adb38b",
   "metadata": {},
   "outputs": [],
   "source": []
  },
  {
   "cell_type": "code",
   "execution_count": null,
   "id": "e355816d-d9e7-42e7-9ab5-0ffa0b873332",
   "metadata": {},
   "outputs": [],
   "source": []
  },
  {
   "cell_type": "code",
   "execution_count": null,
   "id": "f6d2d649-6daa-43de-94f5-09ed0d8c3cd4",
   "metadata": {},
   "outputs": [],
   "source": []
  },
  {
   "cell_type": "code",
   "execution_count": null,
   "id": "e1821730-36dd-4ffb-ab24-ad12c75ea842",
   "metadata": {},
   "outputs": [],
   "source": []
  },
  {
   "cell_type": "code",
   "execution_count": null,
   "id": "d38d5b4e-f3be-4246-9b89-0f9870c8c46f",
   "metadata": {},
   "outputs": [],
   "source": []
  }
 ],
 "metadata": {
  "kernelspec": {
   "display_name": "Python 3 (ipykernel)",
   "language": "python",
   "name": "python3"
  },
  "language_info": {
   "codemirror_mode": {
    "name": "ipython",
    "version": 3
   },
   "file_extension": ".py",
   "mimetype": "text/x-python",
   "name": "python",
   "nbconvert_exporter": "python",
   "pygments_lexer": "ipython3",
   "version": "3.11.3"
  }
 },
 "nbformat": 4,
 "nbformat_minor": 5
}
