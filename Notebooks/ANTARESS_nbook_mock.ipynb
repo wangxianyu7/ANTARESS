{
 "cells": [
  {
   "cell_type": "markdown",
   "id": "3e0aad91-71e8-4304-a1ed-4f95c988eafd",
   "metadata": {
    "tags": []
   },
   "source": [
    "# Introduction"
   ]
  },
  {
   "cell_type": "markdown",
   "id": "abdb3678",
   "metadata": {},
   "source": [
    "This notebook allows you to run a simplified version of the ANTARESS workflow, for the following purpose:\n",
    "- generating a mock CCF dataset of a transiting planet, as observed with a given spectrograph \n",
    "The main interest of the mock datasets is to estimate the detectability of a Rossiter-McLaughlin signature, by analyzing them with the workflow like real observations. \n",
    "\n",
    "To use the workflow to its full capabilities, set up the configuration file `ANTARESS_settings.py` and run `ANTARESS_launcher()`. "
   ]
  },
  {
   "cell_type": "code",
   "execution_count": 1,
   "id": "5cfb9186-8e9e-42f1-8e01-4aa45c26bbdb",
   "metadata": {
    "tags": []
   },
   "outputs": [],
   "source": [
    "import ANTARESS_nbook_bground\n",
    "input_nbook = ANTARESS_nbook_bground.init('mock')"
   ]
  },
  {
   "cell_type": "markdown",
   "id": "1dc89737-0699-4101-aed5-dff0d6035318",
   "metadata": {
    "tags": []
   },
   "source": [
    "# System parameters"
   ]
  },
  {
   "cell_type": "markdown",
   "id": "e334f1d4-b3d6-47ae-977a-62d1d66ee15b",
   "metadata": {},
   "source": [
    "**Parameters of the host star**\n",
    "\n",
    "Run this cell to define the host star. \n",
    "- `star_name` (string): Name of the star. Should not contain spaces/dashes.\n",
    "- `Rs` (float): Radius of the star, in $R_\\odot$.\n",
    "- `vsini` (float): Projected stellar surface velocity, in km/s.\n",
    "- `ld_u1` (float): First coefficient of the quadratic limb-darkening.\n",
    "- `ld_u2` (float): Second coefficient of the quadratic limb-darkening."
   ]
  },
  {
   "cell_type": "code",
   "execution_count": 2,
   "id": "e5f4ea57",
   "metadata": {},
   "outputs": [],
   "source": [
    "input_nbook['par'].update({\n",
    "    'star_name' : 'Arda',\n",
    "    'Rs'        : 0.9,\n",
    "    'vsini'     : 15.,\n",
    "    'ld_u1'     : 0.2,\n",
    "    'ld_u2'     : 0.5\n",
    "})\n",
    "ANTARESS_nbook_bground.init_star(input_nbook)"
   ]
  },
  {
   "cell_type": "markdown",
   "id": "1ccee5d3",
   "metadata": {},
   "source": [
    "**Parameters of transiting planet**\n",
    "\n",
    "Run this cell to set the transiting planet on which the RM analysis is applied. \n",
    "- `planet_name` (string): Name of the transiting planet. Should not contain spaces/dashes.\n",
    "- `period` (float): Orbital period, in days.\n",
    "- `T0` (float): Mid-transit time, in ${\\rm BJD}_{\\rm TBD}$.\n",
    "- `ecc` (float): Orbital eccentricity.\n",
    "- `long_per` (float): Longitude of periastron, in degrees. If the orbit is circular, fill in `90.`.\n",
    "- `Kstar` (float): RV semi-amplitude, in m/s.\n",
    "- `aRs` (float): Scaled separation $a/R_\\star$.\n",
    "- `incl` (float): Orbital inclination, in degrees.\n",
    "- `lambda` (float): Sky-projected spin-orbit angle, in degrees.\n",
    "- `RpRs` (float): Planet-to-star radius ratio $R_{\\rm p}/R_\\star$."
   ]
  },
  {
   "cell_type": "code",
   "execution_count": 3,
   "id": "27d0509f",
   "metadata": {},
   "outputs": [],
   "source": [
    "input_nbook['par'].update({\n",
    "    'planet_name' : 'Valinor',\n",
    "    'period'      : 3.8,\n",
    "    'T0'          : 2457176.1,\n",
    "    'ecc'         : 0.,\n",
    "    'long_per'    : 90.,\n",
    "    'Kstar'       : 38.1,\n",
    "    'aRs'         : 12.0,\n",
    "    'incl'        : 89.,\n",
    "    'lambda'      : 50.,\n",
    "    'RpRs'        : 0.25\n",
    "})\n",
    "ANTARESS_nbook_bground.init_pl(input_nbook,'main')"
   ]
  },
  {
   "cell_type": "markdown",
   "id": "5a5b1bd3",
   "metadata": {},
   "source": [
    "**Parameters of additional planets in the system**\n",
    "\n",
    "Run this cell to set additional planets, which will only contribute to the computation of the star Keplerian motion. \n",
    "\n",
    "The names and definitions of the parameters are the same as for the main planet (`aRs`, `incl`, `RpRs` are not required).\n",
    "\n",
    "Copy the cell to add further planets"
   ]
  },
  {
   "cell_type": "code",
   "execution_count": 4,
   "id": "9f1a8f88",
   "metadata": {},
   "outputs": [],
   "source": [
    "input_nbook['par'].update({\n",
    "    'planet_name' : 'Numenor',\n",
    "    'period'      : 8.,\n",
    "    'T0'          : 2457176.2,\n",
    "    'ecc'         : 0.,\n",
    "    'long_per'    : 90.,\n",
    "    'Kstar'       : 20.\n",
    "})\n",
    "ANTARESS_nbook_bground.init_pl(input_nbook,'sec')"
   ]
  },
  {
   "cell_type": "markdown",
   "id": "660e4a49",
   "metadata": {
    "tags": []
   },
   "source": [
    "# Mock dataset properties"
   ]
  },
  {
   "cell_type": "markdown",
   "id": "8dca5055",
   "metadata": {},
   "source": [
    "**Visit**\n",
    "\n",
    "Run this cell to define the mock visit. It must overlap with the transit of the `transiting planet`.\n",
    "- `instrument` (string): Instrument of the visit (e.g. `ESPRESSO`, `NIRPS_HE`...).\n",
    "- `night` (string): Night of the visit. It is preferred to use the standard format, i.e. `YYYYMMDD`.\n",
    "- `range` (list): Absolute time range of the visit, in BJD.\n",
    "- `nexp` (int): Number of exposures in the visit."
   ]
  },
  {
   "cell_type": "code",
   "execution_count": 5,
   "id": "4a3c99d7",
   "metadata": {
    "tags": []
   },
   "outputs": [],
   "source": [
    "input_nbook['par'].update({\n",
    "    'instrument' : 'ESPRESSO',\n",
    "    'night'      : '20230624',\n",
    "    'range'      : [2457176.1 -3./24.,2457176.1 + 3./24.],\n",
    "    'nexp'       : 50,    \n",
    "})\n",
    "ANTARESS_nbook_bground.add_vis(input_nbook,mock=True)"
   ]
  },
  {
   "cell_type": "markdown",
   "id": "cba4325f-910b-4af4-9a55-988c632c54ca",
   "metadata": {
    "tags": []
   },
   "source": [
    "**Radial velocity table**\n",
    "\n",
    "Run this cell to set the radial velocity table over which CCFs are defined (in km/s, in the star rest frame).\n",
    "- `x_start` (float): start of the table.\n",
    "- `x_end` (float): end of the table.\n",
    "- `dx` (float): step of the table."
   ]
  },
  {
   "cell_type": "code",
   "execution_count": 6,
   "id": "69ab63d8",
   "metadata": {},
   "outputs": [],
   "source": [
    "input_nbook['par'].update({\n",
    "    'x_start' : -80.,\n",
    "    'x_end'   :  80.,\n",
    "    'dx'      :  0.8\n",
    "})\n",
    "ANTARESS_nbook_bground.set_mock_rv(input_nbook)"
   ]
  },
  {
   "cell_type": "markdown",
   "id": "82ee424a-d701-4f1e-8e3c-86cb88b2c73d",
   "metadata": {
    "tags": []
   },
   "source": [
    "**Stellar line**\n",
    "\n",
    "Run this cell to set the absorption line used to tile the star.\n",
    "- `gamma` (float): systemic rv (in km/s).\n",
    "- `contrast` (float): intrinsic line constrast.\n",
    "- `FWHM` (float): intrinsic line full-width at half-maximum (in km/s)\n",
    "- `flux` (float): disk-integrated line continuum flux (number of counts received for an exposure time of 1 s).\n",
    "- `noise` (bool): set to True to randomly draw white noise for each CCF pixel, based on its count level (to increase the S/N, increase `flux`). \n",
    "\n",
    "Line is arbitrarily set to a Gaussian profile, centered in the star rest frame."
   ]
  },
  {
   "cell_type": "code",
   "execution_count": 7,
   "id": "6a35c4fc-dffc-42d7-8982-aa1367cd6918",
   "metadata": {},
   "outputs": [],
   "source": [
    "input_nbook['par'].update({\n",
    "    'gamma'      : 10., \n",
    "    'contrast'   : 0.7,  \n",
    "    'FWHM'       : 2.5,\n",
    "    'flux'       : 800,\n",
    "    'noise'      : True,\n",
    "})\n",
    "ANTARESS_nbook_bground.set_sysvel(input_nbook,mock=True)\n",
    "ANTARESS_nbook_bground.set_mock_prof(input_nbook)"
   ]
  },
  {
   "cell_type": "markdown",
   "id": "172b850f-730e-4b36-8638-03c419a516d4",
   "metadata": {
    "tags": []
   },
   "source": [
    "# Processing and analysis for plot display."
   ]
  },
  {
   "cell_type": "markdown",
   "id": "959b52a3-253f-4c21-b653-c8583163ff02",
   "metadata": {},
   "source": [
    "Run this cell to set up the processing and analysis modules. This has no impact on the generation of the mock dataset, but it is required for its display. "
   ]
  },
  {
   "cell_type": "code",
   "execution_count": 8,
   "id": "5a9026ec-295f-4674-9266-b013b1e53878",
   "metadata": {},
   "outputs": [],
   "source": [
    "ANTARESS_nbook_bground.ana_prof(input_nbook)\n",
    "ANTARESS_nbook_bground.set_sysvel(input_nbook)\n",
    "ANTARESS_nbook_bground.align_prof(input_nbook)\n",
    "ANTARESS_nbook_bground.flux_sc(input_nbook,mock=True)\n",
    "ANTARESS_nbook_bground.extract_intr(input_nbook)"
   ]
  },
  {
   "cell_type": "markdown",
   "id": "5f9fdb71",
   "metadata": {},
   "source": [
    "Run these cells to set up the plot display of your mock dataset (see at the end of the notebook)."
   ]
  },
  {
   "cell_type": "code",
   "execution_count": 9,
   "id": "979e9bec-51d3-4c8d-8f20-0d11fe893eba",
   "metadata": {},
   "outputs": [],
   "source": [
    "ANTARESS_nbook_bground.plot_system(input_nbook)\n",
    "ANTARESS_nbook_bground.plot_prop(input_nbook)"
   ]
  },
  {
   "cell_type": "markdown",
   "id": "ddf44dff-868e-45ee-950c-0d3bc988bf42",
   "metadata": {
    "tags": []
   },
   "source": [
    "**Disk-integrated CCF series**\n",
    "\n",
    "Adjust `y_range` to the flux range of the CCFs (vertical axis)"
   ]
  },
  {
   "cell_type": "code",
   "execution_count": 10,
   "id": "a2e8f2f5-35b3-426a-b326-c14c419d87a4",
   "metadata": {},
   "outputs": [],
   "source": [
    "input_nbook['par']['y_range'] = [2.8e5,3.55e5] \n",
    "ANTARESS_nbook_bground.plot_prof(input_nbook,'DI_prof')"
   ]
  },
  {
   "cell_type": "markdown",
   "id": "0fab1b91-f421-45e6-95bf-435c0b62326a",
   "metadata": {
    "tags": []
   },
   "source": [
    "**Intrinsic stellar profiles**\n",
    "\n",
    "Adjust `y_range` and `v_range` to the flux range of the CCFs (vertical axis in 1D, color scale in 2D)"
   ]
  },
  {
   "cell_type": "code",
   "execution_count": 11,
   "id": "fd01560b-780e-4673-b779-9413e8fd4cca",
   "metadata": {},
   "outputs": [],
   "source": [
    "input_nbook['par']['y_range'] = [0.5,1.2]\n",
    "ANTARESS_nbook_bground.plot_prof(input_nbook,'Intr_prof')\n",
    "input_nbook['par']['v_range'] = [0.6,1.1]\n",
    "ANTARESS_nbook_bground.plot_map(input_nbook,'Intr_prof')\n"
   ]
  },
  {
   "cell_type": "markdown",
   "id": "358e1bd6",
   "metadata": {
    "tags": []
   },
   "source": [
    "# Running ANTARESS"
   ]
  },
  {
   "cell_type": "markdown",
   "id": "c2c93ef3-85a8-4e50-be5c-737c36ec8dcd",
   "metadata": {},
   "source": [
    "Run this cell to launch the ANTARESS workflow. \n",
    "\n",
    "The mock CCF profile series can be retrieved under `/ANTARESS/En_cours/Valinor_Saved_data/Processed_data/instrument_night_i.npz`"
   ]
  },
  {
   "cell_type": "code",
   "execution_count": 12,
   "id": "81f2cfdc-a4da-43b5-a5b5-7fe0eb43c0a9",
   "metadata": {
    "tags": []
   },
   "outputs": [
    {
     "name": "stdout",
     "output_type": "stream",
     "text": [
      "/Users/bourrier/Travaux/ANTARESS/Method\n"
     ]
    },
    {
     "ename": "ImportError",
     "evalue": "cannot import name 'spec_dopshift' from 'utils' (/Users/bourrier/Travaux/ANTARESS/Method/utils.py)",
     "output_type": "error",
     "traceback": [
      "\u001b[0;31m---------------------------------------------------------------------------\u001b[0m",
      "\u001b[0;31mImportError\u001b[0m                               Traceback (most recent call last)",
      "Cell \u001b[0;32mIn[12], line 2\u001b[0m\n\u001b[1;32m      1\u001b[0m get_ipython()\u001b[38;5;241m.\u001b[39mrun_line_magic(\u001b[38;5;124m'\u001b[39m\u001b[38;5;124mcd\u001b[39m\u001b[38;5;124m'\u001b[39m, \u001b[38;5;124m'\u001b[39m\u001b[38;5;124m..\u001b[39m\u001b[38;5;124m'\u001b[39m)\n\u001b[0;32m----> 2\u001b[0m \u001b[38;5;28;01mfrom\u001b[39;00m \u001b[38;5;21;01mANTARESS_launcher\u001b[39;00m \u001b[38;5;28;01mimport\u001b[39;00m ANTARESS_launcher\n\u001b[1;32m      3\u001b[0m ANTARESS_launcher(nbook_dic \u001b[38;5;241m=\u001b[39m input_nbook)\n",
      "File \u001b[0;32m~/Travaux/ANTARESS/Method/ANTARESS_launcher.py:4\u001b[0m\n\u001b[1;32m      1\u001b[0m \u001b[38;5;66;03m#!/usr/bin/env python3\u001b[39;00m\n\u001b[1;32m      2\u001b[0m \u001b[38;5;66;03m# -*- coding: utf-8 -*-\u001b[39;00m\n\u001b[0;32m----> 4\u001b[0m \u001b[38;5;28;01mfrom\u001b[39;00m \u001b[38;5;21;01mANTARESS_main\u001b[39;00m \u001b[38;5;28;01mimport\u001b[39;00m ANTARESS_main\n\u001b[1;32m      5\u001b[0m \u001b[38;5;28;01mfrom\u001b[39;00m \u001b[38;5;21;01mANTARESS_systems\u001b[39;00m \u001b[38;5;28;01mimport\u001b[39;00m all_system_params\n\u001b[1;32m      6\u001b[0m \u001b[38;5;28;01mfrom\u001b[39;00m \u001b[38;5;21;01mutils\u001b[39;00m \u001b[38;5;28;01mimport\u001b[39;00m stop\n",
      "File \u001b[0;32m~/Travaux/ANTARESS/Method/ANTARESS_main.py:1\u001b[0m\n\u001b[0;32m----> 1\u001b[0m \u001b[38;5;28;01mfrom\u001b[39;00m \u001b[38;5;21;01mANTARESS_spectral_corrections\u001b[39;00m\u001b[38;5;21;01m.\u001b[39;00m\u001b[38;5;21;01mANTARESS_sp_reduc\u001b[39;00m \u001b[38;5;28;01mimport\u001b[39;00m red_sp_data_instru\n\u001b[1;32m      2\u001b[0m \u001b[38;5;28;01mfrom\u001b[39;00m \u001b[38;5;21;01mANTARESS_analysis\u001b[39;00m\u001b[38;5;21;01m.\u001b[39;00m\u001b[38;5;21;01mANTARESS_joined_star\u001b[39;00m \u001b[38;5;28;01mimport\u001b[39;00m joined_Intr_ana\n\u001b[1;32m      3\u001b[0m \u001b[38;5;28;01mfrom\u001b[39;00m \u001b[38;5;21;01mANTARESS_analysis\u001b[39;00m\u001b[38;5;21;01m.\u001b[39;00m\u001b[38;5;21;01mANTARESS_joined_atm\u001b[39;00m \u001b[38;5;28;01mimport\u001b[39;00m joined_Atm_ana\n",
      "File \u001b[0;32m~/Travaux/ANTARESS/Method/ANTARESS_spectral_corrections/ANTARESS_sp_reduc.py:4\u001b[0m\n\u001b[1;32m      2\u001b[0m \u001b[38;5;28;01mfrom\u001b[39;00m \u001b[38;5;21;01mutils\u001b[39;00m \u001b[38;5;28;01mimport\u001b[39;00m np_where1D,dataload_npz\n\u001b[1;32m      3\u001b[0m \u001b[38;5;28;01mfrom\u001b[39;00m \u001b[38;5;21;01mcopy\u001b[39;00m \u001b[38;5;28;01mimport\u001b[39;00m deepcopy\n\u001b[0;32m----> 4\u001b[0m \u001b[38;5;28;01mfrom\u001b[39;00m \u001b[38;5;21;01mANTARESS_spectral_corrections\u001b[39;00m\u001b[38;5;21;01m.\u001b[39;00m\u001b[38;5;21;01mANTARESS_tellurics\u001b[39;00m \u001b[38;5;28;01mimport\u001b[39;00m corr_tell\n\u001b[1;32m      5\u001b[0m \u001b[38;5;28;01mfrom\u001b[39;00m \u001b[38;5;21;01mANTARESS_spectral_corrections\u001b[39;00m\u001b[38;5;21;01m.\u001b[39;00m\u001b[38;5;21;01mANTARESS_flux_balance\u001b[39;00m \u001b[38;5;28;01mimport\u001b[39;00m def_Mstar,corr_Fbal,corr_Ftemp\n\u001b[1;32m      6\u001b[0m \u001b[38;5;28;01mfrom\u001b[39;00m \u001b[38;5;21;01mANTARESS_spectral_corrections\u001b[39;00m\u001b[38;5;21;01m.\u001b[39;00m\u001b[38;5;21;01mANTARESS_peaks\u001b[39;00m \u001b[38;5;28;01mimport\u001b[39;00m corr_cosm,MAIN_permpeak\n",
      "File \u001b[0;32m~/Travaux/ANTARESS/Method/ANTARESS_spectral_corrections/ANTARESS_tellurics.py:3\u001b[0m\n\u001b[1;32m      1\u001b[0m \u001b[38;5;28;01mimport\u001b[39;00m \u001b[38;5;21;01mnumpy\u001b[39;00m \u001b[38;5;28;01mas\u001b[39;00m \u001b[38;5;21;01mnp\u001b[39;00m\n\u001b[1;32m      2\u001b[0m \u001b[38;5;28;01mfrom\u001b[39;00m \u001b[38;5;21;01mlmfit\u001b[39;00m \u001b[38;5;28;01mimport\u001b[39;00m Parameters\n\u001b[0;32m----> 3\u001b[0m \u001b[38;5;28;01mfrom\u001b[39;00m \u001b[38;5;21;01mutils\u001b[39;00m \u001b[38;5;28;01mimport\u001b[39;00m stop,np_where1D,npint,dataload_npz,MAIN_multithread,air_index,spec_dopshift,def_edge_tab\n\u001b[1;32m      4\u001b[0m \u001b[38;5;28;01mfrom\u001b[39;00m \u001b[38;5;21;01mcopy\u001b[39;00m \u001b[38;5;28;01mimport\u001b[39;00m deepcopy\n\u001b[1;32m      5\u001b[0m \u001b[38;5;28;01mimport\u001b[39;00m \u001b[38;5;21;01mbindensity\u001b[39;00m \u001b[38;5;28;01mas\u001b[39;00m \u001b[38;5;21;01mbind\u001b[39;00m\n",
      "\u001b[0;31mImportError\u001b[0m: cannot import name 'spec_dopshift' from 'utils' (/Users/bourrier/Travaux/ANTARESS/Method/utils.py)"
     ]
    }
   ],
   "source": [
    "%cd .. \n",
    "from ANTARESS_launcher import ANTARESS_launcher\n",
    "ANTARESS_launcher(nbook_dic = input_nbook)"
   ]
  },
  {
   "cell_type": "markdown",
   "id": "df4d4fd7-31f8-451e-92ca-5a1228b93af8",
   "metadata": {},
   "source": [
    "# Plot display"
   ]
  },
  {
   "cell_type": "code",
   "execution_count": null,
   "id": "928abdaa-de98-496c-ad3d-db9c99b9b2ee",
   "metadata": {},
   "outputs": [],
   "source": [
    "from IPython.display import Image\n",
    "from IPython.core.display import HTML "
   ]
  },
  {
   "cell_type": "markdown",
   "id": "034d5ef1-ede7-41b3-b7f7-75e9a1262e4a",
   "metadata": {},
   "source": [
    "Run the cells below to show saved plots."
   ]
  },
  {
   "cell_type": "markdown",
   "id": "07993af2-dc39-4da7-9739-1a774c9810b5",
   "metadata": {
    "tags": []
   },
   "source": [
    "**Planetary system architecture**\n",
    "\n",
    "This plot shows the system along the line-of-sight, to scale. The star is colored as a function of its surface radial velocity field, and the planetary orbit displayed as a green line is controlled by the system values you defined. The black and green arrow are the sky-projected stellar spin and orbital normal. Many more options are available through the plotting configuration file."
   ]
  },
  {
   "cell_type": "code",
   "execution_count": null,
   "id": "561a77f1-a414-44f2-8233-708b004530ef",
   "metadata": {},
   "outputs": [],
   "source": [
    "Image(filename = input_nbook['plot_path']+'System_view/System.gif', width=800)"
   ]
  },
  {
   "cell_type": "markdown",
   "id": "5e522b27-6dd7-497d-be05-8cd290863d43",
   "metadata": {
    "tags": []
   },
   "source": [
    "**Disk-integrated CCF series**\n",
    "\n",
    "This plot shows the series of mock disk-integrated CCFs (blue profiles). Depending on the system properties you defined, you will see by eye the anomalous `bump` induced by the occultation of local stellar lines by the planet.  \n",
    "\n",
    "The dashed black profiles are best-fit Gaussian models to each CCF, as is usually used to derive RVs."
   ]
  },
  {
   "cell_type": "code",
   "execution_count": null,
   "id": "387e6b81-f250-483d-9291-061b42bbdfaa",
   "metadata": {},
   "outputs": [],
   "source": [
    "Image(filename = input_nbook['plot_path']+'DI_data/'+input_nbook['par']['instrument']+'_'+input_nbook['par']['night']+'_Indiv/Data/CCF/phase.gif')"
   ]
  },
  {
   "cell_type": "markdown",
   "id": "a2e7bcb4-d537-44e0-b45a-b2d74bf7cd9c",
   "metadata": {
    "tags": []
   },
   "source": [
    "**Disk-integrated RV series**\n",
    "\n",
    "This plot shows the RV series derived from the fits to the mock CCF series. \n",
    "\n",
    "Outside of the transit (contacts shown as dashed black lines), RVs trace the Keplerian motion of your mock star with respect to the solar system barycenter (the Keplerian model is plotted as a blue curve).\n",
    "\n",
    "Inside of the transit, the deviation to the Keplerian curve is the classical RM anomaly induced by the local occultation of stellar lines by the planet. Traditionally, measurements of the sky-projected spin-orbit angle in planetary systems have been performed by analyzing this anomalous signal. With ANTARESS, you will be able to analyze directly the planet-occulted stellar profiles to get a higher precision on the transit chord and orbital architecture of the system."
   ]
  },
  {
   "cell_type": "code",
   "execution_count": null,
   "id": "63e23af7-0fcb-4bb2-ac52-4dc2449edffd",
   "metadata": {},
   "outputs": [],
   "source": [
    "Image(filename = input_nbook['plot_path']+'DI_prop/rv_phase.png')"
   ]
  },
  {
   "cell_type": "markdown",
   "id": "f95d7f51-f0f2-4860-a52f-1c64244ce903",
   "metadata": {
    "tags": []
   },
   "source": [
    "**Intrinsic stellar profiles**\n",
    "\n",
    "These plots show the intrinsic stellar lines from the stellar regions occulted by the planet, as they would be retrieved by applying the workflow to a real dataset. \n",
    "\n",
    "The first plot shows the series of mock intrinsic CCFs (blue profiles) in the star rest frame. The second plot shows the series in phase-RV space, colored with flux. CCFs have been normalized to a common flux level unity for visual purpose. The solid green lines trace the centroid of the occulted stellar line, which correspond to the RV of the transited regions. \n",
    "\n",
    "This example illustrates how the planet acts as a probe of the stellar surface, allowing us to measure its RV field and center-to-limb variations in the shape of its absorption lines. Note that in the present case the lines you simulated keep a constant shape, and that their effective depth will be smaller than the one you defined because of broadening by the spectrograph and stellar rotation."
   ]
  },
  {
   "cell_type": "code",
   "execution_count": null,
   "id": "0d4ff754-8a19-4c2e-ae5b-95e52db05731",
   "metadata": {},
   "outputs": [],
   "source": [
    "Image(filename = input_nbook['plot_path']+'Intr_data/'+input_nbook['par']['instrument']+'_'+input_nbook['par']['night']+'_Indiv/Data/CCF/phase.gif')"
   ]
  },
  {
   "cell_type": "code",
   "execution_count": null,
   "id": "e2ff0ba3-b276-45c5-8e81-efc87f7422cd",
   "metadata": {},
   "outputs": [],
   "source": [
    "Image(filename = input_nbook['plot_path']+'Intr_data/'+input_nbook['par']['instrument']+'_'+input_nbook['par']['night']+'_Map/Data/CCF/iord0.png', width=800)"
   ]
  }
 ],
 "metadata": {
  "kernelspec": {
   "display_name": "Python 3 (ipykernel)",
   "language": "python",
   "name": "python3"
  },
  "language_info": {
   "codemirror_mode": {
    "name": "ipython",
    "version": 3
   },
   "file_extension": ".py",
   "mimetype": "text/x-python",
   "name": "python",
   "nbconvert_exporter": "python",
   "pygments_lexer": "ipython3",
   "version": "3.8.16"
  },
  "toc": {
   "base_numbering": 1,
   "nav_menu": {},
   "number_sections": true,
   "sideBar": true,
   "skip_h1_title": false,
   "title_cell": "Table of Contents",
   "title_sidebar": "Contents",
   "toc_cell": false,
   "toc_position": {},
   "toc_section_display": true,
   "toc_window_display": true
  }
 },
 "nbformat": 4,
 "nbformat_minor": 5
}
