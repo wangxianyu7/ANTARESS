{
 "cells": [
  {
   "cell_type": "markdown",
   "id": "7b1bee42-7832-49ac-b992-242ae6e19327",
   "metadata": {},
   "source": [
    "# Introduction"
   ]
  },
  {
   "cell_type": "markdown",
   "id": "c3424e66-f54c-4a7c-9ad6-5cf12eedc677",
   "metadata": {},
   "source": [
    "This notebook allows you to apply a simplified version of the ANTARESS workflow to a dataset obtained during an exoplanet transit, for one of the following purposes:\n",
    "- format, clean, and detrend time-series of echelle spectra (S2D fit files) output by ESPRESSO-like DRS. The default version is set up to process a real dataset, obtained with ESPRESSO during the transit of TOI-421c, but settings can be adjusted to process your own dataset. At the end of the notebook, spectra are still in echelle format on their original spectral grid (defined in the solar barycentric rest frame), have comparable low-frequency spectral profiles, and are corrected for various instrumental, environmental, and stellar effects. \n",
    "- format and detrend time-series of CCFs fit files, for preliminary analysis. It is advised to compute CCFs self-consistently with ANTARESS from S2D.\n",
    "\n",
    "Whatever the use of this notebook, set `working_path`, `star_name`, and `pl_name` to the same values that you used in the [set-up notebook](https://gitlab.unige.ch/spice_dune/antaress/-/blob/main/Notebooks/ANTARESS_nbook_setup.ipynb) to initialize your system and dataset. Once reduced, your dataset can be [processed](https://gitlab.unige.ch/spice_dune/antaress/-/blob/main/Notebooks/DI_analysis_nbook_setup.ipynb) for further analyses.\n",
    "\n",
    "To exploit the workflow to its full capabilities (e.g., to process multiple planets and datasets), run its executable with the [configuration files](https://obswww.unige.ch/~bourriev/antaress/doc/html/installation.html)."
   ]
  },
  {
   "cell_type": "code",
   "execution_count": 1,
   "id": "683cef8e-e3e4-4854-b4fd-12964caf6a79",
   "metadata": {},
   "outputs": [],
   "source": [
    "import ANTARESS_nbook_bground\n",
    "input_nbook = {\n",
    "    'working_path' : '/Users/bourrier/Travaux/ANTARESS/Working_dir/',\n",
    "    'star_name' : 'TOI421',\n",
    "    'pl_name'   : 'TOI421c'\n",
    "}\n",
    "input_nbook = ANTARESS_nbook_bground.load_nbook(input_nbook, 'reduc')"
   ]
  },
  {
   "cell_type": "markdown",
   "id": "b05bdb30-32fd-4f39-a6df-eb45aeec1d9e",
   "metadata": {},
   "source": [
    "# General"
   ]
  },
  {
   "cell_type": "markdown",
   "id": "59cb089e-1333-4e25-815e-a79e5d186663",
   "metadata": {},
   "source": [
    "**Modules**\n",
    "\n",
    "The workflow runs each module successively. Outputs of a given module are stored on disk and used as inputs by subsequent modules. \n",
    "The `calc_X` field sets a given module to *calculation* or *retrieval* mode, so that it either processes data (which can take some time with large datasets) or retrieves already processed data. This allows you to run a module (i.e., run its cell to initialize it and then [run the workflow](#Launch_ANTARESS)), to check ANTARESS log and [plots](#Plot_display) to adjust the module settings, and once satisfied to set the module to *retrieval* mode before moving on to the next module.\n",
    "\n",
    "If you change a module settings, do not forget to run the workflow again after setting this module and all modules depending on its outputs to *calculation* mode."
   ]
  },
  {
   "cell_type": "markdown",
   "id": "7a076a1c-533c-4728-82c7-1bc2834af59d",
   "metadata": {},
   "source": [
    "**Plots**\n",
    "\n",
    "ANTARESS plots require intermediate data products that are only saved if the plots have been requested when running the workflow. \n",
    "If you want to generate the plots of a given module you thus need to run this module's cell in *calculation* mode, and the plot's cell, before running the workflow.\n",
    "If you then change the plot options you just need to run the module's cell in *retrieval* mode, and the plot's cell, before running the workflow.\n",
    "\n",
    "Most plots are specific to a given module. When processing S2D you can however use the `flux_sp` and `trans_sp` fields to compare the flux spectra and transmission spectra, respectively, output by two different modules. This allows assessing directly the impact of a given correction. The following options are available:\n",
    "- `iord2plot` (list, int) : indexes of spectral orders to be plotted. If several orders are requested they will overplotted together.\n",
    "- `x_range` (list, float) : start and end wavelengths to be plotted (in A). Must overlap with the ranges covered by the selected spectral orders. Set to `None` for automatic determination.\n",
    "- `y_range_X` (list, float) : vertical range of the plot, in absolute or relative flux units. Set to `None` for automatic determination.\n",
    "- `pre` (str) and `post`(str) : steps from which to plot the outputs. Choose among `raw` (input data), `tell` (after telluric correction), `fbal` (after flux balance correction), `cosm` (after cosmics correction), `wig` (after wiggle correction).\n",
    "- `plot_err` (bool): plot errors associated with profile\n",
    "\n",
    "A single occurrence of these plots is generated for a given run of the workflow. Depending on which module outputs you requests, you will need to run the workflow again with the relevant modules and their dependencies set to *calculation* mode."
   ]
  },
  {
   "cell_type": "code",
   "execution_count": 2,
   "id": "65221281-725d-4e11-af9a-f4ee0b26a618",
   "metadata": {},
   "outputs": [],
   "source": [
    "#Plot selection\n",
    "input_nbook['sp_reduc']['flux_sp']  = True\n",
    "input_nbook['sp_reduc']['trans_sp'] = True\n",
    "\n",
    "#Common options\n",
    "input_nbook['sp_reduc'].update({\n",
    "    'iord2plot'     : [113,115,117],\n",
    "    'x_range'       : None, #[5750.,5770.], \n",
    "    'y_range_flux'  : None,\n",
    "    'y_range_trans' : None,\n",
    "    'pre'           : 'cosm',\n",
    "    'post'          : 'wig',\n",
    "    'plot_err'      : False,\n",
    "})\n",
    "\n",
    "ANTARESS_nbook_bground.plot_spec(input_nbook)"
   ]
  },
  {
   "cell_type": "markdown",
   "id": "b65c06e4-5639-4ad3-b01d-0367acf6e7c0",
   "metadata": {},
   "source": [
    "# Data upload and formatting"
   ]
  },
  {
   "cell_type": "markdown",
   "id": "461fcd2f-8646-4302-a956-09c18b6f3de1",
   "metadata": {},
   "source": [
    "Run this cell to initialize the module tasked to upload the dataset and to put in ANTARESS format. \n",
    "\n",
    "When processing S2D you have the possibility to permanently mask parts of the dataset for the entire workflow process, by filling in the following fields:\n",
    "- 'iexp2keep' (list, int) : indexes of exposures to be kept, e.g., `list(np.delete(np.arange(54),[0,53])`\n",
    "- `iord2del` (list, int): indexes of spectral orders to be removed, e.g., [10,24]\n",
    "- `wav2mask` : list of wavelength ranges to be masked in a selection of spectral orders, e.g. {10:$[[\\lambda_{\\mathrm{low}, 1}, \\lambda_{\\mathrm{high}, 1}], [\\lambda_{\\mathrm{low}, 2}, \\lambda_{\\mathrm{high}, 2}]]$} would mask those two ranges in order 10. Indexes are relative to the order list screened by `iord2del`. Here, all exposures are masked (finer control is available using the full workflow).\n",
    "\n",
    "Which parts of a dataset to exclude is determined iteratively as you run the modules and analyze their outputs. In the present example, the overall quality of all exposures and spectral orders is sufficient that none has to be excluded, and we mask localized spectral ranges affected by emission peaks and poorly corrected deep telluric lines. Consecutive spectral orders are masked because they are duplicated in ESPRESSO data."
   ]
  },
  {
   "cell_type": "code",
   "execution_count": 3,
   "id": "cd1f0d35-5d2c-4970-a1ae-95856cf986fb",
   "metadata": {},
   "outputs": [],
   "source": [
    "#Masking\n",
    "input_nbook['sp_reduc'].update({\n",
    "    'iexp2keep': [],\n",
    "    'iord2del' : [],\n",
    "    'wav2mask' : {130:[[6300.42,6300.68]],131:[[6300.42,6300.68]],        \n",
    "                  132:[[6364,6364.15]],133:[[6364,6364.15]],                        \n",
    "                  146:[[6865.,6930.]],147:[[6865.,6930.]],\n",
    "                  148:[[6900,6940]],149:[[6900,6940]],\n",
    "                  162:[[7590,7615]],163:[[7590,7615]],\n",
    "                  164:[[7595.,7698.]],165:[[7595.,7698.]],\n",
    "                  166:[[7690,7705]],167:[[7690,7705]]},\n",
    "})\n",
    "\n",
    "# Calculate/retrieve\n",
    "input_nbook['sp_reduc']['calc_proc_data'] = True & False\n",
    "\n",
    "ANTARESS_nbook_bground.processing_mode(input_nbook)"
   ]
  },
  {
   "cell_type": "markdown",
   "id": "b9061295-95ea-4c89-bf60-bed9a15eca3d",
   "metadata": {},
   "source": [
    "# Spectral corrections"
   ]
  },
  {
   "cell_type": "markdown",
   "id": "91c0580d-e604-46ba-9cb6-f74bbf4d3684",
   "metadata": {},
   "source": [
    "The following cells are only relevant when processing S2D."
   ]
  },
  {
   "cell_type": "markdown",
   "id": "e3dc233c-2866-4864-820a-b185ba3c4978",
   "metadata": {},
   "source": [
    "<a id='inst_cal'></a>\n",
    "**Instrumental calibration**\n",
    "\n",
    "Input spectra from the DRS are assumed to be corrected for standard instrumental effects, in particular the blaze from the spectrograph grating.\n",
    "Run this cell to retrieve the blaze and detector noise profiles, which will be used throughout the workflow to scale back temporarily spectra from flux density to blazed count units, and to perform accurate weighted means.\n",
    "\n",
    "For these operations to be accurate, you need to provide the `S2D_BLAZE_A.fits` files of your dataset in the same directory as the input data."
   ]
  },
  {
   "cell_type": "code",
   "execution_count": 4,
   "id": "a1a55af6-c93b-4f33-aa7b-955c75651b95",
   "metadata": {},
   "outputs": [],
   "source": [
    "# Calculate/retrieve\n",
    "input_nbook['sp_reduc']['calc_gcal'] = True  & False\n",
    "\n",
    "ANTARESS_nbook_bground.inst_cal(input_nbook)"
   ]
  },
  {
   "cell_type": "markdown",
   "id": "165f359a-d87c-424c-9601-cca188f06c25",
   "metadata": {},
   "source": [
    "Run the cell below to plot the retrieved calibration and detector noise profiles.\n",
    "\n",
    "Define the index of spectrograph order to be plotted."
   ]
  },
  {
   "cell_type": "code",
   "execution_count": 5,
   "id": "8fa24fac-26fe-454a-88cf-be55110dc4e9",
   "metadata": {},
   "outputs": [],
   "source": [
    "input_nbook['sp_reduc']['iord2plot_gcal'] = 113\n",
    "\n",
    "ANTARESS_nbook_bground.inst_cal_plot(input_nbook)"
   ]
  },
  {
   "cell_type": "markdown",
   "id": "3f8664d3-fb35-41c1-992a-7c0e2bdd35e6",
   "metadata": {},
   "source": [
    "Plots are stored in the `/Working_dir/Star/Planet_Plots/General/gcal/` directory."
   ]
  },
  {
   "cell_type": "markdown",
   "id": "ed5b660b-0bbf-4141-bd55-7b61857fbf05",
   "metadata": {},
   "source": [
    "**Telluric correction**\n",
    "\n",
    "Run this cell to correct spectra for telluric absorption lines. You can adjust: \n",
    "- `tell_species` (list, string): telluric molecules to considered (H$_2$O, O$_2$, CH$_4$, CO, CO$_2$)       \n",
    "- `tell_thresh` (float): telluric lines with contrast deeper than this threshold (0 = no absorption, 1 = full absorption) are masked"
   ]
  },
  {
   "cell_type": "code",
   "execution_count": 6,
   "id": "ea1729d2-a8ad-46a6-a1fa-85c807bf5b55",
   "metadata": {},
   "outputs": [],
   "source": [
    "input_nbook['sp_reduc'].update({\n",
    "    'tell_species'     : ['H2O', 'O2'],\n",
    "    'tell_thresh'      : 0.9\n",
    "})\n",
    "\n",
    "# Calculate/retrieve\n",
    "input_nbook['sp_reduc']['calc_tell'] = True & False\n",
    "\n",
    "ANTARESS_nbook_bground.tell_corr(input_nbook)"
   ]
  },
  {
   "cell_type": "markdown",
   "id": "2d38b99c-5ea6-48d1-b801-61c1e2925673",
   "metadata": {},
   "source": [
    "Run the cell below to plot:\n",
    "- the telluric CCFs from the model, and from the raw and corrected data.\n",
    "- the properties of the best-fit telluric model"
   ]
  },
  {
   "cell_type": "code",
   "execution_count": 7,
   "id": "f592e380-5326-4f92-935d-d3508399be0e",
   "metadata": {},
   "outputs": [],
   "source": [
    "ANTARESS_nbook_bground.tell_corr_plot(input_nbook)"
   ]
  },
  {
   "cell_type": "markdown",
   "id": "9f2dde4a-0743-4b57-b018-4c18f25e6fd6",
   "metadata": {},
   "source": [
    "Plots are stored in the `/Working_dir/Star/Planet_Plots/Spec_raw/Tell_corr/Instrument_Visit/Tell_CCF/` and `/Working_dir/Star/Planet_Plots/Spec_raw/Tell_corr/Instrument_Visit/Tell_prop/` directories."
   ]
  },
  {
   "cell_type": "markdown",
   "id": "103db92c-27fe-4712-a42d-9330d230c49a",
   "metadata": {},
   "source": [
    "**Flux balance correction**\n",
    "\n",
    "Run this cell to correct spectra for low-frequency flux variations induced by Earth atmosphere. \n",
    "The spectral flux balance is reset to that of the median spectrum over all exposures in the visit, using a 1D-smoothing spline fitted to the ratio between each exposure spectrum and the reference:\n",
    "- `iord2excl` (list): indexes of spectral orders to be excluded from the fit (indexes can be read on the top axis of the plot below).\n",
    "- `smooth_fac` (float): spline smoothing factor. Increase to smooth. \n",
    "\n",
    "We advise running this module iteratively, starting with a low smoothing factor and using the plots, to identify the orders to exclude and adjust the smoothing. The spline must capture low and medium-frequency variations without overfitting high-frequency variations. In the present example we excluded noisy orders in the bluest part of the spectrum, at the interface between ESPRESSO blue and red detectors, and too strongly contaminated by tellurics in the red part of the spectrum. The smoothing factor allows capturing the medium-frequency variation around 5750 A. "
   ]
  },
  {
   "cell_type": "code",
   "execution_count": 8,
   "id": "027dfefb-2751-4318-b6a8-418324a12761",
   "metadata": {},
   "outputs": [],
   "source": [
    "input_nbook['sp_reduc'].update({\n",
    "    'iord2excl'  : [0,1,88,89,90,91,145,146,147,164,165],\n",
    "    'smooth_fac'    : 1.5e-5\n",
    "})\n",
    "\n",
    "# Calculate/retrieve\n",
    "input_nbook['sp_reduc']['calc_Fbal'] = True & False\n",
    "\n",
    "ANTARESS_nbook_bground.fbal_corr(input_nbook)"
   ]
  },
  {
   "cell_type": "markdown",
   "id": "985ff5b9-4faf-4b58-8822-90086907fa5e",
   "metadata": {},
   "source": [
    "Run the cell below to plot the measured and fitted flux balance variations.\n",
    "Variations can be better visualized by offsetting each exposure spectrum with `gap_exp`."
   ]
  },
  {
   "cell_type": "code",
   "execution_count": 9,
   "id": "10343f92-0b6e-45bd-b67b-3e902fa5c9b8",
   "metadata": {},
   "outputs": [],
   "source": [
    "input_nbook['sp_reduc']['gap_exp'] = 0.\n",
    "\n",
    "ANTARESS_nbook_bground.fbal_corr_plot(input_nbook)"
   ]
  },
  {
   "cell_type": "markdown",
   "id": "28c18d8a-c194-417a-b181-efe796a2228a",
   "metadata": {},
   "source": [
    "Plots are stored in the `/Working_dir/Star/Planet_Plots/Spec_raw/FluxBalance/Instrument_Visit/` directory."
   ]
  },
  {
   "cell_type": "markdown",
   "id": "d7086123-783d-49b4-ac61-c7009fcf0273",
   "metadata": {},
   "source": [
    "**Cosmics correction**\n",
    "\n",
    "Run this cell to correct for cosmic rays. Pixels in a given exposure are flagged and replaced if their flux deviates from the mean over adjacent spectra by more than the pixel error, and than the standard deviation over these adjacent spectra, times a threshold. You can adjust:\n",
    "- `align` (str)   : align spectra for comparison using the Keplerian model defined by your input system properties (`kep`) or the DRS radial velocities (`rv`). The former option is preferred to avoid biases due to strong Rossiter-McLaughlin anomalies, but requires an accurate model.     \n",
    "- `ncomp` (int)   : total number of adjacent spectra.  \n",
    "- `thresh` (float): threshold for cosmic rays detection.\n"
   ]
  },
  {
   "cell_type": "code",
   "execution_count": 10,
   "id": "f5336810-f1c3-433c-ba79-6786c5651520",
   "metadata": {},
   "outputs": [],
   "source": [
    "input_nbook['sp_reduc'].update({\n",
    "    'align' : 'kep',\n",
    "    'ncomp' : 10,\n",
    "    'thresh': 10.\n",
    "})\n",
    "\n",
    "# Calculate/retrieve\n",
    "input_nbook['sp_reduc']['calc_cosm'] = True & False\n",
    "\n",
    "ANTARESS_nbook_bground.cosm_corr(input_nbook)"
   ]
  },
  {
   "cell_type": "markdown",
   "id": "58de34e6-af0c-4908-99a0-69fc5dce0bc5",
   "metadata": {},
   "source": [
    "Run the cell below to plot the flux deviation to error ratios in each exposure and order with flagged cosmics, and the distribution of flagged cosmics."
   ]
  },
  {
   "cell_type": "code",
   "execution_count": 11,
   "id": "d1cfaee8-245c-46e7-b0a6-228d131ec1b7",
   "metadata": {},
   "outputs": [],
   "source": [
    "ANTARESS_nbook_bground.cosm_corr_plot(input_nbook)"
   ]
  },
  {
   "cell_type": "markdown",
   "id": "ab45a371-a271-4ef0-84c0-ae8a46bb580d",
   "metadata": {},
   "source": [
    "Plots are stored in the `/Working_dir/Star/Spec_raw/Cosmics/Instrument_Visit/` directory."
   ]
  },
  {
   "cell_type": "markdown",
   "id": "dcdd0f36-535c-485b-a17a-f21d79f3e76f",
   "metadata": {},
   "source": [
    "**ESPRESSO \"wiggles\" correction**\n",
    "\n",
    "This notebook provides a brute-force approach to correct for ESPRESSO interference pattern, using a Savitzky-Golay filter. \n",
    "We caution that filtering may overcorrect stellar or planetary variations of interest and that the analytical wiggle model available through the full workflow, although more complex to set up, should be preferred.\n",
    "\n",
    "First, activate the `screening` field to plot the ratios between each exposure spectrum and the mean spectrum over the visit, and identify  which spectral ranges (defined in units of light frequency $\\nu$ = c/$\\lambda$) should be used to fit the wiggles. You can set `y_range_scr` to a common range for all exposure plots, or set it to `None` for self-determination. As in the example of TOI-421, you would typically exclude the range at the edges of the blue and red detectors ($\\sim$57.5 x $10^{13}$Hz) and the bluest part of the spectra (here $>$ 67.3 x 10$^{13}$Hz) where noise becomes larger than the wiggles.\n",
    "\n",
    "Indicate the lower and upper boundaries of the spectral ranges to be fitted through the field `fit_range`, defined as [[$\\nu_{low,1}$ , $\\nu_{high,1}$], [$\\nu_{low,2}$ , $\\nu_{high,2}$], ...]. \n",
    "\n",
    "Then, deactivate the screening and activate the 'filter' field to fit and correct for the wiggles. Be careful to choose an appropriate combination of the following parameters to avoid overfitting high-frequency features in the transmission spectra:\n",
    "- `window` (float): size of the smoothing window (in $\\nu$)\n",
    "- `deg` (int): degree of the polynomial used to fit the smoothed spectrum"
   ]
  },
  {
   "cell_type": "code",
   "execution_count": 12,
   "id": "2eed7de0-1f8f-4d5a-9762-f05de99a63a8",
   "metadata": {},
   "outputs": [],
   "source": [
    "#Screening\n",
    "input_nbook['sp_reduc']['screening'] = True & False\n",
    "input_nbook['sp_reduc']['y_range_scr'] = None\n",
    "\n",
    "#Fitted ranges\n",
    "input_nbook['sp_reduc']['fit_range'] = [[20.,50.6],[51.1,54.2],[54.8,57.1],[57.8,67.3]]\n",
    "\n",
    "#Filtering\n",
    "input_nbook['sp_reduc']['filter'] = True\n",
    "input_nbook['sp_reduc']['window'] = 0.2\n",
    "input_nbook['sp_reduc']['deg'] = 3\n",
    "\n",
    "# Calculate/retrieve\n",
    "input_nbook['sp_reduc']['calc_wig'] = True & False\n",
    "\n",
    "ANTARESS_nbook_bground.wiggle_corr(input_nbook)"
   ]
  },
  {
   "cell_type": "markdown",
   "id": "13e44dc2-61a0-4773-85c8-e276f3057cba",
   "metadata": {},
   "source": [
    "# Detrending  "
   ]
  },
  {
   "cell_type": "markdown",
   "id": "63e39188-d4b7-4854-a88c-46383efa5afb",
   "metadata": {},
   "source": [
    "**Skip this step if you have not yet characterized stellar line variations with the [Trends](https://gitlab.unige.ch/spice_dune/antaress/-/blob/main/Notebooks/DI_analysis_nbook_setup.ipynb) notebook.**\n",
    "\n",
    "At this stage, the original dataset has been set in ANTARESS format and (for S2D) cleaned from known instrumental and environmental effects. You can further detrend the stellar lines, following these steps:\n",
    "- convert the S2D time-series into CCFs using the next module\n",
    "- use the [Trends](https://gitlab.unige.ch/spice_dune/antaress/-/blob/main/Notebooks/DI_analysis_nbook_setup.ipynb) notebook to characterize possible variations\n",
    "- if relevant, use this detrending module with the results of your analysis\n",
    "- run the pipeline again\n",
    "- OPTIONAL: you can check the quality of the detrending by using again the Trends notebook (after recomputing CCFs when reducing S2D).\n",
    "\n",
    "To set up the detrending, fill-in the fields below with the parameters and coefficients you derived from your trend analysis, using the format `prop_coord : [c_1,c_2,..]`. Many detrending possibilities are available through the full workflow and its configuration file.\n",
    "Here you can detrend the line contrast (`prop = 'ctrst'`) and (`prop = 'RV'`), as a function of orbital phase (`coord = 'phasePlanetName'`) or S/N (`coord = 'snr'`). The detrending model is a polynomial with coefficients `c_1` (linear), `c_2` (quadratic), etc. Contrast coefficients have no unit; rv coefficients are in km/s. No zeroth-order coefficient is defined because detrending conserves the mean level of the properties over the visit.\n",
    "\n",
    "The example of the TOI-421c below is typical of trends encountered in transit datasets, with linear drifts in RV over time and variations in line contrast correlated with S/R. "
   ]
  },
  {
   "cell_type": "code",
   "execution_count": 13,
   "id": "a08a3cb6-13c4-4c3b-85c3-eef93193caa0",
   "metadata": {},
   "outputs": [],
   "source": [
    "# Detrended properties\n",
    "input_nbook['sp_reduc']['detrend']={\n",
    "    'ctrst_snr' : [-1.684704e-05],\n",
    "    'RV_phaseTOI421c': [-8.113291e-02]}  \n",
    "\n",
    "# Calculate/retrieve\n",
    "input_nbook['sp_reduc']['calc_detrend'] = True #& False\n",
    "\n",
    "ANTARESS_nbook_bground.detrend(input_nbook)"
   ]
  },
  {
   "cell_type": "markdown",
   "id": "914dfdc8-08b8-4b24-86d5-685254914742",
   "metadata": {},
   "source": [
    "# Converting spectra into CCFs"
   ]
  },
  {
   "cell_type": "markdown",
   "id": "011fdddb-9de4-4864-91ca-380c12123a35",
   "metadata": {},
   "source": [
    "Run this cell to cross-correlate the S2D spectra with a chosen mask. You need to define:\n",
    "\n",
    "+ `start_RV` (float): lower boundary of the CCF RV grid (in km/s), relative to the systemic velocity\n",
    "+ `end_RV` (float): upper boundary of the CCF RV grid (in km/s), relative to the systemic velocity\n",
    "+ `dRV` (float): step size of the CCF RV grid (in km/s). Set to `None` to use instrumental resolution\n",
    "+ `mask_path` (string): path (relative to `'working_path'`) + name of the mask file\n",
    "+ `calc_CCF` (bool): set to `False` to retrieve the CCFs and not calculate them again\n",
    "  \n",
    "As an example, we provide the [CCF mask](https://gitlab.unige.ch/spice_dune/antaress/-/blob/main/Notebooks/ESPRESSO_new_G9.fits) used by the ESPRESSO DRS for G9-type stars. "
   ]
  },
  {
   "cell_type": "code",
   "execution_count": 14,
   "id": "52d2b0e7-04e9-4b65-a285-af4564caf28d",
   "metadata": {},
   "outputs": [],
   "source": [
    "input_nbook['par'].update({\n",
    "    'start_RV' : -150.,\n",
    "    'end_RV'   :  150.,\n",
    "    'dRV'      : None,\n",
    "    'mask_path': '/ESPRESSO_new_G9.fits',\n",
    "    'calc_CCF' : True & False,\n",
    "})\n",
    "ANTARESS_nbook_bground.conv_CCF(input_nbook,'DI')"
   ]
  },
  {
   "cell_type": "markdown",
   "id": "cafb4f3c-70aa-483e-86f0-cb918bd2d1a7",
   "metadata": {},
   "source": [
    "<a id='Launch_ANTARESS'></a>\n",
    "# Running ANTARESS"
   ]
  },
  {
   "cell_type": "markdown",
   "id": "46e826fa-1322-4220-b476-2eda07bbc4ce",
   "metadata": {},
   "source": [
    "Run this cell to run the ANTARESS workflow."
   ]
  },
  {
   "cell_type": "code",
   "execution_count": 15,
   "id": "1ba3d61b-7523-49fc-9d67-eb8846e55cbf",
   "metadata": {},
   "outputs": [
    {
     "name": "stdout",
     "output_type": "stream",
     "text": [
      "****************************************\n",
      "Launching ANTARESS\n",
      "****************************************\n",
      "\n",
      "Multi-threading: 16 threads available\n",
      "Running with observational data\n",
      "Study of: TOI421c\n",
      "Accounting for Keplerian motion from all planets\n",
      "Automatic definition of T14[TOI421c]=2.76 h\n",
      "Default nsub_Dpl[TOI421c]=26\n",
      "\n",
      "-----------------------\n",
      "Processing instrument : ESPRESSO\n",
      "-----------------------\n",
      "  Reading and initializing 2D echelle spectra\n",
      "   > Errors propagated from raw data\n",
      "   > Data processed on individual spectral tables for each exposure\n",
      "         Calculating data\n",
      "         Initializing visit 20231106\n"
     ]
    },
    {
     "ename": "KeyboardInterrupt",
     "evalue": "",
     "output_type": "error",
     "traceback": [
      "\u001b[0;31m---------------------------------------------------------------------------\u001b[0m",
      "\u001b[0;31mKeyError\u001b[0m                                  Traceback (most recent call last)",
      "File \u001b[0;32m~/opt/anaconda3/envs/spyder-env/lib/python3.11/site-packages/astropy/io/fits/header.py:1980\u001b[0m, in \u001b[0;36m_DelayedHeader.__get__\u001b[0;34m(self, obj, owner)\u001b[0m\n\u001b[1;32m   1979\u001b[0m \u001b[38;5;28;01mtry\u001b[39;00m:\n\u001b[0;32m-> 1980\u001b[0m     \u001b[38;5;28;01mreturn\u001b[39;00m \u001b[43mobj\u001b[49m\u001b[38;5;241;43m.\u001b[39;49m\u001b[38;5;18;43m__dict__\u001b[39;49m\u001b[43m[\u001b[49m\u001b[38;5;124;43m\"\u001b[39;49m\u001b[38;5;124;43m_header\u001b[39;49m\u001b[38;5;124;43m\"\u001b[39;49m\u001b[43m]\u001b[49m\n\u001b[1;32m   1981\u001b[0m \u001b[38;5;28;01mexcept\u001b[39;00m \u001b[38;5;167;01mKeyError\u001b[39;00m:\n",
      "\u001b[0;31mKeyError\u001b[0m: '_header'",
      "\nDuring handling of the above exception, another exception occurred:\n",
      "\u001b[0;31mKeyboardInterrupt\u001b[0m                         Traceback (most recent call last)",
      "Cell \u001b[0;32mIn[15], line 2\u001b[0m\n\u001b[1;32m      1\u001b[0m \u001b[38;5;28;01mfrom\u001b[39;00m \u001b[38;5;21;01mantaress\u001b[39;00m\u001b[38;5;21;01m.\u001b[39;00m\u001b[38;5;21;01mANTARESS_launch\u001b[39;00m\u001b[38;5;21;01m.\u001b[39;00m\u001b[38;5;21;01mANTARESS_launcher\u001b[39;00m \u001b[38;5;28;01mimport\u001b[39;00m ANTARESS_launcher\n\u001b[0;32m----> 2\u001b[0m \u001b[43mANTARESS_launcher\u001b[49m\u001b[43m(\u001b[49m\u001b[43mworking_path\u001b[49m\u001b[38;5;241;43m=\u001b[39;49m\u001b[43minput_nbook\u001b[49m\u001b[43m[\u001b[49m\u001b[38;5;124;43m'\u001b[39;49m\u001b[38;5;124;43mworking_path\u001b[39;49m\u001b[38;5;124;43m'\u001b[39;49m\u001b[43m]\u001b[49m\u001b[43m,\u001b[49m\u001b[43m \u001b[49m\u001b[43mnbook_dic\u001b[49m\u001b[43m \u001b[49m\u001b[38;5;241;43m=\u001b[39;49m\u001b[43m \u001b[49m\u001b[43minput_nbook\u001b[49m\u001b[43m,\u001b[49m\u001b[43m \u001b[49m\u001b[43mexec_comm\u001b[49m\u001b[38;5;241;43m=\u001b[39;49m\u001b[38;5;28;43;01mFalse\u001b[39;49;00m\u001b[43m)\u001b[49m\n",
      "File \u001b[0;32m~/opt/anaconda3/envs/spyder-env/lib/python3.11/site-packages/antaress/ANTARESS_launch/ANTARESS_launcher.py:116\u001b[0m, in \u001b[0;36mANTARESS_launcher\u001b[0;34m(custom_systems, custom_settings, custom_plot_settings, working_path, nbook_dic, exec_comm)\u001b[0m\n\u001b[1;32m    113\u001b[0m \u001b[38;5;66;03m#Run over nominal settings properties\u001b[39;00m\n\u001b[1;32m    114\u001b[0m \u001b[38;5;66;03m#    - notebook settings have already been used to overwrite congiguration settings, and are only passed on to overwrite the plot settings if relevant\u001b[39;00m\n\u001b[1;32m    115\u001b[0m \u001b[38;5;28;01mif\u001b[39;00m \u001b[38;5;129;01mnot\u001b[39;00m gen_dic[\u001b[38;5;124m'\u001b[39m\u001b[38;5;124mgrid_run\u001b[39m\u001b[38;5;124m'\u001b[39m]:\n\u001b[0;32m--> 116\u001b[0m     \u001b[43mANTARESS_main\u001b[49m\u001b[43m(\u001b[49m\u001b[38;5;241;43m*\u001b[39;49m\u001b[43minput_dics\u001b[49m\u001b[43m,\u001b[49m\u001b[43msystem_params\u001b[49m\u001b[43m,\u001b[49m\u001b[43mnbook_dic\u001b[49m\u001b[43m,\u001b[49m\u001b[43mcustom_plot_settings\u001b[49m\u001b[43m)\u001b[49m\n\u001b[1;32m    118\u001b[0m \u001b[38;5;66;03m#Run over a grid of properties\u001b[39;00m\n\u001b[1;32m    119\u001b[0m \u001b[38;5;66;03m#    - will overwrite default and notebook configuration settings\u001b[39;00m\n\u001b[1;32m    120\u001b[0m \u001b[38;5;28;01melse\u001b[39;00m:\n\u001b[1;32m    121\u001b[0m     ANTARESS_gridrun(\u001b[38;5;241m*\u001b[39minput_dics,system_params,nbook_dic,custom_plot_settings)\n",
      "File \u001b[0;32m~/opt/anaconda3/envs/spyder-env/lib/python3.11/site-packages/antaress/ANTARESS_process/ANTARESS_main.py:105\u001b[0m, in \u001b[0;36mANTARESS_main\u001b[0;34m(data_dic, mock_dic, gen_dic, theo_dic, plot_dic, glob_fit_dic, detrend_prof_dic, corr_spot_dic, system_param, input_dic, custom_plot_settings)\u001b[0m\n\u001b[1;32m    102\u001b[0m \u001b[38;5;28mprint\u001b[39m(\u001b[38;5;124m'\u001b[39m\u001b[38;5;124m-----------------------\u001b[39m\u001b[38;5;124m'\u001b[39m)\n\u001b[1;32m    104\u001b[0m \u001b[38;5;66;03m#Initialize instrument tables and dictionaries\u001b[39;00m\n\u001b[0;32m--> 105\u001b[0m \u001b[43minit_inst\u001b[49m\u001b[43m(\u001b[49m\u001b[43mmock_dic\u001b[49m\u001b[43m,\u001b[49m\u001b[43minst\u001b[49m\u001b[43m,\u001b[49m\u001b[43mgen_dic\u001b[49m\u001b[43m,\u001b[49m\u001b[43mdata_dic\u001b[49m\u001b[43m,\u001b[49m\u001b[43mtheo_dic\u001b[49m\u001b[43m,\u001b[49m\u001b[43mdata_prop\u001b[49m\u001b[43m,\u001b[49m\u001b[43mcoord_dic\u001b[49m\u001b[43m,\u001b[49m\u001b[43msystem_param\u001b[49m\u001b[43m,\u001b[49m\u001b[43mplot_dic\u001b[49m\u001b[43m)\u001b[49m\n\u001b[1;32m    107\u001b[0m \u001b[38;5;66;03m#Spectral data\u001b[39;00m\n\u001b[1;32m    108\u001b[0m \u001b[38;5;28;01mif\u001b[39;00m (\u001b[38;5;124m'\u001b[39m\u001b[38;5;124mspec\u001b[39m\u001b[38;5;124m'\u001b[39m \u001b[38;5;129;01min\u001b[39;00m data_dic[inst][\u001b[38;5;124m'\u001b[39m\u001b[38;5;124mtype\u001b[39m\u001b[38;5;124m'\u001b[39m]):\n\u001b[1;32m    109\u001b[0m \n\u001b[1;32m    110\u001b[0m     \u001b[38;5;66;03m#Estimating instrumental calibration\u001b[39;00m\n",
      "File \u001b[0;32m~/opt/anaconda3/envs/spyder-env/lib/python3.11/site-packages/antaress/ANTARESS_process/ANTARESS_main.py:2225\u001b[0m, in \u001b[0;36minit_inst\u001b[0;34m(mock_dic, inst, gen_dic, data_dic, theo_dic, data_prop, coord_dic, system_param, plot_dic)\u001b[0m\n\u001b[1;32m   2218\u001b[0m \u001b[38;5;66;03m#Calibration and detector noise profiles\u001b[39;00m\n\u001b[1;32m   2219\u001b[0m \u001b[38;5;66;03m#    - see weights_bin_prof() for details       \u001b[39;00m\n\u001b[1;32m   2220\u001b[0m \u001b[38;5;66;03m#    - non sky-corrected data must be used\u001b[39;00m\n\u001b[1;32m   2221\u001b[0m \u001b[38;5;28;01mif\u001b[39;00m (vis \u001b[38;5;129;01min\u001b[39;00m data_inst[\u001b[38;5;124m'\u001b[39m\u001b[38;5;124mgcal_blaze_vis\u001b[39m\u001b[38;5;124m'\u001b[39m]):\n\u001b[1;32m   2222\u001b[0m     \n\u001b[1;32m   2223\u001b[0m     \u001b[38;5;66;03m#Retrieving counts per pixels\u001b[39;00m\n\u001b[1;32m   2224\u001b[0m     \u001b[38;5;66;03m#    - blazed and unblazed pixels are undefined and null in the same pixels\u001b[39;00m\n\u001b[0;32m-> 2225\u001b[0m     hdulist_dat_blaze \u001b[38;5;241m=\u001b[39m\u001b[43mfits\u001b[49m\u001b[38;5;241;43m.\u001b[39;49m\u001b[43mopen\u001b[49m\u001b[43m(\u001b[49m\u001b[43mvis_path_blaze_exp\u001b[49m\u001b[43m[\u001b[49m\u001b[43miexp\u001b[49m\u001b[43m]\u001b[49m\u001b[43m)\u001b[49m\n\u001b[1;32m   2226\u001b[0m     count_exp \u001b[38;5;241m=\u001b[39m (hdulist[\u001b[38;5;241m1\u001b[39m]\u001b[38;5;241m.\u001b[39mdata)[idx_ord_kept]\n\u001b[1;32m   2227\u001b[0m     count_blaze_exp \u001b[38;5;241m=\u001b[39m (hdulist_dat_blaze[\u001b[38;5;241m1\u001b[39m]\u001b[38;5;241m.\u001b[39mdata)[idx_ord_kept]\n",
      "File \u001b[0;32m~/opt/anaconda3/envs/spyder-env/lib/python3.11/site-packages/astropy/io/fits/hdu/hdulist.py:213\u001b[0m, in \u001b[0;36mfitsopen\u001b[0;34m(name, mode, memmap, save_backup, cache, lazy_load_hdus, ignore_missing_simple, use_fsspec, fsspec_kwargs, **kwargs)\u001b[0m\n\u001b[1;32m    210\u001b[0m \u001b[38;5;28;01mif\u001b[39;00m \u001b[38;5;129;01mnot\u001b[39;00m name:\n\u001b[1;32m    211\u001b[0m     \u001b[38;5;28;01mraise\u001b[39;00m \u001b[38;5;167;01mValueError\u001b[39;00m(\u001b[38;5;124mf\u001b[39m\u001b[38;5;124m\"\u001b[39m\u001b[38;5;124mEmpty filename: \u001b[39m\u001b[38;5;132;01m{\u001b[39;00mname\u001b[38;5;132;01m!r}\u001b[39;00m\u001b[38;5;124m\"\u001b[39m)\n\u001b[0;32m--> 213\u001b[0m \u001b[38;5;28;01mreturn\u001b[39;00m \u001b[43mHDUList\u001b[49m\u001b[38;5;241;43m.\u001b[39;49m\u001b[43mfromfile\u001b[49m\u001b[43m(\u001b[49m\n\u001b[1;32m    214\u001b[0m \u001b[43m    \u001b[49m\u001b[43mname\u001b[49m\u001b[43m,\u001b[49m\n\u001b[1;32m    215\u001b[0m \u001b[43m    \u001b[49m\u001b[43mmode\u001b[49m\u001b[43m,\u001b[49m\n\u001b[1;32m    216\u001b[0m \u001b[43m    \u001b[49m\u001b[43mmemmap\u001b[49m\u001b[43m,\u001b[49m\n\u001b[1;32m    217\u001b[0m \u001b[43m    \u001b[49m\u001b[43msave_backup\u001b[49m\u001b[43m,\u001b[49m\n\u001b[1;32m    218\u001b[0m \u001b[43m    \u001b[49m\u001b[43mcache\u001b[49m\u001b[43m,\u001b[49m\n\u001b[1;32m    219\u001b[0m \u001b[43m    \u001b[49m\u001b[43mlazy_load_hdus\u001b[49m\u001b[43m,\u001b[49m\n\u001b[1;32m    220\u001b[0m \u001b[43m    \u001b[49m\u001b[43mignore_missing_simple\u001b[49m\u001b[43m,\u001b[49m\n\u001b[1;32m    221\u001b[0m \u001b[43m    \u001b[49m\u001b[43muse_fsspec\u001b[49m\u001b[38;5;241;43m=\u001b[39;49m\u001b[43muse_fsspec\u001b[49m\u001b[43m,\u001b[49m\n\u001b[1;32m    222\u001b[0m \u001b[43m    \u001b[49m\u001b[43mfsspec_kwargs\u001b[49m\u001b[38;5;241;43m=\u001b[39;49m\u001b[43mfsspec_kwargs\u001b[49m\u001b[43m,\u001b[49m\n\u001b[1;32m    223\u001b[0m \u001b[43m    \u001b[49m\u001b[38;5;241;43m*\u001b[39;49m\u001b[38;5;241;43m*\u001b[39;49m\u001b[43mkwargs\u001b[49m\u001b[43m,\u001b[49m\n\u001b[1;32m    224\u001b[0m \u001b[43m\u001b[49m\u001b[43m)\u001b[49m\n",
      "File \u001b[0;32m~/opt/anaconda3/envs/spyder-env/lib/python3.11/site-packages/astropy/io/fits/hdu/hdulist.py:476\u001b[0m, in \u001b[0;36mHDUList.fromfile\u001b[0;34m(cls, fileobj, mode, memmap, save_backup, cache, lazy_load_hdus, ignore_missing_simple, **kwargs)\u001b[0m\n\u001b[1;32m    457\u001b[0m \u001b[38;5;129m@classmethod\u001b[39m\n\u001b[1;32m    458\u001b[0m \u001b[38;5;28;01mdef\u001b[39;00m \u001b[38;5;21mfromfile\u001b[39m(\n\u001b[1;32m    459\u001b[0m     \u001b[38;5;28mcls\u001b[39m,\n\u001b[0;32m   (...)\u001b[0m\n\u001b[1;32m    467\u001b[0m     \u001b[38;5;241m*\u001b[39m\u001b[38;5;241m*\u001b[39mkwargs,\n\u001b[1;32m    468\u001b[0m ):\n\u001b[1;32m    469\u001b[0m \u001b[38;5;250m    \u001b[39m\u001b[38;5;124;03m\"\"\"\u001b[39;00m\n\u001b[1;32m    470\u001b[0m \u001b[38;5;124;03m    Creates an `HDUList` instance from a file-like object.\u001b[39;00m\n\u001b[1;32m    471\u001b[0m \n\u001b[0;32m   (...)\u001b[0m\n\u001b[1;32m    474\u001b[0m \u001b[38;5;124;03m    documentation for details of the parameters accepted by this method).\u001b[39;00m\n\u001b[1;32m    475\u001b[0m \u001b[38;5;124;03m    \"\"\"\u001b[39;00m\n\u001b[0;32m--> 476\u001b[0m     \u001b[38;5;28;01mreturn\u001b[39;00m \u001b[38;5;28;43mcls\u001b[39;49m\u001b[38;5;241;43m.\u001b[39;49m\u001b[43m_readfrom\u001b[49m\u001b[43m(\u001b[49m\n\u001b[1;32m    477\u001b[0m \u001b[43m        \u001b[49m\u001b[43mfileobj\u001b[49m\u001b[38;5;241;43m=\u001b[39;49m\u001b[43mfileobj\u001b[49m\u001b[43m,\u001b[49m\n\u001b[1;32m    478\u001b[0m \u001b[43m        \u001b[49m\u001b[43mmode\u001b[49m\u001b[38;5;241;43m=\u001b[39;49m\u001b[43mmode\u001b[49m\u001b[43m,\u001b[49m\n\u001b[1;32m    479\u001b[0m \u001b[43m        \u001b[49m\u001b[43mmemmap\u001b[49m\u001b[38;5;241;43m=\u001b[39;49m\u001b[43mmemmap\u001b[49m\u001b[43m,\u001b[49m\n\u001b[1;32m    480\u001b[0m \u001b[43m        \u001b[49m\u001b[43msave_backup\u001b[49m\u001b[38;5;241;43m=\u001b[39;49m\u001b[43msave_backup\u001b[49m\u001b[43m,\u001b[49m\n\u001b[1;32m    481\u001b[0m \u001b[43m        \u001b[49m\u001b[43mcache\u001b[49m\u001b[38;5;241;43m=\u001b[39;49m\u001b[43mcache\u001b[49m\u001b[43m,\u001b[49m\n\u001b[1;32m    482\u001b[0m \u001b[43m        \u001b[49m\u001b[43mignore_missing_simple\u001b[49m\u001b[38;5;241;43m=\u001b[39;49m\u001b[43mignore_missing_simple\u001b[49m\u001b[43m,\u001b[49m\n\u001b[1;32m    483\u001b[0m \u001b[43m        \u001b[49m\u001b[43mlazy_load_hdus\u001b[49m\u001b[38;5;241;43m=\u001b[39;49m\u001b[43mlazy_load_hdus\u001b[49m\u001b[43m,\u001b[49m\n\u001b[1;32m    484\u001b[0m \u001b[43m        \u001b[49m\u001b[38;5;241;43m*\u001b[39;49m\u001b[38;5;241;43m*\u001b[39;49m\u001b[43mkwargs\u001b[49m\u001b[43m,\u001b[49m\n\u001b[1;32m    485\u001b[0m \u001b[43m    \u001b[49m\u001b[43m)\u001b[49m\n",
      "File \u001b[0;32m~/opt/anaconda3/envs/spyder-env/lib/python3.11/site-packages/astropy/io/fits/hdu/hdulist.py:1215\u001b[0m, in \u001b[0;36mHDUList._readfrom\u001b[0;34m(cls, fileobj, data, mode, memmap, cache, lazy_load_hdus, ignore_missing_simple, use_fsspec, fsspec_kwargs, **kwargs)\u001b[0m\n\u001b[1;32m   1212\u001b[0m     \u001b[38;5;28;01mreturn\u001b[39;00m hdulist\n\u001b[1;32m   1214\u001b[0m \u001b[38;5;66;03m# Make sure at least the PRIMARY HDU can be read\u001b[39;00m\n\u001b[0;32m-> 1215\u001b[0m read_one \u001b[38;5;241m=\u001b[39m \u001b[43mhdulist\u001b[49m\u001b[38;5;241;43m.\u001b[39;49m\u001b[43m_read_next_hdu\u001b[49m\u001b[43m(\u001b[49m\u001b[43m)\u001b[49m\n\u001b[1;32m   1217\u001b[0m \u001b[38;5;66;03m# If we're trying to read only and no header units were found,\u001b[39;00m\n\u001b[1;32m   1218\u001b[0m \u001b[38;5;66;03m# raise an exception\u001b[39;00m\n\u001b[1;32m   1219\u001b[0m \u001b[38;5;28;01mif\u001b[39;00m \u001b[38;5;129;01mnot\u001b[39;00m read_one \u001b[38;5;129;01mand\u001b[39;00m mode \u001b[38;5;129;01min\u001b[39;00m (\u001b[38;5;124m\"\u001b[39m\u001b[38;5;124mreadonly\u001b[39m\u001b[38;5;124m\"\u001b[39m, \u001b[38;5;124m\"\u001b[39m\u001b[38;5;124mdenywrite\u001b[39m\u001b[38;5;124m\"\u001b[39m):\n\u001b[1;32m   1220\u001b[0m     \u001b[38;5;66;03m# Close the file if necessary (issue #6168)\u001b[39;00m\n",
      "File \u001b[0;32m~/opt/anaconda3/envs/spyder-env/lib/python3.11/site-packages/astropy/io/fits/hdu/hdulist.py:1317\u001b[0m, in \u001b[0;36mHDUList._read_next_hdu\u001b[0;34m(self)\u001b[0m\n\u001b[1;32m   1313\u001b[0m \u001b[38;5;28msuper\u001b[39m()\u001b[38;5;241m.\u001b[39mappend(hdu)\n\u001b[1;32m   1314\u001b[0m \u001b[38;5;28;01mif\u001b[39;00m \u001b[38;5;28mlen\u001b[39m(\u001b[38;5;28mself\u001b[39m) \u001b[38;5;241m==\u001b[39m \u001b[38;5;241m1\u001b[39m:\n\u001b[1;32m   1315\u001b[0m     \u001b[38;5;66;03m# Check for an extension HDU and update the EXTEND\u001b[39;00m\n\u001b[1;32m   1316\u001b[0m     \u001b[38;5;66;03m# keyword of the primary HDU accordingly\u001b[39;00m\n\u001b[0;32m-> 1317\u001b[0m     \u001b[38;5;28;43mself\u001b[39;49m\u001b[38;5;241;43m.\u001b[39;49m\u001b[43mupdate_extend\u001b[49m\u001b[43m(\u001b[49m\u001b[43m)\u001b[49m\n\u001b[1;32m   1319\u001b[0m hdu\u001b[38;5;241m.\u001b[39m_new \u001b[38;5;241m=\u001b[39m \u001b[38;5;28;01mFalse\u001b[39;00m\n\u001b[1;32m   1320\u001b[0m \u001b[38;5;28;01mif\u001b[39;00m \u001b[38;5;124m\"\u001b[39m\u001b[38;5;124mchecksum\u001b[39m\u001b[38;5;124m\"\u001b[39m \u001b[38;5;129;01min\u001b[39;00m kwargs:\n",
      "File \u001b[0;32m~/opt/anaconda3/envs/spyder-env/lib/python3.11/site-packages/astropy/io/fits/hdu/hdulist.py:946\u001b[0m, in \u001b[0;36mHDUList.update_extend\u001b[0;34m(self)\u001b[0m\n\u001b[1;32m    941\u001b[0m \u001b[38;5;28;01mif\u001b[39;00m \u001b[38;5;129;01mnot\u001b[39;00m \u001b[38;5;28misinstance\u001b[39m(\u001b[38;5;28mself\u001b[39m[\u001b[38;5;241m0\u001b[39m], PrimaryHDU):\n\u001b[1;32m    942\u001b[0m     \u001b[38;5;66;03m# A PrimaryHDU will be automatically inserted at some point, but it\u001b[39;00m\n\u001b[1;32m    943\u001b[0m     \u001b[38;5;66;03m# might not have been added yet\u001b[39;00m\n\u001b[1;32m    944\u001b[0m     \u001b[38;5;28;01mreturn\u001b[39;00m\n\u001b[0;32m--> 946\u001b[0m hdr \u001b[38;5;241m=\u001b[39m \u001b[38;5;28;43mself\u001b[39;49m\u001b[43m[\u001b[49m\u001b[38;5;241;43m0\u001b[39;49m\u001b[43m]\u001b[49m\u001b[38;5;241;43m.\u001b[39;49m\u001b[43mheader\u001b[49m\n\u001b[1;32m    948\u001b[0m \u001b[38;5;28;01mdef\u001b[39;00m \u001b[38;5;21mget_first_ext\u001b[39m():\n\u001b[1;32m    949\u001b[0m     \u001b[38;5;28;01mtry\u001b[39;00m:\n",
      "File \u001b[0;32m~/opt/anaconda3/envs/spyder-env/lib/python3.11/site-packages/astropy/io/fits/hdu/image.py:225\u001b[0m, in \u001b[0;36m_ImageBaseHDU.header\u001b[0;34m(self)\u001b[0m\n\u001b[1;32m    223\u001b[0m \u001b[38;5;129m@property\u001b[39m\n\u001b[1;32m    224\u001b[0m \u001b[38;5;28;01mdef\u001b[39;00m \u001b[38;5;21mheader\u001b[39m(\u001b[38;5;28mself\u001b[39m):\n\u001b[0;32m--> 225\u001b[0m     \u001b[38;5;28;01mreturn\u001b[39;00m \u001b[38;5;28;43mself\u001b[39;49m\u001b[38;5;241;43m.\u001b[39;49m\u001b[43m_header\u001b[49m\n",
      "File \u001b[0;32m~/opt/anaconda3/envs/spyder-env/lib/python3.11/site-packages/astropy/io/fits/header.py:1983\u001b[0m, in \u001b[0;36m_DelayedHeader.__get__\u001b[0;34m(self, obj, owner)\u001b[0m\n\u001b[1;32m   1981\u001b[0m \u001b[38;5;28;01mexcept\u001b[39;00m \u001b[38;5;167;01mKeyError\u001b[39;00m:\n\u001b[1;32m   1982\u001b[0m     \u001b[38;5;28;01mif\u001b[39;00m obj\u001b[38;5;241m.\u001b[39m_header_str \u001b[38;5;129;01mis\u001b[39;00m \u001b[38;5;129;01mnot\u001b[39;00m \u001b[38;5;28;01mNone\u001b[39;00m:\n\u001b[0;32m-> 1983\u001b[0m         hdr \u001b[38;5;241m=\u001b[39m \u001b[43mHeader\u001b[49m\u001b[38;5;241;43m.\u001b[39;49m\u001b[43mfromstring\u001b[49m\u001b[43m(\u001b[49m\u001b[43mobj\u001b[49m\u001b[38;5;241;43m.\u001b[39;49m\u001b[43m_header_str\u001b[49m\u001b[43m)\u001b[49m\n\u001b[1;32m   1984\u001b[0m         obj\u001b[38;5;241m.\u001b[39m_header_str \u001b[38;5;241m=\u001b[39m \u001b[38;5;28;01mNone\u001b[39;00m\n\u001b[1;32m   1985\u001b[0m     \u001b[38;5;28;01melse\u001b[39;00m:\n",
      "File \u001b[0;32m~/opt/anaconda3/envs/spyder-env/lib/python3.11/site-packages/astropy/io/fits/header.py:449\u001b[0m, in \u001b[0;36mHeader.fromstring\u001b[0;34m(cls, data, sep)\u001b[0m\n\u001b[1;32m    447\u001b[0m         image\u001b[38;5;241m.\u001b[39mappend(next_image)\n\u001b[1;32m    448\u001b[0m         \u001b[38;5;28;01mcontinue\u001b[39;00m\n\u001b[0;32m--> 449\u001b[0m     cards\u001b[38;5;241m.\u001b[39mappend(Card\u001b[38;5;241m.\u001b[39mfromstring(empty\u001b[38;5;241m.\u001b[39mjoin(image)))\n\u001b[1;32m    451\u001b[0m \u001b[38;5;28;01mif\u001b[39;00m require_full_cardlength:\n\u001b[1;32m    452\u001b[0m     \u001b[38;5;28;01mif\u001b[39;00m next_image \u001b[38;5;241m==\u001b[39m end_card:\n",
      "\u001b[0;31mKeyboardInterrupt\u001b[0m: "
     ]
    }
   ],
   "source": [
    "from antaress.ANTARESS_launch.ANTARESS_launcher import ANTARESS_launcher\n",
    "ANTARESS_launcher(working_path=input_nbook['working_path'], nbook_dic = input_nbook, exec_comm=False)"
   ]
  },
  {
   "cell_type": "markdown",
   "id": "c88f7611-d038-40a8-a643-9933b0ad5c41",
   "metadata": {},
   "source": [
    "<a id='Plot_display'></a>\n",
    "# Plot display"
   ]
  },
  {
   "cell_type": "code",
   "execution_count": null,
   "id": "e465a2f2-8ea0-4f16-bdd8-48db9f1bddd0",
   "metadata": {},
   "outputs": [],
   "source": [
    "from IPython.display import Image,display\n",
    "from IPython.core.display import HTML "
   ]
  },
  {
   "cell_type": "markdown",
   "id": "44741024-bde2-49f0-8dee-c57934338c9a",
   "metadata": {},
   "source": [
    "Run the cells below to show saved plots."
   ]
  },
  {
   "cell_type": "markdown",
   "id": "c2844ea5-7b47-4166-aa4d-4a091de6575f",
   "metadata": {},
   "source": [
    "**Flux spectra**\n",
    "\n",
    "TBD\n"
   ]
  },
  {
   "cell_type": "code",
   "execution_count": null,
   "id": "dfc5fa2f-6b0c-4fdd-95c0-d6a79dac184a",
   "metadata": {},
   "outputs": [],
   "source": []
  },
  {
   "cell_type": "markdown",
   "id": "0cde0bab-7e6c-4318-864a-91d10efa4b9a",
   "metadata": {},
   "source": [
    "**Transmission spectra**\n",
    "\n",
    "TBD\n"
   ]
  },
  {
   "cell_type": "code",
   "execution_count": null,
   "id": "fd627f90-98d8-41e6-be03-cc19a99a2f5a",
   "metadata": {},
   "outputs": [],
   "source": []
  },
  {
   "cell_type": "markdown",
   "id": "60a1d274-1329-4f4e-896c-286050263afe",
   "metadata": {},
   "source": [
    "**Instrumental calibration profiles**\n",
    "\n",
    "This plot displays the measured instrumental calibration profiles from all exposures (colored over the rainbow scale), in the spectral order you requested. They are used to define spectral weighing profiles.\n",
    "Vertical lines indicate the transitions between the piecewise polynomial functions making up the model fitted to all measured profiles. This common model is used for the flux-to-counts scaling."
   ]
  },
  {
   "cell_type": "code",
   "execution_count": null,
   "id": "f3415912-729a-42d0-9c9d-503b149badf1",
   "metadata": {},
   "outputs": [],
   "source": [
    "if 'spec' in input_nbook['par']['type']:display(Image(filename = input_nbook['plot_path']+'General/gcal/'+input_nbook['par']['instrument']+'/'+input_nbook['par']['night']+'/'+'gcal_ord'+str(input_nbook['sp_reduc']['iord2plot_gcal'])+'.png'))"
   ]
  },
  {
   "cell_type": "markdown",
   "id": "6f69a6c4-238a-44e2-83ec-350e2d3f21cc",
   "metadata": {},
   "source": [
    "**Telluric CCF**\n",
    "\n",
    "This plot displays the telluric CCFs computed with the measured spectrum (red), the model telluric spectrum (green), and the telluric-corrected measured spectrum (blue).\n",
    "Dashed profiles correspond to the list of strong lines used to perform the fits, and solid profiles to the full list of telluric lines used for the correction.\n",
    "\n",
    "Choose the telluric species (among those for which you ran the correction !) and exposure to plot."
   ]
  },
  {
   "cell_type": "code",
   "execution_count": null,
   "id": "a7f7293d-a4dd-4b0a-81c4-00d24d428fff",
   "metadata": {},
   "outputs": [],
   "source": [
    "tell_sp2plot = 'H2O' \n",
    "iexp2plot = 5"
   ]
  },
  {
   "cell_type": "code",
   "execution_count": null,
   "id": "ac7eb92f-5dca-496c-a7cc-294755d43789",
   "metadata": {},
   "outputs": [],
   "source": [
    "if 'spec' in input_nbook['par']['type']:display(Image(filename = input_nbook['plot_path']+'Spec_raw/Tell_corr/'+input_nbook['par']['instrument']+'_'+input_nbook['par']['night']+'/'+'Tell_CCF'+'/'+tell_sp2plot+'_idx'+str(iexp2plot)+'.png'))"
   ]
  },
  {
   "cell_type": "markdown",
   "id": "80a9113a-62bb-4393-9323-b16064b25bc8",
   "metadata": {},
   "source": [
    "**Telluric properties**\n",
    "\n",
    "This plot displays the properties of the best-fit atmospheric model used to compute the telluric spectrum, as a function of orbital phase.\n",
    "\n",
    "Choose the telluric species and property to plot, among:\n",
    "- `Temperature`  (in K) : temperature of the Earth model layer\n",
    "- `Pressure_LOS` (in atm) : average pressure over the layers occupied by the species\n",
    "- `ISV_LOS` (in cm-2) : integrated species vapour along the LOS"
   ]
  },
  {
   "cell_type": "code",
   "execution_count": null,
   "id": "1f31e79a-b2bc-4e10-9e11-33ffb277ca65",
   "metadata": {},
   "outputs": [],
   "source": [
    "tell_sp2plot = 'H2O' \n",
    "prop2plot = 'Pressure_LOS'"
   ]
  },
  {
   "cell_type": "code",
   "execution_count": null,
   "id": "b923ecb9-6ac3-4dd7-b89e-dd06f1701399",
   "metadata": {},
   "outputs": [],
   "source": [
    "if 'spec' in input_nbook['par']['type']:display(Image(filename = input_nbook['plot_path']+'Spec_raw/Tell_corr/'+input_nbook['par']['instrument']+'_'+input_nbook['par']['night']+'/Tell_prop/'+tell_sp2plot+'_'+prop2plot+'.png'))"
   ]
  },
  {
   "cell_type": "markdown",
   "id": "0e53848b-7de9-47da-bbcf-42aa0e046109",
   "metadata": {},
   "source": [
    "**Flux balance**\n",
    "\n",
    "This plot displays the flux balance variation between each exposure spectrum and the reference spectrum over the visit (colored disks, from purple to red with increasing time). \n",
    "Solid lines with matching color are the corresponding best-fit spline models. "
   ]
  },
  {
   "cell_type": "code",
   "execution_count": null,
   "id": "ad70db39-7d4c-497f-87c6-8c00bbce900b",
   "metadata": {},
   "outputs": [],
   "source": [
    "if 'spec' in input_nbook['par']['type']:display(Image(filename = input_nbook['plot_path']+'Spec_raw/FluxBalance/'+input_nbook['par']['instrument']+'_'+input_nbook['par']['night']+'_global.png'))"
   ]
  },
  {
   "cell_type": "markdown",
   "id": "d23faa00-f12b-46b3-bc1e-85a7957149af",
   "metadata": {},
   "source": [
    "**Cosmic rays detection**\n",
    "\n",
    "This plot displays the flux deviation between the spectrum of an exposure and the mean of adjacent exposures, divided by the error on the exposure spectrum (green) and by the standard deviation over the adjacent exposures (black).\n",
    "\n",
    "Choose the indexes of the exposure and order to be plotted. Only exposure and orders with flagged cosmics have been saved to plots."
   ]
  },
  {
   "cell_type": "code",
   "execution_count": null,
   "id": "dd4b4a8e-3a2b-4590-a369-b390fd65279f",
   "metadata": {},
   "outputs": [],
   "source": [
    "iexp2plot = 0\n",
    "iord2plot = 102"
   ]
  },
  {
   "cell_type": "code",
   "execution_count": null,
   "id": "8880ca7a-f0b4-4e33-a0d1-bae93deba2aa",
   "metadata": {},
   "outputs": [],
   "source": [
    "if 'spec' in input_nbook['par']['type']:\n",
    "    cosm_found = ANTARESS_nbook_bground.cosmic_search(iexp2plot, iord2plot, input_nbook)\n",
    "    if cosm_found:display(Image(data=input_nbook['plot_path']+'Spec_raw/Cosmics/'+input_nbook['par']['instrument']+'_'+input_nbook['par']['night']+'/'+'idx'+str(iexp2plot)+'_iord'+str(iord2plot)+'.png'))"
   ]
  },
  {
   "cell_type": "markdown",
   "id": "7669b550-253e-4ecd-a00b-018feb59d5c7",
   "metadata": {},
   "source": [
    "**Cosmic rays distribution**\n",
    "\n",
    "This plot displays the cosmic occurences over the full spectrum, in each exposure (colored from purple to red with increasing time) and cumulated over all exposures (in black, scaled to the axis range). \n",
    "If many more cosmics are flagged in the blue part of the spectrum, your detection threshold may be too low and noisy pixels are flagged."
   ]
  },
  {
   "cell_type": "code",
   "execution_count": null,
   "id": "c6c5473e-6344-44cb-af85-1d7292c691c1",
   "metadata": {},
   "outputs": [],
   "source": [
    "if 'spec' in input_nbook['par']['type']:display(Image(filename = input_nbook['plot_path']+'Spec_raw/Cosmics/'+input_nbook['par']['instrument']+'_'+input_nbook['par']['night']+'/'+'Occurrences.png'))"
   ]
  }
 ],
 "metadata": {
  "kernelspec": {
   "display_name": "Python 3 (ipykernel)",
   "language": "python",
   "name": "python3"
  },
  "language_info": {
   "codemirror_mode": {
    "name": "ipython",
    "version": 3
   },
   "file_extension": ".py",
   "mimetype": "text/x-python",
   "name": "python",
   "nbconvert_exporter": "python",
   "pygments_lexer": "ipython3",
   "version": "3.11.3"
  }
 },
 "nbformat": 4,
 "nbformat_minor": 5
}
