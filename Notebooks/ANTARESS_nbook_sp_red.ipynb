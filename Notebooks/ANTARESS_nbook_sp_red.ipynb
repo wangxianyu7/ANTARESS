{
 "cells": [
  {
   "cell_type": "markdown",
   "id": "7b1bee42-7832-49ac-b992-242ae6e19327",
   "metadata": {},
   "source": [
    "# Introduction"
   ]
  },
  {
   "cell_type": "markdown",
   "id": "c3424e66-f54c-4a7c-9ad6-5cf12eedc677",
   "metadata": {},
   "source": [
    "This notebook allows you to run a simplified version of the ANTARESS workflow, for the following purpose:\n",
    "- clean and correct 2D spectral time-series recorded by the detector\n",
    "- convert the cleaned and corrected 2D spectral time seires to 1D spectra and a stellar master spectrum\n",
    "\n",
    "This notebook is used to process time-series of 2-dimensional echelle spectra. This notebook allows for a complete correction of the observational spectra and to produce a 1D master spectrum and the individual 1D spectra for each exposure. To try the workflow, place your observational dataset in the directory of your choice (named, for example, `Working_dir/`), and set the `working_path` to the directory containing your data.\n",
    "\n",
    "Some options and functionallities are not included in this notebook to keep it slim and easy to use. For targets with multiple visists it is espesecially recommended to use the [configuration files](https://obswww.unige.ch/~bourriev/antaress/doc/html/installation.html)."
   ]
  },
  {
   "cell_type": "code",
   "execution_count": 1,
   "id": "f631d36f-0a1d-49a8-989e-dc4adc702ea6",
   "metadata": {},
   "outputs": [
    {
     "name": "stderr",
     "output_type": "stream",
     "text": [
      "2024-10-29 14:58:59,547 - WARNING - File .dacerc not found. You are requesting data in public mode. To change this behaviour, create a .dacerc file in your home directory and fill it with your API key. More infos on https://dace.unige.ch\n"
     ]
    }
   ],
   "source": [
    "import ANTARESS_nbook_bground\n",
    "from antaress.ANTARESS_launch.ANTARESS_launcher import ANTARESS_launcher\n",
    "\n",
    "input_nbook = ANTARESS_nbook_bground.init('SP_reduc')\n",
    "input_nbook['working_path'] ='/Users/erikfriden/Desktop/antaress/working_dir/'"
   ]
  },
  {
   "cell_type": "markdown",
   "id": "b602b610-8a24-4c23-bc3e-3a73893accc6",
   "metadata": {},
   "source": [
    "# System parameters"
   ]
  },
  {
   "cell_type": "markdown",
   "id": "54fbb58a-4b12-4b43-9e70-4343a223aea3",
   "metadata": {},
   "source": [
    "**Parameters of the host star**\n",
    "\n",
    "Run this cell to define the host star. \n",
    "- `star_name` (string): Name of the star. Should not contain spaces/dashes.\n",
    "- `Rs` (float): Radius of the star, in $R_\\odot$.\n",
    "- `vsini` (float): Projected stellar surface velocity, in km/s. The value given here is only used as guess for the fits, as it will eventually be derived from your analysis.\n",
    "- `ld_u1` (float): First coefficient of the quadratic limb-darkening.\n",
    "- `ld_u2` (float): Second coefficient of the quadratic limb-darkening."
   ]
  },
  {
   "cell_type": "code",
   "execution_count": 2,
   "id": "c893f3aa-e4e7-4af7-ac2b-bda6c288174f",
   "metadata": {},
   "outputs": [],
   "source": [
    "input_nbook['par'].update({\n",
    "    'star_name' : 'TOI421',\n",
    "    'Rs'        : 0.866,\n",
    "    'vsini'     : 1.8,\n",
    "    'sysvel'    : 80.,\n",
    "    'ld_u1'     : 0.48,\n",
    "    'ld_u2'     : 0.18\n",
    "})\n",
    "ANTARESS_nbook_bground.init_star(input_nbook)"
   ]
  },
  {
   "cell_type": "markdown",
   "id": "4f058558-2059-44e9-a646-37175b0ecb3c",
   "metadata": {},
   "source": [
    "**Parameters of transiting planet**\n",
    "\n",
    "Run this cell to set the transiting planet on which the RM analysis is applied. \n",
    "- `planet_name` (string): Name of the transiting planet. Should not contain spaces/dashes.\n",
    "- `period` (float): Orbital period, in days.\n",
    "- `T0` (float): Mid-transit time, in ${\\rm BJD}_{\\rm TBD}$.\n",
    "- `ecc` (float): Orbital eccentricity.\n",
    "- `long_per` (float): Longitude of periastron, in degrees. If the orbit is circular, fill in `90.`.\n",
    "- `Kstar` (float): RV semi-amplitude, in m/s.\n",
    "- `aRs` (float): Scaled separation $a/R_\\star$.\n",
    "- `incl` (float): Orbital inclination, in degrees.\n",
    "- `RpRs` (float): Planet-to-star radius ratio $R_{\\rm p}/R_\\star$."
   ]
  },
  {
   "cell_type": "code",
   "execution_count": 3,
   "id": "3d716fab-01d5-4704-8129-7b1a68421536",
   "metadata": {},
   "outputs": [],
   "source": [
    "input_nbook['par'].update({\n",
    "    'planet_name' : 'TOI421c',\n",
    "    'period'      : 16.067541,\n",
    "    'T0'          : 2459195.30741,\n",
    "    'ecc'         : 0.19,\n",
    "    'long_per'    : 102.,\n",
    "    'Kstar'       : 4.1,\n",
    "    'aRs'         : 29.0546178,\n",
    "    'incl'        : 88.30373,\n",
    "    'RpRs'        : 0.0540\n",
    "})\n",
    "ANTARESS_nbook_bground.init_pl(input_nbook,'main')"
   ]
  },
  {
   "cell_type": "markdown",
   "id": "3f17da8c-074f-44de-a92a-5f7cc1b0884d",
   "metadata": {},
   "source": [
    "**Parameters of additional planets in the system**\n",
    "\n",
    "Run this cell to set additional planets, which will only contribute to the computation of the star Keplerian motion. \n",
    "\n",
    "The names and definitions of the parameters are the same as for the main planet (`aRs`, `incl`, `RpRs` are not required).\n",
    "\n",
    "Copy the cell to add further planets"
   ]
  },
  {
   "cell_type": "code",
   "execution_count": 4,
   "id": "6ecd2790-1315-436e-b454-95c0a69a20c5",
   "metadata": {},
   "outputs": [],
   "source": [
    "input_nbook['par'].update({\n",
    "    'planet_name' : 'TOI421b',\n",
    "    'period'      : 5.197576,\n",
    "    'T0'          : 2459189.7341,\n",
    "    'ecc'         : 0.13,\n",
    "    'long_per'    : 140.,\n",
    "    'Kstar'       : 2.83\n",
    "})\n",
    "ANTARESS_nbook_bground.init_pl(input_nbook,'sec')"
   ]
  },
  {
   "cell_type": "markdown",
   "id": "7dfe4393-b3df-4d48-add8-40c47b93035b",
   "metadata": {},
   "source": [
    "# Dataset properties"
   ]
  },
  {
   "cell_type": "markdown",
   "id": "0a239f0c-b07e-4e34-bbda-416ffacb2489",
   "metadata": {},
   "source": [
    "**Visit**\n",
    "\n",
    "Run this cell to define the visit to be processed. It must overlap with the transit of the `transiting planet`.\n",
    "- `instrument` (string): Instrument of the visit (e.g. `ESPRESSO`, `NIRPS_HE`...).\n",
    "- `night` (string): Night of the visit. It is preferred to use the standard format, i.e. `YYYYMMDD`.\n",
    "- `data_dir` (string): Path relative to `wokring_dir` to the directory holding the observed .fits files (here, set to `observations/S2D` to retrieve the 2D spectra with ANTARESS)"
   ]
  },
  {
   "cell_type": "code",
   "execution_count": 5,
   "id": "2bf3cb09-17fa-4e62-be66-7b8ecb9d5891",
   "metadata": {},
   "outputs": [],
   "source": [
    "input_nbook['par'].update({\n",
    "    'instrument'  : 'ESPRESSO',\n",
    "    'night'       : '20231106',\n",
    "    'data_dir'    : 'observations/S2D',\n",
    "})\n",
    "ANTARESS_nbook_bground.add_vis(input_nbook)"
   ]
  },
  {
   "cell_type": "markdown",
   "id": "b05bdb30-32fd-4f39-a6df-eb45aeec1d9e",
   "metadata": {},
   "source": [
    "# Processing of spectral data"
   ]
  },
  {
   "cell_type": "markdown",
   "id": "e3dc233c-2866-4864-820a-b185ba3c4978",
   "metadata": {},
   "source": [
    "<a id='inst_cal'></a>\n",
    "**Instrumental calibration**\n",
    "\n",
    "The input spectra in `'data_dir'` are assumed to be corrected for standard nstrumental effects such as flat field, blaze, and background.\n",
    "\n",
    "- `blaze`: `True` to measure calibration profile and detector noise from blazed data, S2D_BLAZE fits file must be provided in the same directory as S2D data.\n",
    "- `calc_gcal`: `True` to calculate results and `False` to retrieve previous results.\n",
    "\n",
    "Run this cell to measure the instrumental calibration. It is used in some modules for the rescaling of photoelectrons to their original photoelectron levels. "
   ]
  },
  {
   "cell_type": "code",
   "execution_count": 6,
   "id": "a1a55af6-c93b-4f33-aa7b-955c75651b95",
   "metadata": {},
   "outputs": [],
   "source": [
    "input_nbook['sp_reduc'].update({'blaze'    : True,\n",
    "                               'calc_gcal' : False})\n",
    "ANTARESS_nbook_bground.inst_cal(input_nbook, plot=False)"
   ]
  },
  {
   "cell_type": "markdown",
   "id": "461fcd2f-8646-4302-a956-09c18b6f3de1",
   "metadata": {},
   "source": [
    "**Launching the ANTARESS workflow**\n",
    "\n",
    "Run this cell to launch the ANTARESS workflow. During the spectral reduction it is a good practice to inspect the corrections after each step since the next correction will be applied to spectra after the previous correction step. "
   ]
  },
  {
   "cell_type": "code",
   "execution_count": 7,
   "id": "cd1f0d35-5d2c-4970-a1ae-95856cf986fb",
   "metadata": {},
   "outputs": [],
   "source": [
    "input_nbook['sp_reduc'].update({'proc_data' : True})\n",
    "ANTARESS_nbook_bground.processing_mode(input_nbook)"
   ]
  },
  {
   "cell_type": "code",
   "execution_count": 8,
   "id": "a1c98815-ae0b-4082-955c-e46a8b1126c1",
   "metadata": {},
   "outputs": [],
   "source": [
    "#ANTARESS_launcher(working_path=input_nbook['working_path'], nbook_dic = input_nbook, exec_comm=False)"
   ]
  },
  {
   "cell_type": "markdown",
   "id": "490a5ea0-747a-4873-bdd5-403fbfaefd73",
   "metadata": {},
   "source": [
    "<a id='process_data'></a>\n",
    "**ANTARESS in calculation/retrieval mode**\n",
    "\n",
    "To avoid unecessary computation time we deactivate the reading in of the observed data after this step since all corrections will be appied to the corrected spectra from the previous step. \n",
    "\n",
    "However, if pixels are later being masked and excluded from the correction after this step you will have to rerun the previous step in calculation mode again. At this point, the cell for masking of pixels would already have been executed, and you only have to activate and run this cell again. After you can rerun the instrumental calibration by running that cell above and launching the ANTARESS workflow. The instrumental calibration will then be performed on the observational data exluding the masked pixels. Again, deactivate the processing of observaitonal data in this cell and continue to run the cells below and perform the corrections once more but now with the pixels masked. Inspect the new corrections and continue with the workflow."
   ]
  },
  {
   "cell_type": "code",
   "execution_count": 9,
   "id": "06fffc48-cc9e-46ad-8508-172bdc7fad74",
   "metadata": {},
   "outputs": [],
   "source": [
    "input_nbook['sp_reduc'].update({'proc_data' : False})\n",
    "ANTARESS_nbook_bground.processing_mode(input_nbook)"
   ]
  },
  {
   "cell_type": "markdown",
   "id": "ed5b660b-0bbf-4141-bd55-7b61857fbf05",
   "metadata": {},
   "source": [
    "**Telluric correction**\n",
    "\n",
    "Run this cell to perform the telluric correction. \n",
    "\n",
    "- `tell_species` (list, string): choose which molecules to be used in correction (H$_2$O, O$_2$, CH$_4$, CO, CO$_2$)       \n",
    "- `tell_thresh` (float): threshold for contrast of telluric lines to be masked as nan\n",
    "\n"
   ]
  },
  {
   "cell_type": "code",
   "execution_count": 10,
   "id": "ea1729d2-a8ad-46a6-a1fa-85c807bf5b55",
   "metadata": {},
   "outputs": [],
   "source": [
    "input_nbook['sp_reduc'].update({\n",
    "    'tell_species'     : ['H2O', 'O2'],\n",
    "    'tell_thresh'      : 0.1\n",
    "})\n",
    "\n",
    "# Calculate results (True) or retrieve previous results (False)\n",
    "input_nbook['sp_reduc'].update({'calc_tell' : False})\n",
    "\n",
    "ANTARESS_nbook_bground.tell_corr(input_nbook, plot=False)"
   ]
  },
  {
   "cell_type": "markdown",
   "id": "a981faed-dcef-4cbb-b5ea-1775c22ff40c",
   "metadata": {},
   "source": [
    "**Adding a spectral plotting option here**\n",
    "\n",
    "Run this cell to plot either the transmission spectrum `sp_trans` or the raw spectrum `sp_raw` before and after the telluric correction.\n",
    "\n",
    "\n"
   ]
  },
  {
   "cell_type": "code",
   "execution_count": 11,
   "id": "65221281-725d-4e11-af9a-f4ee0b26a618",
   "metadata": {},
   "outputs": [],
   "source": [
    "input_nbook['sp_reduc'].update({\n",
    "    'sp_raw'     : False,\n",
    "    'trans_sp'   : False,\n",
    "    'wav_range'  : [3000,7000],\n",
    "    'y_range'    : None,\n",
    "    'norm_prof'  : True,\n",
    "    'plot_master': False,\n",
    "    'multi_exp'  :True\n",
    "})\n"
   ]
  },
  {
   "cell_type": "code",
   "execution_count": 12,
   "id": "277a6ad5-580b-4a78-88d4-cbea5e13fc41",
   "metadata": {},
   "outputs": [],
   "source": [
    "#ANTARESS_launcher(working_path=input_nbook['working_path'], nbook_dic = input_nbook, exec_comm=False)"
   ]
  },
  {
   "cell_type": "markdown",
   "id": "47ad0bdd-db5f-40c5-a406-4f1207f1e659",
   "metadata": {},
   "source": [
    "**Masking of pixels**\n",
    "\n",
    "Run this cell to mask pixels/ranges to exclude from the correction. \n",
    "\n",
    "Indicate which spectral orders to be masked and the corresponding wavelength range to mask\n",
    "\n",
    "- `order` (list): spectral orders to be masked, e.g., [10,24]\n",
    "- `range` (list): wavelength range to be masked for the spectral orders in the list `order`. The list must have the same length as the list in `order`, the format as [[low 10, high 10], [low 24, high 24]], for the range to be masked in spectral order in `order` as [10, 24].\n",
    "\n",
    "If you chosed to exclude spectral ranges from the correction, run this cell to indicate spectral orders or ranges to mask and then go to [ANTARESS retrieval mode](#process_data), activate `proc_data` and launch ANTARESS from the [Instrumental calibration](#inst_cal).\n"
   ]
  },
  {
   "cell_type": "code",
   "execution_count": 13,
   "id": "1543eedc-f248-4657-a6f9-423dd96a1023",
   "metadata": {},
   "outputs": [],
   "source": [
    "input_nbook['sp_reduc'].update({\n",
    "    'order' : [],\n",
    "    'range'  : [[]]\n",
    "})\n",
    "\n",
    "ANTARESS_nbook_bground.mask_pix(input_nbook)"
   ]
  },
  {
   "cell_type": "markdown",
   "id": "103db92c-27fe-4712-a42d-9330d230c49a",
   "metadata": {},
   "source": [
    "**Global flux balance correction**\n",
    "\n",
    "A first correction based on the flux ratio between each exposure and its visit master computed as the median of all exposures.\n",
    "\n",
    "- `sigma_clip` (bool): activate to remove outliers (recommended to manually exclude orders in `ord_excl_fit`)\n",
    "- `nord` (float): indicate number of spectral orders, if not known set it to `None` run this cell and the cell below to plot the flux colour balance. The top axis indicates the number of spectral orders.\n",
    "- `ord_excl_fit` (list): indicate which orders to be excluded from fit (not used if sigma clipping is activated)\n",
    "- `phantom_bins` (float): the range of phantom bins in $\\nu$ to avoid divergence in the blue part of the spectrum.\n",
    "- `unc_scaling` (float): variance of fitted bins is scaled to the chosen power (0 = equal weights: 1 = no scaling (original weights), increase to give more weight to data with low errors.\n",
    "- `fit_mode` (string): `'pol'` for polynomial function or `'spline'` for 1D-smoothing spline\n",
    "- `pol_deg` (integer): polynomial function degree (not used in when 'spline' is chosen)\n",
    "- `smooth_fac` (float): spline smoothing factor, increase to smooth\n",
    "\n",
    "Phantom bins can be used to mirror a linear fitting onto the blue part of the spectrum. This can be used to avoid divergence at the end of the spectrum. To find the best parameters for the model an iterative approach is best used varying the different parameters.\n"
   ]
  },
  {
   "cell_type": "code",
   "execution_count": 14,
   "id": "027dfefb-2751-4318-b6a8-418324a12761",
   "metadata": {},
   "outputs": [],
   "source": [
    "input_nbook['sp_reduc'].update({\n",
    "    'sigma_clip'    : False,\n",
    "    'nord'          : 170,\n",
    "    'ord_excl_fit'  : [0,1,88,89,90,91,145,146,147,164,165],\n",
    "    'phantom_range' : 10.,##\n",
    "    'unc_scaling'   : 0.25,\n",
    "    'fit_mode'      : 'spline',\n",
    "#When using the polynomial function\n",
    "    'pol_deg'       : 4.,\n",
    "#When using the 1-D smoothing spline\n",
    "    'smooth_fac'    : 1.5e-5\n",
    "})\n",
    "\n",
    "#True to calculate the correction, False to retrieve last result\n",
    "input_nbook['sp_reduc'].update({\n",
    "    'calc_Fbal' : False\n",
    "})\n",
    "\n",
    "ANTARESS_nbook_bground.fbal_corr(input_nbook)"
   ]
  },
  {
   "cell_type": "markdown",
   "id": "985ff5b9-4faf-4b58-8822-90086907fa5e",
   "metadata": {},
   "source": [
    "**Plotting the global flux colour balance**\n",
    "\n",
    "Plot the flux balance correction while separating the exposures (True), or plot all exposures on top of each other (Flase)"
   ]
  },
  {
   "cell_type": "code",
   "execution_count": 15,
   "id": "10343f92-0b6e-45bd-b67b-3e902fa5c9b8",
   "metadata": {},
   "outputs": [],
   "source": [
    "input_nbook['plots'].update({\n",
    "    'gap_exp': False\n",
    "})\n",
    "\n",
    "#ANTARESS_nbook_bground.plot_fbal_corr(input_nbook)"
   ]
  },
  {
   "cell_type": "code",
   "execution_count": 16,
   "id": "034f9204-5121-4400-b5a6-57501751ab3c",
   "metadata": {},
   "outputs": [],
   "source": [
    "#ANTARESS_launcher(working_path=input_nbook['working_path'], nbook_dic = input_nbook, exec_comm=False)"
   ]
  },
  {
   "cell_type": "markdown",
   "id": "d7086123-783d-49b4-ac61-c7009fcf0273",
   "metadata": {},
   "source": [
    "**Cosmics correction**\n",
    "\n",
    "Run this cell to perform the cosmic hits correction.\n",
    "\n",
    "The cosmic rays are detected by comparing the relative flux between exposures taken before and after. The threshold sets a limit for which a cosmic ray is considered detected. If the relative flux difference is higher than the cosmic threshold multiplied by the standard deviation of the measured or comparison spectra, a cosmic ray is considered detected.\n",
    "\n",
    "- `align_method` (string): choose alignment method, `kep` to correct for the Keplerian curve with information entered in the system properties, `pip` to use pipeline RVs if available. Keplerian curve is preferred to avoid biased RVs due to RM effect.     \n",
    "- `ncomp` (integer): number of comparison spectra to be used for the cocmic detection     \n",
    "- `thresh` (float): set the threshold for which a cosmic hit is considered detected\n"
   ]
  },
  {
   "cell_type": "code",
   "execution_count": 17,
   "id": "f5336810-f1c3-433c-ba79-6786c5651520",
   "metadata": {},
   "outputs": [],
   "source": [
    "input_nbook['sp_reduc'].update({\n",
    "    'calc_cosm'    : False,\n",
    "    'align_method' : 'kep',\n",
    "    'ncomp'        : 10,\n",
    "    'thresh'       : 10.\n",
    "})\n",
    "\n",
    "ANTARESS_nbook_bground.cosm_corr(input_nbook, plot=False)"
   ]
  },
  {
   "cell_type": "code",
   "execution_count": 18,
   "id": "d1cfaee8-245c-46e7-b0a6-228d131ec1b7",
   "metadata": {},
   "outputs": [],
   "source": [
    "#ANTARESS_launcher(working_path=input_nbook['working_path'], nbook_dic = input_nbook, exec_comm=False)"
   ]
  },
  {
   "cell_type": "markdown",
   "id": "dcdd0f36-535c-485b-a17a-f21d79f3e76f",
   "metadata": {},
   "source": [
    "**ESPRESSO \"wiggles\" correction**\n",
    "\n",
    "Run this cell to characterise and correct wiggles; only the screening and filter options are available in this notebook. To use the analytical version use the [configuration files](https://obswww.unige.ch/~bourriev/antaress/doc/html/installation.html).\n",
    "\n",
    "In this cell, you use screening to visualise the wiggles and, from there, choose what spectral ranges in $\\nu$ to include in the fitting. Generally, you will see large spurious features at the centre of the transmission spectrum located at the end and start frequencies of the red and blue detectors. Additionally, at the blue end of the spectrum, the noise levels will be much larger than the amplitude of the wiggle pattern. Hence, parts of these regions generally need to be removed from the fitting. The filter method is then used to characterise the wiggles using a Savitzky-Golay filter of the binned transmission spectrum in each exposure.\n",
    "\n",
    "Screening:\n",
    "- `screening` (bool): activate/deactivate the screening and plotting\n",
    "- `fit_range` (list): indicate lower and upper boundaries of ranges to include in fit, the format is [[low 1, high 1], [low 2, high 2], [etc.]] in $\\nu$, leave empty to use the full range\n",
    "- `y_range` (list): list including the lower and upper y limit, if None automatic scaling is applied\n",
    "\n",
    "Filter:\n",
    "- `filter` (bool): activate/deactivate the filter correction and characterisation\n",
    "- `window` (float): size of smoothing window in $\\nu$\n",
    "- `deg` (integer): polynomial degree used to fit the smoothed spectrum\n",
    "\n",
    "When using the filter correction, be careful to choose an appropriate combination of window size and polynomial degree to avoid fitting noise and spurious features in the data."
   ]
  },
  {
   "cell_type": "code",
   "execution_count": 19,
   "id": "2eed7de0-1f8f-4d5a-9762-f05de99a63a8",
   "metadata": {},
   "outputs": [],
   "source": [
    "#Screening\n",
    "input_nbook['sp_reduc'].update({\n",
    "    'screening'    : False,\n",
    "    'fit_range'    : [[]],\n",
    "    'y_range'      : None\n",
    "})\n",
    "\n",
    "#Filter\n",
    "input_nbook['sp_reduc'].update({\n",
    "    'filter'       : False,\n",
    "    'window'       : 0.2,\n",
    "    'deg'          : 3,\n",
    "})\n",
    "\n",
    "#To calculate wiggles set to True, to retrieve previous result set to False. First time it has to be True. \n",
    "#Set corr_wig to False to deactivate the module\n",
    "input_nbook['sp_reduc'].update({\n",
    "    'corr_wig':False,\n",
    "    'calc_wig':True\n",
    "})\n",
    "\n",
    "ANTARESS_nbook_bground.wiggle_corr(input_nbook)"
   ]
  },
  {
   "cell_type": "code",
   "execution_count": 20,
   "id": "fb04b582-424e-45dc-bdba-42961563ba39",
   "metadata": {},
   "outputs": [],
   "source": [
    "#ANTARESS_launcher(working_path=input_nbook['working_path'], nbook_dic = input_nbook, exec_comm=False)"
   ]
  },
  {
   "cell_type": "markdown",
   "id": "13e44dc2-61a0-4773-85c8-e276f3057cba",
   "metadata": {},
   "source": [
    "# Spectral processing"
   ]
  },
  {
   "cell_type": "markdown",
   "id": "63e39188-d4b7-4854-a88c-46383efa5afb",
   "metadata": {},
   "source": [
    "At this step, the original S2D spectra has been cleaned from instrumental effects, telluric contamination, cosmic ray hits, and consits of a time-series of cleaned 2D-spectra. The following steps will allow us co compute a 1D master stellar spectrum from out-of-transit data, that could be used either directly for analysis or to build/or compute a custom CCF mask.\n",
    "\n",
    "The following steps includes procedures for aligning, scaling, and weighting the spectra to finally produce a master 1D stellar spectrum."
   ]
  },
  {
   "cell_type": "markdown",
   "id": "47e93a90-016d-4a79-b635-d6f7acaca451",
   "metadata": {},
   "source": [
    "**Detrending of spectral lines**\n",
    "\n",
    "If this is the first time processing the spectral time series, skip this step since the trend characteristion will be performed in a separate notebook and is performed on the CCFs computed here. After identifying any trends in the [characterisation notebook](link) you can activate the module below and define the corrections to be applied on the S2D spectra, and then recompute the CCFs from the detrended S2D specta.\n",
    "\n",
    "To perform the detrending in this step, the [characterisation notebook](link) must have been used to determine any trends in the data and appropriate corrections first. Here you will use the values for the coefficients determined using the [characterisation notebook](link). Define which proeprty to correct and the corresponding dependence. If multiple properties are being corrected add them to the list.\n",
    "\n",
    "- `use` (bool): set to True to perform a trend correction\n",
    "- `prop` (list, str): list each property to correct with the correcsponding dependece. Properties to correct here is either RV or contrast (ctrst), and as a function of either phase or snr (with ESPRESSO snrQ)\n",
    "- `coeff` (list,list): indicate coefficients used for each model, add coefficients with decreasing order, add a new list if more than one property is corrected. The RV coefficient should be in km/s.\n"
   ]
  },
  {
   "cell_type": "code",
   "execution_count": 21,
   "id": "a08a3cb6-13c4-4c3b-85c3-eef93193caa0",
   "metadata": {},
   "outputs": [],
   "source": [
    "input_nbook['par'].update({\n",
    "    'use'  : False,\n",
    "    'prop' : ['ctrst_snrQ', 'RV_phase'],\n",
    "    'mode' : ['pol', 'pol'],\n",
    "    'coeff': [[-1.109190e-05], [-6.840494e-02]]\n",
    "})\n",
    "\n",
    "ANTARESS_nbook_bground.detrend(input_nbook)"
   ]
  },
  {
   "cell_type": "markdown",
   "id": "011fdddb-9de4-4864-91ca-380c12123a35",
   "metadata": {},
   "source": [
    "**Compute CCF from spectra**\n",
    "\n",
    "Comupute CCF from input spectra using used defined CCF masks.\n",
    "\n",
    " + `start_RV` (float): start RV for CCF computation in km/s, in stellar restframe\n",
    " + `end_RV` (float): end RV for CCF computation in km/s, in stellar restframe\n",
    " + `dRV` (float): step size in RV, use `None` for instrumental resolution. Using smaller steps than resolution will introduce correlations.\n",
    " + `mask_path` (string): location where the mask is stored + filename (relative to `'working_path'`)\n"
   ]
  },
  {
   "cell_type": "code",
   "execution_count": 24,
   "id": "52d2b0e7-04e9-4b65-a285-af4564caf28d",
   "metadata": {},
   "outputs": [],
   "source": [
    "input_nbook['sp_reduc'].update({\n",
    "    'start_RV' : -150.,\n",
    "    'end_RV'   : 150.,\n",
    "    'dRV'      : None,\n",
    "    'mask_path': 'CCF_masks/ESPRESSO_new_G9.fits',\n",
    "    'calc_CCF' : True\n",
    "})\n",
    "\n",
    "ANTARESS_nbook_bground.DI_CCF(input_nbook)"
   ]
  },
  {
   "cell_type": "markdown",
   "id": "1eb40bcc-5e35-4cce-a308-db695c60c966",
   "metadata": {},
   "source": [
    "**Systemic velocity**\n",
    "\n",
    "To align the system in the star rest frame you can first use a systemic velocity for the star from the literature. However, for the final analysis it has to be measured from the same dataset and for each epoch. This will be done in a separate notebook.\n",
    "\n",
    "Set `gamma` to the systemic velocity and proceed with the analysis. (Use measured velocity if available otherwise use literature values as a first estimate)"
   ]
  },
  {
   "cell_type": "code",
   "execution_count": 25,
   "id": "6bb1d58e-12a5-4cdd-bbda-b05543312b70",
   "metadata": {},
   "outputs": [],
   "source": [
    "input_nbook['par']['gamma'] = 79.403747\n",
    "ANTARESS_nbook_bground.set_sysvel(input_nbook)"
   ]
  },
  {
   "cell_type": "markdown",
   "id": "83219834-6982-4d3a-93b0-36191e5ccad2",
   "metadata": {},
   "source": [
    "**Alignment in star rest frame**\n",
    "\n",
    "Run this cell to align the disk-integrated S2D spectra in the star rest frame.\n",
    "\n",
    "S2D spectra are originally defined in the Sun barycentric rest frame. This module shifts them by the systemic rv you defined above, and by the Keplerian rv motion induced by the planets you set up for this system.\n",
    "\n",
    "This step is needed when aligning the system for building the master spectrum from out-of-transit exposures."
   ]
  },
  {
   "cell_type": "code",
   "execution_count": 26,
   "id": "c34bab01-fadd-4d90-b2fe-74f17d877a56",
   "metadata": {},
   "outputs": [],
   "source": [
    "ANTARESS_nbook_bground.align_prof(input_nbook)"
   ]
  },
  {
   "cell_type": "markdown",
   "id": "821615bf-54f2-4bff-b37a-c00f79a99868",
   "metadata": {},
   "source": [
    "**Flux scaling**\n",
    "\n",
    "Run this cell to scale the disk-integrated Spectra to their correct relative flux level over the transit. \n",
    "\n",
    "The scaling depends on the limb-darkening coefficients and planet-to-star radius ratio you entered in the `System parameters`.\n",
    "\n",
    "This step is needed when calculating the master stellar spectrum for weighting when building the master spectrum."
   ]
  },
  {
   "cell_type": "code",
   "execution_count": 27,
   "id": "50916e75-6c75-416a-83dc-798f1bc04fb7",
   "metadata": {},
   "outputs": [],
   "source": [
    "ANTARESS_nbook_bground.flux_sc(input_nbook)\n",
    "ANTARESS_nbook_bground.DImast_weight(input_nbook)"
   ]
  },
  {
   "cell_type": "code",
   "execution_count": 28,
   "id": "1ba3d61b-7523-49fc-9d67-eb8846e55cbf",
   "metadata": {},
   "outputs": [
    {
     "name": "stdout",
     "output_type": "stream",
     "text": [
      "****************************************\n",
      "Launching ANTARESS\n",
      "****************************************\n",
      "\n",
      "Multi-threading: 12 threads available\n",
      "Running with observational data\n",
      "Study of: TOI421c\n",
      "Accounting for Keplerian motion from all planets\n",
      "Automatic definition of T14[TOI421c]=2.76 h\n",
      "Default nsub_Dpl[TOI421c]=26\n",
      "\n",
      "-----------------------\n",
      "Processing instrument : ESPRESSO\n",
      "-----------------------\n",
      "  Reading and initializing 2D echelle spectra\n",
      "   > Errors propagated from raw data\n",
      "   > Data processed on individual spectral tables for each exposure\n",
      "         Retrieving data\n",
      "         Processing visit 20231106\n",
      "           Exposures do not share a common spectral table\n",
      "           54 exposures\n",
      "   > Estimating instrumental calibration\n",
      "         Retrieving data for 20231106\n",
      "   > Correcting spectra for tellurics\n",
      "         Retrieving data for 20231106\n",
      "   > Calculating stellar masters\n",
      "         Calculating data\n",
      "   > Correcting spectra for global flux balance\n",
      "         Calculating data\n",
      "   > Correcting spectra for cosmics\n",
      "         Retrieving data for 20231106\n",
      "  -----------------\n",
      "  Processing visit: 20231106\n",
      "  -----------------\n",
      "   > 54 exposures\n",
      "         29 in-transit\n",
      "         25 out-of-transit (15 pre / 10 post)\n",
      "   > Converting disk-integrated spectra into CCF\n",
      "         Calculating data\n",
      "spec2D\n",
      "         ANTARESS switched to CCF processing\n",
      "   > Calculating properties of planet-occulted regions\n",
      "         Calculating data\n",
      "   > Aligning disk-integrated profiles\n",
      "         Calculating data\n",
      "   > Broadband flux scaling\n",
      "         Default transit model\n",
      "         Calculating data\n",
      "   > Calculating master stellar spectrum\n",
      "         Calculating data\n",
      "         Reference planet for 20231106 binning set to TOI421c\n",
      "None\n"
     ]
    },
    {
     "ename": "TypeError",
     "evalue": "'NoneType' object is not subscriptable",
     "output_type": "error",
     "traceback": [
      "\u001b[0;31m---------------------------------------------------------------------------\u001b[0m",
      "\u001b[0;31mTypeError\u001b[0m                                 Traceback (most recent call last)",
      "Cell \u001b[0;32mIn[28], line 1\u001b[0m\n\u001b[0;32m----> 1\u001b[0m \u001b[43mANTARESS_launcher\u001b[49m\u001b[43m(\u001b[49m\u001b[43mworking_path\u001b[49m\u001b[38;5;241;43m=\u001b[39;49m\u001b[43minput_nbook\u001b[49m\u001b[43m[\u001b[49m\u001b[38;5;124;43m'\u001b[39;49m\u001b[38;5;124;43mworking_path\u001b[39;49m\u001b[38;5;124;43m'\u001b[39;49m\u001b[43m]\u001b[49m\u001b[43m,\u001b[49m\u001b[43m \u001b[49m\u001b[43mnbook_dic\u001b[49m\u001b[43m \u001b[49m\u001b[38;5;241;43m=\u001b[39;49m\u001b[43m \u001b[49m\u001b[43minput_nbook\u001b[49m\u001b[43m,\u001b[49m\u001b[43m \u001b[49m\u001b[43mexec_comm\u001b[49m\u001b[38;5;241;43m=\u001b[39;49m\u001b[38;5;28;43;01mFalse\u001b[39;49;00m\u001b[43m)\u001b[49m\n",
      "File \u001b[0;32m~/Desktop/antaress/src/antaress/ANTARESS_launch/ANTARESS_launcher.py:116\u001b[0m, in \u001b[0;36mANTARESS_launcher\u001b[0;34m(custom_systems, custom_settings, custom_plot_settings, working_path, nbook_dic, exec_comm)\u001b[0m\n\u001b[1;32m    113\u001b[0m \u001b[38;5;66;03m#Run over nominal settings properties\u001b[39;00m\n\u001b[1;32m    114\u001b[0m \u001b[38;5;66;03m#    - notebook settings have already been used to overwrite congiguration settings, and are only passed on to overwrite the plot settings if relevant\u001b[39;00m\n\u001b[1;32m    115\u001b[0m \u001b[38;5;28;01mif\u001b[39;00m \u001b[38;5;129;01mnot\u001b[39;00m gen_dic[\u001b[38;5;124m'\u001b[39m\u001b[38;5;124mgrid_run\u001b[39m\u001b[38;5;124m'\u001b[39m]:\n\u001b[0;32m--> 116\u001b[0m     \u001b[43mANTARESS_main\u001b[49m\u001b[43m(\u001b[49m\u001b[38;5;241;43m*\u001b[39;49m\u001b[43minput_dics\u001b[49m\u001b[43m,\u001b[49m\u001b[43msystem_params\u001b[49m\u001b[43m,\u001b[49m\u001b[43mnbook_dic\u001b[49m\u001b[43m,\u001b[49m\u001b[43mcustom_plot_settings\u001b[49m\u001b[43m)\u001b[49m\n\u001b[1;32m    118\u001b[0m \u001b[38;5;66;03m#Run over a grid of properties\u001b[39;00m\n\u001b[1;32m    119\u001b[0m \u001b[38;5;66;03m#    - will overwrite default and notebook configuration settings\u001b[39;00m\n\u001b[1;32m    120\u001b[0m \u001b[38;5;28;01melse\u001b[39;00m:\n\u001b[1;32m    121\u001b[0m     ANTARESS_gridrun(\u001b[38;5;241m*\u001b[39minput_dics,system_params,nbook_dic,custom_plot_settings)\n",
      "File \u001b[0;32m~/Desktop/antaress/src/antaress/ANTARESS_process/ANTARESS_main.py:165\u001b[0m, in \u001b[0;36mANTARESS_main\u001b[0;34m(data_dic, mock_dic, gen_dic, theo_dic, plot_dic, glob_fit_dic, detrend_prof_dic, corr_spot_dic, system_param, input_dic, custom_plot_settings)\u001b[0m\n\u001b[1;32m    163\u001b[0m \u001b[38;5;66;03m#Calculating master spectrum of the disk-integrated star used in weighted averages and continuum-normalization\u001b[39;00m\n\u001b[1;32m    164\u001b[0m \u001b[38;5;28;01mif\u001b[39;00m gen_dic[\u001b[38;5;124m'\u001b[39m\u001b[38;5;124mDImast_weight\u001b[39m\u001b[38;5;124m'\u001b[39m]:              \n\u001b[0;32m--> 165\u001b[0m     \u001b[43mprocess_bin_prof\u001b[49m\u001b[43m(\u001b[49m\u001b[38;5;124;43m'\u001b[39;49m\u001b[38;5;124;43m'\u001b[39;49m\u001b[43m,\u001b[49m\u001b[43mdata_type_gen\u001b[49m\u001b[43m,\u001b[49m\u001b[43mgen_dic\u001b[49m\u001b[43m,\u001b[49m\u001b[43minst\u001b[49m\u001b[43m,\u001b[49m\u001b[43mvis\u001b[49m\u001b[43m,\u001b[49m\u001b[43mdata_dic\u001b[49m\u001b[43m,\u001b[49m\u001b[43mcoord_dic\u001b[49m\u001b[43m,\u001b[49m\u001b[43mdata_prop\u001b[49m\u001b[43m,\u001b[49m\u001b[43msystem_param\u001b[49m\u001b[43m,\u001b[49m\u001b[43mtheo_dic\u001b[49m\u001b[43m,\u001b[49m\u001b[43mplot_dic\u001b[49m\u001b[43m,\u001b[49m\u001b[43mmasterDIweigh\u001b[49m\u001b[38;5;241;43m=\u001b[39;49m\u001b[38;5;28;43;01mTrue\u001b[39;49;00m\u001b[43m,\u001b[49m\u001b[43mspot_dic\u001b[49m\u001b[38;5;241;43m=\u001b[39;49m\u001b[43mtheo_dic\u001b[49m\u001b[43m)\u001b[49m\n\u001b[1;32m    167\u001b[0m \u001b[38;5;66;03m#Processing converted 2D disk-integrated profiles\u001b[39;00m\n\u001b[1;32m    168\u001b[0m \u001b[38;5;28;01mif\u001b[39;00m gen_dic[\u001b[38;5;124m'\u001b[39m\u001b[38;5;124mspec_1D\u001b[39m\u001b[38;5;124m'\u001b[39m]:                \n",
      "File \u001b[0;32m~/Desktop/antaress/src/antaress/ANTARESS_conversions/ANTARESS_binning.py:359\u001b[0m, in \u001b[0;36mprocess_bin_prof\u001b[0;34m(mode, data_type_gen, gen_dic, inst, vis_in, data_dic, coord_dic, data_prop, system_param, theo_dic, plot_dic, spot_dic, masterDIweigh)\u001b[0m\n\u001b[1;32m    355\u001b[0m \u001b[38;5;66;03m#Weight definition\u001b[39;00m\n\u001b[1;32m    356\u001b[0m \u001b[38;5;66;03m#    - the profiles must be specific to a given data type so that earlier types can still be called in the multi-visit binning, after the type of profile has evolved in a given visit\u001b[39;00m\n\u001b[1;32m    357\u001b[0m \u001b[38;5;66;03m#    - at this stage of the pipeline broadband flux scaling has been defined, if requested \u001b[39;00m\n\u001b[1;32m    358\u001b[0m \u001b[38;5;28mprint\u001b[39m(sing_gcal_exp)\n\u001b[0;32m--> 359\u001b[0m data_to_bin[iexp_off][\u001b[38;5;124m'\u001b[39m\u001b[38;5;124mweight\u001b[39m\u001b[38;5;124m'\u001b[39m] \u001b[38;5;241m=\u001b[39m \u001b[43mweights_bin_prof\u001b[49m\u001b[43m(\u001b[49m\u001b[38;5;28;43mrange\u001b[39;49m\u001b[43m(\u001b[49m\u001b[43mdata_inst\u001b[49m\u001b[43m[\u001b[49m\u001b[38;5;124;43m'\u001b[39;49m\u001b[38;5;124;43mnord\u001b[39;49m\u001b[38;5;124;43m'\u001b[39;49m\u001b[43m]\u001b[49m\u001b[43m)\u001b[49m\u001b[43m,\u001b[49m\u001b[43mscaled_data_paths\u001b[49m\u001b[43m,\u001b[49m\u001b[43minst\u001b[49m\u001b[43m,\u001b[49m\u001b[43mvis_bin\u001b[49m\u001b[43m,\u001b[49m\u001b[43mgen_dic\u001b[49m\u001b[43m[\u001b[49m\u001b[38;5;124;43m'\u001b[39;49m\u001b[38;5;124;43mcorr_Fbal\u001b[39;49m\u001b[38;5;124;43m'\u001b[39;49m\u001b[43m]\u001b[49m\u001b[43m,\u001b[49m\u001b[43mgen_dic\u001b[49m\u001b[43m[\u001b[49m\u001b[38;5;124;43m'\u001b[39;49m\u001b[38;5;124;43mcorr_FbalOrd\u001b[39;49m\u001b[38;5;124;43m'\u001b[39;49m\u001b[43m]\u001b[49m\u001b[43m,\u001b[49m\u001b[43mgen_dic\u001b[49m\u001b[43m[\u001b[49m\u001b[38;5;124;43m'\u001b[39;49m\u001b[38;5;124;43msave_data_dir\u001b[39;49m\u001b[38;5;124;43m'\u001b[39;49m\u001b[43m]\u001b[49m\u001b[43m,\u001b[49m\u001b[43mgen_dic\u001b[49m\u001b[43m[\u001b[49m\u001b[38;5;124;43m'\u001b[39;49m\u001b[38;5;124;43mtype\u001b[39;49m\u001b[38;5;124;43m'\u001b[39;49m\u001b[43m]\u001b[49m\u001b[43m,\u001b[49m\u001b[43mdata_inst\u001b[49m\u001b[43m[\u001b[49m\u001b[38;5;124;43m'\u001b[39;49m\u001b[38;5;124;43mnord\u001b[39;49m\u001b[38;5;124;43m'\u001b[39;49m\u001b[43m]\u001b[49m\u001b[43m,\u001b[49m\u001b[43miexp_glob\u001b[49m\u001b[43m,\u001b[49m\u001b[43mdata_type\u001b[49m\u001b[43m,\u001b[49m\u001b[43mdata_mode\u001b[49m\u001b[43m,\u001b[49m\u001b[43mdim_exp_new\u001b[49m\u001b[43m,\u001b[49m\u001b[43mtell_exp\u001b[49m\u001b[43m,\u001b[49m\u001b[43msing_gcal_exp\u001b[49m\u001b[43m,\u001b[49m\u001b[43mdata_com\u001b[49m\u001b[43m[\u001b[49m\u001b[38;5;124;43m'\u001b[39;49m\u001b[38;5;124;43mcen_bins\u001b[39;49m\u001b[38;5;124;43m'\u001b[39;49m\u001b[43m]\u001b[49m\u001b[43m,\u001b[49m\u001b[43mdt_exp\u001b[49m\u001b[43m,\u001b[49m\u001b[43mflux_ref_exp\u001b[49m\u001b[43m,\u001b[49m\u001b[43mcov_ref_exp\u001b[49m\u001b[43m,\u001b[49m\u001b[43mflux_est_loc_exp\u001b[49m\u001b[38;5;241;43m=\u001b[39;49m\u001b[43mflux_est_loc_exp\u001b[49m\u001b[43m,\u001b[49m\u001b[43mcov_est_loc_exp\u001b[49m\u001b[43m \u001b[49m\u001b[38;5;241;43m=\u001b[39;49m\u001b[43m \u001b[49m\u001b[43mcov_est_loc_exp\u001b[49m\u001b[43m,\u001b[49m\u001b[43m \u001b[49m\u001b[43mSpSstar_spec\u001b[49m\u001b[43m \u001b[49m\u001b[38;5;241;43m=\u001b[39;49m\u001b[43m \u001b[49m\u001b[43mSpSstar_spec\u001b[49m\u001b[43m,\u001b[49m\u001b[43mbdband_flux_sc\u001b[49m\u001b[43m \u001b[49m\u001b[38;5;241;43m=\u001b[39;49m\u001b[43m \u001b[49m\u001b[43mgen_dic\u001b[49m\u001b[43m[\u001b[49m\u001b[38;5;124;43m'\u001b[39;49m\u001b[38;5;124;43mflux_sc\u001b[39;49m\u001b[38;5;124;43m'\u001b[39;49m\u001b[43m]\u001b[49m\u001b[43m,\u001b[49m\u001b[43msdet_exp2\u001b[49m\u001b[38;5;241;43m=\u001b[39;49m\u001b[43msdet_exp2\u001b[49m\u001b[43m)\u001b[49m                          \n\u001b[1;32m    361\u001b[0m \u001b[38;5;66;03m#Timestamp and duration\u001b[39;00m\n\u001b[1;32m    362\u001b[0m \u001b[38;5;28;01mif\u001b[39;00m \u001b[38;5;129;01mnot\u001b[39;00m masterDIweigh:\n\u001b[1;32m    363\u001b[0m         \n\u001b[1;32m    364\u001b[0m     \u001b[38;5;66;03m#Timestamp of exposure\u001b[39;00m\n",
      "File \u001b[0;32m~/Desktop/antaress/src/antaress/ANTARESS_conversions/ANTARESS_binning.py:935\u001b[0m, in \u001b[0;36mweights_bin_prof\u001b[0;34m(iord_orig_list, scaled_data_paths, inst, vis, gen_corr_Fbal, gen_corr_Fbal_ord, save_data_dir, gen_type, nord, iexp_glob, data_type, data_mode, dim_exp, tell_exp, gcal_exp, cen_bins, dt, flux_ref_exp, cov_ref_exp, flux_est_loc_exp, cov_est_loc_exp, SpSstar_spec, bdband_flux_sc, glob_flux_sc, corr_Fbal, sdet_exp2)\u001b[0m\n\u001b[1;32m    929\u001b[0m cen_bins_ord \u001b[38;5;241m=\u001b[39m cen_bins[iord,cond_def_weights_ord]\n\u001b[1;32m    931\u001b[0m \u001b[38;5;66;03m#Instrumental calibration: gcal_exp(w,t,v)\u001b[39;00m\n\u001b[1;32m    932\u001b[0m \u001b[38;5;66;03m#   for original 2D or 1D spectra, gcal_exp is the estimated spectral calibration profile for the exposure (rescaled by the mean calibration profile over the visit if spectra to be weighted were converted back into count-equivalent values and are still in their original format)\u001b[39;00m\n\u001b[1;32m    933\u001b[0m \u001b[38;5;66;03m#   calibration profiles were estimated on the individual spectral grid of each exposure, and are then aligned to the same successive rest frames across the workflow  \u001b[39;00m\n\u001b[1;32m    934\u001b[0m \u001b[38;5;66;03m#   for original CCFs or after conversion into CCFs or from 2D/1D it returns a global calibration\u001b[39;00m\n\u001b[0;32m--> 935\u001b[0m gcal_ord \u001b[38;5;241m=\u001b[39m \u001b[43mgcal_exp\u001b[49m\u001b[43m[\u001b[49m\u001b[43miord\u001b[49m\u001b[43m,\u001b[49m\u001b[43mcond_def_weights_ord\u001b[49m\u001b[43m]\u001b[49m\n\u001b[1;32m    937\u001b[0m \u001b[38;5;66;03m#Spectral corrections\u001b[39;00m\n\u001b[1;32m    938\u001b[0m \u001b[38;5;28;01mif\u001b[39;00m (\u001b[38;5;124m'\u001b[39m\u001b[38;5;124mspec\u001b[39m\u001b[38;5;124m'\u001b[39m \u001b[38;5;129;01min\u001b[39;00m data_mode):\n",
      "\u001b[0;31mTypeError\u001b[0m: 'NoneType' object is not subscriptable"
     ]
    }
   ],
   "source": [
    "ANTARESS_launcher(working_path=input_nbook['working_path'], nbook_dic = input_nbook, exec_comm=False)"
   ]
  },
  {
   "cell_type": "code",
   "execution_count": null,
   "id": "423db9f5-6e67-499f-b92b-d2816ce9f26e",
   "metadata": {},
   "outputs": [],
   "source": [
    "%tb"
   ]
  },
  {
   "cell_type": "markdown",
   "id": "74c33415-8723-4e37-815b-9c045b4e04af",
   "metadata": {},
   "source": [
    "**Below this cell we remove the lines and use in a separate notebook.**"
   ]
  },
  {
   "cell_type": "code",
   "execution_count": null,
   "id": "bda76378-a3bb-4c94-9a52-aa7f22be0491",
   "metadata": {},
   "outputs": [],
   "source": [
    "ANTARESS_nbook_bground.calc_DImast(input_nbook) # For weightinh when stacking out-of-transit exposures"
   ]
  },
  {
   "cell_type": "markdown",
   "id": "3dfab636-a758-4702-90c8-6fbe4b67abd7",
   "metadata": {},
   "source": [
    "**2D to 1D conversion of disk-integrated spectra**\n",
    "\n",
    "Here we compute the 1 dimensional spectra for each exposure in the time series.\n",
    "This process is computationally heavy and requires high memory usage, so if it is a problem you can cahnge the number of cores to use with `ncores`.\n",
    "\n",
    "- `ncores` (integer): number of cores to use\n",
    "- `wav_step` (float): wavelength are unifomrly spaced in $\\ln(\\lambda)$ where $\\text{d}[\\ln(\\lambda)] = \\text{d} \\lambda/\\lambda$.\n",
    "- `wav_start` (float): start wavelength of spectral table\n",
    "- `wav_end` (float): end wavelength of spectral table"
   ]
  },
  {
   "cell_type": "code",
   "execution_count": null,
   "id": "62ca90f3-6bd9-4e4c-9006-c1dc5f5d34ee",
   "metadata": {},
   "outputs": [],
   "source": [
    "input_nbook['sp_reduc'].update({\n",
    "    'ncores'    : None,\n",
    "    'wav_step'  : 0.01/6000.,\n",
    "    'wav_start' : 3000.,\n",
    "    'wav_end'   : 9000.,\n",
    "})\n",
    "\n",
    "ANTARESS_nbook_bground.convert_to_1D(input_nbook, plot=False)"
   ]
  },
  {
   "cell_type": "markdown",
   "id": "bba0d7c2-ed43-4f32-950e-4d1b44ad1314",
   "metadata": {},
   "source": [
    "**Binning disk-integrated 1D spectra**\n",
    "\n",
    "Run this cell to bin all out of transit exposures into one 1D-master stellar spectrum.\n"
   ]
  },
  {
   "cell_type": "code",
   "execution_count": null,
   "id": "89a84762-9e44-4e32-8c96-ce230c7be56e",
   "metadata": {},
   "outputs": [],
   "source": [
    "ANTARESS_nbook_bground.build_1D_master(input_nbook, plot=False)"
   ]
  }
 ],
 "metadata": {
  "kernelspec": {
   "display_name": "Python 3 (ipykernel)",
   "language": "python",
   "name": "python3"
  },
  "language_info": {
   "codemirror_mode": {
    "name": "ipython",
    "version": 3
   },
   "file_extension": ".py",
   "mimetype": "text/x-python",
   "name": "python",
   "nbconvert_exporter": "python",
   "pygments_lexer": "ipython3",
   "version": "3.12.4"
  }
 },
 "nbformat": 4,
 "nbformat_minor": 5
}
