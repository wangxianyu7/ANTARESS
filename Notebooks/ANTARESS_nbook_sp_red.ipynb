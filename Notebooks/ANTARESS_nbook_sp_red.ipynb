{
 "cells": [
  {
   "cell_type": "markdown",
   "id": "7b1bee42-7832-49ac-b992-242ae6e19327",
   "metadata": {},
   "source": [
    "# Introduction"
   ]
  },
  {
   "cell_type": "markdown",
   "id": "c3424e66-f54c-4a7c-9ad6-5cf12eedc677",
   "metadata": {},
   "source": [
    "This notebook allows you to run a simplified version of the ANTARESS workflow, for the following purpose:\n",
    "- format and clean time-series of echelle spectra (S2D) output by standard spectrographs DRS\n",
    "\n",
    "At the end of the notebook, \n",
    "\n",
    "Set `working_path`, `star_name`, and `pl_name` to the same values that you used in the [set-up notebook](https://gitlab.unige.ch/spice_dune/antaress/-/blob/main/Notebooks/ANTARESS_nbook_setup.ipynb) to initialize your mock system.\n",
    "\n",
    "\n",
    "To try the workflow, place your observational dataset in the directory of your choice (named, for example, `Working_dir/`), and set the `working_path` to the directory containing your data.\n",
    "\n",
    "Some options and functionallities are not included in this notebook to keep it slim and easy to use. For targets with multiple visists it is espesecially recommended to use the [configuration files](https://obswww.unige.ch/~bourriev/antaress/doc/html/installation.html)."
   ]
  },
  {
   "cell_type": "markdown",
   "id": "4a5b1402-2194-4b1c-a7e0-952f8cfac175",
   "metadata": {},
   "source": [
    "Run the cell below to retrieve the system and visits properties defined in the `ANTARESS_nbook_setup.ipynb`."
   ]
  },
  {
   "cell_type": "code",
   "execution_count": null,
   "id": "683cef8e-e3e4-4854-b4fd-12964caf6a79",
   "metadata": {},
   "outputs": [],
   "source": [
    "import ANTARESS_nbook_bground\n",
    "from antaress.ANTARESS_launch.ANTARESS_launcher import ANTARESS_launcher\n",
    "\n",
    "setup = {}\n",
    "setup['working_path'] ='/Users/erikfriden/Desktop/antaress/working_dir/'\n",
    "\n",
    "setup['par'] = {\n",
    "    'star_name' : 'TOI421',\n",
    "    'pl_name'   : 'TOI421c'\n",
    "}\n",
    "\n",
    "input_nbook = ANTARESS_nbook_bground.load_nbook(setup, 'sp_reduc')"
   ]
  },
  {
   "cell_type": "markdown",
   "id": "b05bdb30-32fd-4f39-a6df-eb45aeec1d9e",
   "metadata": {},
   "source": [
    "# Processing of spectral data"
   ]
  },
  {
   "cell_type": "markdown",
   "id": "e3dc233c-2866-4864-820a-b185ba3c4978",
   "metadata": {},
   "source": [
    "<a id='inst_cal'></a>\n",
    "**Instrumental calibration**\n",
    "\n",
    "The input spectra in `'data_dir'` are assumed to be corrected for standard nstrumental effects such as flat field, blaze, and background.\n",
    "\n",
    "- `blaze`: `True` to measure calibration profile and detector noise from blazed data, S2D_BLAZE fits file must be provided in the same directory as S2D data.\n",
    "- `calc_gcal`: `True` to calculate results and `False` to retrieve previous results.\n",
    "\n",
    "Run this cell to measure the instrumental calibration. It is used in some modules for the rescaling of photoelectrons to their original photoelectron levels. "
   ]
  },
  {
   "cell_type": "code",
   "execution_count": null,
   "id": "a1a55af6-c93b-4f33-aa7b-955c75651b95",
   "metadata": {},
   "outputs": [],
   "source": [
    "input_nbook['sp_reduc'].update({'blaze'    : True,\n",
    "                               'calc_gcal' : False})\n",
    "ANTARESS_nbook_bground.inst_cal(input_nbook, plot=False)"
   ]
  },
  {
   "cell_type": "markdown",
   "id": "461fcd2f-8646-4302-a956-09c18b6f3de1",
   "metadata": {},
   "source": [
    "**Launching the ANTARESS workflow**\n",
    "\n",
    "Run this cell to launch the ANTARESS workflow. During the spectral reduction it is a good practice to inspect the corrections after each step since the next correction will be applied to spectra after the previous correction step. "
   ]
  },
  {
   "cell_type": "code",
   "execution_count": null,
   "id": "cd1f0d35-5d2c-4970-a1ae-95856cf986fb",
   "metadata": {},
   "outputs": [],
   "source": [
    "input_nbook['sp_reduc'].update({'proc_data' : True})\n",
    "ANTARESS_nbook_bground.processing_mode(input_nbook)"
   ]
  },
  {
   "cell_type": "code",
   "execution_count": null,
   "id": "a1c98815-ae0b-4082-955c-e46a8b1126c1",
   "metadata": {},
   "outputs": [],
   "source": [
    "#ANTARESS_launcher(working_path=input_nbook['working_path'], nbook_dic = input_nbook, exec_comm=False)"
   ]
  },
  {
   "cell_type": "markdown",
   "id": "490a5ea0-747a-4873-bdd5-403fbfaefd73",
   "metadata": {},
   "source": [
    "<a id='process_data'></a>\n",
    "**ANTARESS in calculation/retrieval mode**\n",
    "\n",
    "To avoid unecessary computation time we deactivate the reading in of the observed data after this step since all corrections will be appied to the corrected spectra from the previous step. \n",
    "\n",
    "However, if pixels are later being masked and excluded from the correction after this step you will have to rerun the previous step in calculation mode again. At this point, the cell for masking of pixels would already have been executed, and you only have to activate and run this cell again. After you can rerun the instrumental calibration by running that cell above and launching the ANTARESS workflow. The instrumental calibration will then be performed on the observational data exluding the masked pixels. Again, deactivate the processing of observaitonal data in this cell and continue to run the cells below and perform the corrections once more but now with the pixels masked. Inspect the new corrections and continue with the workflow."
   ]
  },
  {
   "cell_type": "code",
   "execution_count": null,
   "id": "06fffc48-cc9e-46ad-8508-172bdc7fad74",
   "metadata": {},
   "outputs": [],
   "source": [
    "input_nbook['sp_reduc'].update({'proc_data' : False})\n",
    "ANTARESS_nbook_bground.processing_mode(input_nbook)"
   ]
  },
  {
   "cell_type": "markdown",
   "id": "ed5b660b-0bbf-4141-bd55-7b61857fbf05",
   "metadata": {},
   "source": [
    "**Telluric correction**\n",
    "\n",
    "Run this cell to perform the telluric correction. \n",
    "\n",
    "- `tell_species` (list, string): choose which molecules to be used in correction (H$_2$O, O$_2$, CH$_4$, CO, CO$_2$)       \n",
    "- `tell_thresh` (float): threshold for contrast of telluric lines to be masked as nan\n",
    "\n"
   ]
  },
  {
   "cell_type": "code",
   "execution_count": null,
   "id": "ea1729d2-a8ad-46a6-a1fa-85c807bf5b55",
   "metadata": {},
   "outputs": [],
   "source": [
    "input_nbook['sp_reduc'].update({\n",
    "    'tell_species'     : ['H2O', 'O2'],\n",
    "    'tell_thresh'      : 0.1\n",
    "})\n",
    "\n",
    "# Calculate results (True) or retrieve previous results (False)\n",
    "input_nbook['sp_reduc'].update({'calc_tell' : False})\n",
    "\n",
    "ANTARESS_nbook_bground.tell_corr(input_nbook, plot=False)"
   ]
  },
  {
   "cell_type": "markdown",
   "id": "a981faed-dcef-4cbb-b5ea-1775c22ff40c",
   "metadata": {},
   "source": [
    "**Adding a spectral plotting option here**\n",
    "\n",
    "Run this cell to plot either the transmission spectrum `sp_trans` or the raw spectrum `sp_raw` before and after the telluric correction.\n",
    "\n",
    "\n"
   ]
  },
  {
   "cell_type": "code",
   "execution_count": null,
   "id": "65221281-725d-4e11-af9a-f4ee0b26a618",
   "metadata": {},
   "outputs": [],
   "source": [
    "input_nbook['sp_reduc'].update({\n",
    "    'sp_raw'     : False,\n",
    "    'trans_sp'   : False,\n",
    "    'wav_range'  : [3000,7000],\n",
    "    'y_range'    : None,\n",
    "    'norm_prof'  : True,\n",
    "    'plot_master': False,\n",
    "    'multi_exp'  :True\n",
    "})"
   ]
  },
  {
   "cell_type": "code",
   "execution_count": null,
   "id": "277a6ad5-580b-4a78-88d4-cbea5e13fc41",
   "metadata": {},
   "outputs": [],
   "source": [
    "#ANTARESS_launcher(working_path=input_nbook['working_path'], nbook_dic = input_nbook, exec_comm=False)"
   ]
  },
  {
   "cell_type": "markdown",
   "id": "47ad0bdd-db5f-40c5-a406-4f1207f1e659",
   "metadata": {},
   "source": [
    "**Masking of pixels**\n",
    "\n",
    "Run this cell to mask pixels/ranges to exclude from the correction. \n",
    "\n",
    "Indicate which spectral orders to be masked and the corresponding wavelength range to mask\n",
    "\n",
    "- `order` (list): spectral orders to be masked, e.g., [10,24]\n",
    "- `range` (list): wavelength range to be masked for the spectral orders in the list `order`. The list must have the same length as the list in `order`, the format as $[[\\lambda_{\\mathrm{low}, \\mathrm{ord}_{10}}, \\lambda_{\\mathrm{high}, \\mathrm{ord}_{10}}], [\\lambda_{\\mathrm{low}, \\mathrm{ord}_{24}}, \\lambda_{\\mathrm{high}, \\mathrm{ord}_{24}}]]$, for the ranges to be masked in the spectral orders defined in `order`.\n",
    "\n",
    "If you chosed to exclude spectral ranges from the correction, run this cell to indicate spectral orders or ranges to mask and then go to [ANTARESS retrieval mode](#process_data), activate `proc_data` and launch ANTARESS from the [Instrumental calibration](#inst_cal).\n"
   ]
  },
  {
   "cell_type": "code",
   "execution_count": null,
   "id": "1543eedc-f248-4657-a6f9-423dd96a1023",
   "metadata": {},
   "outputs": [],
   "source": [
    "input_nbook['sp_reduc'].update({\n",
    "    'order' : [],\n",
    "    'range'  : [[]]\n",
    "})\n",
    "\n",
    "ANTARESS_nbook_bground.mask_pix(input_nbook)"
   ]
  },
  {
   "cell_type": "markdown",
   "id": "103db92c-27fe-4712-a42d-9330d230c49a",
   "metadata": {},
   "source": [
    "**Global flux balance correction**\n",
    "\n",
    "A first correction based on the flux ratio between each exposure and its visit master computed as the median of all exposures.\n",
    "\n",
    "- `sigma_clip` (bool): activate to remove outliers (recommended to manually exclude orders in `ord_excl_fit`)\n",
    "- `nord` (float): indicate number of spectral orders, if not known set it to `None` run this cell and the cell below to plot the flux colour balance. The top axis indicates the number of spectral orders.\n",
    "- `ord_excl_fit` (list): indicate which orders to be excluded from fit (not used if sigma clipping is activated)\n",
    "- `phantom_bins` (float): the range of phantom bins in $\\nu$ to avoid divergence in the blue part of the spectrum.\n",
    "- `unc_scaling` (float): variance of fitted bins is scaled to the chosen power (0 = equal weights: 1 = no scaling (original weights), increase to give more weight to data with low errors.\n",
    "- `fit_mode` (string): `'pol'` for polynomial function or `'spline'` for 1D-smoothing spline\n",
    "- `pol_deg` (integer): polynomial function degree (not used in when 'spline' is chosen)\n",
    "- `smooth_fac` (float): spline smoothing factor, increase to smooth\n",
    "\n",
    "Phantom bins can be used to mirror a linear fitting onto the blue part of the spectrum. This can be used to avoid divergence at the end of the spectrum. To find the best parameters for the model an iterative approach is best used varying the different parameters.\n"
   ]
  },
  {
   "cell_type": "code",
   "execution_count": null,
   "id": "027dfefb-2751-4318-b6a8-418324a12761",
   "metadata": {},
   "outputs": [],
   "source": [
    "input_nbook['sp_reduc'].update({\n",
    "    'sigma_clip'    : False,\n",
    "    'nord'          : 170,\n",
    "    'ord_excl_fit'  : [0,1,88,89,90,91,145,146,147,164,165],\n",
    "    'phantom_range' : 10.,##\n",
    "    'unc_scaling'   : 0.25,\n",
    "    'fit_mode'      : 'spline',\n",
    "#When using the polynomial function\n",
    "    'pol_deg'       : 4.,\n",
    "#When using the 1-D smoothing spline\n",
    "    'smooth_fac'    : 1.5e-5\n",
    "})\n",
    "\n",
    "#True to calculate the correction, False to retrieve last result\n",
    "input_nbook['sp_reduc'].update({\n",
    "    'calc_Fbal' : False\n",
    "})\n",
    "\n",
    "ANTARESS_nbook_bground.fbal_corr(input_nbook)"
   ]
  },
  {
   "cell_type": "markdown",
   "id": "985ff5b9-4faf-4b58-8822-90086907fa5e",
   "metadata": {},
   "source": [
    "**Plotting the global flux colour balance**\n",
    "\n",
    "Plot the flux balance correction while separating the exposures (True), or plot all exposures on top of each other (Flase)"
   ]
  },
  {
   "cell_type": "code",
   "execution_count": null,
   "id": "10343f92-0b6e-45bd-b67b-3e902fa5c9b8",
   "metadata": {},
   "outputs": [],
   "source": [
    "input_nbook['plots'].update({\n",
    "    'gap_exp': False\n",
    "})\n",
    "\n",
    "#ANTARESS_nbook_bground.plot_fbal_corr(input_nbook)"
   ]
  },
  {
   "cell_type": "code",
   "execution_count": null,
   "id": "034f9204-5121-4400-b5a6-57501751ab3c",
   "metadata": {},
   "outputs": [],
   "source": [
    "#ANTARESS_launcher(working_path=input_nbook['working_path'], nbook_dic = input_nbook, exec_comm=False)"
   ]
  },
  {
   "cell_type": "markdown",
   "id": "d7086123-783d-49b4-ac61-c7009fcf0273",
   "metadata": {},
   "source": [
    "**Cosmics correction**\n",
    "\n",
    "Run this cell to perform the cosmic hits correction.\n",
    "\n",
    "The cosmic rays are detected by comparing the relative flux between exposures taken before and after. The threshold sets a limit for which a cosmic ray is considered detected. If the relative flux difference is higher than the cosmic threshold multiplied by the standard deviation of the measured or comparison spectra, a cosmic ray is considered detected.\n",
    "\n",
    "- `align_method` (string): choose alignment method, `kep` to correct for the Keplerian curve with information entered in the system properties, `pip` to use pipeline RVs if available. Keplerian curve is preferred to avoid biased RVs due to RM effect.     \n",
    "- `ncomp` (integer): number of comparison spectra to be used for the cocmic detection     \n",
    "- `thresh` (float): set the threshold for which a cosmic hit is considered detected\n"
   ]
  },
  {
   "cell_type": "code",
   "execution_count": null,
   "id": "f5336810-f1c3-433c-ba79-6786c5651520",
   "metadata": {},
   "outputs": [],
   "source": [
    "input_nbook['sp_reduc'].update({\n",
    "    'calc_cosm'    : False,\n",
    "    'align_method' : 'kep',\n",
    "    'ncomp'        : 10,\n",
    "    'thresh'       : 10.\n",
    "})\n",
    "\n",
    "ANTARESS_nbook_bground.cosm_corr(input_nbook, plot=False)"
   ]
  },
  {
   "cell_type": "code",
   "execution_count": null,
   "id": "d1cfaee8-245c-46e7-b0a6-228d131ec1b7",
   "metadata": {},
   "outputs": [],
   "source": [
    "#ANTARESS_launcher(working_path=input_nbook['working_path'], nbook_dic = input_nbook, exec_comm=False)"
   ]
  },
  {
   "cell_type": "markdown",
   "id": "dcdd0f36-535c-485b-a17a-f21d79f3e76f",
   "metadata": {},
   "source": [
    "**ESPRESSO \"wiggles\" correction**\n",
    "\n",
    "Run this cell to characterise and correct wiggles; only the screening and filter options are available in this notebook. To use the analytical version use the [configuration files](https://obswww.unige.ch/~bourriev/antaress/doc/html/installation.html).\n",
    "\n",
    "In this cell, you use screening to visualise the wiggles and, from there, choose what spectral ranges in $\\nu$ to include in the fitting. Generally, you will see large spurious features at the centre of the transmission spectrum located at the end and start frequencies of the red and blue detectors. Additionally, at the blue end of the spectrum, the noise levels will be much larger than the amplitude of the wiggle pattern. Hence, parts of these regions generally need to be removed from the fitting. The filter method is then used to characterise the wiggles using a Savitzky-Golay filter of the binned transmission spectrum in each exposure.\n",
    "\n",
    "Screening:\n",
    "- `screening` (bool): activate/deactivate the screening and plotting\n",
    "- `fit_range` (list): indicate lower and upper boundaries of ranges to include in fit, the format is [[low 1, high 1], [low 2, high 2], [etc.]] in $\\nu$, leave empty to use the full range\n",
    "- `y_range` (list): list including the lower and upper y limit, if None automatic scaling is applied\n",
    "\n",
    "Filter:\n",
    "- `filter` (bool): activate/deactivate the filter correction and characterisation\n",
    "- `window` (float): size of smoothing window in $\\nu$\n",
    "- `deg` (integer): polynomial degree used to fit the smoothed spectrum\n",
    "\n",
    "When using the filter correction, be careful to choose an appropriate combination of window size and polynomial degree to avoid fitting noise and spurious features in the data."
   ]
  },
  {
   "cell_type": "code",
   "execution_count": null,
   "id": "2eed7de0-1f8f-4d5a-9762-f05de99a63a8",
   "metadata": {},
   "outputs": [],
   "source": [
    "#Screening\n",
    "input_nbook['sp_reduc'].update({\n",
    "    'screening'    : False,\n",
    "    'fit_range'    : [[]],\n",
    "    'y_range'      : None\n",
    "})\n",
    "\n",
    "#Filter\n",
    "input_nbook['sp_reduc'].update({\n",
    "    'filter'       : False,\n",
    "    'window'       : 0.2,\n",
    "    'deg'          : 3,\n",
    "})\n",
    "\n",
    "#To calculate wiggles set to True, to retrieve previous result set to False. First time it has to be True. \n",
    "#Set corr_wig to False to deactivate the module\n",
    "input_nbook['sp_reduc'].update({\n",
    "    'corr_wig':False,\n",
    "    'calc_wig':True\n",
    "})\n",
    "\n",
    "ANTARESS_nbook_bground.wiggle_corr(input_nbook)"
   ]
  },
  {
   "cell_type": "code",
   "execution_count": null,
   "id": "fb04b582-424e-45dc-bdba-42961563ba39",
   "metadata": {},
   "outputs": [],
   "source": [
    "#ANTARESS_launcher(working_path=input_nbook['working_path'], nbook_dic = input_nbook, exec_comm=False)"
   ]
  },
  {
   "cell_type": "markdown",
   "id": "13e44dc2-61a0-4773-85c8-e276f3057cba",
   "metadata": {},
   "source": [
    "# Spectral processing"
   ]
  },
  {
   "cell_type": "markdown",
   "id": "63e39188-d4b7-4854-a88c-46383efa5afb",
   "metadata": {},
   "source": [
    "At this step, the original S2D spectra has been cleaned from instrumental effects, telluric contamination, cosmic ray hits, and consits of a time-series of cleaned 2D-spectra. The following steps will allow us co compute a 1D master stellar spectrum from out-of-transit data, that could be used either directly for analysis or to build/or compute a custom CCF mask.\n",
    "\n",
    "The following steps includes procedures for aligning, scaling, and weighting the spectra to finally produce a master 1D stellar spectrum."
   ]
  },
  {
   "cell_type": "markdown",
   "id": "47e93a90-016d-4a79-b635-d6f7acaca451",
   "metadata": {},
   "source": [
    "**Detrending of spectral lines**\n",
    "\n",
    "If this is the first time processing the spectral time series, skip this step since the trend characteristion will be performed in a separate notebook and is performed on the CCFs computed here. After identifying any trends in the [characterisation notebook](link) you can activate the module below and define the corrections to be applied on the S2D spectra, and then recompute the CCFs from the detrended S2D specta.\n",
    "\n",
    "To perform the detrending in this step, the [characterisation notebook](link) must have been used to determine any trends in the data and appropriate corrections first. Here you will use the values for the coefficients determined using the [characterisation notebook](link). Define which proeprty to correct and the corresponding dependence. If multiple properties are being corrected add them to the list.\n",
    "\n",
    "- `use` (bool): set to True to perform a trend correction\n",
    "- `prop` (list, str): list each property to correct with the correcsponding dependece. Properties to correct here is either RV or contrast (ctrst), and as a function of either phase or snr (with ESPRESSO snrQ)\n",
    "- `coeff` (list,list): indicate coefficients used for each model, add coefficients with decreasing order, add a new list if more than one property is corrected. The RV coefficient should be in km/s.\n"
   ]
  },
  {
   "cell_type": "code",
   "execution_count": null,
   "id": "a08a3cb6-13c4-4c3b-85c3-eef93193caa0",
   "metadata": {},
   "outputs": [],
   "source": [
    "input_nbook['par'].update({\n",
    "    'use'  : False,\n",
    "    'prop' : ['ctrst_snrQ', 'RV_phase'],\n",
    "    'mode' : ['pol', 'pol'],\n",
    "    'coeff': [[-1.109190e-05], [-6.840494e-02]]\n",
    "})\n",
    "\n",
    "ANTARESS_nbook_bground.detrend(input_nbook)"
   ]
  },
  {
   "cell_type": "markdown",
   "id": "011fdddb-9de4-4864-91ca-380c12123a35",
   "metadata": {},
   "source": [
    "**Compute CCF from spectra**\n",
    "\n",
    "Comupute CCF from input spectra using used defined CCF masks.\n",
    "\n",
    " + `type` (string): what data type, `DI` or `Intr`\n",
    " + `start_RV` (float): start RV for CCF computation in km/s, in stellar restframe\n",
    " + `end_RV` (float): end RV for CCF computation in km/s, in stellar restframe\n",
    " + `dRV` (float): step size in RV, use `None` for instrumental resolution. Using smaller steps than resolution will introduce correlations.\n",
    " + `mask_path` (string): location where the mask is stored + filename (relative to `'working_path'`)\n"
   ]
  },
  {
   "cell_type": "code",
   "execution_count": null,
   "id": "52d2b0e7-04e9-4b65-a285-af4564caf28d",
   "metadata": {},
   "outputs": [],
   "source": [
    "input_nbook['par'].update({\n",
    "    'type'     : 'DI',\n",
    "    'start_RV' : -150.,\n",
    "    'end_RV'   : 150.,\n",
    "    'dRV'      : None,\n",
    "    'mask_path': 'CCF_masks/ESPRESSO_new_G9.fits',\n",
    "    'calc_CCF' : True\n",
    "})\n",
    "\n",
    "ANTARESS_nbook_bground.conv_CCF(input_nbook)"
   ]
  },
  {
   "cell_type": "code",
   "execution_count": null,
   "id": "1ba3d61b-7523-49fc-9d67-eb8846e55cbf",
   "metadata": {},
   "outputs": [],
   "source": [
    "ANTARESS_launcher(working_path=input_nbook['working_path'], nbook_dic = input_nbook, exec_comm=False)"
   ]
  },
  {
   "cell_type": "code",
   "execution_count": null,
   "id": "423db9f5-6e67-499f-b92b-d2816ce9f26e",
   "metadata": {},
   "outputs": [],
   "source": [
    "%tb"
   ]
  }
 ],
 "metadata": {
  "kernelspec": {
   "display_name": "Python 3 (ipykernel)",
   "language": "python",
   "name": "python3"
  },
  "language_info": {
   "codemirror_mode": {
    "name": "ipython",
    "version": 3
   },
   "file_extension": ".py",
   "mimetype": "text/x-python",
   "name": "python",
   "nbconvert_exporter": "python",
   "pygments_lexer": "ipython3",
   "version": "3.11.3"
  }
 },
 "nbformat": 4,
 "nbformat_minor": 5
}
