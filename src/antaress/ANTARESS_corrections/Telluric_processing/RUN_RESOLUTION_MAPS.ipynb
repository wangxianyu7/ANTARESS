{
 "cells": [
  {
   "cell_type": "markdown",
   "metadata": {},
   "source": [
    "# RESOLUTION MAPS\n",
    "This file is set up to create resolution maps for HARPS and HARPS-N using the best-fit polynomial.\n",
    "\n",
    "Commented lines can be used to create automatically resolution maps using different polynomial regressions and compare them with each other"
   ]
  },
  {
   "cell_type": "code",
   "execution_count": 6,
   "metadata": {},
   "outputs": [
    {
     "data": {
      "text/plain": [
       "<module 'Create_resolution_maps_HARPS' from '/Users/saratavella/Desktop/ANTARESS/resolution_maps/Create_resolution_maps_HARPS.py'>"
      ]
     },
     "execution_count": 6,
     "metadata": {},
     "output_type": "execute_result"
    }
   ],
   "source": [
    "import Create_resolution_maps_HARPS as create\n",
    "import importlib\n",
    "importlib.reload(create)"
   ]
  },
  {
   "cell_type": "markdown",
   "metadata": {},
   "source": [
    "#### COMPUTE RESOLUTION MAPS FOR HARPS - ALL EPOCHS OF THE INSTRUMENT"
   ]
  },
  {
   "cell_type": "code",
   "execution_count": 2,
   "metadata": {},
   "outputs": [],
   "source": [
    "file_path_HARPS = '/Users/saratavella/Desktop/ANTARESS/resolution_maps/HARPS/'"
   ]
  },
  {
   "cell_type": "code",
   "execution_count": null,
   "metadata": {},
   "outputs": [],
   "source": [
    "inst_mode = 'HARPS03'\n",
    "THAR_LINE_TABLE_THAR_FP_A = create.pyfits.open(file_path_HARPS + 'r.HARPS.2013-01-17T21_13_04.121_TH_TABLE_THAR_FP_A.fits')\n",
    "excl_pixels = create.Instrumental_resolution_HARPS(thar_file_path=file_path_HARPS,THAR_LINE_TABLE_THAR_FP_A=THAR_LINE_TABLE_THAR_FP_A,inst_mode=inst_mode,function_map_resolution=[create.polynomial_regression_espresso,create.polynomial_regression_espresso], degree = ['espresso','espresso'])\n",
    "\n",
    "#excl_pixels = create.Instrumental_resolution_HARPS(thar_file_path=file_path_HARPS,THAR_LINE_TABLE_THAR_FP_A=THAR_LINE_TABLE_THAR_FP_A,inst_mode=inst_mode,function_map_resolution=None, degree= None)"
   ]
  },
  {
   "cell_type": "code",
   "execution_count": null,
   "metadata": {},
   "outputs": [],
   "source": [
    "inst_mode = 'HARPS15'\n",
    "THAR_LINE_TABLE_THAR_FP_A = create.pyfits.open(file_path_HARPS + 'r.HARPS.2018-05-15T14_27_58.639_TH_TABLE_THAR_FP_A.fits')\n",
    "excl_pixels = create.Instrumental_resolution_HARPS(thar_file_path=file_path_HARPS,THAR_LINE_TABLE_THAR_FP_A=THAR_LINE_TABLE_THAR_FP_A,inst_mode=inst_mode,function_map_resolution=[create.polynomial_regression_4d,create.polynomial_regression_3d], degree= ['4d','3d'])\n",
    "\n",
    "#excl_pixels = create.Instrumental_resolution_HARPS(thar_file_path=file_path_HARPS,THAR_LINE_TABLE_THAR_FP_A=THAR_LINE_TABLE_THAR_FP_A,inst_mode=inst_mode,function_map_resolution=None, degree= None)"
   ]
  },
  {
   "cell_type": "code",
   "execution_count": null,
   "metadata": {},
   "outputs": [],
   "source": [
    "inst_mode = 'HARPS23'\n",
    "THAR_LINE_TABLE_THAR_FP_A = create.pyfits.open(file_path_HARPS + 'r.HARPS.2024-02-15T194830.413_TH_TABLE_THAR_FP_A.fits')\n",
    "excl_pixels = create.Instrumental_resolution_HARPS(thar_file_path=file_path_HARPS,THAR_LINE_TABLE_THAR_FP_A=THAR_LINE_TABLE_THAR_FP_A,inst_mode=inst_mode,function_map_resolution=[create.polynomial_regression_4d,create.polynomial_regression_3d], degree = ['4d','3d'])\n",
    "\n",
    "#excl_pixels = create.Instrumental_resolution_HARPS(thar_file_path=file_path_HARPS,THAR_LINE_TABLE_THAR_FP_A=THAR_LINE_TABLE_THAR_FP_A,inst_mode=inst_mode,function_map_resolution=None, degree= None)"
   ]
  },
  {
   "cell_type": "code",
   "execution_count": null,
   "metadata": {},
   "outputs": [],
   "source": [
    "inst_mode = 'EGGS03' \n",
    "THAR_LINE_TABLE_THAR_FP_A = create.pyfits.open(file_path_HARPS + inst_mode + '_STATIC_TH_LINE_TABLE_A.fits')\n",
    "excl_pixels, cum_plot03_red, cum_plot03_blue = create.Instrumental_resolution_HARPS(thar_file_path=file_path_HARPS,THAR_LINE_TABLE_THAR_FP_A=THAR_LINE_TABLE_THAR_FP_A,inst_mode=inst_mode,function_map_resolution=[create.polynomial_regression_espresso,create.polynomial_regression_espresso], degree = ['espresso','espresso'])\n",
    "\n",
    "#excl_pixels = create.Instrumental_resolution_HARPS(thar_file_path=file_path_HARPS,THAR_LINE_TABLE_THAR_FP_A=THAR_LINE_TABLE_THAR_FP_A,inst_mode=inst_mode,function_map_resolution=None, degree= None)\n"
   ]
  },
  {
   "cell_type": "code",
   "execution_count": null,
   "metadata": {},
   "outputs": [],
   "source": [
    "inst_mode = 'EGGS15'\n",
    "THAR_LINE_TABLE_THAR_FP_A = create.pyfits.open(file_path_HARPS + inst_mode + '_STATIC_TH_LINE_TABLE_A.fits')\n",
    "excl_pixels, cum_plot15_red, cum_plot15_blue = create.Instrumental_resolution_HARPS(thar_file_path=file_path_HARPS,THAR_LINE_TABLE_THAR_FP_A=THAR_LINE_TABLE_THAR_FP_A,inst_mode=inst_mode,function_map_resolution=[create.polynomial_regression_3d,create.polynomial_regression_3d], degree = ['3d','3d'])\n",
    "\n",
    "#excl_pixels = create.Instrumental_resolution_HARPS(thar_file_path=file_path_HARPS,THAR_LINE_TABLE_THAR_FP_A=THAR_LINE_TABLE_THAR_FP_A,inst_mode=inst_mode,function_map_resolution=None, degree= None)"
   ]
  },
  {
   "cell_type": "code",
   "execution_count": null,
   "metadata": {},
   "outputs": [],
   "source": [
    "inst_mode = 'EGGS23'\n",
    "THAR_LINE_TABLE_THAR_FP_A = create.pyfits.open(file_path_HARPS + 'r.HARPS.2024-02-15T20_15_53.886_TH_TABLE_THAR_THAR_A.fits')\n",
    "excl_pixels, cum_plot23_red, cum_plot23_blue = create.Instrumental_resolution_HARPS(thar_file_path=file_path_HARPS,THAR_LINE_TABLE_THAR_FP_A=THAR_LINE_TABLE_THAR_FP_A,inst_mode=inst_mode,function_map_resolution=[create.polynomial_regression_4d,create.polynomial_regression_3d], degree = ['4d','3d'])\n",
    "\n",
    "#excl_pixels = create.Instrumental_resolution_HARPS(thar_file_path=file_path_HARPS,THAR_LINE_TABLE_THAR_FP_A=THAR_LINE_TABLE_THAR_FP_A,inst_mode=inst_mode,function_map_resolution=None, degree= None)"
   ]
  },
  {
   "cell_type": "code",
   "execution_count": null,
   "metadata": {},
   "outputs": [],
   "source": [
    "import matplotlib.pyplot as plt\n",
    "import numpy as np\n",
    "file_path = '/Users/saratavella/Desktop/ANTARESS/resolution_maps/plot_presentation/'\n",
    "fig, axs = plt.subplots(2,2, figsize=(12,12))\n",
    "axs = axs.flatten()\n",
    "axs[0].plot(cum_plot03_red[0][100:-100],cum_plot03_red[1][100:-100], alpha=0.5)\n",
    "axs[0].scatter(cum_plot03_red[0][100:-100],cum_plot03_red[1][100:-100], label = '2003')\n",
    "axs[0].plot(cum_plot15_red[0][100:-100],cum_plot15_red[1][100:-100], alpha=0.5)\n",
    "axs[0].scatter(cum_plot15_red[0][100:-100],cum_plot15_red[1][100:-100], label = '2015')\n",
    "axs[0].plot(cum_plot23_red[0][100:-100],cum_plot23_red[1][100:-100], alpha=0.5)\n",
    "axs[0].scatter(cum_plot23_red[0][100:-100],cum_plot23_red[1][100:-100], label = '2023')\n",
    "axs[0].set_title('mean resolution profiles over pixels', size=15)\n",
    "axs[0].legend()\n",
    "axs[0].set_xlabel('Pixels', size=15)\n",
    "axs[0].set_ylabel('Resolution', size=15)\n",
    "axs[1].plot(cum_plot03_red[2], np.arange(1,27), alpha=0.5)\n",
    "axs[1].scatter(cum_plot03_red[2], np.arange(1,27), label = '2003')\n",
    "axs[1].plot(cum_plot15_red[2], np.arange(1,27), alpha=0.5)\n",
    "axs[1].scatter(cum_plot15_red[2], np.arange(1,27), label = '2015')\n",
    "axs[1].plot(cum_plot23_red[2], np.arange(1,27), alpha=0.5)\n",
    "axs[1].scatter(cum_plot23_red[2], np.arange(1,27), label = '2023')\n",
    "axs[1].set_title('mean resolution profile over orders', size=15)\n",
    "axs[1].legend()\n",
    "axs[1].set_xlabel('Resolution', size=15)\n",
    "axs[1].set_ylabel('orders', size=15)\n",
    "\n",
    "fig.savefig(file_path + inst_mode + '_detector_average_profiles_overplot.png', dpi=100, format='png', bbox_inches='tight')"
   ]
  },
  {
   "cell_type": "markdown",
   "metadata": {},
   "source": [
    "#### COMPUTE RESOLUTION MAPS FOR HARPN - ALL EPOCHS OF THE INSTRUMENT"
   ]
  },
  {
   "cell_type": "code",
   "execution_count": 3,
   "metadata": {},
   "outputs": [],
   "source": [
    "file_path_HARPN = '/Users/saratavella/Desktop/ANTARESS/resolution_maps/HARPS_N/'"
   ]
  },
  {
   "cell_type": "code",
   "execution_count": null,
   "metadata": {},
   "outputs": [],
   "source": [
    "inst_mode = 'HARPN12'\n",
    "THAR_LINE_TABLE_THAR_FP_A = create.pyfits.open(file_path_HARPN + 'r.HARPN.2013-08-15T17-38-24.899_TH_TABLE_THAR_FP_A.fits')\n",
    "excl_pixels, cum_plot12 = create.Instrumental_resolution_HARPN(thar_file_path=file_path_HARPN,THAR_LINE_TABLE_THAR_FP_A=THAR_LINE_TABLE_THAR_FP_A,inst_mode=inst_mode,function_map_resolution=create.polynomial_regression_4d, degree='4d')\n",
    "\n",
    "\n",
    "#excl_pixels, cum_plot12 = create.Instrumental_resolution_HARPN(thar_file_path=file_path_HARPN,THAR_LINE_TABLE_THAR_FP_A=THAR_LINE_TABLE_THAR_FP_A,inst_mode=inst_mode,function_map_resolution=None, degree=None)\n"
   ]
  },
  {
   "cell_type": "code",
   "execution_count": null,
   "metadata": {},
   "outputs": [],
   "source": [
    "inst_mode = 'HARPN14'\n",
    "THAR_LINE_TABLE_THAR_FP_A = create.pyfits.open(file_path_HARPN + 'r.HARPN.2017-11-12T15-45-32.482_TH_TABLE_THAR_FP_A.fits')\n",
    "excl_pixels, cum_plot14 = create.Instrumental_resolution_HARPN(thar_file_path=file_path_HARPN,THAR_LINE_TABLE_THAR_FP_A=THAR_LINE_TABLE_THAR_FP_A,inst_mode=inst_mode,function_map_resolution=create.polynomial_regression_4d, degree='4d')\n",
    "\n",
    "#excl_pixels, cum_plot14 = create.Instrumental_resolution_HARPN(thar_file_path=file_path_HARPN,THAR_LINE_TABLE_THAR_FP_A=THAR_LINE_TABLE_THAR_FP_A,inst_mode=inst_mode,function_map_resolution=None, degree=None)\n"
   ]
  },
  {
   "cell_type": "code",
   "execution_count": null,
   "metadata": {},
   "outputs": [],
   "source": [
    "inst_mode = 'HARPN21'\n",
    "THAR_LINE_TABLE_THAR_FP_A = create.pyfits.open(file_path_HARPN + 'r.HARPN.2023-06-15T15-40-02.070_TH_TABLE_THAR_FP_A.fits')\n",
    "excl_pixels, cum_plot21 = create.Instrumental_resolution_HARPN(thar_file_path=file_path_HARPN,THAR_LINE_TABLE_THAR_FP_A=THAR_LINE_TABLE_THAR_FP_A,inst_mode=inst_mode,function_map_resolution=create.polynomial_regression_4d, degree='4d')\n",
    "\n",
    "#excl_pixels, cum_plot21 = create.Instrumental_resolution_HARPN(thar_file_path=file_path_HARPN,THAR_LINE_TABLE_THAR_FP_A=THAR_LINE_TABLE_THAR_FP_A,inst_mode=inst_mode,function_map_resolution=None, degree=None)"
   ]
  },
  {
   "cell_type": "code",
   "execution_count": null,
   "metadata": {},
   "outputs": [],
   "source": [
    "import matplotlib.pyplot as plt\n",
    "import numpy as np\n",
    "file_path = '/Users/saratavella/Desktop/ANTARESS/resolution_maps/plot_presentation/'\n",
    "fig, axs = plt.subplots(1,2, figsize=(12,6))\n",
    "axs = axs.flatten()\n",
    "axs[0].plot(cum_plot12[0][100:-100],cum_plot12[1][100:-100], alpha=0.5)\n",
    "axs[0].scatter(cum_plot12[0][100:-100],cum_plot12[1][100:-100], label = '2012')\n",
    "axs[0].plot(cum_plot14[0][100:-100],cum_plot14[1][100:-100], alpha=0.5)\n",
    "axs[0].scatter(cum_plot14[0][100:-100],cum_plot14[1][100:-100], label = '2014')\n",
    "axs[0].plot(cum_plot21[0][100:-100],cum_plot21[1][100:-100], alpha=0.5)\n",
    "axs[0].scatter(cum_plot21[0][100:-100],cum_plot21[1][100:-100], label = '2021')\n",
    "axs[0].set_title('mean resolution profiles over pixels', size=15)\n",
    "axs[0].legend()\n",
    "axs[0].set_xlabel('Pixels', size=15)\n",
    "axs[0].set_ylabel('Resolution', size=15)\n",
    "axs[1].plot(cum_plot12[2], np.arange(1,70), alpha=0.5)\n",
    "axs[1].scatter(cum_plot12[2], np.arange(1,70), label = '2012')\n",
    "axs[1].plot(cum_plot14[2], np.arange(1,70), alpha=0.5)\n",
    "axs[1].scatter(cum_plot14[2], np.arange(1,70), label = '2014')\n",
    "axs[1].plot(cum_plot21[2], np.arange(1,70), alpha=0.5)\n",
    "axs[1].scatter(cum_plot21[2], np.arange(1,70), label = '2021')\n",
    "axs[1].set_title('mean resolution profile over orders', size=15)\n",
    "axs[1].legend()\n",
    "axs[1].set_xlabel('Resolution', size=15)\n",
    "axs[1].set_ylabel('Pixels', size=15)\n",
    "\n",
    "fig.savefig(file_path + inst_mode + '_detector_average_profiles_overplot.png', dpi=100, format='png', bbox_inches='tight')\n"
   ]
  },
  {
   "cell_type": "code",
   "execution_count": null,
   "metadata": {},
   "outputs": [],
   "source": [
    "import matplotlib.pyplot as plt\n",
    "import numpy as np\n",
    "file_path = '/Users/saratavella/Desktop/phd/ANTARESS/resolution_maps/plot_presentation/'\n",
    "fig, axs = plt.subplots(1,2, figsize=(12,6))\n",
    "axs = axs.flatten()\n",
    "axs[0].plot(cum_plot12[0][100:-100],cum_plot12[1][100:-100], alpha=0.5)\n",
    "axs[0].scatter(cum_plot12[0][100:-100],cum_plot12[1][100:-100], label = '2012')\n",
    "axs[0].plot(cum_plot14[0][100:-100],cum_plot14[1][100:-100], alpha=0.5)\n",
    "axs[0].scatter(cum_plot14[0][100:-100],cum_plot14[1][100:-100], label = '2014')\n",
    "axs[0].plot(cum_plot21[0][100:-100],cum_plot21[1][100:-100], alpha=0.5)\n",
    "axs[0].scatter(cum_plot21[0][100:-100],cum_plot21[1][100:-100], label = '2021')\n",
    "axs[0].set_title('mean resolution profiles over pixels', size=15)\n",
    "axs[0].legend()\n",
    "axs[0].set_xlabel('Pixels', size=15)\n",
    "axs[0].set_ylabel('Resolution', size=15)\n",
    "axs[1].plot(cum_plot12[2], np.arange(1,70), alpha=0.5)\n",
    "axs[1].scatter(cum_plot12[2], np.arange(1,70), label = '2012')\n",
    "axs[1].plot(cum_plot14[2], np.arange(1,70), alpha=0.5)\n",
    "axs[1].scatter(cum_plot14[2], np.arange(1,70), label = '2014')\n",
    "axs[1].plot(cum_plot21[2], np.arange(1,70), alpha=0.5)\n",
    "axs[1].scatter(cum_plot21[2], np.arange(1,70), label = '2021')\n",
    "axs[1].set_title('mean resolution profile over orders', size=15)\n",
    "axs[1].legend()\n",
    "axs[1].set_xlabel('Resolution', size=15)\n",
    "axs[1].set_ylabel('Pixels', size=15)\n",
    "\n",
    "fig.savefig(file_path + inst_mode + '_detector_average_profiles_overplot.png', dpi=100, format='png', bbox_inches='tight')"
   ]
  }
 ],
 "metadata": {
  "kernelspec": {
   "display_name": "myenv_phd",
   "language": "python",
   "name": "python3"
  },
  "language_info": {
   "codemirror_mode": {
    "name": "ipython",
    "version": 3
   },
   "file_extension": ".py",
   "mimetype": "text/x-python",
   "name": "python",
   "nbconvert_exporter": "python",
   "pygments_lexer": "ipython3",
   "version": "3.11.5"
  }
 },
 "nbformat": 4,
 "nbformat_minor": 2
}
