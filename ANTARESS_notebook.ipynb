{
 "cells": [
  {
   "cell_type": "code",
   "execution_count": 1,
   "id": "130fb27c",
   "metadata": {},
   "outputs": [],
   "source": [
    "from ANTARESS_launcher import ANTARESS_launcher"
   ]
  },
  {
   "cell_type": "markdown",
   "id": "d447251e",
   "metadata": {},
   "source": [
    "**Initialization**\n",
    "\n",
    "Run this cell to initialize ANTARESS.\n",
    "- `save_dir` (string): Path to the saving directory."
   ]
  },
  {
   "cell_type": "code",
   "execution_count": 2,
   "id": "0bdd5053",
   "metadata": {},
   "outputs": [],
   "source": [
    "save_dir = 'save_dir/'\n",
    "\n",
    "ANTARESS = ANTARESS_launcher(save_dir)"
   ]
  },
  {
   "cell_type": "markdown",
   "id": "19f1c66a",
   "metadata": {},
   "source": [
    "# System parameters"
   ]
  },
  {
   "cell_type": "markdown",
   "id": "abdb3678",
   "metadata": {},
   "source": [
    "**Parameters of the host star**\n",
    "\n",
    "Run this cell to set the host star. Any existing host star will be overwritten.\n",
    "- `star_name` (string): Name of the star. Should not contain spaces/dashes.\n",
    "- `Rs` (float): Radius of the star, in $R_\\odot$.\n",
    "- `vsini` (float): Projected stellar surface velocity, in km/s.\n",
    "- `ld_c1` (float): First coefficient of the quadratic limb-darkening.\n",
    "- `ld_c2` (float): First coefficient of the quadratic limb-darkening."
   ]
  },
  {
   "cell_type": "code",
   "execution_count": 3,
   "id": "e5f4ea57",
   "metadata": {},
   "outputs": [],
   "source": [
    "star_name = 'GJ436'\n",
    "Rs        = 0.42\n",
    "vsini     = 0.33\n",
    "ld_c1     = 0.22\n",
    "ld_c2     = 0.45\n",
    "\n",
    "ANTARESS.set_star(star_name, Rs, vsini, ld_c1, ld_c2)"
   ]
  },
  {
   "cell_type": "markdown",
   "id": "1ccee5d3",
   "metadata": {},
   "source": [
    "**Parameters of transiting planets**\n",
    "\n",
    "Run this cell to set a transiting planet, on which the RM analysis can be applied. \n",
    "- `planet_name` (string): Name of the transiting planet. Should not contain spaces/dashes.\n",
    "- `period` (float): Orbital period, in days.\n",
    "- `T0` (float): Mid-transit time, in ${\\rm BJD}_{\\rm TBD}$.\n",
    "- `ecc` (float): Orbital eccentricity.\n",
    "- `long_per` (float): Longitude of periastron, in degrees. If the orbit is circular, fill in `90.`.\n",
    "- `K_rv` (float): RV semi-amplitude, in m/s.\n",
    "- `aRs` (float): scaled separation $a/R_\\star$.\n",
    "- `incl` (float): Orbital inclination, in degrees.\n",
    "- `T14` (float): Transit duration, in hours.\n",
    "- `RpRs` (float): Planet-to-star radius ratio $R_{\\rm p}/R_\\star$.\n",
    "\n",
    "You can delete a planet using `ANTARESS.delete_planet(planet_to_delete)`, or all of them if `planet_to_delete = 'all'`."
   ]
  },
  {
   "cell_type": "code",
   "execution_count": 4,
   "id": "27d0509f",
   "metadata": {},
   "outputs": [],
   "source": [
    "planet_name = 'GJ436b'\n",
    "period      = 2.64 \n",
    "T0          = 2454510.80162\n",
    "ecc         = 0.14\n",
    "long_per    = 351.\n",
    "K_rv        = 17.09\n",
    "aRs         = 13.73\n",
    "incl        = 86.44\n",
    "T14         = 1.009\n",
    "RpRs        = 0.0822\n",
    "\n",
    "ANTARESS.set_planet(planet_name, period, T0, ecc, long_per, K_rv, aRs, incl, T14, RpRs)"
   ]
  },
  {
   "cell_type": "markdown",
   "id": "5a5b1bd3",
   "metadata": {},
   "source": [
    "**Parameters of additional planets in the system**\n",
    "\n",
    "Run this cell to set an additional planet, which will only contribute to the computation of the Keplerian motion of the star. \n",
    "- `planet_name_add` (string): Name of the additional planet. Should not contain spaces/dashes.\n",
    "- `period_add` (float): Orbital period, in days.\n",
    "- `T0_add` (float): Time of conjunction, in ${\\rm BJD}_{\\rm TBD}$.\n",
    "- `ecc_add` (float): Orbital eccentricity.\n",
    "- `long_per_add` (float): Longitude of periastron, in degrees. If the orbit is circular, fill in `90.`.\n",
    "- `K_rv_add` (float): RV semi-amplitude, in m/s.\n",
    "\n",
    "You can delete a planet using `ANTARESS.delete_planet(planet_to_delete)`, or all of them if `planet_to_delete = 'all'`."
   ]
  },
  {
   "cell_type": "code",
   "execution_count": 5,
   "id": "9f1a8f88",
   "metadata": {},
   "outputs": [],
   "source": [
    "planet_name_add = 'GJ436c'\n",
    "period_add      = 1000.\n",
    "T0_add          = 2454510.80162\n",
    "ecc_add         = 0.\n",
    "long_per_add    = 90.\n",
    "K_rv_add        = 4.2\n",
    "\n",
    "ANTARESS.set_planet(planet_name_add, period_add, T0_add, ecc_add, long_per_add, K_rv_add)"
   ]
  },
  {
   "cell_type": "markdown",
   "id": "660e4a49",
   "metadata": {},
   "source": [
    "# Functional settings"
   ]
  },
  {
   "cell_type": "markdown",
   "id": "8dca5055",
   "metadata": {},
   "source": [
    "**Adding visits**\n",
    "\n",
    "Run this cell to add a visit.\n",
    "- `planet_name` (string): Name of the planet. Must have already been defined, and transiting.\n",
    "- `instrument` (string): Instrument of the visit (e.g. `ESPRESSO`, `HARPS`, `HARPS_N`...).\n",
    "- `night` (string): Night of the visit. It is preferred to use the standard format, i.e. `'YYYYMMDD'`.\n",
    "- `ccf_dir` (string): Path to the directory where the CCFs of the visit are."
   ]
  },
  {
   "cell_type": "code",
   "execution_count": 6,
   "id": "4a3c99d7",
   "metadata": {},
   "outputs": [],
   "source": [
    "planet_name = 'GJ436b'\n",
    "instrument  = 'ESPRESSO'\n",
    "night       = '20220328'\n",
    "ccf_dir     = 'path/to/ccf_dir/'\n",
    "\n",
    "ANTARESS.add_visit(planet_name, instrument, night, ccf_dir)"
   ]
  },
  {
   "cell_type": "markdown",
   "id": "6bd137d1",
   "metadata": {},
   "source": [
    "**Fiber B correction [OPTIONAL]**\n",
    "\n",
    "Run this cell to enable fiber B correction for a visit (disabled by default).\n",
    "- `instrument_fibB` (string): Instrument of the visit.\n",
    "- `night_fibB` (string): Night of the visit.\n",
    "\n",
    "Fiber B correction can be reset to default (disabled) for a visit using `ANTARESS.disable_fibB(instrument, night)`, or all of them using `ANTARESS.disable_fibB('all')`."
   ]
  },
  {
   "cell_type": "code",
   "execution_count": 7,
   "id": "94833030",
   "metadata": {},
   "outputs": [],
   "source": [
    "instrument_fibB = 'ESPRESSO'\n",
    "night_fibB      = '20220328'\n",
    "\n",
    "ANTARESS.enable_fibB(instrument_fibB, night_fibB)"
   ]
  },
  {
   "cell_type": "markdown",
   "id": "bb7c1df5",
   "metadata": {},
   "source": [
    "**Used exposures [OPTIONAL]**\n",
    "\n",
    "Run this cell to define the used exposures in a visit (all exposures by default).\n",
    "- `instrument_exp` (string): Instrument of the visit.\n",
    "- `night_exp` (string): Night of the visit.\n",
    "- `used_exp` (list of integers): List of the used exposures (0-indexed). Fill in `'all'` to reset to default (use all exposures)."
   ]
  },
  {
   "cell_type": "code",
   "execution_count": 8,
   "id": "6a12a17a",
   "metadata": {},
   "outputs": [],
   "source": [
    "instrument_exp = 'ESPRESSO'\n",
    "night_exp      = '20220328'\n",
    "used_exp       = 'all'\n",
    "\n",
    "ANTARESS.set_exposures(instrument_exp, night_exp, used_exp)"
   ]
  },
  {
   "cell_type": "markdown",
   "id": "cb81caec",
   "metadata": {},
   "source": [
    "**Systemic velocity**\n",
    "\n",
    "Run this cell to set the systemic velocity for a visit.\n",
    "- `instrument_sysvel` (string): Instrument of the visit.\n",
    "- `night_sysvel` (string): Night of the visit.\n",
    "- `sysvel` (float): Systemic velocity, in km/s."
   ]
  },
  {
   "cell_type": "code",
   "execution_count": 9,
   "id": "69ab63d8",
   "metadata": {},
   "outputs": [],
   "source": [
    "instrument_sysvel = 'ESPRESSO'\n",
    "night_sysvel      = '20220328'\n",
    "sysvel            = 0.\n",
    "\n",
    "ANTARESS.set_sysvel(instrument_sysvel, night_sysvel, sysvel)"
   ]
  },
  {
   "cell_type": "markdown",
   "id": "d53a8c7a",
   "metadata": {},
   "source": [
    "**Fit parameters**\n",
    "\n",
    "Run this cell to set the fit parameters.\n",
    "- `which` (string): Name of the concerned fit. Possible options are: \n",
    "    - `ccf_intr`: fitting the individual intrinsic CCFs. \n",
    "    - `loc_prop`: fitting the stellar local properties based on the individual fits to the intrinsic CCFs (i.e. the Reloaded Rossiter-McLaughlin technique).\n",
    "    - `intr_prof`: fitting the stellar intrinsic profile and local properties based on a joint fit to the intrinsic CCFs (i.e. the Rossiter-McLaughlin Revolutions technique).\n",
    "- `mode` (string): Fit mode. Possible options are:\n",
    "    - `lsq`: least-squares minimization (faster).\n",
    "    - `mcmc`: MCMC simulation (slower, more accurate).\n",
    "- `mcmc_mode` (string): MCMC mode. Used only if `mode = mcmc`. Possible options are:\n",
    "    - `run`: Run the MCMC from scratch.\n",
    "    - `load`: Load the results of an existing MCMC."
   ]
  },
  {
   "cell_type": "code",
   "execution_count": 10,
   "id": "2ae4257b",
   "metadata": {},
   "outputs": [],
   "source": [
    "which     = 'ccf_intr'\n",
    "mode      = 'lsq'\n",
    "\n",
    "ANTARESS.set_fit_param(which, mode)\n",
    "\n",
    "which     = 'loc_prop'\n",
    "mode      = 'mcmc'\n",
    "mcmc_mode = 'load'\n",
    "\n",
    "ANTARESS.set_fit_param(which, mode, mcmc_mode)\n",
    "\n",
    "which     = 'intr_prof'\n",
    "mode      = 'mcmc'\n",
    "mcmc_mode = 'run'\n",
    "\n",
    "ANTARESS.set_fit_param(which, mode, mcmc_mode)"
   ]
  },
  {
   "cell_type": "markdown",
   "id": "97248385",
   "metadata": {},
   "source": [
    "**Exposures used in fits [OPTIONAL]**\n",
    "\n",
    "Run this cell to define the used in-transit exposures in a visit for a fit (all in-transit exposures by default).\n",
    "- `which` (string): Name of the concerned fit. Possible options are: \n",
    "    - `loc_prop`: fitting the stellar local properties based on the individual fits to the intrinsic CCFs \n",
    "    - `intr_prof`: fitting the stellar intrinsic profile and local properties based on a joint fit to the intrinsic CCFs.\n",
    "- `instrument_exp_fit` (string): Instrument of the visit.\n",
    "- `night_exp_fit` (string): Night of the visit.\n",
    "- `used_exp_fit` (list of integers): List of the used in-transit exposures (0-indexed, 0 being the first in-transit exposure). Fill in `'all'` to reset to default (use all in-transit exposures)."
   ]
  },
  {
   "cell_type": "code",
   "execution_count": 11,
   "id": "e926b757",
   "metadata": {},
   "outputs": [],
   "source": [
    "which              = 'loc_prop'\n",
    "instrument_exp_fit = 'ESPRESSO'\n",
    "night_exp_fit      = '20220328'\n",
    "used_exp_fit       = list(range(1, 10))\n",
    "\n",
    "ANTARESS.set_fit_exposures(which, instrument_exp_fit, night_exp_fit, used_exp_fit)"
   ]
  },
  {
   "cell_type": "markdown",
   "id": "4ce37ec3",
   "metadata": {},
   "source": [
    "**Functional switches**\n",
    "\n",
    "Run this cell to set the ANTARESS modules to be run. Refer to the flowchart for possible combinations.\n",
    "- `fit_ccf_di` (bool): Fits the disk-integrated CCFs.           \n",
    "- `align_ccf_di` (bool): Aligns the disk-integrated CCFs on the systemic velocity.         \n",
    "- `generate_master_ccf_di` (bool): Generates a master disk-integrated CCF.\n",
    "- `fit_master_ccf_di` (bool): Fits the master disk-integrated CCF.    \n",
    "- `generate_ccf_intr` (bool): Generates the intrinsic CCFs.    \n",
    "- `fit_ccf_intr` (bool): Fits the intrinsic CCFs.         \n",
    "- `fit_loc_prop` (bool): Fits the stellar local properties based on the individual fits to the intrinsic CCFs (i.e. the Reloaded Rossiter-McLaughlin technique).         \n",
    "- `fit_intr_prof` (bool): Fits the stellar intrinsic profile and local properties based on a joint fit to the intrinsic CCFs (i.e. the Rossiter-McLaughlin Revolutions technique).        "
   ]
  },
  {
   "cell_type": "code",
   "execution_count": 12,
   "id": "e369c8d4",
   "metadata": {},
   "outputs": [],
   "source": [
    "fit_ccf_di             = False\n",
    "align_ccf_di           = False\n",
    "generate_master_ccf_di = False\n",
    "fit_master_ccf_di      = False\n",
    "generate_ccf_intr      = False\n",
    "fit_ccf_intr           = False\n",
    "fit_loc_prop           = False\n",
    "fit_intr_prof          = False\n",
    "\n",
    "ANTARESS.set_modules(fit_ccf_di, align_ccf_di, generate_master_ccf_di, fit_master_ccf_di, generate_ccf_intr,\n",
    "                     fit_ccf_intr, fit_loc_prop, fit_intr_prof)"
   ]
  },
  {
   "cell_type": "markdown",
   "id": "47531368",
   "metadata": {},
   "source": [
    "# Plot settings"
   ]
  },
  {
   "cell_type": "markdown",
   "id": "e2bafedf",
   "metadata": {},
   "source": [
    "                         _         _                                                     \n",
    "                        | |       (_)                                                    \n",
    "     __      _____  _ __| | __     _ _ __       _ __  _ __ ___   __ _ _ __ ___  ___ ___  \n",
    "     \\ \\ /\\ / / _ \\| '__| |/ /    | | '_ \\     | '_ \\| '__/ _ \\ / _` | '__/ _ \\/ __/ __| \n",
    "      \\ V  V / (_) | |  |   <     | | | | |    | |_) | | | (_) | (_| | | |  __/\\__ \\__ \\ \n",
    "       \\_/\\_/ \\___/|_|  |_|\\_\\    |_|_| |_|    |  __/|_|  \\___/ \\__, |_|  \\___||___/___/ \n",
    "                                               | |               __/ |                   \n",
    "                                               |_|              |___/     \n",
    "                                               \n",
    "    _______________________________________________________________________________________"
   ]
  },
  {
   "cell_type": "markdown",
   "id": "6982a976",
   "metadata": {},
   "source": [
    "# Advanced settings"
   ]
  },
  {
   "cell_type": "markdown",
   "id": "37fab56c",
   "metadata": {},
   "source": [
    "You can set advanced settings for ANTARESS by directly modifying the relevant dictionaries.\n",
    "\n",
    "An example would be `ANTARESS.data_dic['system_prop']['nom']['LD'] = ['lin']` to set a linear limb-darkening law."
   ]
  },
  {
   "cell_type": "code",
   "execution_count": 17,
   "id": "4783283c",
   "metadata": {},
   "outputs": [],
   "source": [
    "# Advanced settings\n",
    "# Print function, with all the dictionaries and comments on the fields"
   ]
  },
  {
   "cell_type": "markdown",
   "id": "358e1bd6",
   "metadata": {},
   "source": [
    "# Running ANTARESS"
   ]
  },
  {
   "cell_type": "markdown",
   "id": "5f9fdb71",
   "metadata": {},
   "source": [
    "It has all come to this. Run this cell to run ANTARESS."
   ]
  },
  {
   "cell_type": "code",
   "execution_count": null,
   "id": "5a12307f",
   "metadata": {},
   "outputs": [],
   "source": [
    "ANTARESS()"
   ]
  }
 ],
 "metadata": {
  "kernelspec": {
   "display_name": "Python 3 (ipykernel)",
   "language": "python",
   "name": "python3"
  },
  "language_info": {
   "codemirror_mode": {
    "name": "ipython",
    "version": 3
   },
   "file_extension": ".py",
   "mimetype": "text/x-python",
   "name": "python",
   "nbconvert_exporter": "python",
   "pygments_lexer": "ipython3",
   "version": "3.8.5"
  },
  "toc": {
   "base_numbering": 1,
   "nav_menu": {},
   "number_sections": true,
   "sideBar": true,
   "skip_h1_title": false,
   "title_cell": "Table of Contents",
   "title_sidebar": "Contents",
   "toc_cell": false,
   "toc_position": {},
   "toc_section_display": true,
   "toc_window_display": true
  }
 },
 "nbformat": 4,
 "nbformat_minor": 5
}
